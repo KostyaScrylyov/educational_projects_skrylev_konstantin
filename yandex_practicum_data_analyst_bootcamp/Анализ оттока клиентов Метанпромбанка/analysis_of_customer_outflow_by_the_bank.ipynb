{
 "cells": [
  {
   "cell_type": "markdown",
   "metadata": {},
   "source": [
    "# <p style=\"text-align: center;\"> Анализ оттока клиентов \"Метанпромбанка\"</p>"
   ]
  },
  {
   "cell_type": "markdown",
   "metadata": {},
   "source": [
    "# Материалы:\n",
    "* [Презентация](https://disk.yandex.ru/d/t7Z8kU_4MLxhEg)"
   ]
  },
  {
   "cell_type": "markdown",
   "metadata": {},
   "source": [
    "Для отдел маркетинга банка \"Метанпром\" провести выявление сегментов клиентов, склонных к уходу из банка, а так же на основе сегментации дать рекомендации по удержанию клиентов."
   ]
  },
  {
   "cell_type": "markdown",
   "metadata": {},
   "source": [
    "**Цель проекта:**  выявление и сегментация отточных клиентов банка, формирование рекомендаций."
   ]
  },
  {
   "cell_type": "markdown",
   "metadata": {},
   "source": [
    "**Задачи проекта:** \n",
    "1. Изучение данных:    \n",
    "    1.1. Найти корреляции;    \n",
    "    1.2. Сформировать портреты клиентов, которые склонны и не склонны уходить из банка;\n",
    "2. Сформулировать и проверить статистические гипотезы;    \n",
    "3. Обобщить признаки отточности, сформулировать сегменты и отобрать из них лучшие;\n",
    "4. Сформулировать рекомендации для отдела маркетинга."
   ]
  },
  {
   "cell_type": "markdown",
   "metadata": {},
   "source": [
    "# Описание датасета"
   ]
  },
  {
   "cell_type": "markdown",
   "metadata": {},
   "source": [
    "Датасет содержит данные о клиентах банка «Метанпром». Банк располагается в\n",
    "Ярославле и областных городах: Ростов Великий и Рыбинск.\n",
    "Колонки:\n",
    "* `USERID` — идентификатор пользователя,\n",
    "* `score` — баллы кредитного скоринга,\n",
    "* `city` — город,\n",
    "* `gender` — пол,\n",
    "* `age` — возраст,\n",
    "* `equity` — количество баллов собственности\n",
    "* `balance` — баланс на счёте,\n",
    "* `products` — количество продуктов, которыми пользуется клиент,\n",
    "* `credit_card` — есть ли кредитная карта,\n",
    "* `last_activity` — активный клиент,\n",
    "* `EST_SALARY` — оценочный доход клиента,\n",
    "* `сhurn` — признак оттока."
   ]
  },
  {
   "cell_type": "markdown",
   "metadata": {},
   "source": [
    "## Загрузка и обзор данных"
   ]
  },
  {
   "cell_type": "markdown",
   "metadata": {},
   "source": [
    "Подключаем библиотеки."
   ]
  },
  {
   "cell_type": "code",
   "execution_count": 1,
   "metadata": {},
   "outputs": [],
   "source": [
    "import pandas as pd\n",
    "import numpy as np\n",
    "import seaborn as sns\n",
    "import matplotlib.pyplot as plt\n",
    "from scipy import stats as st\n",
    "import itertools\n",
    "from statsmodels.stats.proportion import proportions_ztest"
   ]
  },
  {
   "cell_type": "markdown",
   "metadata": {},
   "source": [
    "Настроим отображение."
   ]
  },
  {
   "cell_type": "code",
   "execution_count": 2,
   "metadata": {},
   "outputs": [],
   "source": [
    "pd.set_option('display.max_rows', None)\n",
    "pd.set_option('display.max_columns', None)"
   ]
  },
  {
   "cell_type": "markdown",
   "metadata": {},
   "source": [
    "Загружаем данные."
   ]
  },
  {
   "cell_type": "code",
   "execution_count": 3,
   "metadata": {},
   "outputs": [],
   "source": [
    "try:\n",
    "    df = pd.read_csv('___.csv')\n",
    "except:\n",
    "    df = pd.read_csv('https://___.csv')"
   ]
  },
  {
   "cell_type": "markdown",
   "metadata": {},
   "source": [
    "### Изучим данные"
   ]
  },
  {
   "cell_type": "markdown",
   "metadata": {},
   "source": [
    "Посмотрим на фрейм."
   ]
  },
  {
   "cell_type": "code",
   "execution_count": 4,
   "metadata": {},
   "outputs": [
    {
     "data": {
      "text/html": [
       "<div>\n",
       "<style scoped>\n",
       "    .dataframe tbody tr th:only-of-type {\n",
       "        vertical-align: middle;\n",
       "    }\n",
       "\n",
       "    .dataframe tbody tr th {\n",
       "        vertical-align: top;\n",
       "    }\n",
       "\n",
       "    .dataframe thead th {\n",
       "        text-align: right;\n",
       "    }\n",
       "</style>\n",
       "<table border=\"1\" class=\"dataframe\">\n",
       "  <thead>\n",
       "    <tr style=\"text-align: right;\">\n",
       "      <th></th>\n",
       "      <th>USERID</th>\n",
       "      <th>score</th>\n",
       "      <th>city</th>\n",
       "      <th>gender</th>\n",
       "      <th>age</th>\n",
       "      <th>equity</th>\n",
       "      <th>balance</th>\n",
       "      <th>products</th>\n",
       "      <th>credit_card</th>\n",
       "      <th>last_activity</th>\n",
       "      <th>EST_SALARY</th>\n",
       "      <th>churn</th>\n",
       "    </tr>\n",
       "  </thead>\n",
       "  <tbody>\n",
       "    <tr>\n",
       "      <th>0</th>\n",
       "      <td>183012</td>\n",
       "      <td>850.0</td>\n",
       "      <td>Рыбинск</td>\n",
       "      <td>Ж</td>\n",
       "      <td>25.0</td>\n",
       "      <td>1</td>\n",
       "      <td>59214.82</td>\n",
       "      <td>2</td>\n",
       "      <td>0</td>\n",
       "      <td>1</td>\n",
       "      <td>75719.14</td>\n",
       "      <td>1</td>\n",
       "    </tr>\n",
       "    <tr>\n",
       "      <th>1</th>\n",
       "      <td>146556</td>\n",
       "      <td>861.0</td>\n",
       "      <td>Рыбинск</td>\n",
       "      <td>Ж</td>\n",
       "      <td>37.0</td>\n",
       "      <td>5</td>\n",
       "      <td>850594.33</td>\n",
       "      <td>3</td>\n",
       "      <td>1</td>\n",
       "      <td>0</td>\n",
       "      <td>86621.77</td>\n",
       "      <td>0</td>\n",
       "    </tr>\n",
       "    <tr>\n",
       "      <th>2</th>\n",
       "      <td>120722</td>\n",
       "      <td>892.0</td>\n",
       "      <td>Рыбинск</td>\n",
       "      <td>Ж</td>\n",
       "      <td>30.0</td>\n",
       "      <td>0</td>\n",
       "      <td>NaN</td>\n",
       "      <td>1</td>\n",
       "      <td>1</td>\n",
       "      <td>1</td>\n",
       "      <td>107683.34</td>\n",
       "      <td>0</td>\n",
       "    </tr>\n",
       "    <tr>\n",
       "      <th>3</th>\n",
       "      <td>225363</td>\n",
       "      <td>866.0</td>\n",
       "      <td>Ярославль</td>\n",
       "      <td>Ж</td>\n",
       "      <td>51.0</td>\n",
       "      <td>5</td>\n",
       "      <td>1524746.26</td>\n",
       "      <td>2</td>\n",
       "      <td>0</td>\n",
       "      <td>1</td>\n",
       "      <td>174423.53</td>\n",
       "      <td>1</td>\n",
       "    </tr>\n",
       "    <tr>\n",
       "      <th>4</th>\n",
       "      <td>157978</td>\n",
       "      <td>730.0</td>\n",
       "      <td>Ярославль</td>\n",
       "      <td>М</td>\n",
       "      <td>34.0</td>\n",
       "      <td>5</td>\n",
       "      <td>174.00</td>\n",
       "      <td>1</td>\n",
       "      <td>1</td>\n",
       "      <td>0</td>\n",
       "      <td>67353.16</td>\n",
       "      <td>1</td>\n",
       "    </tr>\n",
       "    <tr>\n",
       "      <th>5</th>\n",
       "      <td>202305</td>\n",
       "      <td>856.0</td>\n",
       "      <td>Рыбинск</td>\n",
       "      <td>М</td>\n",
       "      <td>56.0</td>\n",
       "      <td>4</td>\n",
       "      <td>863687.24</td>\n",
       "      <td>3</td>\n",
       "      <td>1</td>\n",
       "      <td>0</td>\n",
       "      <td>156619.80</td>\n",
       "      <td>0</td>\n",
       "    </tr>\n",
       "    <tr>\n",
       "      <th>6</th>\n",
       "      <td>177259</td>\n",
       "      <td>807.0</td>\n",
       "      <td>Ярославль</td>\n",
       "      <td>Ж</td>\n",
       "      <td>39.0</td>\n",
       "      <td>3</td>\n",
       "      <td>405042.44</td>\n",
       "      <td>3</td>\n",
       "      <td>0</td>\n",
       "      <td>1</td>\n",
       "      <td>103838.32</td>\n",
       "      <td>0</td>\n",
       "    </tr>\n",
       "    <tr>\n",
       "      <th>7</th>\n",
       "      <td>218868</td>\n",
       "      <td>825.0</td>\n",
       "      <td>Ярославль</td>\n",
       "      <td>Ж</td>\n",
       "      <td>38.0</td>\n",
       "      <td>4</td>\n",
       "      <td>458145.40</td>\n",
       "      <td>2</td>\n",
       "      <td>1</td>\n",
       "      <td>1</td>\n",
       "      <td>68085.48</td>\n",
       "      <td>0</td>\n",
       "    </tr>\n",
       "    <tr>\n",
       "      <th>8</th>\n",
       "      <td>211686</td>\n",
       "      <td>923.0</td>\n",
       "      <td>Ярославль</td>\n",
       "      <td>М</td>\n",
       "      <td>54.0</td>\n",
       "      <td>5</td>\n",
       "      <td>1206337.87</td>\n",
       "      <td>2</td>\n",
       "      <td>1</td>\n",
       "      <td>0</td>\n",
       "      <td>155371.79</td>\n",
       "      <td>0</td>\n",
       "    </tr>\n",
       "    <tr>\n",
       "      <th>9</th>\n",
       "      <td>133130</td>\n",
       "      <td>906.0</td>\n",
       "      <td>Ярославль</td>\n",
       "      <td>Ж</td>\n",
       "      <td>67.0</td>\n",
       "      <td>0</td>\n",
       "      <td>NaN</td>\n",
       "      <td>1</td>\n",
       "      <td>0</td>\n",
       "      <td>1</td>\n",
       "      <td>238055.53</td>\n",
       "      <td>0</td>\n",
       "    </tr>\n",
       "    <tr>\n",
       "      <th>10</th>\n",
       "      <td>148929</td>\n",
       "      <td>927.0</td>\n",
       "      <td>Ростов</td>\n",
       "      <td>М</td>\n",
       "      <td>52.0</td>\n",
       "      <td>0</td>\n",
       "      <td>NaN</td>\n",
       "      <td>1</td>\n",
       "      <td>1</td>\n",
       "      <td>1</td>\n",
       "      <td>196820.07</td>\n",
       "      <td>0</td>\n",
       "    </tr>\n",
       "    <tr>\n",
       "      <th>11</th>\n",
       "      <td>172184</td>\n",
       "      <td>921.0</td>\n",
       "      <td>Ростов</td>\n",
       "      <td>М</td>\n",
       "      <td>41.0</td>\n",
       "      <td>0</td>\n",
       "      <td>NaN</td>\n",
       "      <td>1</td>\n",
       "      <td>1</td>\n",
       "      <td>1</td>\n",
       "      <td>217469.48</td>\n",
       "      <td>0</td>\n",
       "    </tr>\n",
       "    <tr>\n",
       "      <th>12</th>\n",
       "      <td>132970</td>\n",
       "      <td>845.0</td>\n",
       "      <td>Ярославль</td>\n",
       "      <td>Ж</td>\n",
       "      <td>31.0</td>\n",
       "      <td>3</td>\n",
       "      <td>591928.52</td>\n",
       "      <td>2</td>\n",
       "      <td>1</td>\n",
       "      <td>1</td>\n",
       "      <td>112697.16</td>\n",
       "      <td>1</td>\n",
       "    </tr>\n",
       "    <tr>\n",
       "      <th>13</th>\n",
       "      <td>166357</td>\n",
       "      <td>837.0</td>\n",
       "      <td>Рыбинск</td>\n",
       "      <td>Ж</td>\n",
       "      <td>28.0</td>\n",
       "      <td>4</td>\n",
       "      <td>302249.22</td>\n",
       "      <td>2</td>\n",
       "      <td>0</td>\n",
       "      <td>1</td>\n",
       "      <td>30950.94</td>\n",
       "      <td>0</td>\n",
       "    </tr>\n",
       "    <tr>\n",
       "      <th>14</th>\n",
       "      <td>172138</td>\n",
       "      <td>815.0</td>\n",
       "      <td>Ярославль</td>\n",
       "      <td>М</td>\n",
       "      <td>35.0</td>\n",
       "      <td>5</td>\n",
       "      <td>547499.87</td>\n",
       "      <td>2</td>\n",
       "      <td>1</td>\n",
       "      <td>1</td>\n",
       "      <td>105883.26</td>\n",
       "      <td>0</td>\n",
       "    </tr>\n",
       "  </tbody>\n",
       "</table>\n",
       "</div>"
      ],
      "text/plain": [
       "    USERID  score       city gender   age  equity     balance  products  \\\n",
       "0   183012  850.0    Рыбинск      Ж  25.0       1    59214.82         2   \n",
       "1   146556  861.0    Рыбинск      Ж  37.0       5   850594.33         3   \n",
       "2   120722  892.0    Рыбинск      Ж  30.0       0         NaN         1   \n",
       "3   225363  866.0  Ярославль      Ж  51.0       5  1524746.26         2   \n",
       "4   157978  730.0  Ярославль      М  34.0       5      174.00         1   \n",
       "5   202305  856.0    Рыбинск      М  56.0       4   863687.24         3   \n",
       "6   177259  807.0  Ярославль      Ж  39.0       3   405042.44         3   \n",
       "7   218868  825.0  Ярославль      Ж  38.0       4   458145.40         2   \n",
       "8   211686  923.0  Ярославль      М  54.0       5  1206337.87         2   \n",
       "9   133130  906.0  Ярославль      Ж  67.0       0         NaN         1   \n",
       "10  148929  927.0     Ростов      М  52.0       0         NaN         1   \n",
       "11  172184  921.0     Ростов      М  41.0       0         NaN         1   \n",
       "12  132970  845.0  Ярославль      Ж  31.0       3   591928.52         2   \n",
       "13  166357  837.0    Рыбинск      Ж  28.0       4   302249.22         2   \n",
       "14  172138  815.0  Ярославль      М  35.0       5   547499.87         2   \n",
       "\n",
       "    credit_card  last_activity  EST_SALARY  churn  \n",
       "0             0              1    75719.14      1  \n",
       "1             1              0    86621.77      0  \n",
       "2             1              1   107683.34      0  \n",
       "3             0              1   174423.53      1  \n",
       "4             1              0    67353.16      1  \n",
       "5             1              0   156619.80      0  \n",
       "6             0              1   103838.32      0  \n",
       "7             1              1    68085.48      0  \n",
       "8             1              0   155371.79      0  \n",
       "9             0              1   238055.53      0  \n",
       "10            1              1   196820.07      0  \n",
       "11            1              1   217469.48      0  \n",
       "12            1              1   112697.16      1  \n",
       "13            0              1    30950.94      0  \n",
       "14            1              1   105883.26      0  "
      ]
     },
     "execution_count": 4,
     "metadata": {},
     "output_type": "execute_result"
    }
   ],
   "source": [
    "df.head(15)"
   ]
  },
  {
   "cell_type": "markdown",
   "metadata": {},
   "source": [
    "Приведем названия полей к \"змеиному регистру\"."
   ]
  },
  {
   "cell_type": "code",
   "execution_count": 5,
   "metadata": {},
   "outputs": [
    {
     "data": {
      "text/html": [
       "<div>\n",
       "<style scoped>\n",
       "    .dataframe tbody tr th:only-of-type {\n",
       "        vertical-align: middle;\n",
       "    }\n",
       "\n",
       "    .dataframe tbody tr th {\n",
       "        vertical-align: top;\n",
       "    }\n",
       "\n",
       "    .dataframe thead th {\n",
       "        text-align: right;\n",
       "    }\n",
       "</style>\n",
       "<table border=\"1\" class=\"dataframe\">\n",
       "  <thead>\n",
       "    <tr style=\"text-align: right;\">\n",
       "      <th></th>\n",
       "      <th>user_id</th>\n",
       "      <th>score</th>\n",
       "      <th>city</th>\n",
       "      <th>gender</th>\n",
       "      <th>age</th>\n",
       "      <th>equity</th>\n",
       "      <th>balance</th>\n",
       "      <th>products</th>\n",
       "      <th>credit_card</th>\n",
       "      <th>last_activity</th>\n",
       "      <th>est_salary</th>\n",
       "      <th>churn</th>\n",
       "    </tr>\n",
       "  </thead>\n",
       "  <tbody>\n",
       "    <tr>\n",
       "      <th>0</th>\n",
       "      <td>183012</td>\n",
       "      <td>850.0</td>\n",
       "      <td>Рыбинск</td>\n",
       "      <td>Ж</td>\n",
       "      <td>25.0</td>\n",
       "      <td>1</td>\n",
       "      <td>59214.82</td>\n",
       "      <td>2</td>\n",
       "      <td>0</td>\n",
       "      <td>1</td>\n",
       "      <td>75719.14</td>\n",
       "      <td>1</td>\n",
       "    </tr>\n",
       "    <tr>\n",
       "      <th>1</th>\n",
       "      <td>146556</td>\n",
       "      <td>861.0</td>\n",
       "      <td>Рыбинск</td>\n",
       "      <td>Ж</td>\n",
       "      <td>37.0</td>\n",
       "      <td>5</td>\n",
       "      <td>850594.33</td>\n",
       "      <td>3</td>\n",
       "      <td>1</td>\n",
       "      <td>0</td>\n",
       "      <td>86621.77</td>\n",
       "      <td>0</td>\n",
       "    </tr>\n",
       "    <tr>\n",
       "      <th>2</th>\n",
       "      <td>120722</td>\n",
       "      <td>892.0</td>\n",
       "      <td>Рыбинск</td>\n",
       "      <td>Ж</td>\n",
       "      <td>30.0</td>\n",
       "      <td>0</td>\n",
       "      <td>NaN</td>\n",
       "      <td>1</td>\n",
       "      <td>1</td>\n",
       "      <td>1</td>\n",
       "      <td>107683.34</td>\n",
       "      <td>0</td>\n",
       "    </tr>\n",
       "    <tr>\n",
       "      <th>3</th>\n",
       "      <td>225363</td>\n",
       "      <td>866.0</td>\n",
       "      <td>Ярославль</td>\n",
       "      <td>Ж</td>\n",
       "      <td>51.0</td>\n",
       "      <td>5</td>\n",
       "      <td>1524746.26</td>\n",
       "      <td>2</td>\n",
       "      <td>0</td>\n",
       "      <td>1</td>\n",
       "      <td>174423.53</td>\n",
       "      <td>1</td>\n",
       "    </tr>\n",
       "    <tr>\n",
       "      <th>4</th>\n",
       "      <td>157978</td>\n",
       "      <td>730.0</td>\n",
       "      <td>Ярославль</td>\n",
       "      <td>М</td>\n",
       "      <td>34.0</td>\n",
       "      <td>5</td>\n",
       "      <td>174.00</td>\n",
       "      <td>1</td>\n",
       "      <td>1</td>\n",
       "      <td>0</td>\n",
       "      <td>67353.16</td>\n",
       "      <td>1</td>\n",
       "    </tr>\n",
       "  </tbody>\n",
       "</table>\n",
       "</div>"
      ],
      "text/plain": [
       "   user_id  score       city gender   age  equity     balance  products  \\\n",
       "0   183012  850.0    Рыбинск      Ж  25.0       1    59214.82         2   \n",
       "1   146556  861.0    Рыбинск      Ж  37.0       5   850594.33         3   \n",
       "2   120722  892.0    Рыбинск      Ж  30.0       0         NaN         1   \n",
       "3   225363  866.0  Ярославль      Ж  51.0       5  1524746.26         2   \n",
       "4   157978  730.0  Ярославль      М  34.0       5      174.00         1   \n",
       "\n",
       "   credit_card  last_activity  est_salary  churn  \n",
       "0            0              1    75719.14      1  \n",
       "1            1              0    86621.77      0  \n",
       "2            1              1   107683.34      0  \n",
       "3            0              1   174423.53      1  \n",
       "4            1              0    67353.16      1  "
      ]
     },
     "execution_count": 5,
     "metadata": {},
     "output_type": "execute_result"
    }
   ],
   "source": [
    "df = df.rename (columns = {'USERID':'user_id', 'EST_SALARY':'est_salary'})\n",
    "df.head()"
   ]
  },
  {
   "cell_type": "markdown",
   "metadata": {},
   "source": [
    "Проверим количество пропусков."
   ]
  },
  {
   "cell_type": "code",
   "execution_count": 6,
   "metadata": {},
   "outputs": [
    {
     "data": {
      "text/plain": [
       "user_id             0\n",
       "score               0\n",
       "city                0\n",
       "gender              0\n",
       "age                26\n",
       "equity              0\n",
       "balance          2295\n",
       "products            0\n",
       "credit_card         0\n",
       "last_activity       0\n",
       "est_salary          0\n",
       "churn               0\n",
       "dtype: int64"
      ]
     },
     "execution_count": 6,
     "metadata": {},
     "output_type": "execute_result"
    }
   ],
   "source": [
    "df.isnull().sum()"
   ]
  },
  {
   "cell_type": "markdown",
   "metadata": {},
   "source": [
    "Посмотрим общую информацию о фрейме данных."
   ]
  },
  {
   "cell_type": "code",
   "execution_count": 7,
   "metadata": {},
   "outputs": [
    {
     "name": "stdout",
     "output_type": "stream",
     "text": [
      "<class 'pandas.core.frame.DataFrame'>\n",
      "RangeIndex: 10000 entries, 0 to 9999\n",
      "Data columns (total 12 columns):\n",
      " #   Column         Non-Null Count  Dtype  \n",
      "---  ------         --------------  -----  \n",
      " 0   user_id        10000 non-null  int64  \n",
      " 1   score          10000 non-null  float64\n",
      " 2   city           10000 non-null  object \n",
      " 3   gender         10000 non-null  object \n",
      " 4   age            9974 non-null   float64\n",
      " 5   equity         10000 non-null  int64  \n",
      " 6   balance        7705 non-null   float64\n",
      " 7   products       10000 non-null  int64  \n",
      " 8   credit_card    10000 non-null  int64  \n",
      " 9   last_activity  10000 non-null  int64  \n",
      " 10  est_salary     10000 non-null  float64\n",
      " 11  churn          10000 non-null  int64  \n",
      "dtypes: float64(4), int64(6), object(2)\n",
      "memory usage: 937.6+ KB\n"
     ]
    }
   ],
   "source": [
    "df.info()"
   ]
  },
  {
   "cell_type": "markdown",
   "metadata": {},
   "source": [
    "Проверим полные дубликаты в датафрейме."
   ]
  },
  {
   "cell_type": "code",
   "execution_count": 8,
   "metadata": {},
   "outputs": [
    {
     "data": {
      "text/plain": [
       "0"
      ]
     },
     "execution_count": 8,
     "metadata": {},
     "output_type": "execute_result"
    }
   ],
   "source": [
    "df.duplicated().sum()"
   ]
  },
  {
   "cell_type": "markdown",
   "metadata": {},
   "source": [
    "Посмотрим общую информацию о данных в столбцах."
   ]
  },
  {
   "cell_type": "code",
   "execution_count": 9,
   "metadata": {
    "scrolled": true
   },
   "outputs": [
    {
     "data": {
      "text/html": [
       "<div>\n",
       "<style scoped>\n",
       "    .dataframe tbody tr th:only-of-type {\n",
       "        vertical-align: middle;\n",
       "    }\n",
       "\n",
       "    .dataframe tbody tr th {\n",
       "        vertical-align: top;\n",
       "    }\n",
       "\n",
       "    .dataframe thead th {\n",
       "        text-align: right;\n",
       "    }\n",
       "</style>\n",
       "<table border=\"1\" class=\"dataframe\">\n",
       "  <thead>\n",
       "    <tr style=\"text-align: right;\">\n",
       "      <th></th>\n",
       "      <th>user_id</th>\n",
       "      <th>score</th>\n",
       "      <th>age</th>\n",
       "      <th>equity</th>\n",
       "      <th>balance</th>\n",
       "      <th>products</th>\n",
       "      <th>credit_card</th>\n",
       "      <th>last_activity</th>\n",
       "      <th>est_salary</th>\n",
       "      <th>churn</th>\n",
       "    </tr>\n",
       "  </thead>\n",
       "  <tbody>\n",
       "    <tr>\n",
       "      <th>count</th>\n",
       "      <td>10000.00000</td>\n",
       "      <td>10000.000000</td>\n",
       "      <td>9974.000000</td>\n",
       "      <td>10000.000000</td>\n",
       "      <td>7.705000e+03</td>\n",
       "      <td>10000.000000</td>\n",
       "      <td>10000.000000</td>\n",
       "      <td>10000.000000</td>\n",
       "      <td>1.000000e+04</td>\n",
       "      <td>10000.000000</td>\n",
       "    </tr>\n",
       "    <tr>\n",
       "      <th>mean</th>\n",
       "      <td>171814.71260</td>\n",
       "      <td>848.699400</td>\n",
       "      <td>42.734409</td>\n",
       "      <td>2.627600</td>\n",
       "      <td>8.277943e+05</td>\n",
       "      <td>1.870100</td>\n",
       "      <td>0.680400</td>\n",
       "      <td>0.523500</td>\n",
       "      <td>1.478669e+05</td>\n",
       "      <td>0.182000</td>\n",
       "    </tr>\n",
       "    <tr>\n",
       "      <th>std</th>\n",
       "      <td>33708.23812</td>\n",
       "      <td>65.448519</td>\n",
       "      <td>12.179971</td>\n",
       "      <td>1.980836</td>\n",
       "      <td>1.980614e+06</td>\n",
       "      <td>0.792647</td>\n",
       "      <td>0.466345</td>\n",
       "      <td>0.499472</td>\n",
       "      <td>1.393885e+05</td>\n",
       "      <td>0.385864</td>\n",
       "    </tr>\n",
       "    <tr>\n",
       "      <th>min</th>\n",
       "      <td>94561.00000</td>\n",
       "      <td>642.000000</td>\n",
       "      <td>18.000000</td>\n",
       "      <td>0.000000</td>\n",
       "      <td>0.000000e+00</td>\n",
       "      <td>0.000000</td>\n",
       "      <td>0.000000</td>\n",
       "      <td>0.000000</td>\n",
       "      <td>2.546300e+03</td>\n",
       "      <td>0.000000</td>\n",
       "    </tr>\n",
       "    <tr>\n",
       "      <th>25%</th>\n",
       "      <td>142810.25000</td>\n",
       "      <td>802.000000</td>\n",
       "      <td>33.000000</td>\n",
       "      <td>0.000000</td>\n",
       "      <td>2.955542e+05</td>\n",
       "      <td>1.000000</td>\n",
       "      <td>0.000000</td>\n",
       "      <td>0.000000</td>\n",
       "      <td>7.525190e+04</td>\n",
       "      <td>0.000000</td>\n",
       "    </tr>\n",
       "    <tr>\n",
       "      <th>50%</th>\n",
       "      <td>172728.00000</td>\n",
       "      <td>853.000000</td>\n",
       "      <td>40.000000</td>\n",
       "      <td>3.000000</td>\n",
       "      <td>5.242722e+05</td>\n",
       "      <td>2.000000</td>\n",
       "      <td>1.000000</td>\n",
       "      <td>1.000000</td>\n",
       "      <td>1.196581e+05</td>\n",
       "      <td>0.000000</td>\n",
       "    </tr>\n",
       "    <tr>\n",
       "      <th>75%</th>\n",
       "      <td>201261.75000</td>\n",
       "      <td>900.000000</td>\n",
       "      <td>51.000000</td>\n",
       "      <td>4.000000</td>\n",
       "      <td>9.807058e+05</td>\n",
       "      <td>2.000000</td>\n",
       "      <td>1.000000</td>\n",
       "      <td>1.000000</td>\n",
       "      <td>1.745005e+05</td>\n",
       "      <td>0.000000</td>\n",
       "    </tr>\n",
       "    <tr>\n",
       "      <th>max</th>\n",
       "      <td>229145.00000</td>\n",
       "      <td>1000.000000</td>\n",
       "      <td>86.000000</td>\n",
       "      <td>9.000000</td>\n",
       "      <td>1.191136e+08</td>\n",
       "      <td>5.000000</td>\n",
       "      <td>1.000000</td>\n",
       "      <td>1.000000</td>\n",
       "      <td>1.395064e+06</td>\n",
       "      <td>1.000000</td>\n",
       "    </tr>\n",
       "  </tbody>\n",
       "</table>\n",
       "</div>"
      ],
      "text/plain": [
       "            user_id         score          age        equity       balance  \\\n",
       "count   10000.00000  10000.000000  9974.000000  10000.000000  7.705000e+03   \n",
       "mean   171814.71260    848.699400    42.734409      2.627600  8.277943e+05   \n",
       "std     33708.23812     65.448519    12.179971      1.980836  1.980614e+06   \n",
       "min     94561.00000    642.000000    18.000000      0.000000  0.000000e+00   \n",
       "25%    142810.25000    802.000000    33.000000      0.000000  2.955542e+05   \n",
       "50%    172728.00000    853.000000    40.000000      3.000000  5.242722e+05   \n",
       "75%    201261.75000    900.000000    51.000000      4.000000  9.807058e+05   \n",
       "max    229145.00000   1000.000000    86.000000      9.000000  1.191136e+08   \n",
       "\n",
       "           products   credit_card  last_activity    est_salary         churn  \n",
       "count  10000.000000  10000.000000   10000.000000  1.000000e+04  10000.000000  \n",
       "mean       1.870100      0.680400       0.523500  1.478669e+05      0.182000  \n",
       "std        0.792647      0.466345       0.499472  1.393885e+05      0.385864  \n",
       "min        0.000000      0.000000       0.000000  2.546300e+03      0.000000  \n",
       "25%        1.000000      0.000000       0.000000  7.525190e+04      0.000000  \n",
       "50%        2.000000      1.000000       1.000000  1.196581e+05      0.000000  \n",
       "75%        2.000000      1.000000       1.000000  1.745005e+05      0.000000  \n",
       "max        5.000000      1.000000       1.000000  1.395064e+06      1.000000  "
      ]
     },
     "execution_count": 9,
     "metadata": {},
     "output_type": "execute_result"
    }
   ],
   "source": [
    "df.describe()"
   ]
  },
  {
   "cell_type": "markdown",
   "metadata": {},
   "source": [
    "**Вывод по первому взгляду на данные:**\n",
    "- привели названия всех полей к \"змеиному регистру\";\n",
    "- обнаружили пропуски в столбцах `age` и `balance`;\n",
    "- полные дубликаты отсутствуют, необходимо проверить дубликаты по `user_id`;\n",
    "- можно заменить тип данных `age` на int."
   ]
  },
  {
   "cell_type": "markdown",
   "metadata": {},
   "source": [
    "### Предобработка данных"
   ]
  },
  {
   "cell_type": "markdown",
   "metadata": {},
   "source": [
    "создадим функцию для проверки объема оставшихся данных"
   ]
  },
  {
   "cell_type": "code",
   "execution_count": 10,
   "metadata": {},
   "outputs": [],
   "source": [
    "# сохраним длинну исходного фрейма в переменную\n",
    "\n",
    "original_len = df.shape[0]\n",
    "\n",
    "def check_date(df_func=df, original_len_func=original_len):\n",
    "    get_inf = round(df_func.shape[0] / original_len_func * 100, 2)\n",
    "    print('Доля данных оставшихся в фрейме: ', get_inf, '%')"
   ]
  },
  {
   "cell_type": "code",
   "execution_count": 11,
   "metadata": {},
   "outputs": [
    {
     "name": "stdout",
     "output_type": "stream",
     "text": [
      "Доля данных оставшихся в фрейме:  100.0 %\n"
     ]
    }
   ],
   "source": [
    "check_date()"
   ]
  },
  {
   "cell_type": "markdown",
   "metadata": {},
   "source": [
    "Пропусков в столбце `age` всего 26, заменим их медианой."
   ]
  },
  {
   "cell_type": "code",
   "execution_count": 12,
   "metadata": {},
   "outputs": [],
   "source": [
    "df['age'] = df['age']. fillna(df['age'].median())"
   ]
  },
  {
   "cell_type": "markdown",
   "metadata": {},
   "source": [
    "В столбце `balance` пропусков значительно больше, найдём процент пропусков."
   ]
  },
  {
   "cell_type": "code",
   "execution_count": 13,
   "metadata": {},
   "outputs": [
    {
     "name": "stdout",
     "output_type": "stream",
     "text": [
      "Доля пропусков: 22.95 %\n"
     ]
    }
   ],
   "source": [
    "print('Доля пропусков:', df['balance'].isna().sum()/len(df)*100, '%')"
   ]
  },
  {
   "cell_type": "markdown",
   "metadata": {},
   "source": [
    "В столбце `balance` высокая доля пропусков 23%, что слишком много для их удаления. Проанализируем эти пропусти позже, чтобы решить что с ними делать."
   ]
  },
  {
   "cell_type": "markdown",
   "metadata": {},
   "source": [
    "Изменим тип данных в столбце `age` на int."
   ]
  },
  {
   "cell_type": "code",
   "execution_count": 14,
   "metadata": {},
   "outputs": [],
   "source": [
    "df['age'] = df['age'].astype('int')"
   ]
  },
  {
   "cell_type": "markdown",
   "metadata": {},
   "source": [
    "Проверим долю дубликатов в столбце `user_id`"
   ]
  },
  {
   "cell_type": "code",
   "execution_count": 15,
   "metadata": {},
   "outputs": [
    {
     "name": "stdout",
     "output_type": "stream",
     "text": [
      "Доля дубликатов: 0.73 %\n"
     ]
    }
   ],
   "source": [
    "print('Доля дубликатов:', df['user_id'].duplicated().sum()/len(df)*100, '%')"
   ]
  },
  {
   "cell_type": "markdown",
   "metadata": {},
   "source": [
    "Дубликатов в `user_id` чуть менее 1%. Их можно удалить, но сначала проверим дубликаты в полях `gender` и `age`, возможно есть пересечения."
   ]
  },
  {
   "cell_type": "code",
   "execution_count": 16,
   "metadata": {},
   "outputs": [
    {
     "name": "stdout",
     "output_type": "stream",
     "text": [
      "Количество дубликатов: 3 шт.\n"
     ]
    }
   ],
   "source": [
    "print('Количество дубликатов:', df.duplicated(['user_id','gender', 'age']).sum(), 'шт.')"
   ]
  },
  {
   "cell_type": "markdown",
   "metadata": {},
   "source": [
    "Таких дубликатов всего 3. Посмотрим на них вручную."
   ]
  },
  {
   "cell_type": "code",
   "execution_count": 17,
   "metadata": {},
   "outputs": [
    {
     "data": {
      "text/html": [
       "<div>\n",
       "<style scoped>\n",
       "    .dataframe tbody tr th:only-of-type {\n",
       "        vertical-align: middle;\n",
       "    }\n",
       "\n",
       "    .dataframe tbody tr th {\n",
       "        vertical-align: top;\n",
       "    }\n",
       "\n",
       "    .dataframe thead th {\n",
       "        text-align: right;\n",
       "    }\n",
       "</style>\n",
       "<table border=\"1\" class=\"dataframe\">\n",
       "  <thead>\n",
       "    <tr style=\"text-align: right;\">\n",
       "      <th></th>\n",
       "      <th>user_id</th>\n",
       "      <th>score</th>\n",
       "      <th>city</th>\n",
       "      <th>gender</th>\n",
       "      <th>age</th>\n",
       "      <th>equity</th>\n",
       "      <th>balance</th>\n",
       "      <th>products</th>\n",
       "      <th>credit_card</th>\n",
       "      <th>last_activity</th>\n",
       "      <th>est_salary</th>\n",
       "      <th>churn</th>\n",
       "    </tr>\n",
       "  </thead>\n",
       "  <tbody>\n",
       "    <tr>\n",
       "      <th>3274</th>\n",
       "      <td>155765</td>\n",
       "      <td>863.0</td>\n",
       "      <td>Ярославль</td>\n",
       "      <td>М</td>\n",
       "      <td>30</td>\n",
       "      <td>5</td>\n",
       "      <td>1036114.50</td>\n",
       "      <td>5</td>\n",
       "      <td>1</td>\n",
       "      <td>1</td>\n",
       "      <td>150744.50</td>\n",
       "      <td>1</td>\n",
       "    </tr>\n",
       "    <tr>\n",
       "      <th>5197</th>\n",
       "      <td>155765</td>\n",
       "      <td>923.0</td>\n",
       "      <td>Рыбинск</td>\n",
       "      <td>М</td>\n",
       "      <td>30</td>\n",
       "      <td>0</td>\n",
       "      <td>NaN</td>\n",
       "      <td>1</td>\n",
       "      <td>1</td>\n",
       "      <td>1</td>\n",
       "      <td>120296.60</td>\n",
       "      <td>0</td>\n",
       "    </tr>\n",
       "    <tr>\n",
       "      <th>3668</th>\n",
       "      <td>185829</td>\n",
       "      <td>925.0</td>\n",
       "      <td>Рыбинск</td>\n",
       "      <td>М</td>\n",
       "      <td>40</td>\n",
       "      <td>0</td>\n",
       "      <td>NaN</td>\n",
       "      <td>1</td>\n",
       "      <td>1</td>\n",
       "      <td>0</td>\n",
       "      <td>228305.64</td>\n",
       "      <td>0</td>\n",
       "    </tr>\n",
       "    <tr>\n",
       "      <th>9632</th>\n",
       "      <td>185829</td>\n",
       "      <td>927.0</td>\n",
       "      <td>Ярославль</td>\n",
       "      <td>М</td>\n",
       "      <td>40</td>\n",
       "      <td>0</td>\n",
       "      <td>NaN</td>\n",
       "      <td>1</td>\n",
       "      <td>1</td>\n",
       "      <td>0</td>\n",
       "      <td>231254.86</td>\n",
       "      <td>0</td>\n",
       "    </tr>\n",
       "    <tr>\n",
       "      <th>8205</th>\n",
       "      <td>227795</td>\n",
       "      <td>840.0</td>\n",
       "      <td>Рыбинск</td>\n",
       "      <td>М</td>\n",
       "      <td>34</td>\n",
       "      <td>2</td>\n",
       "      <td>350768.03</td>\n",
       "      <td>1</td>\n",
       "      <td>1</td>\n",
       "      <td>0</td>\n",
       "      <td>102036.14</td>\n",
       "      <td>1</td>\n",
       "    </tr>\n",
       "    <tr>\n",
       "      <th>8497</th>\n",
       "      <td>227795</td>\n",
       "      <td>839.0</td>\n",
       "      <td>Ярославль</td>\n",
       "      <td>М</td>\n",
       "      <td>34</td>\n",
       "      <td>2</td>\n",
       "      <td>326593.14</td>\n",
       "      <td>2</td>\n",
       "      <td>1</td>\n",
       "      <td>0</td>\n",
       "      <td>103314.92</td>\n",
       "      <td>0</td>\n",
       "    </tr>\n",
       "  </tbody>\n",
       "</table>\n",
       "</div>"
      ],
      "text/plain": [
       "      user_id  score       city gender  age  equity     balance  products  \\\n",
       "3274   155765  863.0  Ярославль      М   30       5  1036114.50         5   \n",
       "5197   155765  923.0    Рыбинск      М   30       0         NaN         1   \n",
       "3668   185829  925.0    Рыбинск      М   40       0         NaN         1   \n",
       "9632   185829  927.0  Ярославль      М   40       0         NaN         1   \n",
       "8205   227795  840.0    Рыбинск      М   34       2   350768.03         1   \n",
       "8497   227795  839.0  Ярославль      М   34       2   326593.14         2   \n",
       "\n",
       "      credit_card  last_activity  est_salary  churn  \n",
       "3274            1              1   150744.50      1  \n",
       "5197            1              1   120296.60      0  \n",
       "3668            1              0   228305.64      0  \n",
       "9632            1              0   231254.86      0  \n",
       "8205            1              0   102036.14      1  \n",
       "8497            1              0   103314.92      0  "
      ]
     },
     "execution_count": 17,
     "metadata": {},
     "output_type": "execute_result"
    }
   ],
   "source": [
    "df[df.duplicated(['user_id','gender', 'age'], False)].sort_values(by='user_id')"
   ]
  },
  {
   "cell_type": "markdown",
   "metadata": {},
   "source": [
    "Нельзя утвержать что это дубликаты пользователей т.к. есть разница по остальным полям.<br>\n",
    "Т.е. во всех дубликатах по `user_id` есть отличия в данных."
   ]
  },
  {
   "cell_type": "markdown",
   "metadata": {},
   "source": [
    "Проверим есть ли дубликаты пользователй из одного города."
   ]
  },
  {
   "cell_type": "code",
   "execution_count": 18,
   "metadata": {},
   "outputs": [
    {
     "name": "stdout",
     "output_type": "stream",
     "text": [
      "Количество дубликатов: 0 шт.\n"
     ]
    }
   ],
   "source": [
    "print('Количество дубликатов:', df.duplicated(['user_id','city']).sum(), 'шт.')"
   ]
  },
  {
   "cell_type": "markdown",
   "metadata": {},
   "source": [
    "Нет дубликатов из одного города."
   ]
  },
  {
   "cell_type": "markdown",
   "metadata": {},
   "source": [
    "Возможно, что дубликаты `user_id` возникли при выгрузке данных из разных источников.<br>\n",
    "Т.к. поле `user_id` нам не требуется, для анализа данных, то его можно оставить как есть."
   ]
  },
  {
   "cell_type": "markdown",
   "metadata": {},
   "source": [
    "Проверим корректность данных в столбцах с количественными характеристиками."
   ]
  },
  {
   "cell_type": "code",
   "execution_count": 19,
   "metadata": {},
   "outputs": [
    {
     "data": {
      "text/html": [
       "<div>\n",
       "<style scoped>\n",
       "    .dataframe tbody tr th:only-of-type {\n",
       "        vertical-align: middle;\n",
       "    }\n",
       "\n",
       "    .dataframe tbody tr th {\n",
       "        vertical-align: top;\n",
       "    }\n",
       "\n",
       "    .dataframe thead th {\n",
       "        text-align: right;\n",
       "    }\n",
       "</style>\n",
       "<table border=\"1\" class=\"dataframe\">\n",
       "  <thead>\n",
       "    <tr style=\"text-align: right;\">\n",
       "      <th></th>\n",
       "      <th>score</th>\n",
       "      <th>age</th>\n",
       "      <th>equity</th>\n",
       "      <th>balance</th>\n",
       "      <th>products</th>\n",
       "      <th>est_salary</th>\n",
       "    </tr>\n",
       "  </thead>\n",
       "  <tbody>\n",
       "    <tr>\n",
       "      <th>count</th>\n",
       "      <td>10,000.00</td>\n",
       "      <td>10,000.00</td>\n",
       "      <td>10,000.00</td>\n",
       "      <td>7,705.00</td>\n",
       "      <td>10,000.00</td>\n",
       "      <td>10,000.00</td>\n",
       "    </tr>\n",
       "    <tr>\n",
       "      <th>mean</th>\n",
       "      <td>848.70</td>\n",
       "      <td>42.73</td>\n",
       "      <td>2.63</td>\n",
       "      <td>827,794.31</td>\n",
       "      <td>1.87</td>\n",
       "      <td>147,866.89</td>\n",
       "    </tr>\n",
       "    <tr>\n",
       "      <th>std</th>\n",
       "      <td>65.45</td>\n",
       "      <td>12.16</td>\n",
       "      <td>1.98</td>\n",
       "      <td>1,980,614.15</td>\n",
       "      <td>0.79</td>\n",
       "      <td>139,388.51</td>\n",
       "    </tr>\n",
       "    <tr>\n",
       "      <th>min</th>\n",
       "      <td>642.00</td>\n",
       "      <td>18.00</td>\n",
       "      <td>0.00</td>\n",
       "      <td>0.00</td>\n",
       "      <td>0.00</td>\n",
       "      <td>2,546.30</td>\n",
       "    </tr>\n",
       "    <tr>\n",
       "      <th>25%</th>\n",
       "      <td>802.00</td>\n",
       "      <td>33.00</td>\n",
       "      <td>0.00</td>\n",
       "      <td>295,554.16</td>\n",
       "      <td>1.00</td>\n",
       "      <td>75,251.90</td>\n",
       "    </tr>\n",
       "    <tr>\n",
       "      <th>50%</th>\n",
       "      <td>853.00</td>\n",
       "      <td>40.00</td>\n",
       "      <td>3.00</td>\n",
       "      <td>524,272.20</td>\n",
       "      <td>2.00</td>\n",
       "      <td>119,658.10</td>\n",
       "    </tr>\n",
       "    <tr>\n",
       "      <th>75%</th>\n",
       "      <td>900.00</td>\n",
       "      <td>51.00</td>\n",
       "      <td>4.00</td>\n",
       "      <td>980,705.85</td>\n",
       "      <td>2.00</td>\n",
       "      <td>174,500.54</td>\n",
       "    </tr>\n",
       "    <tr>\n",
       "      <th>max</th>\n",
       "      <td>1,000.00</td>\n",
       "      <td>86.00</td>\n",
       "      <td>9.00</td>\n",
       "      <td>119,113,552.01</td>\n",
       "      <td>5.00</td>\n",
       "      <td>1,395,064.45</td>\n",
       "    </tr>\n",
       "  </tbody>\n",
       "</table>\n",
       "</div>"
      ],
      "text/plain": [
       "           score        age     equity         balance   products  \\\n",
       "count  10,000.00  10,000.00  10,000.00        7,705.00  10,000.00   \n",
       "mean      848.70      42.73       2.63      827,794.31       1.87   \n",
       "std        65.45      12.16       1.98    1,980,614.15       0.79   \n",
       "min       642.00      18.00       0.00            0.00       0.00   \n",
       "25%       802.00      33.00       0.00      295,554.16       1.00   \n",
       "50%       853.00      40.00       3.00      524,272.20       2.00   \n",
       "75%       900.00      51.00       4.00      980,705.85       2.00   \n",
       "max     1,000.00      86.00       9.00  119,113,552.01       5.00   \n",
       "\n",
       "         est_salary  \n",
       "count     10,000.00  \n",
       "mean     147,866.89  \n",
       "std      139,388.51  \n",
       "min        2,546.30  \n",
       "25%       75,251.90  \n",
       "50%      119,658.10  \n",
       "75%      174,500.54  \n",
       "max    1,395,064.45  "
      ]
     },
     "execution_count": 19,
     "metadata": {},
     "output_type": "execute_result"
    }
   ],
   "source": [
    "df[['score','age','equity','balance','products','est_salary']].describe().applymap('{:,.2f}'.format)"
   ]
  },
  {
   "cell_type": "markdown",
   "metadata": {},
   "source": [
    "В столбце `products` есть нулевые значения (клиенты без продуктов), такого быть не должно."
   ]
  },
  {
   "cell_type": "markdown",
   "metadata": {},
   "source": [
    "Найдем количство записей с нулевым значением в поле `products`."
   ]
  },
  {
   "cell_type": "code",
   "execution_count": 20,
   "metadata": {},
   "outputs": [
    {
     "name": "stdout",
     "output_type": "stream",
     "text": [
      "Количество нулевых значений: 1 шт\n"
     ]
    }
   ],
   "source": [
    "print('Количество нулевых значений:', df[df['products'] == 0]['user_id'].count(), 'шт')"
   ]
  },
  {
   "cell_type": "markdown",
   "metadata": {},
   "source": [
    "Посмотрим на эту запись"
   ]
  },
  {
   "cell_type": "code",
   "execution_count": 21,
   "metadata": {},
   "outputs": [
    {
     "data": {
      "text/html": [
       "<div>\n",
       "<style scoped>\n",
       "    .dataframe tbody tr th:only-of-type {\n",
       "        vertical-align: middle;\n",
       "    }\n",
       "\n",
       "    .dataframe tbody tr th {\n",
       "        vertical-align: top;\n",
       "    }\n",
       "\n",
       "    .dataframe thead th {\n",
       "        text-align: right;\n",
       "    }\n",
       "</style>\n",
       "<table border=\"1\" class=\"dataframe\">\n",
       "  <thead>\n",
       "    <tr style=\"text-align: right;\">\n",
       "      <th></th>\n",
       "      <th>user_id</th>\n",
       "      <th>score</th>\n",
       "      <th>city</th>\n",
       "      <th>gender</th>\n",
       "      <th>age</th>\n",
       "      <th>equity</th>\n",
       "      <th>balance</th>\n",
       "      <th>products</th>\n",
       "      <th>credit_card</th>\n",
       "      <th>last_activity</th>\n",
       "      <th>est_salary</th>\n",
       "      <th>churn</th>\n",
       "    </tr>\n",
       "  </thead>\n",
       "  <tbody>\n",
       "    <tr>\n",
       "      <th>8957</th>\n",
       "      <td>147837</td>\n",
       "      <td>962.0</td>\n",
       "      <td>Рыбинск</td>\n",
       "      <td>Ж</td>\n",
       "      <td>79</td>\n",
       "      <td>3</td>\n",
       "      <td>NaN</td>\n",
       "      <td>0</td>\n",
       "      <td>0</td>\n",
       "      <td>0</td>\n",
       "      <td>25063.96</td>\n",
       "      <td>1</td>\n",
       "    </tr>\n",
       "  </tbody>\n",
       "</table>\n",
       "</div>"
      ],
      "text/plain": [
       "      user_id  score     city gender  age  equity  balance  products  \\\n",
       "8957   147837  962.0  Рыбинск      Ж   79       3      NaN         0   \n",
       "\n",
       "      credit_card  last_activity  est_salary  churn  \n",
       "8957            0              0    25063.96      1  "
      ]
     },
     "execution_count": 21,
     "metadata": {},
     "output_type": "execute_result"
    }
   ],
   "source": [
    "df.loc[(df['products']==0)]"
   ]
  },
  {
   "cell_type": "markdown",
   "metadata": {},
   "source": [
    "Всего одна запись, возможно это просто человеческая ошибка. Заменим на минимальное значение - 1."
   ]
  },
  {
   "cell_type": "code",
   "execution_count": 22,
   "metadata": {},
   "outputs": [],
   "source": [
    "df.loc[df['products'] == 0, 'products'] = 1"
   ]
  },
  {
   "cell_type": "markdown",
   "metadata": {},
   "source": [
    "Проверим уникальные значения в столбцах."
   ]
  },
  {
   "cell_type": "code",
   "execution_count": 23,
   "metadata": {},
   "outputs": [
    {
     "name": "stdout",
     "output_type": "stream",
     "text": [
      "Уникальные значения в поле city : ['Рыбинск' 'Ярославль' 'Ростов']\n",
      "Уникальные значения в поле gender : ['Ж' 'М']\n",
      "Уникальные значения в поле credit_card : [0 1]\n",
      "Уникальные значения в поле last_activity : [1 0]\n",
      "Уникальные значения в поле churn : [1 0]\n"
     ]
    }
   ],
   "source": [
    "for column in ['city', 'gender', 'credit_card', 'last_activity', 'churn']:\n",
    "    print('Уникальные значения в поле', column, ':', df[column].unique())"
   ]
  },
  {
   "cell_type": "markdown",
   "metadata": {},
   "source": [
    "В столбцах `city`, `gender`, `credit_card`, `last_activity`, `churn` набор значений верный."
   ]
  },
  {
   "cell_type": "markdown",
   "metadata": {},
   "source": [
    "Столбцы `city` и `gender` имеют тип `object`, нужно привести значения к бинарным."
   ]
  },
  {
   "cell_type": "code",
   "execution_count": 24,
   "metadata": {},
   "outputs": [
    {
     "data": {
      "text/html": [
       "<div>\n",
       "<style scoped>\n",
       "    .dataframe tbody tr th:only-of-type {\n",
       "        vertical-align: middle;\n",
       "    }\n",
       "\n",
       "    .dataframe tbody tr th {\n",
       "        vertical-align: top;\n",
       "    }\n",
       "\n",
       "    .dataframe thead th {\n",
       "        text-align: right;\n",
       "    }\n",
       "</style>\n",
       "<table border=\"1\" class=\"dataframe\">\n",
       "  <thead>\n",
       "    <tr style=\"text-align: right;\">\n",
       "      <th></th>\n",
       "      <th>user_id</th>\n",
       "      <th>score</th>\n",
       "      <th>city</th>\n",
       "      <th>gender</th>\n",
       "      <th>age</th>\n",
       "      <th>equity</th>\n",
       "      <th>balance</th>\n",
       "      <th>products</th>\n",
       "      <th>credit_card</th>\n",
       "      <th>last_activity</th>\n",
       "      <th>est_salary</th>\n",
       "      <th>churn</th>\n",
       "      <th>Ростов</th>\n",
       "      <th>Рыбинск</th>\n",
       "      <th>Ярославль</th>\n",
       "      <th>female</th>\n",
       "      <th>male</th>\n",
       "    </tr>\n",
       "  </thead>\n",
       "  <tbody>\n",
       "    <tr>\n",
       "      <th>0</th>\n",
       "      <td>183012</td>\n",
       "      <td>850.0</td>\n",
       "      <td>Рыбинск</td>\n",
       "      <td>Ж</td>\n",
       "      <td>25</td>\n",
       "      <td>1</td>\n",
       "      <td>59214.82</td>\n",
       "      <td>2</td>\n",
       "      <td>0</td>\n",
       "      <td>1</td>\n",
       "      <td>75719.14</td>\n",
       "      <td>1</td>\n",
       "      <td>0</td>\n",
       "      <td>1</td>\n",
       "      <td>0</td>\n",
       "      <td>1</td>\n",
       "      <td>0</td>\n",
       "    </tr>\n",
       "    <tr>\n",
       "      <th>1</th>\n",
       "      <td>146556</td>\n",
       "      <td>861.0</td>\n",
       "      <td>Рыбинск</td>\n",
       "      <td>Ж</td>\n",
       "      <td>37</td>\n",
       "      <td>5</td>\n",
       "      <td>850594.33</td>\n",
       "      <td>3</td>\n",
       "      <td>1</td>\n",
       "      <td>0</td>\n",
       "      <td>86621.77</td>\n",
       "      <td>0</td>\n",
       "      <td>0</td>\n",
       "      <td>1</td>\n",
       "      <td>0</td>\n",
       "      <td>1</td>\n",
       "      <td>0</td>\n",
       "    </tr>\n",
       "    <tr>\n",
       "      <th>2</th>\n",
       "      <td>120722</td>\n",
       "      <td>892.0</td>\n",
       "      <td>Рыбинск</td>\n",
       "      <td>Ж</td>\n",
       "      <td>30</td>\n",
       "      <td>0</td>\n",
       "      <td>NaN</td>\n",
       "      <td>1</td>\n",
       "      <td>1</td>\n",
       "      <td>1</td>\n",
       "      <td>107683.34</td>\n",
       "      <td>0</td>\n",
       "      <td>0</td>\n",
       "      <td>1</td>\n",
       "      <td>0</td>\n",
       "      <td>1</td>\n",
       "      <td>0</td>\n",
       "    </tr>\n",
       "    <tr>\n",
       "      <th>3</th>\n",
       "      <td>225363</td>\n",
       "      <td>866.0</td>\n",
       "      <td>Ярославль</td>\n",
       "      <td>Ж</td>\n",
       "      <td>51</td>\n",
       "      <td>5</td>\n",
       "      <td>1524746.26</td>\n",
       "      <td>2</td>\n",
       "      <td>0</td>\n",
       "      <td>1</td>\n",
       "      <td>174423.53</td>\n",
       "      <td>1</td>\n",
       "      <td>0</td>\n",
       "      <td>0</td>\n",
       "      <td>1</td>\n",
       "      <td>1</td>\n",
       "      <td>0</td>\n",
       "    </tr>\n",
       "    <tr>\n",
       "      <th>4</th>\n",
       "      <td>157978</td>\n",
       "      <td>730.0</td>\n",
       "      <td>Ярославль</td>\n",
       "      <td>М</td>\n",
       "      <td>34</td>\n",
       "      <td>5</td>\n",
       "      <td>174.00</td>\n",
       "      <td>1</td>\n",
       "      <td>1</td>\n",
       "      <td>0</td>\n",
       "      <td>67353.16</td>\n",
       "      <td>1</td>\n",
       "      <td>0</td>\n",
       "      <td>0</td>\n",
       "      <td>1</td>\n",
       "      <td>0</td>\n",
       "      <td>1</td>\n",
       "    </tr>\n",
       "  </tbody>\n",
       "</table>\n",
       "</div>"
      ],
      "text/plain": [
       "   user_id  score       city gender  age  equity     balance  products  \\\n",
       "0   183012  850.0    Рыбинск      Ж   25       1    59214.82         2   \n",
       "1   146556  861.0    Рыбинск      Ж   37       5   850594.33         3   \n",
       "2   120722  892.0    Рыбинск      Ж   30       0         NaN         1   \n",
       "3   225363  866.0  Ярославль      Ж   51       5  1524746.26         2   \n",
       "4   157978  730.0  Ярославль      М   34       5      174.00         1   \n",
       "\n",
       "   credit_card  last_activity  est_salary  churn  Ростов  Рыбинск  Ярославль  \\\n",
       "0            0              1    75719.14      1       0        1          0   \n",
       "1            1              0    86621.77      0       0        1          0   \n",
       "2            1              1   107683.34      0       0        1          0   \n",
       "3            0              1   174423.53      1       0        0          1   \n",
       "4            1              0    67353.16      1       0        0          1   \n",
       "\n",
       "   female  male  \n",
       "0       1     0  \n",
       "1       1     0  \n",
       "2       1     0  \n",
       "3       1     0  \n",
       "4       0     1  "
      ]
     },
     "metadata": {},
     "output_type": "display_data"
    }
   ],
   "source": [
    "# создадим копии столбцов 'city' и 'gender'\n",
    "df['city_2'] = df['city']\n",
    "df['gender_2' ]= df['gender']\n",
    "\n",
    "# закодируем данные в столбцах city_2 и gender_2:\n",
    "df = pd.get_dummies(df, columns = ['city_2', 'gender_2'])\n",
    "df = df.rename (\n",
    "    columns = ({\n",
    "        'city_2_Ростов':'Ростов', 'city_2_Рыбинск':'Рыбинск','city_2_Ярославль':'Ярославль', \n",
    "        'gender_2_Ж':'female', 'gender_2_М':'male'}))\n",
    "display(df.head())"
   ]
  },
  {
   "cell_type": "markdown",
   "metadata": {},
   "source": [
    "Для поиска аномалий, посмотрим средние значения в столбцах датафрейма."
   ]
  },
  {
   "cell_type": "code",
   "execution_count": 25,
   "metadata": {},
   "outputs": [
    {
     "data": {
      "text/html": [
       "<div>\n",
       "<style scoped>\n",
       "    .dataframe tbody tr th:only-of-type {\n",
       "        vertical-align: middle;\n",
       "    }\n",
       "\n",
       "    .dataframe tbody tr th {\n",
       "        vertical-align: top;\n",
       "    }\n",
       "\n",
       "    .dataframe thead th {\n",
       "        text-align: right;\n",
       "    }\n",
       "</style>\n",
       "<table border=\"1\" class=\"dataframe\">\n",
       "  <thead>\n",
       "    <tr style=\"text-align: right;\">\n",
       "      <th></th>\n",
       "      <th>mean_with_balance_notna</th>\n",
       "      <th>mean_with_balance_isna</th>\n",
       "      <th>Разница %</th>\n",
       "    </tr>\n",
       "  </thead>\n",
       "  <tbody>\n",
       "    <tr>\n",
       "      <th>user_id</th>\n",
       "      <td>171738.837508</td>\n",
       "      <td>172069.447930</td>\n",
       "      <td>-0.192138</td>\n",
       "    </tr>\n",
       "    <tr>\n",
       "      <th>score</th>\n",
       "      <td>843.739260</td>\n",
       "      <td>865.352070</td>\n",
       "      <td>-2.497574</td>\n",
       "    </tr>\n",
       "    <tr>\n",
       "      <th>age</th>\n",
       "      <td>42.920571</td>\n",
       "      <td>42.078431</td>\n",
       "      <td>2.001357</td>\n",
       "    </tr>\n",
       "    <tr>\n",
       "      <th>equity</th>\n",
       "      <td>3.395068</td>\n",
       "      <td>0.050980</td>\n",
       "      <td>6559.556731</td>\n",
       "    </tr>\n",
       "    <tr>\n",
       "      <th>balance</th>\n",
       "      <td>827794.306510</td>\n",
       "      <td>NaN</td>\n",
       "      <td>NaN</td>\n",
       "    </tr>\n",
       "    <tr>\n",
       "      <th>products</th>\n",
       "      <td>2.080986</td>\n",
       "      <td>1.162527</td>\n",
       "      <td>79.005387</td>\n",
       "    </tr>\n",
       "    <tr>\n",
       "      <th>credit_card</th>\n",
       "      <td>0.640104</td>\n",
       "      <td>0.815686</td>\n",
       "      <td>-21.525733</td>\n",
       "    </tr>\n",
       "    <tr>\n",
       "      <th>last_activity</th>\n",
       "      <td>0.515769</td>\n",
       "      <td>0.549455</td>\n",
       "      <td>-6.130863</td>\n",
       "    </tr>\n",
       "    <tr>\n",
       "      <th>est_salary</th>\n",
       "      <td>124501.872366</td>\n",
       "      <td>226310.208654</td>\n",
       "      <td>-44.986188</td>\n",
       "    </tr>\n",
       "    <tr>\n",
       "      <th>churn</th>\n",
       "      <td>0.234523</td>\n",
       "      <td>0.005664</td>\n",
       "      <td>4040.233615</td>\n",
       "    </tr>\n",
       "    <tr>\n",
       "      <th>Ростов</th>\n",
       "      <td>0.153407</td>\n",
       "      <td>0.102397</td>\n",
       "      <td>49.816505</td>\n",
       "    </tr>\n",
       "    <tr>\n",
       "      <th>Рыбинск</th>\n",
       "      <td>0.272810</td>\n",
       "      <td>0.258388</td>\n",
       "      <td>5.581558</td>\n",
       "    </tr>\n",
       "    <tr>\n",
       "      <th>Ярославль</th>\n",
       "      <td>0.573783</td>\n",
       "      <td>0.639216</td>\n",
       "      <td>-10.236362</td>\n",
       "    </tr>\n",
       "    <tr>\n",
       "      <th>female</th>\n",
       "      <td>0.516807</td>\n",
       "      <td>0.441394</td>\n",
       "      <td>17.085161</td>\n",
       "    </tr>\n",
       "    <tr>\n",
       "      <th>male</th>\n",
       "      <td>0.483193</td>\n",
       "      <td>0.558606</td>\n",
       "      <td>-13.500209</td>\n",
       "    </tr>\n",
       "  </tbody>\n",
       "</table>\n",
       "</div>"
      ],
      "text/plain": [
       "               mean_with_balance_notna  mean_with_balance_isna    Разница %\n",
       "user_id                  171738.837508           172069.447930    -0.192138\n",
       "score                       843.739260              865.352070    -2.497574\n",
       "age                          42.920571               42.078431     2.001357\n",
       "equity                        3.395068                0.050980  6559.556731\n",
       "balance                  827794.306510                     NaN          NaN\n",
       "products                      2.080986                1.162527    79.005387\n",
       "credit_card                   0.640104                0.815686   -21.525733\n",
       "last_activity                 0.515769                0.549455    -6.130863\n",
       "est_salary               124501.872366           226310.208654   -44.986188\n",
       "churn                         0.234523                0.005664  4040.233615\n",
       "Ростов                        0.153407                0.102397    49.816505\n",
       "Рыбинск                       0.272810                0.258388     5.581558\n",
       "Ярославль                     0.573783                0.639216   -10.236362\n",
       "female                        0.516807                0.441394    17.085161\n",
       "male                          0.483193                0.558606   -13.500209"
      ]
     },
     "execution_count": 25,
     "metadata": {},
     "output_type": "execute_result"
    }
   ],
   "source": [
    "pd.concat({'mean_with_balance_notna': df[df['balance'].notna()].mean(numeric_only=True),\n",
    "           'mean_with_balance_isna': df[df['balance'].isna()].mean(numeric_only=True),\n",
    "           \"Разница %\": ((df[df['balance'].notna()].mean(numeric_only=True))/(df[df['balance'].isna()].mean(numeric_only=True))-1)*100},axis=1)"
   ]
  },
  {
   "cell_type": "markdown",
   "metadata": {},
   "source": [
    "Так как средние значения в столбцах `equity`, `products`, `churn` и `est_salary` по наличию и отсутствию значения в поле `balance` значительно отличаются, то пропуски скорее всего не случайны."
   ]
  },
  {
   "cell_type": "markdown",
   "metadata": {},
   "source": [
    "Посмотрим есть ли корреляция между отсутствием данных в поле `balance` и другими полями."
   ]
  },
  {
   "cell_type": "code",
   "execution_count": 26,
   "metadata": {},
   "outputs": [
    {
     "data": {
      "text/plain": [
       "user_id           0.00\n",
       "Рыбинск          -0.01\n",
       "last_activity     0.03\n",
       "age              -0.03\n",
       "Ярославль         0.06\n",
       "Ростов           -0.06\n",
       "female           -0.06\n",
       "male              0.06\n",
       "score             0.14\n",
       "credit_card       0.16\n",
       "churn            -0.25\n",
       "est_salary        0.31\n",
       "products         -0.49\n",
       "equity           -0.71\n",
       "balance_na        1.00\n",
       "balance            nan\n",
       "dtype: object"
      ]
     },
     "execution_count": 26,
     "metadata": {},
     "output_type": "execute_result"
    }
   ],
   "source": [
    "# создадим новую характеристику клиента balance_na (отсутствие баланса), чтобы можно было проанализировать характер её связи с другими данными\n",
    "df['balance_na'] = df['balance'].apply(lambda x: 1 if pd.isna(x) else 0)\n",
    "\n",
    "# посчитаем корреляцию balance_na с остальными характеристиками\n",
    "df.corrwith(df['balance_na']).sort_values(key=abs).apply('{:.2f}'.format)"
   ]
  },
  {
   "cell_type": "markdown",
   "metadata": {},
   "source": [
    "Значимую корреляцию можем наблюдать в нескольких полях. Значит нет возможности выделить какую-либо одну зависимость пропусков от остальных данных, поэтому мы не сможем выделить какой-либо один сегмент с линейной зависимостью и заполнить по ней пропуски.<br/>\n",
    "Опираясь на значениям корреляции можно выдвинуть несколько предположений:<br/>\n",
    "Сильная обратная корреляция с отточностью `churn`, количеством продуктов `products` и залоговой собственностью `equity`."
   ]
  },
  {
   "cell_type": "markdown",
   "metadata": {},
   "source": [
    "**Результаты предобработки:**<br>\n",
    "1. названия столбцов приведены к единому виду;\n",
    "2. изменен тип данных в столбце `age` с float на int;\n",
    "3. полных дубликатов не обнаружено;\n",
    "4. проанализированы дубликаты дубликаты в столбце `user_id`;\n",
    "5. данные в столбцах `gender` и `city` приведены к бинарному виду;\n",
    "6. пропуски в столбце `age` заменены медианой, пропуски в столбце `balance` оставлены без изменений."
   ]
  },
  {
   "cell_type": "markdown",
   "metadata": {},
   "source": [
    "## Исследовательский анализ данных"
   ]
  },
  {
   "cell_type": "markdown",
   "metadata": {},
   "source": [
    "### Рассмотрим распределение характеристик для разных значений оттока `chrn`"
   ]
  },
  {
   "cell_type": "markdown",
   "metadata": {},
   "source": [
    "Для категориальных и бинарных типов характеристик - среднее.<br />\n",
    "Для непрерывных типов характеристик - медианы."
   ]
  },
  {
   "cell_type": "markdown",
   "metadata": {},
   "source": [
    "Рассмотрим характеристики в разрезе оттока."
   ]
  },
  {
   "cell_type": "code",
   "execution_count": 27,
   "metadata": {
    "scrolled": true
   },
   "outputs": [
    {
     "data": {
      "text/html": [
       "<div>\n",
       "<style scoped>\n",
       "    .dataframe tbody tr th:only-of-type {\n",
       "        vertical-align: middle;\n",
       "    }\n",
       "\n",
       "    .dataframe tbody tr th {\n",
       "        vertical-align: top;\n",
       "    }\n",
       "\n",
       "    .dataframe thead th {\n",
       "        text-align: right;\n",
       "    }\n",
       "</style>\n",
       "<table border=\"1\" class=\"dataframe\">\n",
       "  <thead>\n",
       "    <tr style=\"text-align: right;\">\n",
       "      <th></th>\n",
       "      <th>count</th>\n",
       "      <th>equity</th>\n",
       "      <th>products</th>\n",
       "      <th>credit_card</th>\n",
       "      <th>last_activity</th>\n",
       "      <th>Ростов</th>\n",
       "      <th>Рыбинск</th>\n",
       "      <th>Ярославль</th>\n",
       "      <th>female</th>\n",
       "      <th>male</th>\n",
       "      <th>score</th>\n",
       "      <th>age</th>\n",
       "      <th>balance</th>\n",
       "      <th>balance_na</th>\n",
       "      <th>est_salary</th>\n",
       "    </tr>\n",
       "    <tr>\n",
       "      <th>churn</th>\n",
       "      <th></th>\n",
       "      <th></th>\n",
       "      <th></th>\n",
       "      <th></th>\n",
       "      <th></th>\n",
       "      <th></th>\n",
       "      <th></th>\n",
       "      <th></th>\n",
       "      <th></th>\n",
       "      <th></th>\n",
       "      <th></th>\n",
       "      <th></th>\n",
       "      <th></th>\n",
       "      <th></th>\n",
       "      <th></th>\n",
       "    </tr>\n",
       "  </thead>\n",
       "  <tbody>\n",
       "    <tr>\n",
       "      <th>0</th>\n",
       "      <td>8180</td>\n",
       "      <td>2.374817</td>\n",
       "      <td>1.757579</td>\n",
       "      <td>0.709169</td>\n",
       "      <td>0.483741</td>\n",
       "      <td>0.140709</td>\n",
       "      <td>0.276039</td>\n",
       "      <td>0.583252</td>\n",
       "      <td>0.532763</td>\n",
       "      <td>0.467237</td>\n",
       "      <td>848.0</td>\n",
       "      <td>40</td>\n",
       "      <td>475382.445</td>\n",
       "      <td>0.278973</td>\n",
       "      <td>118257.715</td>\n",
       "    </tr>\n",
       "    <tr>\n",
       "      <th>1</th>\n",
       "      <td>1820</td>\n",
       "      <td>3.763736</td>\n",
       "      <td>2.376374</td>\n",
       "      <td>0.551099</td>\n",
       "      <td>0.702198</td>\n",
       "      <td>0.146154</td>\n",
       "      <td>0.240110</td>\n",
       "      <td>0.613736</td>\n",
       "      <td>0.350000</td>\n",
       "      <td>0.650000</td>\n",
       "      <td>866.0</td>\n",
       "      <td>39</td>\n",
       "      <td>782410.470</td>\n",
       "      <td>0.007143</td>\n",
       "      <td>125390.620</td>\n",
       "    </tr>\n",
       "  </tbody>\n",
       "</table>\n",
       "</div>"
      ],
      "text/plain": [
       "       count    equity  products  credit_card  last_activity    Ростов  \\\n",
       "churn                                                                    \n",
       "0       8180  2.374817  1.757579     0.709169       0.483741  0.140709   \n",
       "1       1820  3.763736  2.376374     0.551099       0.702198  0.146154   \n",
       "\n",
       "        Рыбинск  Ярославль    female      male  score  age     balance  \\\n",
       "churn                                                                    \n",
       "0      0.276039   0.583252  0.532763  0.467237  848.0   40  475382.445   \n",
       "1      0.240110   0.613736  0.350000  0.650000  866.0   39  782410.470   \n",
       "\n",
       "       balance_na  est_salary  \n",
       "churn                          \n",
       "0        0.278973  118257.715  \n",
       "1        0.007143  125390.620  "
      ]
     },
     "execution_count": 27,
     "metadata": {},
     "output_type": "execute_result"
    }
   ],
   "source": [
    "df_churn = df.groupby('churn').agg(\n",
    "    {\n",
    "        'churn': 'count',\n",
    "        'equity': 'mean',\n",
    "        'products': 'mean', \n",
    "        'credit_card': 'mean', \n",
    "        'last_activity': 'mean', \n",
    "        'Ростов': 'mean', \n",
    "        'Рыбинск': 'mean', \n",
    "        'Ярославль': 'mean', \n",
    "        'female': 'mean', \n",
    "        'male': 'mean', \n",
    "        'score' : 'median', \n",
    "        'age': 'median', \n",
    "        'balance': 'median', \n",
    "        'balance_na': 'mean', \n",
    "        'est_salary': 'median'\n",
    "    }\n",
    ").rename(columns = {'churn':'count'})\n",
    "\n",
    "df_churn"
   ]
  },
  {
   "cell_type": "markdown",
   "metadata": {},
   "source": [
    "Сравним характеристикИ отточных и неотточных клиентов"
   ]
  },
  {
   "cell_type": "code",
   "execution_count": 28,
   "metadata": {},
   "outputs": [
    {
     "data": {
      "text/html": [
       "<div>\n",
       "<style scoped>\n",
       "    .dataframe tbody tr th:only-of-type {\n",
       "        vertical-align: middle;\n",
       "    }\n",
       "\n",
       "    .dataframe tbody tr th {\n",
       "        vertical-align: top;\n",
       "    }\n",
       "\n",
       "    .dataframe thead th {\n",
       "        text-align: right;\n",
       "    }\n",
       "</style>\n",
       "<table border=\"1\" class=\"dataframe\">\n",
       "  <thead>\n",
       "    <tr style=\"text-align: right;\">\n",
       "      <th></th>\n",
       "      <th>Не отточные</th>\n",
       "      <th>Отточные</th>\n",
       "      <th>Разница %</th>\n",
       "    </tr>\n",
       "  </thead>\n",
       "  <tbody>\n",
       "    <tr>\n",
       "      <th>balance_na</th>\n",
       "      <td>0.278973</td>\n",
       "      <td>0.007143</td>\n",
       "      <td>-97.439589</td>\n",
       "    </tr>\n",
       "    <tr>\n",
       "      <th>count</th>\n",
       "      <td>8180.000000</td>\n",
       "      <td>1820.000000</td>\n",
       "      <td>-77.750611</td>\n",
       "    </tr>\n",
       "    <tr>\n",
       "      <th>female</th>\n",
       "      <td>0.532763</td>\n",
       "      <td>0.350000</td>\n",
       "      <td>-34.304727</td>\n",
       "    </tr>\n",
       "    <tr>\n",
       "      <th>credit_card</th>\n",
       "      <td>0.709169</td>\n",
       "      <td>0.551099</td>\n",
       "      <td>-22.289450</td>\n",
       "    </tr>\n",
       "    <tr>\n",
       "      <th>Рыбинск</th>\n",
       "      <td>0.276039</td>\n",
       "      <td>0.240110</td>\n",
       "      <td>-13.015992</td>\n",
       "    </tr>\n",
       "    <tr>\n",
       "      <th>age</th>\n",
       "      <td>40.000000</td>\n",
       "      <td>39.000000</td>\n",
       "      <td>-2.500000</td>\n",
       "    </tr>\n",
       "    <tr>\n",
       "      <th>score</th>\n",
       "      <td>848.000000</td>\n",
       "      <td>866.000000</td>\n",
       "      <td>2.122642</td>\n",
       "    </tr>\n",
       "    <tr>\n",
       "      <th>Ростов</th>\n",
       "      <td>0.140709</td>\n",
       "      <td>0.146154</td>\n",
       "      <td>3.869545</td>\n",
       "    </tr>\n",
       "    <tr>\n",
       "      <th>Ярославль</th>\n",
       "      <td>0.583252</td>\n",
       "      <td>0.613736</td>\n",
       "      <td>5.226633</td>\n",
       "    </tr>\n",
       "    <tr>\n",
       "      <th>est_salary</th>\n",
       "      <td>118257.715000</td>\n",
       "      <td>125390.620000</td>\n",
       "      <td>6.031661</td>\n",
       "    </tr>\n",
       "    <tr>\n",
       "      <th>products</th>\n",
       "      <td>1.757579</td>\n",
       "      <td>2.376374</td>\n",
       "      <td>35.207180</td>\n",
       "    </tr>\n",
       "    <tr>\n",
       "      <th>male</th>\n",
       "      <td>0.467237</td>\n",
       "      <td>0.650000</td>\n",
       "      <td>39.115646</td>\n",
       "    </tr>\n",
       "    <tr>\n",
       "      <th>last_activity</th>\n",
       "      <td>0.483741</td>\n",
       "      <td>0.702198</td>\n",
       "      <td>45.159920</td>\n",
       "    </tr>\n",
       "    <tr>\n",
       "      <th>equity</th>\n",
       "      <td>2.374817</td>\n",
       "      <td>3.763736</td>\n",
       "      <td>58.485343</td>\n",
       "    </tr>\n",
       "    <tr>\n",
       "      <th>balance</th>\n",
       "      <td>475382.445000</td>\n",
       "      <td>782410.470000</td>\n",
       "      <td>64.585478</td>\n",
       "    </tr>\n",
       "  </tbody>\n",
       "</table>\n",
       "</div>"
      ],
      "text/plain": [
       "                 Не отточные       Отточные  Разница %\n",
       "balance_na          0.278973       0.007143 -97.439589\n",
       "count            8180.000000    1820.000000 -77.750611\n",
       "female              0.532763       0.350000 -34.304727\n",
       "credit_card         0.709169       0.551099 -22.289450\n",
       "Рыбинск             0.276039       0.240110 -13.015992\n",
       "age                40.000000      39.000000  -2.500000\n",
       "score             848.000000     866.000000   2.122642\n",
       "Ростов              0.140709       0.146154   3.869545\n",
       "Ярославль           0.583252       0.613736   5.226633\n",
       "est_salary     118257.715000  125390.620000   6.031661\n",
       "products            1.757579       2.376374  35.207180\n",
       "male                0.467237       0.650000  39.115646\n",
       "last_activity       0.483741       0.702198  45.159920\n",
       "equity              2.374817       3.763736  58.485343\n",
       "balance        475382.445000  782410.470000  64.585478"
      ]
     },
     "execution_count": 28,
     "metadata": {},
     "output_type": "execute_result"
    }
   ],
   "source": [
    "df_share = pd.concat(\n",
    "    {\n",
    "        'Не отточные': df_churn.iloc[0],\n",
    "        'Отточные': df_churn.iloc[1],\n",
    "        'Разница %': (df_churn.iloc[1]/df_churn.iloc[0]-1)*100\n",
    "    },\n",
    "    axis=1\n",
    ").sort_values('Разница %')\n",
    "\n",
    "df_share"
   ]
  },
  {
   "cell_type": "markdown",
   "metadata": {},
   "source": [
    "Имеются критерии с сильной разницей в разрезе оттока, более 10%:\n",
    "- balance;\n",
    "- equity;\n",
    "- last_activity;\n",
    "- male;\n",
    "- female;\n",
    "- products;\n",
    "- credit_card.\n",
    "\n",
    "И критерии с малой разницей:\n",
    "- est_salary;\n",
    "- score;\n",
    "- age."
   ]
  },
  {
   "cell_type": "markdown",
   "metadata": {},
   "source": [
    "### Сравним распределение значений критериев для отточных и неотточных клиентов"
   ]
  },
  {
   "cell_type": "markdown",
   "metadata": {},
   "source": [
    "Для количественных непрерывных характеристик построим график плотности распределение в разрезе оттока."
   ]
  },
  {
   "cell_type": "markdown",
   "metadata": {},
   "source": [
    "Настроим отображение."
   ]
  },
  {
   "cell_type": "code",
   "execution_count": 29,
   "metadata": {},
   "outputs": [],
   "source": [
    "sns.set_style(\"whitegrid\", {\"grid.color\": \".6\", \"grid.linestyle\": \":\"})"
   ]
  },
  {
   "cell_type": "markdown",
   "metadata": {},
   "source": [
    "Взаимосвязь `churn` - `score`"
   ]
  },
  {
   "cell_type": "code",
   "execution_count": 30,
   "metadata": {},
   "outputs": [
    {
     "data": {
      "image/png": "[encoded data removed]",
      "text/plain": [
       "<Figure size 720x216 with 1 Axes>"
      ]
     },
     "metadata": {},
     "output_type": "display_data"
    }
   ],
   "source": [
    "plt.figure(figsize=(10,3))\n",
    "plt.xlabel('баллы кредитного скоринга')\n",
    "plt.ylabel('распределение')\n",
    "plt.title('график плотности распределения балов кредитного скоринга в разрезе оттока')\n",
    "sns.kdeplot(df[df['churn'] == 0]['score'], clip=(0.0, 2000000.0), common_norm=False, color='green')\n",
    "sns.kdeplot(df[df['churn'] == 1]['score'], clip=(0.0, 2000000.0), common_norm=False, color='red')\n",
    "plt.legend(['Не отточные', 'Отточные'])\n",
    "plt.show()"
   ]
  },
  {
   "cell_type": "markdown",
   "metadata": {},
   "source": [
    "Взаимосвязь `churn` - `balance`"
   ]
  },
  {
   "cell_type": "code",
   "execution_count": 31,
   "metadata": {},
   "outputs": [
    {
     "data": {
      "image/png": "[encoded data removed]",
      "text/plain": [
       "<Figure size 720x216 with 1 Axes>"
      ]
     },
     "metadata": {},
     "output_type": "display_data"
    }
   ],
   "source": [
    "plt.figure(figsize=(10,3))\n",
    "plt.xlabel('баланс')\n",
    "plt.ylabel('распределение')\n",
    "plt.title('график плотности распределения баланса в разрезе оттока')\n",
    "sns.kdeplot(df[df['churn'] == 0]['balance'], clip=(0.0, 2000000.0), common_norm=False, color='green')\n",
    "sns.kdeplot(df[df['churn'] == 1]['balance'], clip=(0.0, 2000000.0), common_norm=False, color='red')\n",
    "plt.legend(['Не отточные', 'Отточные'])\n",
    "plt.show()"
   ]
  },
  {
   "cell_type": "markdown",
   "metadata": {},
   "source": [
    "Взаимосвязь `churn` - `est_salary`"
   ]
  },
  {
   "cell_type": "code",
   "execution_count": 32,
   "metadata": {},
   "outputs": [
    {
     "data": {
      "image/png": "[encoded data removed]",
      "text/plain": [
       "<Figure size 720x216 with 1 Axes>"
      ]
     },
     "metadata": {},
     "output_type": "display_data"
    }
   ],
   "source": [
    "plt.figure(figsize=(10,3))\n",
    "plt.xlabel('оценочный доход')\n",
    "plt.ylabel('распределение')\n",
    "plt.title('график плотности распределения оценочного дохода в разрезе оттока')\n",
    "sns.kdeplot(df[df['churn'] == 0]['est_salary'], clip=(0.0, 300000.0), common_norm=False, color='green')\n",
    "sns.kdeplot(df[df['churn'] == 1]['est_salary'], clip=(0.0, 300000.0), common_norm=False, color='red')\n",
    "plt.legend(['Не отточные', 'Отточные'])\n",
    "plt.show()"
   ]
  },
  {
   "cell_type": "markdown",
   "metadata": {},
   "source": [
    "Для дискретных характеристик построим гистограмму распределение в разрезе оттока."
   ]
  },
  {
   "cell_type": "code",
   "execution_count": 33,
   "metadata": {},
   "outputs": [
    {
     "data": {
      "image/png": "[encoded data removed]",
      "text/plain": [
       "<Figure size 648x216 with 1 Axes>"
      ]
     },
     "metadata": {},
     "output_type": "display_data"
    }
   ],
   "source": [
    "plt.figure(figsize=(9,3))\n",
    "plt.xlabel('возраст')\n",
    "plt.ylabel('распределение')\n",
    "plt.title('график плотности распределения возраста в разрезе оттока')\n",
    "sns.histplot(df[df['churn'] == 0]['age'], discrete=True, stat='density', common_norm=False, color='Green');\n",
    "sns.histplot(df[df['churn'] == 1]['age'], discrete=True, stat='density', common_norm=False, color='Red');\n",
    "plt.legend(['Не отточные', 'Отточные'])\n",
    "plt.show()"
   ]
  },
  {
   "cell_type": "markdown",
   "metadata": {},
   "source": [
    "Распределение по возрасту не презентативно, поэтому введём возрастные группы."
   ]
  },
  {
   "cell_type": "markdown",
   "metadata": {},
   "source": [
    "Создадим функцию для распределения по возрастным группам:\n",
    "- диаграмме мы видим, что пользователей с возрастом 18-24 года мало, вынесим их в отдельную категорию;\n",
    "- далее мы видим, что среди пользователей в возрасте 25-35 лет преобладают отточные, выделим во вторую категорию;\n",
    "- далее в возрасте 36-50 лет снижается плотность пользователей и возрастает отток;\n",
    "- с 51-60 лет отточных клиентов опять становится больше;\n",
    "- с 61 года видим дальнейшее снижение плотности и преобладание не отточных клиенов, выделим в последнюю категорию."
   ]
  },
  {
   "cell_type": "code",
   "execution_count": 34,
   "metadata": {},
   "outputs": [],
   "source": [
    "def age_cat(age):\n",
    "    if 18 <= age <= 24:\n",
    "        return '18-24'\n",
    "    if 25 <= age <= 35:\n",
    "        return '25-35'\n",
    "    if 36 <= age <= 50:\n",
    "        return '36-50'\n",
    "    if 51 <= age <= 60:\n",
    "        return '51-60'\n",
    "    if 61 <= age:\n",
    "        return '60+'\n",
    "    \n",
    "df['age_cat'] = df['age'].apply (age_cat)"
   ]
  },
  {
   "cell_type": "code",
   "execution_count": 36,
   "metadata": {},
   "outputs": [
    {
     "data": {
      "image/png": "[encoded data removed]",
      "text/plain": [
       "<Figure size 432x288 with 1 Axes>"
      ]
     },
     "metadata": {},
     "output_type": "display_data"
    }
   ],
   "source": [
    " # выводим уровень отточности клиентов в категории\n",
    "df_age_group=df.groupby(['age_cat']).agg({'churn': 'sum'}).reset_index()\n",
    "df_age_group['percent'] = round(df_age_group['churn'] / df_age_group['churn'].sum() * 100, 2)\n",
    "sns.barplot(data=df_age_group, x='age_cat', y='percent')\n",
    "plt.xlabel('возрастная категория')\n",
    "plt.ylabel('доля отточных клиентов')\n",
    "plt.title('Распределение отточных клиентов по возрастным категориям')\n",
    "plt.show()"
   ]
  },
  {
   "cell_type": "code",
   "execution_count": 37,
   "metadata": {},
   "outputs": [
    {
     "data": {
      "text/html": [
       "<div>\n",
       "<style scoped>\n",
       "    .dataframe tbody tr th:only-of-type {\n",
       "        vertical-align: middle;\n",
       "    }\n",
       "\n",
       "    .dataframe tbody tr th {\n",
       "        vertical-align: top;\n",
       "    }\n",
       "\n",
       "    .dataframe thead th {\n",
       "        text-align: right;\n",
       "    }\n",
       "</style>\n",
       "<table border=\"1\" class=\"dataframe\">\n",
       "  <thead>\n",
       "    <tr style=\"text-align: right;\">\n",
       "      <th></th>\n",
       "      <th>age_cat</th>\n",
       "      <th>churn</th>\n",
       "      <th>percent</th>\n",
       "    </tr>\n",
       "  </thead>\n",
       "  <tbody>\n",
       "    <tr>\n",
       "      <th>0</th>\n",
       "      <td>18-24</td>\n",
       "      <td>31</td>\n",
       "      <td>1.70</td>\n",
       "    </tr>\n",
       "    <tr>\n",
       "      <th>1</th>\n",
       "      <td>25-35</td>\n",
       "      <td>665</td>\n",
       "      <td>36.54</td>\n",
       "    </tr>\n",
       "    <tr>\n",
       "      <th>2</th>\n",
       "      <td>36-50</td>\n",
       "      <td>625</td>\n",
       "      <td>34.34</td>\n",
       "    </tr>\n",
       "    <tr>\n",
       "      <th>3</th>\n",
       "      <td>51-60</td>\n",
       "      <td>432</td>\n",
       "      <td>23.74</td>\n",
       "    </tr>\n",
       "    <tr>\n",
       "      <th>4</th>\n",
       "      <td>60+</td>\n",
       "      <td>67</td>\n",
       "      <td>3.68</td>\n",
       "    </tr>\n",
       "  </tbody>\n",
       "</table>\n",
       "</div>"
      ],
      "text/plain": [
       "  age_cat  churn  percent\n",
       "0   18-24     31     1.70\n",
       "1   25-35    665    36.54\n",
       "2   36-50    625    34.34\n",
       "3   51-60    432    23.74\n",
       "4     60+     67     3.68"
      ]
     },
     "execution_count": 37,
     "metadata": {},
     "output_type": "execute_result"
    }
   ],
   "source": [
    "df_age_group"
   ]
  },
  {
   "cell_type": "markdown",
   "metadata": {},
   "source": [
    "Построим столбчатые диаграммы оттока для категориальных критериев."
   ]
  },
  {
   "cell_type": "code",
   "execution_count": 38,
   "metadata": {},
   "outputs": [
    {
     "data": {
      "image/png": "[encoded data removed]",
      "text/plain": [
       "<Figure size 1080x864 with 9 Axes>"
      ]
     },
     "metadata": {},
     "output_type": "display_data"
    }
   ],
   "source": [
    "churn_mean=df['churn'].mean()\n",
    "fig, axes = plt.subplots(3,3, figsize=(15, 12))\n",
    "n=0\n",
    "for categorical in ['city', 'equity', 'products']:\n",
    "    # выводим количество отточных клиентов в категории\n",
    "    sns.countplot(data=df[df['churn'] == 1], x=categorical, palette=\"coolwarm\", ax=axes[n][1])\n",
    "    axes[n][1].set_ylabel(\"Количество отточных\")\n",
    "\n",
    "    # выводим количество всех клиентов в категории\n",
    "    sns.countplot(data=df, x=categorical, palette=\"coolwarm\", ax=axes[n][2])\n",
    "    axes[n][2].set_ylabel(\"Общее количество\")\n",
    "\n",
    "    # выводим уровень отточности клиентов в категории\n",
    "    levels=df.groupby(categorical).agg({'churn': 'mean'}).reset_index()\n",
    "    sns.barplot(data=levels, x=categorical, y='churn', ax=axes[n][0])\n",
    "    axes[n][0].axhline(y=churn_mean, color='red', alpha=0.2)\n",
    "    axes[n][0].set_ylabel(\"Уровень отточных (%)\")\n",
    "    # выводим метки на barplot\n",
    "    #axes[n][0].bar_label(axes[n][0].containers[0], fmt='%.2f%%', label_type='center')\n",
    "    labels=levels['churn'].values.round(2)\n",
    "    rects=axes[n][0].containers[0].patches\n",
    "    for rect, label in zip(rects, labels):\n",
    "        axes[n][0].text(rect.get_x() + rect.get_width()/2, rect.get_height(), label, ha=\"center\", va=\"bottom\")\n",
    "\n",
    "    n+=1\n",
    "fig.suptitle(\"Уровень и число отточных клиентов в разрезе категориальных характеристик\");\n",
    "plt.show()"
   ]
  },
  {
   "cell_type": "markdown",
   "metadata": {},
   "source": [
    "Построим круговые диаграммы для категориальных характеристик."
   ]
  },
  {
   "cell_type": "markdown",
   "metadata": {},
   "source": [
    "Сравним долю отточных клиентов в разных городах."
   ]
  },
  {
   "cell_type": "code",
   "execution_count": 39,
   "metadata": {},
   "outputs": [
    {
     "data": {
      "image/png": "[encoded data removed]",
      "text/plain": [
       "<Figure size 720x216 with 3 Axes>"
      ]
     },
     "metadata": {},
     "output_type": "display_data"
    }
   ],
   "source": [
    "figure, axis = plt.subplots(1,3, figsize=(10, 3))\n",
    "figure.suptitle('Доля отточных клиентов в разных городах');\n",
    "\n",
    "df.groupby('churn').agg({'Ростов': 'sum'}).plot(ax=axis[0],kind='pie',y='Ростов',autopct='%0.1f%%',legend=False,labeldistance=None);\n",
    "df.groupby('churn').agg({'Рыбинск': 'sum'}).plot(ax=axis[1],kind='pie',y='Рыбинск',autopct='%0.1f%%',legend=False,labeldistance=None);\n",
    "df.groupby('churn').agg({'Ярославль': 'sum'}).plot(ax=axis[2],kind='pie',y='Ярославль',autopct='%0.1f%%',legend=False,labeldistance=None);\n",
    "axis[2].legend(['Неотточных','Отточных'], bbox_to_anchor=(1, 1.02), loc='upper left')\n",
    "plt.show()"
   ]
  },
  {
   "cell_type": "markdown",
   "metadata": {},
   "source": [
    "Сравним долю оттока среди мужчин и женщин."
   ]
  },
  {
   "cell_type": "code",
   "execution_count": 40,
   "metadata": {},
   "outputs": [
    {
     "data": {
      "image/png": "[encoded data removed]",
      "text/plain": [
       "<Figure size 720x216 with 2 Axes>"
      ]
     },
     "metadata": {},
     "output_type": "display_data"
    }
   ],
   "source": [
    "figure, axis = plt.subplots(1,2, figsize=(10, 3))\n",
    "figure.suptitle('Доля отточных клиентов среди мужчин и женщин');\n",
    "\n",
    "df.groupby('churn').agg({'male': 'sum'}).plot(ax=axis[0],kind='pie',y='male',autopct='%0.1f%%',legend=False,labeldistance=None);\n",
    "df.groupby('churn').agg({'female': 'sum'}).plot(ax=axis[1],kind='pie',y='female',autopct='%0.1f%%',legend=False,labeldistance=None);\n",
    "axis[1].legend(['Неотточных','Отточных'], bbox_to_anchor=(1, 1.02), loc='upper left')\n",
    "axis[0].set(ylabel='Мужчины')\n",
    "axis[1].set(ylabel='Женщины')\n",
    "plt.show()"
   ]
  },
  {
   "cell_type": "markdown",
   "metadata": {},
   "source": [
    "Сравним долю отточных клиентов в зависимости от наличия кредитной карты."
   ]
  },
  {
   "cell_type": "code",
   "execution_count": 41,
   "metadata": {},
   "outputs": [
    {
     "data": {
      "image/png": "[encoded data removed]",
      "text/plain": [
       "<Figure size 720x216 with 2 Axes>"
      ]
     },
     "metadata": {},
     "output_type": "display_data"
    }
   ],
   "source": [
    "figure, axis = plt.subplots(1,2, figsize=(10, 3))\n",
    "figure.suptitle('Доля отточных клиентов в разрезе использования кредитки');\n",
    "\n",
    "churn_level=df.groupby(['credit_card']).agg({'churn':'mean'})['churn']\n",
    "axis[1].pie(x=[1 - churn_level.loc[0],churn_level.loc[0]],autopct='%.0f%%')\n",
    "axis[0].pie(x=[1 - churn_level.loc[1],churn_level.loc[1]],autopct='%.0f%%')\n",
    "axis[1].legend(['Неотточных','Отточных'], bbox_to_anchor=(1, 1.02), loc='upper left')\n",
    "axis[0].set(ylabel='С кредиткой')\n",
    "axis[1].set(ylabel='Без кредитки')\n",
    "plt.show()"
   ]
  },
  {
   "cell_type": "markdown",
   "metadata": {},
   "source": [
    "Сравним долю отточных клиентов в зависимости от критерия активности."
   ]
  },
  {
   "cell_type": "code",
   "execution_count": 42,
   "metadata": {},
   "outputs": [
    {
     "data": {
      "image/png": "[encoded data removed]",
      "text/plain": [
       "<Figure size 720x216 with 2 Axes>"
      ]
     },
     "metadata": {},
     "output_type": "display_data"
    }
   ],
   "source": [
    "figure, axis = plt.subplots(1,2, figsize=(10, 3))\n",
    "figure.suptitle('Доля отточных клиентов в зависимости активности');\n",
    "\n",
    "churn_level=df.groupby(['last_activity']).agg({'churn':'mean'})['churn']\n",
    "axis[1].pie(x=[1 - churn_level.loc[0],churn_level.loc[0]],autopct='%.0f%%')\n",
    "axis[0].pie(x=[1 - churn_level.loc[1],churn_level.loc[1]],autopct='%.0f%%')\n",
    "axis[1].legend(['Неотточных','Отточных'], bbox_to_anchor=(1, 1.02), loc='upper left')\n",
    "axis[0].set(ylabel='Активные')\n",
    "axis[1].set(ylabel='Не активные')\n",
    "plt.show()"
   ]
  },
  {
   "cell_type": "markdown",
   "metadata": {},
   "source": [
    "Построим Heatmap с корреляциями между категориями, чтобы отбросить излишние характеристики при сильной корреляци, или учесть что их стоит разнести по разным сегментам в случает наличия умеренной корреляции."
   ]
  },
  {
   "cell_type": "code",
   "execution_count": 43,
   "metadata": {},
   "outputs": [
    {
     "data": {
      "image/png": "[encoded data removed]",
      "text/plain": [
       "<Figure size 1080x1080 with 2 Axes>"
      ]
     },
     "metadata": {},
     "output_type": "display_data"
    }
   ],
   "source": [
    "correlation = df[['churn',\n",
    "                  'age',\n",
    "                  'male',\n",
    "                  'credit_card',\n",
    "                  'last_activity',\n",
    "                  'equity',\n",
    "                  'products',\n",
    "                  'balance_na',\n",
    "                  'balance',\n",
    "                  'est_salary',\n",
    "                  'score'\n",
    "                 ]].corr()\n",
    "plt.figure(figsize=(15,15))\n",
    "sns.heatmap(correlation, center=0, annot=True, fmt=\".1f\", cmap='coolwarm')\n",
    "plt.title('Корреляция между разными характеристиками')\n",
    "plt.show()"
   ]
  },
  {
   "cell_type": "markdown",
   "metadata": {},
   "source": [
    "По шкале Чеддока, корреляцию оттока с характеристиками можно оценить как:\n",
    "- слабую для: `age`, `male`, `credit_card`, `last_activity`, `balance_na`, `balance`, `est_salary`, `score`;\n",
    "- умеренную для: `equity`, `products`."
   ]
  },
  {
   "cell_type": "markdown",
   "metadata": {},
   "source": [
    "### Выводы, на основе исследовательского анализа данных"
   ]
  },
  {
   "cell_type": "markdown",
   "metadata": {},
   "source": [
    "По графикам и диаграммам выделем значения параметров, для которых доля оттока клиентов выше:\n",
    "- баллы кредитного рейтинга `score` от 820 до 910\n",
    "- баланс `balance` от 950K\n",
    "- оценочный доход клиента `est_salary` от 100K до 230K\n",
    "- возраст `age` о 25 до 35 и от 50 до 60\n",
    "- баллов собственности `equity` больше или равно 3\n",
    "- продуктов `products` больше или равно 3\n",
    "- пол `gender` мужчина\n",
    "- кредитной карты `credit_card` нет \n",
    "- активен `last_activity` да\n",
    "\n",
    "По шкале Чеддока, корреляцию оттока с характеристиками можно оценить как:\n",
    "- слабую для: `age`, `male`, `credit_card`, `last_activity`, `balance_na`, `balance`, `est_salary`, `score`;\n",
    "- умеренную для: `equity`, `products`.\n",
    "\n",
    "Разницу доли оттока клиенов в разных городах проанализируем с помощью метода гипотиз."
   ]
  },
  {
   "cell_type": "markdown",
   "metadata": {},
   "source": [
    "## Проверка статистических гипотез"
   ]
  },
  {
   "cell_type": "markdown",
   "metadata": {},
   "source": [
    "Для проведения t-тест, нужно проверить три условия:\n",
    "1. Генеральные совокупности не зависят друг от друга. \n",
    "2. Выборочные средние нормально распределены. \n",
    "3. Дисперсии рассматриваемых генеральных совокупностей равны."
   ]
  },
  {
   "cell_type": "markdown",
   "metadata": {},
   "source": [
    "**Гипотеза 1**: У отточных и оставшихся клиентов отличается доход.<br>\n",
    "\n",
    "H_0: доходы оставшихся и отточных клиентов равны;<br>\n",
    "H_1: доходы оставшихся и отточных клиентов не равны.<br>\n",
    "\n",
    "Для проверки гипотезы проведем t-test и u-test<br>\n",
    "критический уровень статистической значимости установим `alpha = 0.05`"
   ]
  },
  {
   "cell_type": "markdown",
   "metadata": {},
   "source": [
    "Проверим наши генеральные совокупности на соответствие критериям для проведения t-testa"
   ]
  },
  {
   "cell_type": "code",
   "execution_count": 44,
   "metadata": {},
   "outputs": [],
   "source": [
    "a = df[df['churn'] == 1]['est_salary']\n",
    "b = df[df['churn'] == 0]['est_salary']"
   ]
  },
  {
   "cell_type": "code",
   "execution_count": 45,
   "metadata": {},
   "outputs": [
    {
     "data": {
      "image/png": "[encoded data removed]",
      "text/plain": [
       "<Figure size 432x288 with 1 Axes>"
      ]
     },
     "metadata": {},
     "output_type": "display_data"
    }
   ],
   "source": [
    "sns.histplot(df[df['churn'] == 0]['est_salary'])\n",
    "sns.histplot(df[df['churn'] == 1]['est_salary']);"
   ]
  },
  {
   "cell_type": "markdown",
   "metadata": {},
   "source": [
    "Проведём тест на соотвествие нормальному распределеню."
   ]
  },
  {
   "cell_type": "markdown",
   "metadata": {},
   "source": [
    "**для отточных клиентов:**"
   ]
  },
  {
   "cell_type": "code",
   "execution_count": 46,
   "metadata": {},
   "outputs": [],
   "source": [
    "# критический уровень статистической значимости\n",
    "\n",
    "alpha = 0.05"
   ]
  },
  {
   "cell_type": "code",
   "execution_count": 47,
   "metadata": {},
   "outputs": [
    {
     "name": "stdout",
     "output_type": "stream",
     "text": [
      "p-значение:  0.0\n",
      "Распределение не нормально\n"
     ]
    }
   ],
   "source": [
    "shapiro_test_stat, p_value = st.shapiro(a)\n",
    "\n",
    "print('p-значение: ', p_value)\n",
    "if p_value < alpha:\n",
    "    print('Распределение не нормально')\n",
    "else:\n",
    "    print('Нормальное распределение')  "
   ]
  },
  {
   "cell_type": "markdown",
   "metadata": {},
   "source": [
    "**для неотточных клиентов:**"
   ]
  },
  {
   "cell_type": "code",
   "execution_count": 48,
   "metadata": {},
   "outputs": [
    {
     "name": "stdout",
     "output_type": "stream",
     "text": [
      "p-значение:  0.0\n",
      "Распределение не нормально\n"
     ]
    },
    {
     "name": "stderr",
     "output_type": "stream",
     "text": [
      "/opt/conda/lib/python3.9/site-packages/scipy/stats/_morestats.py:1800: UserWarning: p-value may not be accurate for N > 5000.\n",
      "  warnings.warn(\"p-value may not be accurate for N > 5000.\")\n"
     ]
    }
   ],
   "source": [
    "shapiro_test_stat, p_value = st.shapiro(b)\n",
    "\n",
    "print('p-значение: ', p_value)\n",
    "if p_value < alpha:\n",
    "    print('Распределение не нормально')\n",
    "else:\n",
    "    print('Нормальное распределение') "
   ]
  },
  {
   "cell_type": "markdown",
   "metadata": {},
   "source": [
    "Оценим дисперсии."
   ]
  },
  {
   "cell_type": "code",
   "execution_count": 49,
   "metadata": {},
   "outputs": [
    {
     "name": "stdout",
     "output_type": "stream",
     "text": [
      "20392519451.455894\n",
      "15107976364.850912\n"
     ]
    }
   ],
   "source": [
    "print(df[df['churn'] == 0]['est_salary'].var())\n",
    "print(df[df['churn'] == 1]['est_salary'].var())"
   ]
  },
  {
   "cell_type": "markdown",
   "metadata": {},
   "source": [
    "**Результат проверки:**\n",
    "1. генеральные совокупности не зависят друг от друга;\n",
    "2. распределение значений не является нормальным;\n",
    "3. дисперсии не равны.<br>\n",
    "Так как условия не выполнены, вместо t-критерия Стьюдента используем аналогичные методы непараметрической статистики, используем U-критерий Манна — Уитни.<br>\n",
    "**Таким образом, выборки не подходят для проведения t-testa**"
   ]
  },
  {
   "cell_type": "markdown",
   "metadata": {},
   "source": [
    "Проведем u-test."
   ]
  },
  {
   "cell_type": "code",
   "execution_count": 50,
   "metadata": {},
   "outputs": [
    {
     "name": "stdout",
     "output_type": "stream",
     "text": [
      "p-значение:  0.000243559272811695\n",
      "Отвергаем нулевую гипотезу\n"
     ]
    }
   ],
   "source": [
    "results = st.mannwhitneyu(a, b)\n",
    "\n",
    "print('p-значение: ', results.pvalue)\n",
    "if results.pvalue < alpha:\n",
    "    print('Отвергаем нулевую гипотезу')\n",
    "else:\n",
    "    print(\n",
    "        'Не получилось отвергнуть нулевую гипотезу'\n",
    "    ) "
   ]
  },
  {
   "cell_type": "markdown",
   "metadata": {},
   "source": [
    "**Результат проверки Гипотезы 1:**<br>\n",
    "В данном случае, распределение не является нормальным, поэтому был выбран непараметрический тест U-критерий Манна — Уитни.<br>\n",
    "\n",
    "Таким образом, отвергаем нулевую гипотезу, доходы оставшихся и отточных клиентов не равны."
   ]
  },
  {
   "cell_type": "markdown",
   "metadata": {},
   "source": [
    "**Гипотеза №2:** Доля оттока клиентов зависит от города.<br>\n",
    "\n",
    "H_0: отток зависит от города клиента;<br>\n",
    "H_1: отток не зависит от города клиента.<br>\n",
    "\n",
    "Для проверки гипотезы проведем t-test и u-test<br>\n",
    "alpha = 0.05"
   ]
  },
  {
   "cell_type": "code",
   "execution_count": 51,
   "metadata": {},
   "outputs": [
    {
     "name": "stdout",
     "output_type": "stream",
     "text": [
      "[0 1]\n",
      "[1 0]\n",
      "[1 0]\n"
     ]
    }
   ],
   "source": [
    "print(df[df['city'] == 'Ростов']['churn'].unique())\n",
    "print(df[df['city'] == 'Рыбинск']['churn'].unique())\n",
    "print(df[df['city'] == 'Ярославль']['churn'].unique())"
   ]
  },
  {
   "cell_type": "markdown",
   "metadata": {},
   "source": [
    "Выборки являются набором бинарных значений, поэтому t-test который предназначен для нормально распределённых данных, применять нельзя. Сравнение средних не даст корректного результата."
   ]
  },
  {
   "cell_type": "markdown",
   "metadata": {},
   "source": [
    "Проведём z-test для проверки гипотезы c помощью библиотеки `statsmodels`."
   ]
  },
  {
   "cell_type": "code",
   "execution_count": 52,
   "metadata": {},
   "outputs": [
    {
     "name": "stdout",
     "output_type": "stream",
     "text": [
      "p-значение: 0.581\n",
      "Не получилось отвергнуть нулевую гипотез удля города Ростов\n",
      "p-значение: 0.005\n",
      "Отвергаем нулевую гипотезу для города Рыбинск\n",
      "p-значение: 0.131\n",
      "Не получилось отвергнуть нулевую гипотез удля города Ярославль\n"
     ]
    }
   ],
   "source": [
    "# уровень оттока генеральной совокупности\n",
    "churn_val = df['churn'].mean()\n",
    "\n",
    "for city in ['Ростов', 'Рыбинск', 'Ярославль']:\n",
    "\n",
    "    # количество испытаний\n",
    "    nobs = df[df['city']==city]['churn'].count()\n",
    "\n",
    "    # количество успешных\n",
    "    successes = df[(df['city']==city) & (df['churn']==1)]['churn'].count()\n",
    "\n",
    "    # z-test\n",
    "    z_stat, pval = proportions_ztest(successes, nobs, churn_val)\n",
    "\n",
    "    print('p-значение:', '{0:0.3f}'.format(pval))\n",
    "\n",
    "    if pval < alpha:\n",
    "        print('Отвергаем нулевую гипотезу для города', city)\n",
    "    else:\n",
    "        print('Не получилось отвергнуть нулевую гипотез удля города', city)"
   ]
  },
  {
   "cell_type": "markdown",
   "metadata": {},
   "source": [
    "Проведем u-test для категории города."
   ]
  },
  {
   "cell_type": "code",
   "execution_count": 53,
   "metadata": {},
   "outputs": [
    {
     "name": "stdout",
     "output_type": "stream",
     "text": [
      "p-значение:  0.6020203980124814\n",
      "Отвергаем нулевую гипотезу для города Ростов\n",
      "p-значение:  0.016767897530501296\n",
      "Отвергаем нулевую гипотезу для города Рыбинск\n",
      "p-значение:  0.22676024447809306\n",
      "Отвергаем нулевую гипотезу для города Ярославль\n"
     ]
    }
   ],
   "source": [
    "for city in ['Ростов', 'Рыбинск', 'Ярославль']:\n",
    "    utest_stat, pval = st.mannwhitneyu(df['churn'], df[df['city']==city]['churn'])\n",
    "    print('p-значение: ', pval)\n",
    "    if results.pvalue < alpha:\n",
    "        print('Отвергаем нулевую гипотезу для города', city)\n",
    "    else:\n",
    "        print('Не получилось отвергнуть нулевую гипотезу для города', city)"
   ]
  },
  {
   "cell_type": "markdown",
   "metadata": {},
   "source": [
    "**Результат u-теста:** Отвергаем нулевую гипотезу, отток не зависит от города клиента."
   ]
  },
  {
   "cell_type": "markdown",
   "metadata": {},
   "source": [
    "**Вывод:** \n",
    "- доходы отточных и неотточных клиентов не равны;\n",
    "- отток не зависит от города клиента."
   ]
  },
  {
   "cell_type": "markdown",
   "metadata": {},
   "source": [
    "## Промежуточный итог"
   ]
  },
  {
   "cell_type": "markdown",
   "metadata": {},
   "source": [
    "Признаки отточных клиентов на основе распределения значений:\n",
    "- баллы кредитного рейтинга `score` от 820 до 910;\n",
    "- баланс `balance` от 950K;\n",
    "- оценочный доход клиента `est_salary` от 100K до 230K\n",
    "- возраст `age` о 25 до 35 и от 50 до 60\n",
    "- баллов собственности `equity` больше или равно 3\n",
    "- продуктов `products` больше или равно 3\n",
    "- пол `gender` мужчина\n",
    "- кредитной карты `credit_card` нет \n",
    "- активен `last_activity` да\n",
    "\n",
    "По результатам проверки гипотез:\n",
    "- доходы отточных и неотточных клиентов не равны\n",
    "- отток не зависит от города клиента\n",
    "\n",
    "По графику распределению оттока по возрасту, можно заметить две возрастные группы отточных клиентов:\n",
    "- 25-35 лет\n",
    "- 50-60 лет\n",
    "\n",
    "Будет удобно сделать разбивку по этому признаку на 2 сегмента, а третим сделать сегмент не зависящий от возраста."
   ]
  },
  {
   "cell_type": "markdown",
   "metadata": {},
   "source": [
    "## Сегментация клиентов и приоретезация"
   ]
  },
  {
   "cell_type": "markdown",
   "metadata": {},
   "source": [
    "Найти сегменты сразу вручную сложно и не всегда возможно. Применим метод перебора комбинаций сегментов. Но из списка результатов автоматического перебора будем выбирать не первый попавшийся (топовый) набор, а сделаем выбор основываясь предыдущих разделах исследования."
   ]
  },
  {
   "cell_type": "markdown",
   "metadata": {},
   "source": [
    "Проведем перебор сегментов и посчёт их отточности:"
   ]
  },
  {
   "cell_type": "markdown",
   "metadata": {},
   "source": [
    "Сформируем набор условий, для которых доля оттока клиентов выше:"
   ]
  },
  {
   "cell_type": "code",
   "execution_count": 54,
   "metadata": {},
   "outputs": [],
   "source": [
    "c=[ '',\n",
    "    'equity >= 3' ,\n",
    "    'last_activity == 1',\n",
    "    'male == 1',\n",
    "    '100000 <= est_salary <= 230000',\n",
    "    'credit_card == 0',\n",
    "    '25 <= age <= 35',\n",
    "    '50 < age <= 60',\n",
    "    '820 <= score <= 910',\n",
    "    'balance > 950000'\n",
    "]"
   ]
  },
  {
   "cell_type": "markdown",
   "metadata": {},
   "source": [
    "Расчитаем среднюю отточность по датасету."
   ]
  },
  {
   "cell_type": "code",
   "execution_count": 55,
   "metadata": {},
   "outputs": [
    {
     "name": "stdout",
     "output_type": "stream",
     "text": [
      "Средняя отточность по банку: 18.20% \n",
      "\n"
     ]
    }
   ],
   "source": [
    "gauge_churn = df['churn'].mean()\n",
    "print('Средняя отточность по банку:',\"{:.2%}\".format(gauge_churn),'\\n')"
   ]
  },
  {
   "cell_type": "code",
   "execution_count": 56,
   "metadata": {},
   "outputs": [],
   "source": [
    "# создадим функцию для вычисления отточности сегмента и проверки размера\n",
    "def query_churn_mean(q):\n",
    "    if q == '':\n",
    "        return 0\n",
    "    cm = df.query(q).agg({\"churn\":['mean','count']}).values\n",
    "    if cm[1] < 500:\n",
    "        #print('too small')\n",
    "        return 0\n",
    "    if cm[1] > 5000:\n",
    "        #print('too big')\n",
    "        return 0\n",
    "    else:\n",
    "        return round(cm[0][0],2)"
   ]
  },
  {
   "cell_type": "code",
   "execution_count": 57,
   "metadata": {},
   "outputs": [],
   "source": [
    "# соединяем признаки в сегмент\n",
    "def query_concat(a,op):\n",
    "    q=''\n",
    "    for i in a:\n",
    "        if i != '':\n",
    "            q = i if q == '' else q + op + i\n",
    "    return q\n",
    "\n",
    "# соединяем сегменты в одну выборку\n",
    "def query_concat_or(a):\n",
    "    q=''\n",
    "    for i in a:\n",
    "        if i != '':\n",
    "            q = '(' + i if q == '' else q + ') or (' + i\n",
    "    return q + ')'"
   ]
  },
  {
   "cell_type": "code",
   "execution_count": 58,
   "metadata": {},
   "outputs": [
    {
     "name": "stdout",
     "output_type": "stream",
     "text": [
      "+ Найден более отточный набор Churn mean: 0.38 ( 0.42 0.37 0.46 ); Churn count:  970\n",
      "Сегменты:\n",
      " (100000 <= est_salary <= 230000 and balance > 950000)\n",
      " (equity >= 3 and 50 < age <= 60)\n",
      " (last_activity == 1 and credit_card == 0 and 820 <= score <= 910) \n",
      "\n",
      "+ Найден более отточный набор Churn mean: 0.39 ( 0.42 0.37 0.45 ); Churn count:  1015\n",
      "Сегменты:\n",
      " (100000 <= est_salary <= 230000 and balance > 950000)\n",
      " (equity >= 3 and 50 < age <= 60)\n",
      " (last_activity == 1 and 25 <= age <= 35 and 820 <= score <= 910) \n",
      "\n",
      "+ Найден более отточный набор Churn mean: 0.4 ( 0.37 0.44 0.45 ); Churn count:  916\n",
      "Сегменты:\n",
      " (credit_card == 0 and 50 < age <= 60)\n",
      " (equity >= 3 and 100000 <= est_salary <= 230000 and balance > 950000)\n",
      " (last_activity == 1 and 25 <= age <= 35 and 820 <= score <= 910) \n",
      "\n",
      "Завершение за итераций: 1535\n"
     ]
    }
   ],
   "source": [
    "best_k=0\n",
    "best_q=''\n",
    "i=0\n",
    "\n",
    "for x in list(itertools.permutations([0,1,2,3], 3)):\n",
    "    for y in list(itertools.permutations([0,4,5,6], 3)):\n",
    "        for z in list(itertools.permutations([0,7,8,9], 3)):\n",
    "            i+=1\n",
    "         \n",
    "            if i > 1000:\n",
    "                break\n",
    "            #print(x[0],y[0],z[0],' | ',x[1],y[1],z[1],' | ',x[2],y[2],z[2])\n",
    "            segment_1=query_concat([c[x[0]],c[y[0]],c[z[0]]],' and ')\n",
    "            segment_2=query_concat([c[x[1]],c[y[1]],c[z[1]]],' and ')\n",
    "            segment_3=query_concat([c[x[2]],c[y[2]],c[z[2]]],' and ')\n",
    "            #print(q1,'|',q2,'|',q3)\n",
    "            q1_k=query_churn_mean(segment_1)\n",
    "            q2_k=query_churn_mean(segment_2)\n",
    "            q3_k=query_churn_mean(segment_3)\n",
    "            # проверяем условие по отточности сегментов\n",
    "            if q1_k > 2*gauge_churn and q2_k > 2*gauge_churn and q3_k > 2*gauge_churn:\n",
    "                q = query_concat_or([segment_1,segment_2,segment_3])\n",
    "                t_k=query_churn_mean(q)\n",
    "                if t_k > best_k:\n",
    "                    best_q = q\n",
    "                    best_k = t_k\n",
    "                    print('+ Найден более отточный набор Churn mean:',best_k,'(',q1_k,q2_k,q3_k,');',\n",
    "                          'Churn count: ',df.query(best_q)['churn'].sum())\n",
    "                    print('Сегменты:\\n', best_q.replace(\" or \", \"\\n \"),'\\n')\n",
    "\n",
    "print('Завершение за итераций:',i)"
   ]
  },
  {
   "cell_type": "markdown",
   "metadata": {},
   "source": [
    "Выберем две возрастные категории."
   ]
  },
  {
   "cell_type": "markdown",
   "metadata": {},
   "source": [
    "**Сегмент №1**"
   ]
  },
  {
   "cell_type": "code",
   "execution_count": 67,
   "metadata": {},
   "outputs": [
    {
     "data": {
      "text/html": [
       "<div>\n",
       "<style scoped>\n",
       "    .dataframe tbody tr th:only-of-type {\n",
       "        vertical-align: middle;\n",
       "    }\n",
       "\n",
       "    .dataframe tbody tr th {\n",
       "        vertical-align: top;\n",
       "    }\n",
       "\n",
       "    .dataframe thead th {\n",
       "        text-align: right;\n",
       "    }\n",
       "</style>\n",
       "<table border=\"1\" class=\"dataframe\">\n",
       "  <thead>\n",
       "    <tr style=\"text-align: right;\">\n",
       "      <th></th>\n",
       "      <th>churn</th>\n",
       "    </tr>\n",
       "  </thead>\n",
       "  <tbody>\n",
       "    <tr>\n",
       "      <th>mean</th>\n",
       "      <td>0.366044</td>\n",
       "    </tr>\n",
       "    <tr>\n",
       "      <th>count</th>\n",
       "      <td>642.000000</td>\n",
       "    </tr>\n",
       "  </tbody>\n",
       "</table>\n",
       "</div>"
      ],
      "text/plain": [
       "            churn\n",
       "mean     0.366044\n",
       "count  642.000000"
      ]
     },
     "execution_count": 67,
     "metadata": {},
     "output_type": "execute_result"
    }
   ],
   "source": [
    "seg_one = df.query('credit_card == 0 and 50 < age <= 60').agg({'churn':['mean','count']})\n",
    "seg_one"
   ]
  },
  {
   "cell_type": "code",
   "execution_count": 106,
   "metadata": {},
   "outputs": [
    {
     "data": {
      "image/png": "[encoded data removed]",
      "text/plain": [
       "<Figure size 432x288 with 1 Axes>"
      ]
     },
     "metadata": {},
     "output_type": "display_data"
    }
   ],
   "source": [
    "pd.DataFrame({'churn': ['отточные', 'неотточные'], \n",
    "              'count': [seg_one['churn'][0], 1-seg_one['churn'][0]]}\n",
    "            ).groupby(['churn']).agg({'count': 'sum'}).plot(\n",
    "    kind='pie',\n",
    "    y='count',\n",
    "    autopct='%1.0f%%',\n",
    "    title='Доля отточных клиентов первого сегмента')\n",
    "plt.ylabel('')\n",
    "plt.legend(['неотточные','отточные'], bbox_to_anchor=(1, 1.02), loc='upper left');"
   ]
  },
  {
   "cell_type": "markdown",
   "metadata": {},
   "source": [
    "- возраст: **50-60 лет**\n",
    "- наличие кредитной карты: **нет**\n",
    "- количество клиентов: **642**\n",
    "- уровень отточности: **37%**"
   ]
  },
  {
   "cell_type": "markdown",
   "metadata": {},
   "source": [
    "**Сегмент №2**"
   ]
  },
  {
   "cell_type": "code",
   "execution_count": 108,
   "metadata": {},
   "outputs": [
    {
     "data": {
      "text/html": [
       "<div>\n",
       "<style scoped>\n",
       "    .dataframe tbody tr th:only-of-type {\n",
       "        vertical-align: middle;\n",
       "    }\n",
       "\n",
       "    .dataframe tbody tr th {\n",
       "        vertical-align: top;\n",
       "    }\n",
       "\n",
       "    .dataframe thead th {\n",
       "        text-align: right;\n",
       "    }\n",
       "</style>\n",
       "<table border=\"1\" class=\"dataframe\">\n",
       "  <thead>\n",
       "    <tr style=\"text-align: right;\">\n",
       "      <th></th>\n",
       "      <th>churn</th>\n",
       "    </tr>\n",
       "  </thead>\n",
       "  <tbody>\n",
       "    <tr>\n",
       "      <th>mean</th>\n",
       "      <td>0.435824</td>\n",
       "    </tr>\n",
       "    <tr>\n",
       "      <th>count</th>\n",
       "      <td>1044.000000</td>\n",
       "    </tr>\n",
       "  </tbody>\n",
       "</table>\n",
       "</div>"
      ],
      "text/plain": [
       "             churn\n",
       "mean      0.435824\n",
       "count  1044.000000"
      ]
     },
     "execution_count": 108,
     "metadata": {},
     "output_type": "execute_result"
    }
   ],
   "source": [
    "seg_two = df.query('equity >= 3 and 100000 <= est_salary <= 230000 and balance > 950000').agg({'churn':['mean','count']})\n",
    "seg_two"
   ]
  },
  {
   "cell_type": "code",
   "execution_count": 109,
   "metadata": {},
   "outputs": [
    {
     "data": {
      "image/png": "[encoded data removed]",
      "text/plain": [
       "<Figure size 432x288 with 1 Axes>"
      ]
     },
     "metadata": {},
     "output_type": "display_data"
    }
   ],
   "source": [
    "pd.DataFrame({'churn': ['отточные', 'неотточные'], \n",
    "              'count': [seg_two['churn'][0], 1-seg_two['churn'][0]]}\n",
    "            ).groupby(['churn']).agg({'count': 'sum'}).plot(\n",
    "    kind='pie',\n",
    "    y='count',\n",
    "    autopct='%1.0f%%',\n",
    "    title='Доля отточных клиентов второго сегмента')\n",
    "plt.ylabel('')\n",
    "plt.legend(['неотточные','отточные'], bbox_to_anchor=(1, 1.02), loc='upper left');"
   ]
  },
  {
   "cell_type": "markdown",
   "metadata": {},
   "source": [
    "- баллы собственности: **> 3**\n",
    "- доход: **100,000-230,000**\n",
    "- баланс: **> 950,000**\n",
    "- количество клиентов: **1044**\n",
    "- уровень отточности: **44%**"
   ]
  },
  {
   "cell_type": "markdown",
   "metadata": {},
   "source": [
    "**Сегмент №3**"
   ]
  },
  {
   "cell_type": "code",
   "execution_count": 111,
   "metadata": {
    "scrolled": true
   },
   "outputs": [
    {
     "data": {
      "text/html": [
       "<div>\n",
       "<style scoped>\n",
       "    .dataframe tbody tr th:only-of-type {\n",
       "        vertical-align: middle;\n",
       "    }\n",
       "\n",
       "    .dataframe tbody tr th {\n",
       "        vertical-align: top;\n",
       "    }\n",
       "\n",
       "    .dataframe thead th {\n",
       "        text-align: right;\n",
       "    }\n",
       "</style>\n",
       "<table border=\"1\" class=\"dataframe\">\n",
       "  <thead>\n",
       "    <tr style=\"text-align: right;\">\n",
       "      <th></th>\n",
       "      <th>churn</th>\n",
       "    </tr>\n",
       "  </thead>\n",
       "  <tbody>\n",
       "    <tr>\n",
       "      <th>mean</th>\n",
       "      <td>0.452899</td>\n",
       "    </tr>\n",
       "    <tr>\n",
       "      <th>count</th>\n",
       "      <td>828.000000</td>\n",
       "    </tr>\n",
       "  </tbody>\n",
       "</table>\n",
       "</div>"
      ],
      "text/plain": [
       "            churn\n",
       "mean     0.452899\n",
       "count  828.000000"
      ]
     },
     "execution_count": 111,
     "metadata": {},
     "output_type": "execute_result"
    }
   ],
   "source": [
    "seg_tre = df.query('last_activity == 1 and 25 <= age <= 35 and 820 <= score <= 910').agg({'churn':['mean','count']})\n",
    "seg_tre"
   ]
  },
  {
   "cell_type": "code",
   "execution_count": 113,
   "metadata": {},
   "outputs": [
    {
     "data": {
      "image/png": "[encoded data removed]",
      "text/plain": [
       "<Figure size 432x288 with 1 Axes>"
      ]
     },
     "metadata": {},
     "output_type": "display_data"
    }
   ],
   "source": [
    "pd.DataFrame({'churn': ['отточные', 'неотточные'], \n",
    "              'count': [seg_tre['churn'][0], 1-seg_tre['churn'][0]]}\n",
    "            ).groupby(['churn']).agg({'count': 'sum'}).plot(\n",
    "    kind='pie',\n",
    "    y='count',\n",
    "    autopct='%1.0f%%',\n",
    "    title='Доля отточных клиентов третьего сегмента')\n",
    "plt.ylabel('')\n",
    "plt.legend(['неотточные','отточные'], bbox_to_anchor=(1, 1.02), loc='upper left');"
   ]
  },
  {
   "cell_type": "markdown",
   "metadata": {},
   "source": [
    "- возраст: **25-35 лет**\n",
    "- кредитный рейтинг: **830-910**\n",
    "- активность: **да**\n",
    "- количество клиентов: **828**\n",
    "- уровень отточности: **45%**"
   ]
  },
  {
   "cell_type": "markdown",
   "metadata": {},
   "source": [
    "## Рекомендации"
   ]
  },
  {
   "cell_type": "markdown",
   "metadata": {},
   "source": [
    "**Сегмент №1**\n",
    "- возраст: **50-60 лет**\n",
    "- наличие кредитной карты: **нет**\n",
    "- количество клиентов: **642**\n",
    "- уровень отточности: **37%**\n",
    "\n",
    "**Рекомендации:**<br>\n",
    "Предложить кредитную карту<br>"
   ]
  },
  {
   "cell_type": "markdown",
   "metadata": {},
   "source": [
    "**Сегмент №2**\n",
    "- баллы собственности: **> 3**\n",
    "- доход: **100,000-230,000**\n",
    "- баланс: **> 950,000**\n",
    "- количество клиентов: **1044**\n",
    "- уровень отточности: **44%**\n",
    "\n",
    "**Рекомендации:** <br>\n",
    "Предложить уникальные условия по накопительным счетам<br>\n",
    "Предложить продукты страхования собственности<br>"
   ]
  },
  {
   "cell_type": "markdown",
   "metadata": {},
   "source": [
    "**Сегмент №3**\n",
    "- возраст: **25-35 лет**\n",
    "- кредитный рейтинг: **830-910**\n",
    "- активность: **да**\n",
    "- количество клиентов: **828**\n",
    "- уровень отточности: **45%**\n",
    "\n",
    "**Рекомендации:** <br>\n",
    "Предложить кредит<br>"
   ]
  }
 ],
 "metadata": {
  "ExecuteTimeLog": [
   {
    "duration": 1333,
    "start_time": "2024-01-13T16:44:31.554Z"
   },
   {
    "duration": 155,
    "start_time": "2024-01-13T16:45:20.497Z"
   },
   {
    "duration": 19,
    "start_time": "2024-01-13T16:48:18.365Z"
   },
   {
    "duration": 13,
    "start_time": "2024-01-13T17:16:35.216Z"
   },
   {
    "duration": 7,
    "start_time": "2024-01-13T17:30:03.405Z"
   },
   {
    "duration": 12,
    "start_time": "2024-01-13T17:32:17.670Z"
   },
   {
    "duration": 9,
    "start_time": "2024-01-13T17:36:05.544Z"
   },
   {
    "duration": 5,
    "start_time": "2024-01-13T17:44:48.261Z"
   },
   {
    "duration": 11,
    "start_time": "2024-01-13T17:49:40.773Z"
   },
   {
    "duration": 2,
    "start_time": "2024-01-13T17:54:44.687Z"
   },
   {
    "duration": 1087,
    "start_time": "2024-01-13T17:54:49.257Z"
   },
   {
    "duration": 107,
    "start_time": "2024-01-13T17:55:06.733Z"
   },
   {
    "duration": 1085,
    "start_time": "2024-01-13T17:55:12.079Z"
   },
   {
    "duration": 39,
    "start_time": "2024-01-13T17:55:18.241Z"
   },
   {
    "duration": 7,
    "start_time": "2024-01-13T17:56:51.186Z"
   },
   {
    "duration": 10,
    "start_time": "2024-01-13T17:56:53.365Z"
   },
   {
    "duration": 1296,
    "start_time": "2024-01-13T22:19:59.170Z"
   },
   {
    "duration": 2,
    "start_time": "2024-01-13T22:20:00.468Z"
   },
   {
    "duration": 174,
    "start_time": "2024-01-13T22:20:00.472Z"
   },
   {
    "duration": 20,
    "start_time": "2024-01-13T22:20:01.223Z"
   },
   {
    "duration": 14,
    "start_time": "2024-01-13T22:20:01.933Z"
   },
   {
    "duration": 8,
    "start_time": "2024-01-13T22:20:02.654Z"
   },
   {
    "duration": 12,
    "start_time": "2024-01-13T22:20:03.512Z"
   },
   {
    "duration": 10,
    "start_time": "2024-01-13T22:20:04.211Z"
   },
   {
    "duration": 36,
    "start_time": "2024-01-13T22:20:04.956Z"
   },
   {
    "duration": 3,
    "start_time": "2024-01-13T22:20:06.584Z"
   },
   {
    "duration": 4,
    "start_time": "2024-01-13T22:20:14.810Z"
   },
   {
    "duration": 3,
    "start_time": "2024-01-13T22:20:38.069Z"
   },
   {
    "duration": 4,
    "start_time": "2024-01-13T22:20:38.536Z"
   },
   {
    "duration": 4,
    "start_time": "2024-01-13T22:20:54.692Z"
   },
   {
    "duration": 4,
    "start_time": "2024-01-13T22:20:55.297Z"
   },
   {
    "duration": 3,
    "start_time": "2024-01-13T22:21:12.220Z"
   },
   {
    "duration": 4,
    "start_time": "2024-01-13T22:21:12.603Z"
   },
   {
    "duration": 5,
    "start_time": "2024-01-13T22:54:45.114Z"
   },
   {
    "duration": 5,
    "start_time": "2024-01-13T22:56:23.971Z"
   },
   {
    "duration": 78,
    "start_time": "2024-01-13T22:58:11.882Z"
   },
   {
    "duration": 4,
    "start_time": "2024-01-13T22:58:16.324Z"
   },
   {
    "duration": 4,
    "start_time": "2024-01-13T23:48:50.924Z"
   },
   {
    "duration": 4,
    "start_time": "2024-01-14T00:04:36.248Z"
   },
   {
    "duration": 5,
    "start_time": "2024-01-14T00:10:28.676Z"
   },
   {
    "duration": 7,
    "start_time": "2024-01-14T00:17:49.598Z"
   },
   {
    "duration": 16,
    "start_time": "2024-01-14T00:18:51.940Z"
   },
   {
    "duration": 5,
    "start_time": "2024-01-14T00:20:58.837Z"
   },
   {
    "duration": 4,
    "start_time": "2024-01-14T00:23:04.703Z"
   },
   {
    "duration": 6,
    "start_time": "2024-01-14T00:23:41.334Z"
   },
   {
    "duration": 14,
    "start_time": "2024-01-14T00:25:55.403Z"
   },
   {
    "duration": 5,
    "start_time": "2024-01-14T00:33:46.109Z"
   },
   {
    "duration": 31,
    "start_time": "2024-01-14T00:52:44.549Z"
   },
   {
    "duration": 5,
    "start_time": "2024-01-14T00:55:17.861Z"
   },
   {
    "duration": 10,
    "start_time": "2024-01-14T00:57:27.254Z"
   },
   {
    "duration": 4,
    "start_time": "2024-01-14T01:01:31.867Z"
   },
   {
    "duration": 2,
    "start_time": "2024-01-14T01:06:32.100Z"
   },
   {
    "duration": 3,
    "start_time": "2024-01-14T01:06:38.841Z"
   },
   {
    "duration": 5,
    "start_time": "2024-01-14T01:07:29.790Z"
   },
   {
    "duration": 92,
    "start_time": "2024-01-14T01:07:44.300Z"
   },
   {
    "duration": 6,
    "start_time": "2024-01-14T01:09:08.839Z"
   },
   {
    "duration": 7,
    "start_time": "2024-01-14T01:10:49.085Z"
   },
   {
    "duration": 24,
    "start_time": "2024-01-14T01:39:07.692Z"
   },
   {
    "duration": 15,
    "start_time": "2024-01-14T01:48:49.156Z"
   },
   {
    "duration": 17,
    "start_time": "2024-01-14T01:49:20.172Z"
   },
   {
    "duration": 17,
    "start_time": "2024-01-14T01:54:30.877Z"
   },
   {
    "duration": 9,
    "start_time": "2024-01-14T02:09:56.820Z"
   },
   {
    "duration": 18,
    "start_time": "2024-01-14T02:10:17.927Z"
   },
   {
    "duration": 1283,
    "start_time": "2024-01-14T22:25:33.335Z"
   },
   {
    "duration": 3,
    "start_time": "2024-01-14T22:25:34.619Z"
   },
   {
    "duration": 148,
    "start_time": "2024-01-14T22:25:34.623Z"
   },
   {
    "duration": 17,
    "start_time": "2024-01-14T22:25:34.772Z"
   },
   {
    "duration": 20,
    "start_time": "2024-01-14T22:25:34.791Z"
   },
   {
    "duration": 10,
    "start_time": "2024-01-14T22:25:34.812Z"
   },
   {
    "duration": 14,
    "start_time": "2024-01-14T22:25:34.824Z"
   },
   {
    "duration": 14,
    "start_time": "2024-01-14T22:25:34.840Z"
   },
   {
    "duration": 36,
    "start_time": "2024-01-14T22:25:34.855Z"
   },
   {
    "duration": 3,
    "start_time": "2024-01-14T22:25:34.892Z"
   },
   {
    "duration": 13,
    "start_time": "2024-01-14T22:25:34.896Z"
   },
   {
    "duration": 21,
    "start_time": "2024-01-14T22:25:34.910Z"
   },
   {
    "duration": 15,
    "start_time": "2024-01-14T22:25:34.933Z"
   },
   {
    "duration": 6,
    "start_time": "2024-01-14T22:25:34.950Z"
   },
   {
    "duration": 17,
    "start_time": "2024-01-14T22:25:34.957Z"
   },
   {
    "duration": 10,
    "start_time": "2024-01-14T22:25:34.976Z"
   },
   {
    "duration": 12,
    "start_time": "2024-01-14T22:25:34.988Z"
   },
   {
    "duration": 5,
    "start_time": "2024-01-14T22:25:35.001Z"
   },
   {
    "duration": 40,
    "start_time": "2024-01-14T22:25:35.007Z"
   },
   {
    "duration": 5,
    "start_time": "2024-01-14T22:25:35.048Z"
   },
   {
    "duration": 20,
    "start_time": "2024-01-14T22:25:35.054Z"
   },
   {
    "duration": 4,
    "start_time": "2024-01-14T22:25:35.076Z"
   },
   {
    "duration": 21,
    "start_time": "2024-01-14T22:25:35.081Z"
   },
   {
    "duration": 27,
    "start_time": "2024-01-14T22:25:35.104Z"
   },
   {
    "duration": 19,
    "start_time": "2024-01-14T22:25:35.132Z"
   },
   {
    "duration": 25,
    "start_time": "2024-01-14T22:25:35.153Z"
   },
   {
    "duration": 48,
    "start_time": "2024-01-15T19:03:00.597Z"
   },
   {
    "duration": 1336,
    "start_time": "2024-01-15T19:03:09.727Z"
   },
   {
    "duration": 3,
    "start_time": "2024-01-15T19:03:11.065Z"
   },
   {
    "duration": 159,
    "start_time": "2024-01-15T19:03:11.070Z"
   },
   {
    "duration": 21,
    "start_time": "2024-01-15T19:03:11.231Z"
   },
   {
    "duration": 13,
    "start_time": "2024-01-15T19:03:11.253Z"
   },
   {
    "duration": 8,
    "start_time": "2024-01-15T19:03:11.267Z"
   },
   {
    "duration": 14,
    "start_time": "2024-01-15T19:03:11.276Z"
   },
   {
    "duration": 9,
    "start_time": "2024-01-15T19:03:11.291Z"
   },
   {
    "duration": 36,
    "start_time": "2024-01-15T19:03:11.302Z"
   },
   {
    "duration": 27,
    "start_time": "2024-01-15T19:03:11.340Z"
   },
   {
    "duration": 4,
    "start_time": "2024-01-15T19:03:11.369Z"
   },
   {
    "duration": 4,
    "start_time": "2024-01-15T19:03:11.375Z"
   },
   {
    "duration": 4,
    "start_time": "2024-01-15T19:03:11.380Z"
   },
   {
    "duration": 13,
    "start_time": "2024-01-15T19:03:11.385Z"
   },
   {
    "duration": 9,
    "start_time": "2024-01-15T19:03:11.400Z"
   },
   {
    "duration": 6,
    "start_time": "2024-01-15T19:03:11.410Z"
   },
   {
    "duration": 15,
    "start_time": "2024-01-15T19:03:11.417Z"
   },
   {
    "duration": 37,
    "start_time": "2024-01-15T19:03:11.433Z"
   },
   {
    "duration": 41,
    "start_time": "2024-01-15T19:03:11.472Z"
   },
   {
    "duration": 7,
    "start_time": "2024-01-15T19:03:11.515Z"
   },
   {
    "duration": 10,
    "start_time": "2024-01-15T19:03:11.523Z"
   },
   {
    "duration": 4,
    "start_time": "2024-01-15T19:03:11.534Z"
   },
   {
    "duration": 8,
    "start_time": "2024-01-15T19:03:11.540Z"
   },
   {
    "duration": 23,
    "start_time": "2024-01-15T19:03:11.565Z"
   },
   {
    "duration": 19,
    "start_time": "2024-01-15T19:03:11.589Z"
   },
   {
    "duration": 19,
    "start_time": "2024-01-15T19:03:11.610Z"
   },
   {
    "duration": 50,
    "start_time": "2024-01-15T19:03:11.631Z"
   },
   {
    "duration": 12,
    "start_time": "2024-01-15T19:09:42.203Z"
   },
   {
    "duration": 26,
    "start_time": "2024-01-15T19:09:52.892Z"
   },
   {
    "duration": 12,
    "start_time": "2024-01-15T19:09:54.142Z"
   },
   {
    "duration": 182,
    "start_time": "2024-01-15T19:31:51.052Z"
   },
   {
    "duration": 4,
    "start_time": "2024-01-15T19:33:08.273Z"
   },
   {
    "duration": 188,
    "start_time": "2024-01-15T19:35:21.679Z"
   },
   {
    "duration": 226,
    "start_time": "2024-01-15T19:37:39.007Z"
   },
   {
    "duration": 198,
    "start_time": "2024-01-15T19:38:20.497Z"
   },
   {
    "duration": 391,
    "start_time": "2024-01-15T19:46:48.560Z"
   },
   {
    "duration": 2,
    "start_time": "2024-01-15T19:47:14.193Z"
   },
   {
    "duration": 191,
    "start_time": "2024-01-15T19:47:14.960Z"
   },
   {
    "duration": 220,
    "start_time": "2024-01-15T19:47:16.623Z"
   },
   {
    "duration": 209,
    "start_time": "2024-01-15T19:47:19.959Z"
   },
   {
    "duration": 447,
    "start_time": "2024-01-15T19:47:21.603Z"
   },
   {
    "duration": 2,
    "start_time": "2024-01-15T19:47:29.355Z"
   },
   {
    "duration": 183,
    "start_time": "2024-01-15T19:47:30.279Z"
   },
   {
    "duration": 213,
    "start_time": "2024-01-15T19:47:30.892Z"
   },
   {
    "duration": 224,
    "start_time": "2024-01-15T19:47:31.457Z"
   },
   {
    "duration": 348,
    "start_time": "2024-01-15T19:47:32.995Z"
   },
   {
    "duration": 371,
    "start_time": "2024-01-15T19:58:16.887Z"
   },
   {
    "duration": 8,
    "start_time": "2024-01-15T20:00:47.750Z"
   },
   {
    "duration": 181,
    "start_time": "2024-01-15T20:01:51.402Z"
   },
   {
    "duration": 201,
    "start_time": "2024-01-15T20:01:59.163Z"
   },
   {
    "duration": 278,
    "start_time": "2024-01-15T20:02:09.122Z"
   },
   {
    "duration": 190,
    "start_time": "2024-01-15T20:02:13.660Z"
   },
   {
    "duration": 82,
    "start_time": "2024-01-15T20:02:43.662Z"
   },
   {
    "duration": 261,
    "start_time": "2024-01-15T20:02:48.361Z"
   },
   {
    "duration": 146,
    "start_time": "2024-01-15T20:05:38.388Z"
   },
   {
    "duration": 139,
    "start_time": "2024-01-15T20:06:07.365Z"
   },
   {
    "duration": 167,
    "start_time": "2024-01-15T20:06:25.835Z"
   },
   {
    "duration": 172,
    "start_time": "2024-01-15T20:06:35.713Z"
   },
   {
    "duration": 180,
    "start_time": "2024-01-15T20:06:41.012Z"
   },
   {
    "duration": 1742,
    "start_time": "2024-01-15T20:10:11.194Z"
   },
   {
    "duration": 208,
    "start_time": "2024-01-15T20:33:03.350Z"
   },
   {
    "duration": 142,
    "start_time": "2024-01-15T20:53:36.481Z"
   },
   {
    "duration": 204,
    "start_time": "2024-01-15T20:54:29.568Z"
   },
   {
    "duration": 156,
    "start_time": "2024-01-15T20:54:50.569Z"
   },
   {
    "duration": 154,
    "start_time": "2024-01-15T20:56:51.088Z"
   },
   {
    "duration": 138,
    "start_time": "2024-01-15T20:59:02.006Z"
   },
   {
    "duration": 8,
    "start_time": "2024-01-15T21:39:43.288Z"
   },
   {
    "duration": 487,
    "start_time": "2024-01-15T21:40:00.711Z"
   },
   {
    "duration": 3,
    "start_time": "2024-01-15T22:13:53.824Z"
   },
   {
    "duration": 4,
    "start_time": "2024-01-15T22:13:54.146Z"
   },
   {
    "duration": 5,
    "start_time": "2024-01-15T22:14:56.739Z"
   },
   {
    "duration": 7,
    "start_time": "2024-01-15T22:15:22.815Z"
   },
   {
    "duration": 12,
    "start_time": "2024-01-15T22:20:14.620Z"
   },
   {
    "duration": 10,
    "start_time": "2024-01-15T22:28:36.908Z"
   },
   {
    "duration": 19,
    "start_time": "2024-01-15T22:30:29.131Z"
   },
   {
    "duration": 31,
    "start_time": "2024-01-15T22:31:39.105Z"
   },
   {
    "duration": 1325,
    "start_time": "2024-01-16T18:24:46.618Z"
   },
   {
    "duration": 3,
    "start_time": "2024-01-16T18:24:47.945Z"
   },
   {
    "duration": 151,
    "start_time": "2024-01-16T18:24:47.949Z"
   },
   {
    "duration": 19,
    "start_time": "2024-01-16T18:24:48.101Z"
   },
   {
    "duration": 12,
    "start_time": "2024-01-16T18:24:48.122Z"
   },
   {
    "duration": 6,
    "start_time": "2024-01-16T18:24:48.135Z"
   },
   {
    "duration": 11,
    "start_time": "2024-01-16T18:24:48.143Z"
   },
   {
    "duration": 10,
    "start_time": "2024-01-16T18:24:48.155Z"
   },
   {
    "duration": 64,
    "start_time": "2024-01-16T18:24:48.166Z"
   },
   {
    "duration": 3,
    "start_time": "2024-01-16T18:24:48.234Z"
   },
   {
    "duration": 19,
    "start_time": "2024-01-16T18:24:48.238Z"
   },
   {
    "duration": 6,
    "start_time": "2024-01-16T18:24:48.259Z"
   },
   {
    "duration": 4,
    "start_time": "2024-01-16T18:24:48.266Z"
   },
   {
    "duration": 11,
    "start_time": "2024-01-16T18:24:48.271Z"
   },
   {
    "duration": 16,
    "start_time": "2024-01-16T18:24:48.284Z"
   },
   {
    "duration": 10,
    "start_time": "2024-01-16T18:24:48.301Z"
   },
   {
    "duration": 15,
    "start_time": "2024-01-16T18:24:48.312Z"
   },
   {
    "duration": 5,
    "start_time": "2024-01-16T18:24:48.328Z"
   },
   {
    "duration": 28,
    "start_time": "2024-01-16T18:24:48.335Z"
   },
   {
    "duration": 6,
    "start_time": "2024-01-16T18:24:48.365Z"
   },
   {
    "duration": 39,
    "start_time": "2024-01-16T18:24:48.373Z"
   },
   {
    "duration": 4,
    "start_time": "2024-01-16T18:24:48.414Z"
   },
   {
    "duration": 10,
    "start_time": "2024-01-16T18:24:48.420Z"
   },
   {
    "duration": 26,
    "start_time": "2024-01-16T18:24:48.432Z"
   },
   {
    "duration": 24,
    "start_time": "2024-01-16T18:24:48.460Z"
   },
   {
    "duration": 24,
    "start_time": "2024-01-16T18:24:48.511Z"
   },
   {
    "duration": 38,
    "start_time": "2024-01-16T18:24:48.536Z"
   },
   {
    "duration": 36,
    "start_time": "2024-01-16T18:24:48.578Z"
   },
   {
    "duration": 3,
    "start_time": "2024-01-16T18:24:48.616Z"
   },
   {
    "duration": 207,
    "start_time": "2024-01-16T18:24:48.620Z"
   },
   {
    "duration": 232,
    "start_time": "2024-01-16T18:24:48.829Z"
   },
   {
    "duration": 210,
    "start_time": "2024-01-16T18:24:49.062Z"
   },
   {
    "duration": 368,
    "start_time": "2024-01-16T18:24:49.273Z"
   },
   {
    "duration": 7,
    "start_time": "2024-01-16T18:24:49.642Z"
   },
   {
    "duration": 190,
    "start_time": "2024-01-16T18:24:49.651Z"
   },
   {
    "duration": 1714,
    "start_time": "2024-01-16T18:24:49.842Z"
   },
   {
    "duration": 204,
    "start_time": "2024-01-16T18:24:51.558Z"
   },
   {
    "duration": 158,
    "start_time": "2024-01-16T18:24:51.764Z"
   },
   {
    "duration": 170,
    "start_time": "2024-01-16T18:24:51.923Z"
   },
   {
    "duration": 152,
    "start_time": "2024-01-16T18:24:52.095Z"
   },
   {
    "duration": 6,
    "start_time": "2024-01-16T18:24:52.248Z"
   },
   {
    "duration": 459,
    "start_time": "2024-01-16T18:24:52.255Z"
   },
   {
    "duration": 2,
    "start_time": "2024-01-16T18:24:52.716Z"
   },
   {
    "duration": 6,
    "start_time": "2024-01-16T18:24:52.720Z"
   },
   {
    "duration": 10,
    "start_time": "2024-01-16T18:24:52.728Z"
   },
   {
    "duration": 7,
    "start_time": "2024-01-16T18:24:52.739Z"
   },
   {
    "duration": 13,
    "start_time": "2024-01-16T18:24:52.748Z"
   },
   {
    "duration": 9,
    "start_time": "2024-01-16T18:24:52.762Z"
   },
   {
    "duration": 45,
    "start_time": "2024-01-16T18:24:52.772Z"
   },
   {
    "duration": 28,
    "start_time": "2024-01-16T18:24:52.819Z"
   },
   {
    "duration": 1068,
    "start_time": "2024-01-16T19:03:27.952Z"
   },
   {
    "duration": 4,
    "start_time": "2024-01-16T19:53:24.021Z"
   },
   {
    "duration": 5,
    "start_time": "2024-01-16T19:56:25.381Z"
   },
   {
    "duration": 3,
    "start_time": "2024-01-16T20:05:55.596Z"
   },
   {
    "duration": 4,
    "start_time": "2024-01-16T20:08:15.302Z"
   },
   {
    "duration": 10250,
    "start_time": "2024-01-16T20:09:33.844Z"
   },
   {
    "duration": 12,
    "start_time": "2024-01-16T20:17:18.228Z"
   },
   {
    "duration": 11,
    "start_time": "2024-01-16T20:19:22.451Z"
   },
   {
    "duration": 13,
    "start_time": "2024-01-16T20:21:26.308Z"
   },
   {
    "duration": 3,
    "start_time": "2024-01-16T22:11:13.038Z"
   },
   {
    "duration": 17,
    "start_time": "2024-01-16T22:11:13.043Z"
   },
   {
    "duration": 42,
    "start_time": "2024-01-16T22:11:13.061Z"
   },
   {
    "duration": 15,
    "start_time": "2024-01-16T22:11:13.105Z"
   },
   {
    "duration": 12,
    "start_time": "2024-01-16T22:11:13.122Z"
   },
   {
    "duration": 7,
    "start_time": "2024-01-16T22:11:13.136Z"
   },
   {
    "duration": 11,
    "start_time": "2024-01-16T22:11:13.144Z"
   },
   {
    "duration": 9,
    "start_time": "2024-01-16T22:11:13.156Z"
   },
   {
    "duration": 63,
    "start_time": "2024-01-16T22:11:13.167Z"
   },
   {
    "duration": 3,
    "start_time": "2024-01-16T22:11:13.231Z"
   },
   {
    "duration": 6,
    "start_time": "2024-01-16T22:11:13.235Z"
   },
   {
    "duration": 4,
    "start_time": "2024-01-16T22:11:13.242Z"
   },
   {
    "duration": 4,
    "start_time": "2024-01-16T22:11:13.248Z"
   },
   {
    "duration": 5,
    "start_time": "2024-01-16T22:11:13.254Z"
   },
   {
    "duration": 9,
    "start_time": "2024-01-16T22:11:13.260Z"
   },
   {
    "duration": 23,
    "start_time": "2024-01-16T22:11:13.271Z"
   },
   {
    "duration": 26,
    "start_time": "2024-01-16T22:11:13.295Z"
   },
   {
    "duration": 6,
    "start_time": "2024-01-16T22:11:13.323Z"
   },
   {
    "duration": 25,
    "start_time": "2024-01-16T22:11:13.330Z"
   },
   {
    "duration": 4,
    "start_time": "2024-01-16T22:11:13.356Z"
   },
   {
    "duration": 25,
    "start_time": "2024-01-16T22:11:13.362Z"
   },
   {
    "duration": 4,
    "start_time": "2024-01-16T22:11:13.388Z"
   },
   {
    "duration": 7,
    "start_time": "2024-01-16T22:11:13.411Z"
   },
   {
    "duration": 20,
    "start_time": "2024-01-16T22:11:13.421Z"
   },
   {
    "duration": 17,
    "start_time": "2024-01-16T22:11:13.443Z"
   },
   {
    "duration": 24,
    "start_time": "2024-01-16T22:11:13.461Z"
   },
   {
    "duration": 46,
    "start_time": "2024-01-16T22:11:13.486Z"
   },
   {
    "duration": 10,
    "start_time": "2024-01-16T22:11:13.534Z"
   },
   {
    "duration": 33,
    "start_time": "2024-01-16T22:11:13.546Z"
   },
   {
    "duration": 181,
    "start_time": "2024-01-16T22:11:13.580Z"
   },
   {
    "duration": 229,
    "start_time": "2024-01-16T22:11:13.762Z"
   },
   {
    "duration": 1134,
    "start_time": "2024-01-16T22:11:34.329Z"
   },
   {
    "duration": 2,
    "start_time": "2024-01-16T22:11:35.465Z"
   },
   {
    "duration": 42,
    "start_time": "2024-01-16T22:11:35.469Z"
   },
   {
    "duration": 21,
    "start_time": "2024-01-16T22:11:35.513Z"
   },
   {
    "duration": 13,
    "start_time": "2024-01-16T22:11:35.535Z"
   },
   {
    "duration": 10,
    "start_time": "2024-01-16T22:11:35.550Z"
   },
   {
    "duration": 10,
    "start_time": "2024-01-16T22:11:35.562Z"
   },
   {
    "duration": 9,
    "start_time": "2024-01-16T22:11:35.574Z"
   },
   {
    "duration": 61,
    "start_time": "2024-01-16T22:11:35.584Z"
   },
   {
    "duration": 3,
    "start_time": "2024-01-16T22:11:35.647Z"
   },
   {
    "duration": 4,
    "start_time": "2024-01-16T22:11:35.652Z"
   },
   {
    "duration": 13,
    "start_time": "2024-01-16T22:11:35.657Z"
   },
   {
    "duration": 18,
    "start_time": "2024-01-16T22:11:35.671Z"
   },
   {
    "duration": 7,
    "start_time": "2024-01-16T22:11:35.690Z"
   },
   {
    "duration": 16,
    "start_time": "2024-01-16T22:11:35.698Z"
   },
   {
    "duration": 7,
    "start_time": "2024-01-16T22:11:35.715Z"
   },
   {
    "duration": 15,
    "start_time": "2024-01-16T22:11:35.723Z"
   },
   {
    "duration": 5,
    "start_time": "2024-01-16T22:11:35.739Z"
   },
   {
    "duration": 27,
    "start_time": "2024-01-16T22:11:35.746Z"
   },
   {
    "duration": 38,
    "start_time": "2024-01-16T22:11:35.775Z"
   },
   {
    "duration": 11,
    "start_time": "2024-01-16T22:11:35.814Z"
   },
   {
    "duration": 4,
    "start_time": "2024-01-16T22:11:35.826Z"
   },
   {
    "duration": 8,
    "start_time": "2024-01-16T22:11:35.831Z"
   },
   {
    "duration": 28,
    "start_time": "2024-01-16T22:11:35.840Z"
   },
   {
    "duration": 57,
    "start_time": "2024-01-16T22:11:35.869Z"
   },
   {
    "duration": 21,
    "start_time": "2024-01-16T22:11:35.928Z"
   },
   {
    "duration": 25,
    "start_time": "2024-01-16T22:11:35.951Z"
   },
   {
    "duration": 32,
    "start_time": "2024-01-16T22:11:35.980Z"
   },
   {
    "duration": 3,
    "start_time": "2024-01-16T22:11:36.014Z"
   },
   {
    "duration": 193,
    "start_time": "2024-01-16T22:11:36.019Z"
   },
   {
    "duration": 200,
    "start_time": "2024-01-16T22:11:36.214Z"
   },
   {
    "duration": 1114,
    "start_time": "2024-01-16T22:12:48.621Z"
   },
   {
    "duration": 3,
    "start_time": "2024-01-16T22:12:49.736Z"
   },
   {
    "duration": 42,
    "start_time": "2024-01-16T22:12:49.740Z"
   },
   {
    "duration": 19,
    "start_time": "2024-01-16T22:12:49.784Z"
   },
   {
    "duration": 12,
    "start_time": "2024-01-16T22:12:49.804Z"
   },
   {
    "duration": 8,
    "start_time": "2024-01-16T22:12:49.817Z"
   },
   {
    "duration": 11,
    "start_time": "2024-01-16T22:12:49.826Z"
   },
   {
    "duration": 9,
    "start_time": "2024-01-16T22:12:49.838Z"
   },
   {
    "duration": 33,
    "start_time": "2024-01-16T22:12:49.849Z"
   },
   {
    "duration": 4,
    "start_time": "2024-01-16T22:12:49.910Z"
   },
   {
    "duration": 6,
    "start_time": "2024-01-16T22:12:49.915Z"
   },
   {
    "duration": 7,
    "start_time": "2024-01-16T22:12:49.922Z"
   },
   {
    "duration": 5,
    "start_time": "2024-01-16T22:12:49.930Z"
   },
   {
    "duration": 7,
    "start_time": "2024-01-16T22:12:49.937Z"
   },
   {
    "duration": 4,
    "start_time": "2024-01-16T22:12:49.945Z"
   },
   {
    "duration": 8,
    "start_time": "2024-01-16T22:12:49.950Z"
   },
   {
    "duration": 14,
    "start_time": "2024-01-16T22:12:49.960Z"
   },
   {
    "duration": 14,
    "start_time": "2024-01-16T22:12:49.976Z"
   },
   {
    "duration": 27,
    "start_time": "2024-01-16T22:12:50.011Z"
   },
   {
    "duration": 6,
    "start_time": "2024-01-16T22:12:50.040Z"
   },
   {
    "duration": 28,
    "start_time": "2024-01-16T22:12:50.048Z"
   },
   {
    "duration": 11,
    "start_time": "2024-01-16T22:12:50.077Z"
   },
   {
    "duration": 8,
    "start_time": "2024-01-16T22:12:50.089Z"
   },
   {
    "duration": 30,
    "start_time": "2024-01-16T22:12:50.099Z"
   },
   {
    "duration": 19,
    "start_time": "2024-01-16T22:12:50.130Z"
   },
   {
    "duration": 20,
    "start_time": "2024-01-16T22:12:50.150Z"
   },
   {
    "duration": 43,
    "start_time": "2024-01-16T22:12:50.171Z"
   },
   {
    "duration": 12,
    "start_time": "2024-01-16T22:12:50.217Z"
   },
   {
    "duration": 12,
    "start_time": "2024-01-16T22:12:50.230Z"
   },
   {
    "duration": 211,
    "start_time": "2024-01-16T22:12:50.243Z"
   },
   {
    "duration": 236,
    "start_time": "2024-01-16T22:12:50.456Z"
   },
   {
    "duration": 220,
    "start_time": "2024-01-16T22:12:50.693Z"
   },
   {
    "duration": 370,
    "start_time": "2024-01-16T22:12:50.914Z"
   },
   {
    "duration": 7,
    "start_time": "2024-01-16T22:12:51.286Z"
   },
   {
    "duration": 184,
    "start_time": "2024-01-16T22:12:51.294Z"
   },
   {
    "duration": 1685,
    "start_time": "2024-01-16T22:12:51.479Z"
   },
   {
    "duration": 209,
    "start_time": "2024-01-16T22:12:53.166Z"
   },
   {
    "duration": 159,
    "start_time": "2024-01-16T22:12:53.377Z"
   },
   {
    "duration": 152,
    "start_time": "2024-01-16T22:12:53.537Z"
   },
   {
    "duration": 152,
    "start_time": "2024-01-16T22:12:53.690Z"
   },
   {
    "duration": 7,
    "start_time": "2024-01-16T22:12:53.843Z"
   },
   {
    "duration": 464,
    "start_time": "2024-01-16T22:12:53.852Z"
   },
   {
    "duration": 3,
    "start_time": "2024-01-16T22:12:54.317Z"
   },
   {
    "duration": 42,
    "start_time": "2024-01-16T22:12:54.321Z"
   },
   {
    "duration": 44,
    "start_time": "2024-01-16T22:12:54.364Z"
   },
   {
    "duration": 36,
    "start_time": "2024-01-16T22:12:54.409Z"
   },
   {
    "duration": 45,
    "start_time": "2024-01-16T22:12:54.447Z"
   },
   {
    "duration": 19,
    "start_time": "2024-01-16T22:12:54.494Z"
   },
   {
    "duration": 21,
    "start_time": "2024-01-16T22:12:54.515Z"
   },
   {
    "duration": 45,
    "start_time": "2024-01-16T22:12:54.537Z"
   },
   {
    "duration": 988,
    "start_time": "2024-01-16T22:12:54.584Z"
   },
   {
    "duration": 3,
    "start_time": "2024-01-16T22:12:55.574Z"
   },
   {
    "duration": 22,
    "start_time": "2024-01-16T22:12:55.578Z"
   },
   {
    "duration": 12,
    "start_time": "2024-01-16T22:12:55.602Z"
   },
   {
    "duration": 10,
    "start_time": "2024-01-16T22:12:55.616Z"
   },
   {
    "duration": 9391,
    "start_time": "2024-01-16T22:12:55.628Z"
   },
   {
    "duration": 9,
    "start_time": "2024-01-16T22:13:05.021Z"
   },
   {
    "duration": 10,
    "start_time": "2024-01-16T22:13:05.032Z"
   },
   {
    "duration": 34,
    "start_time": "2024-01-16T22:13:05.044Z"
   },
   {
    "duration": 1162,
    "start_time": "2024-01-16T23:49:46.998Z"
   },
   {
    "duration": 3,
    "start_time": "2024-01-16T23:49:48.162Z"
   },
   {
    "duration": 43,
    "start_time": "2024-01-16T23:49:48.170Z"
   },
   {
    "duration": 20,
    "start_time": "2024-01-16T23:49:48.214Z"
   },
   {
    "duration": 14,
    "start_time": "2024-01-16T23:49:48.235Z"
   },
   {
    "duration": 7,
    "start_time": "2024-01-16T23:49:48.251Z"
   },
   {
    "duration": 12,
    "start_time": "2024-01-16T23:49:48.260Z"
   },
   {
    "duration": 43,
    "start_time": "2024-01-16T23:49:48.273Z"
   },
   {
    "duration": 36,
    "start_time": "2024-01-16T23:49:48.319Z"
   },
   {
    "duration": 4,
    "start_time": "2024-01-16T23:49:48.357Z"
   },
   {
    "duration": 5,
    "start_time": "2024-01-16T23:49:48.362Z"
   },
   {
    "duration": 5,
    "start_time": "2024-01-16T23:49:48.368Z"
   },
   {
    "duration": 4,
    "start_time": "2024-01-16T23:49:48.374Z"
   },
   {
    "duration": 4,
    "start_time": "2024-01-16T23:49:48.411Z"
   },
   {
    "duration": 4,
    "start_time": "2024-01-16T23:49:48.417Z"
   },
   {
    "duration": 6,
    "start_time": "2024-01-16T23:49:48.423Z"
   },
   {
    "duration": 15,
    "start_time": "2024-01-16T23:49:48.430Z"
   },
   {
    "duration": 6,
    "start_time": "2024-01-16T23:49:48.446Z"
   },
   {
    "duration": 62,
    "start_time": "2024-01-16T23:49:48.453Z"
   },
   {
    "duration": 6,
    "start_time": "2024-01-16T23:49:48.517Z"
   },
   {
    "duration": 12,
    "start_time": "2024-01-16T23:49:48.524Z"
   },
   {
    "duration": 5,
    "start_time": "2024-01-16T23:49:48.537Z"
   },
   {
    "duration": 10,
    "start_time": "2024-01-16T23:49:48.544Z"
   },
   {
    "duration": 62,
    "start_time": "2024-01-16T23:49:48.555Z"
   },
   {
    "duration": 19,
    "start_time": "2024-01-16T23:49:48.618Z"
   },
   {
    "duration": 20,
    "start_time": "2024-01-16T23:49:48.638Z"
   },
   {
    "duration": 24,
    "start_time": "2024-01-16T23:49:48.662Z"
   },
   {
    "duration": 32,
    "start_time": "2024-01-16T23:49:48.688Z"
   },
   {
    "duration": 5,
    "start_time": "2024-01-16T23:49:48.721Z"
   },
   {
    "duration": 206,
    "start_time": "2024-01-16T23:49:48.727Z"
   },
   {
    "duration": 233,
    "start_time": "2024-01-16T23:49:48.935Z"
   },
   {
    "duration": 216,
    "start_time": "2024-01-16T23:49:49.170Z"
   },
   {
    "duration": 361,
    "start_time": "2024-01-16T23:49:49.387Z"
   },
   {
    "duration": 7,
    "start_time": "2024-01-16T23:49:49.750Z"
   },
   {
    "duration": 207,
    "start_time": "2024-01-16T23:49:49.758Z"
   },
   {
    "duration": 1689,
    "start_time": "2024-01-16T23:49:49.967Z"
   },
   {
    "duration": 216,
    "start_time": "2024-01-16T23:49:51.658Z"
   },
   {
    "duration": 165,
    "start_time": "2024-01-16T23:49:51.875Z"
   },
   {
    "duration": 143,
    "start_time": "2024-01-16T23:49:52.042Z"
   },
   {
    "duration": 143,
    "start_time": "2024-01-16T23:49:52.187Z"
   },
   {
    "duration": 5,
    "start_time": "2024-01-16T23:49:52.332Z"
   },
   {
    "duration": 422,
    "start_time": "2024-01-16T23:49:52.338Z"
   },
   {
    "duration": 3,
    "start_time": "2024-01-16T23:49:52.761Z"
   },
   {
    "duration": 24,
    "start_time": "2024-01-16T23:49:52.765Z"
   },
   {
    "duration": 10,
    "start_time": "2024-01-16T23:49:52.790Z"
   },
   {
    "duration": 13,
    "start_time": "2024-01-16T23:49:52.801Z"
   },
   {
    "duration": 11,
    "start_time": "2024-01-16T23:49:52.815Z"
   },
   {
    "duration": 9,
    "start_time": "2024-01-16T23:49:52.827Z"
   },
   {
    "duration": 16,
    "start_time": "2024-01-16T23:49:52.838Z"
   },
   {
    "duration": 60,
    "start_time": "2024-01-16T23:49:52.855Z"
   },
   {
    "duration": 968,
    "start_time": "2024-01-16T23:49:52.917Z"
   },
   {
    "duration": 3,
    "start_time": "2024-01-16T23:49:53.886Z"
   },
   {
    "duration": 16,
    "start_time": "2024-01-16T23:49:53.890Z"
   },
   {
    "duration": 5,
    "start_time": "2024-01-16T23:49:53.907Z"
   },
   {
    "duration": 5,
    "start_time": "2024-01-16T23:49:53.913Z"
   },
   {
    "duration": 9327,
    "start_time": "2024-01-16T23:49:53.919Z"
   },
   {
    "duration": 12,
    "start_time": "2024-01-16T23:50:03.248Z"
   },
   {
    "duration": 11,
    "start_time": "2024-01-16T23:50:03.261Z"
   },
   {
    "duration": 13,
    "start_time": "2024-01-16T23:50:03.273Z"
   },
   {
    "duration": 1451,
    "start_time": "2024-01-17T18:12:08.674Z"
   },
   {
    "duration": 3,
    "start_time": "2024-01-17T18:12:10.127Z"
   },
   {
    "duration": 155,
    "start_time": "2024-01-17T18:12:10.132Z"
   },
   {
    "duration": 22,
    "start_time": "2024-01-17T18:12:10.289Z"
   },
   {
    "duration": 15,
    "start_time": "2024-01-17T18:12:10.314Z"
   },
   {
    "duration": 13,
    "start_time": "2024-01-17T18:12:10.331Z"
   },
   {
    "duration": 21,
    "start_time": "2024-01-17T18:12:10.346Z"
   },
   {
    "duration": 29,
    "start_time": "2024-01-17T18:12:10.368Z"
   },
   {
    "duration": 56,
    "start_time": "2024-01-17T18:12:10.399Z"
   },
   {
    "duration": 4,
    "start_time": "2024-01-17T18:12:10.457Z"
   },
   {
    "duration": 26,
    "start_time": "2024-01-17T18:12:10.463Z"
   },
   {
    "duration": 14,
    "start_time": "2024-01-17T18:12:10.491Z"
   },
   {
    "duration": 16,
    "start_time": "2024-01-17T18:12:10.507Z"
   },
   {
    "duration": 4,
    "start_time": "2024-01-17T18:12:10.526Z"
   },
   {
    "duration": 10,
    "start_time": "2024-01-17T18:12:10.531Z"
   },
   {
    "duration": 9,
    "start_time": "2024-01-17T18:12:10.543Z"
   },
   {
    "duration": 18,
    "start_time": "2024-01-17T18:12:10.553Z"
   },
   {
    "duration": 6,
    "start_time": "2024-01-17T18:12:10.574Z"
   },
   {
    "duration": 61,
    "start_time": "2024-01-17T18:12:10.582Z"
   },
   {
    "duration": 6,
    "start_time": "2024-01-17T18:12:10.645Z"
   },
   {
    "duration": 13,
    "start_time": "2024-01-17T18:12:10.653Z"
   },
   {
    "duration": 9,
    "start_time": "2024-01-17T18:12:10.668Z"
   },
   {
    "duration": 10,
    "start_time": "2024-01-17T18:12:10.679Z"
   },
   {
    "duration": 60,
    "start_time": "2024-01-17T18:12:10.690Z"
   },
   {
    "duration": 29,
    "start_time": "2024-01-17T18:12:10.752Z"
   },
   {
    "duration": 44,
    "start_time": "2024-01-17T18:12:10.783Z"
   },
   {
    "duration": 27,
    "start_time": "2024-01-17T18:12:10.829Z"
   },
   {
    "duration": 12,
    "start_time": "2024-01-17T18:12:10.858Z"
   },
   {
    "duration": 7,
    "start_time": "2024-01-17T18:12:10.872Z"
   },
   {
    "duration": 233,
    "start_time": "2024-01-17T18:12:10.881Z"
   },
   {
    "duration": 266,
    "start_time": "2024-01-17T18:12:11.116Z"
   },
   {
    "duration": 241,
    "start_time": "2024-01-17T18:12:11.384Z"
   },
   {
    "duration": 411,
    "start_time": "2024-01-17T18:12:11.626Z"
   },
   {
    "duration": 8,
    "start_time": "2024-01-17T18:12:12.039Z"
   },
   {
    "duration": 220,
    "start_time": "2024-01-17T18:12:12.048Z"
   },
   {
    "duration": 1849,
    "start_time": "2024-01-17T18:12:12.269Z"
   },
   {
    "duration": 229,
    "start_time": "2024-01-17T18:12:14.120Z"
   },
   {
    "duration": 167,
    "start_time": "2024-01-17T18:12:14.350Z"
   },
   {
    "duration": 156,
    "start_time": "2024-01-17T18:12:14.523Z"
   },
   {
    "duration": 187,
    "start_time": "2024-01-17T18:12:14.681Z"
   },
   {
    "duration": 8,
    "start_time": "2024-01-17T18:12:14.874Z"
   },
   {
    "duration": 502,
    "start_time": "2024-01-17T18:12:14.884Z"
   },
   {
    "duration": 3,
    "start_time": "2024-01-17T18:12:15.388Z"
   },
   {
    "duration": 27,
    "start_time": "2024-01-17T18:12:15.392Z"
   },
   {
    "duration": 20,
    "start_time": "2024-01-17T18:12:15.421Z"
   },
   {
    "duration": 9,
    "start_time": "2024-01-17T18:12:15.443Z"
   },
   {
    "duration": 18,
    "start_time": "2024-01-17T18:12:15.454Z"
   },
   {
    "duration": 11,
    "start_time": "2024-01-17T18:12:15.474Z"
   },
   {
    "duration": 19,
    "start_time": "2024-01-17T18:12:15.487Z"
   },
   {
    "duration": 34,
    "start_time": "2024-01-17T18:12:15.523Z"
   },
   {
    "duration": 1055,
    "start_time": "2024-01-17T18:12:15.558Z"
   },
   {
    "duration": 9,
    "start_time": "2024-01-17T18:12:16.614Z"
   },
   {
    "duration": 14,
    "start_time": "2024-01-17T18:12:16.624Z"
   },
   {
    "duration": 13,
    "start_time": "2024-01-17T18:12:16.640Z"
   },
   {
    "duration": 9,
    "start_time": "2024-01-17T18:12:16.654Z"
   },
   {
    "duration": 11338,
    "start_time": "2024-01-17T18:12:16.665Z"
   },
   {
    "duration": 18,
    "start_time": "2024-01-17T18:12:28.005Z"
   },
   {
    "duration": 42,
    "start_time": "2024-01-17T18:12:28.025Z"
   },
   {
    "duration": 12,
    "start_time": "2024-01-17T18:12:28.068Z"
   },
   {
    "duration": 1367,
    "start_time": "2024-01-17T19:25:41.971Z"
   },
   {
    "duration": 3,
    "start_time": "2024-01-17T19:25:43.339Z"
   },
   {
    "duration": 167,
    "start_time": "2024-01-17T19:25:43.344Z"
   },
   {
    "duration": 18,
    "start_time": "2024-01-17T19:25:43.512Z"
   },
   {
    "duration": 17,
    "start_time": "2024-01-17T19:25:43.531Z"
   },
   {
    "duration": 9,
    "start_time": "2024-01-17T19:25:43.550Z"
   },
   {
    "duration": 24,
    "start_time": "2024-01-17T19:25:43.560Z"
   },
   {
    "duration": 13,
    "start_time": "2024-01-17T19:25:43.585Z"
   },
   {
    "duration": 41,
    "start_time": "2024-01-17T19:25:43.599Z"
   },
   {
    "duration": 3,
    "start_time": "2024-01-17T19:25:43.643Z"
   },
   {
    "duration": 11,
    "start_time": "2024-01-17T19:25:43.647Z"
   },
   {
    "duration": 9,
    "start_time": "2024-01-17T19:25:43.659Z"
   },
   {
    "duration": 15,
    "start_time": "2024-01-17T19:25:43.669Z"
   },
   {
    "duration": 10,
    "start_time": "2024-01-17T19:25:43.686Z"
   },
   {
    "duration": 14,
    "start_time": "2024-01-17T19:25:43.697Z"
   },
   {
    "duration": 18,
    "start_time": "2024-01-17T19:25:43.713Z"
   },
   {
    "duration": 16,
    "start_time": "2024-01-17T19:25:43.733Z"
   },
   {
    "duration": 10,
    "start_time": "2024-01-17T19:25:43.751Z"
   },
   {
    "duration": 39,
    "start_time": "2024-01-17T19:25:43.763Z"
   },
   {
    "duration": 6,
    "start_time": "2024-01-17T19:25:43.804Z"
   },
   {
    "duration": 10,
    "start_time": "2024-01-17T19:25:43.811Z"
   },
   {
    "duration": 4,
    "start_time": "2024-01-17T19:25:43.822Z"
   },
   {
    "duration": 9,
    "start_time": "2024-01-17T19:25:43.827Z"
   },
   {
    "duration": 42,
    "start_time": "2024-01-17T19:25:43.837Z"
   },
   {
    "duration": 18,
    "start_time": "2024-01-17T19:25:43.881Z"
   },
   {
    "duration": 19,
    "start_time": "2024-01-17T19:25:43.901Z"
   },
   {
    "duration": 48,
    "start_time": "2024-01-17T19:25:43.921Z"
   },
   {
    "duration": 11,
    "start_time": "2024-01-17T19:25:43.973Z"
   },
   {
    "duration": 3,
    "start_time": "2024-01-17T19:25:43.986Z"
   },
   {
    "duration": 196,
    "start_time": "2024-01-17T19:25:43.990Z"
   },
   {
    "duration": 222,
    "start_time": "2024-01-17T19:25:44.187Z"
   },
   {
    "duration": 211,
    "start_time": "2024-01-17T19:25:44.410Z"
   },
   {
    "duration": 368,
    "start_time": "2024-01-17T19:25:44.622Z"
   },
   {
    "duration": 7,
    "start_time": "2024-01-17T19:25:44.992Z"
   },
   {
    "duration": 191,
    "start_time": "2024-01-17T19:25:45.001Z"
   },
   {
    "duration": 1711,
    "start_time": "2024-01-17T19:25:45.193Z"
   },
   {
    "duration": 201,
    "start_time": "2024-01-17T19:25:46.905Z"
   },
   {
    "duration": 150,
    "start_time": "2024-01-17T19:25:47.108Z"
   },
   {
    "duration": 145,
    "start_time": "2024-01-17T19:25:47.260Z"
   },
   {
    "duration": 147,
    "start_time": "2024-01-17T19:25:47.406Z"
   },
   {
    "duration": 11,
    "start_time": "2024-01-17T19:25:47.555Z"
   },
   {
    "duration": 426,
    "start_time": "2024-01-17T19:25:47.567Z"
   },
   {
    "duration": 2,
    "start_time": "2024-01-17T19:25:47.995Z"
   },
   {
    "duration": 13,
    "start_time": "2024-01-17T19:25:47.999Z"
   },
   {
    "duration": 6,
    "start_time": "2024-01-17T19:25:48.013Z"
   },
   {
    "duration": 9,
    "start_time": "2024-01-17T19:25:48.022Z"
   },
   {
    "duration": 38,
    "start_time": "2024-01-17T19:25:48.033Z"
   },
   {
    "duration": 10,
    "start_time": "2024-01-17T19:25:48.073Z"
   },
   {
    "duration": 19,
    "start_time": "2024-01-17T19:25:48.084Z"
   },
   {
    "duration": 29,
    "start_time": "2024-01-17T19:25:48.105Z"
   },
   {
    "duration": 1081,
    "start_time": "2024-01-17T19:25:48.136Z"
   },
   {
    "duration": 2,
    "start_time": "2024-01-17T19:25:49.219Z"
   },
   {
    "duration": 4,
    "start_time": "2024-01-17T19:25:49.223Z"
   },
   {
    "duration": 4,
    "start_time": "2024-01-17T19:25:49.229Z"
   },
   {
    "duration": 4,
    "start_time": "2024-01-17T19:25:49.235Z"
   },
   {
    "duration": 9565,
    "start_time": "2024-01-17T19:25:49.241Z"
   },
   {
    "duration": 11,
    "start_time": "2024-01-17T19:25:58.807Z"
   },
   {
    "duration": 11,
    "start_time": "2024-01-17T19:25:58.819Z"
   },
   {
    "duration": 12,
    "start_time": "2024-01-17T19:25:58.831Z"
   },
   {
    "duration": 223,
    "start_time": "2024-01-17T19:54:25.792Z"
   },
   {
    "duration": 242,
    "start_time": "2024-01-17T19:54:51.633Z"
   },
   {
    "duration": 262,
    "start_time": "2024-01-17T19:56:42.855Z"
   },
   {
    "duration": 261,
    "start_time": "2024-01-17T19:57:34.823Z"
   },
   {
    "duration": 221,
    "start_time": "2024-01-17T20:01:10.437Z"
   },
   {
    "duration": 245,
    "start_time": "2024-01-17T20:02:30.683Z"
   },
   {
    "duration": 471,
    "start_time": "2024-01-17T20:03:01.658Z"
   },
   {
    "duration": 444,
    "start_time": "2024-01-17T20:03:34.390Z"
   },
   {
    "duration": 337,
    "start_time": "2024-01-17T20:49:39.954Z"
   },
   {
    "duration": 13,
    "start_time": "2024-01-17T20:49:44.541Z"
   },
   {
    "duration": 142,
    "start_time": "2024-01-17T20:49:54.785Z"
   },
   {
    "duration": 199,
    "start_time": "2024-01-17T20:50:16.687Z"
   },
   {
    "duration": 144,
    "start_time": "2024-01-17T20:54:02.139Z"
   },
   {
    "duration": 152,
    "start_time": "2024-01-17T20:54:11.657Z"
   },
   {
    "duration": 139,
    "start_time": "2024-01-17T20:54:21.338Z"
   },
   {
    "duration": 143,
    "start_time": "2024-01-17T20:54:58.276Z"
   },
   {
    "duration": 168,
    "start_time": "2024-01-17T20:55:01.803Z"
   },
   {
    "duration": 13,
    "start_time": "2024-01-17T20:58:35.404Z"
   },
   {
    "duration": 15,
    "start_time": "2024-01-17T20:59:15.678Z"
   },
   {
    "duration": 13,
    "start_time": "2024-01-17T21:01:31.104Z"
   },
   {
    "duration": 16,
    "start_time": "2024-01-17T21:01:44.922Z"
   },
   {
    "duration": 15,
    "start_time": "2024-01-17T21:02:05.433Z"
   },
   {
    "duration": 123,
    "start_time": "2024-01-17T21:03:05.143Z"
   },
   {
    "duration": 15,
    "start_time": "2024-01-17T21:03:38.979Z"
   },
   {
    "duration": 124,
    "start_time": "2024-01-17T21:03:46.296Z"
   },
   {
    "duration": 129,
    "start_time": "2024-01-17T21:04:00.214Z"
   },
   {
    "duration": 138,
    "start_time": "2024-01-17T21:04:13.663Z"
   },
   {
    "duration": 137,
    "start_time": "2024-01-17T21:04:35.738Z"
   },
   {
    "duration": 151,
    "start_time": "2024-01-17T21:04:41.106Z"
   },
   {
    "duration": 225,
    "start_time": "2024-01-17T21:04:48.262Z"
   },
   {
    "duration": 119,
    "start_time": "2024-01-17T21:05:04.255Z"
   },
   {
    "duration": 124,
    "start_time": "2024-01-17T21:05:29.361Z"
   },
   {
    "duration": 139,
    "start_time": "2024-01-17T21:05:33.129Z"
   },
   {
    "duration": 118,
    "start_time": "2024-01-17T21:05:42.319Z"
   },
   {
    "duration": 146,
    "start_time": "2024-01-17T21:06:15.509Z"
   },
   {
    "duration": 140,
    "start_time": "2024-01-17T21:06:38.348Z"
   },
   {
    "duration": 139,
    "start_time": "2024-01-17T21:07:07.866Z"
   },
   {
    "duration": 129,
    "start_time": "2024-01-17T21:07:32.956Z"
   },
   {
    "duration": 138,
    "start_time": "2024-01-17T21:07:48.369Z"
   },
   {
    "duration": 6,
    "start_time": "2024-01-17T21:10:34.370Z"
   },
   {
    "duration": 3,
    "start_time": "2024-01-17T21:11:21.343Z"
   },
   {
    "duration": 6,
    "start_time": "2024-01-17T21:11:28.528Z"
   },
   {
    "duration": 4,
    "start_time": "2024-01-17T21:11:45.726Z"
   },
   {
    "duration": 7,
    "start_time": "2024-01-17T21:11:46.146Z"
   },
   {
    "duration": 3,
    "start_time": "2024-01-17T21:11:52.015Z"
   },
   {
    "duration": 7,
    "start_time": "2024-01-17T21:11:54.674Z"
   },
   {
    "duration": 3,
    "start_time": "2024-01-17T21:12:08.457Z"
   },
   {
    "duration": 7,
    "start_time": "2024-01-17T21:12:09.922Z"
   },
   {
    "duration": 144,
    "start_time": "2024-01-17T21:13:35.833Z"
   },
   {
    "duration": 190,
    "start_time": "2024-01-17T21:14:39.321Z"
   },
   {
    "duration": 127,
    "start_time": "2024-01-17T21:15:19.922Z"
   },
   {
    "duration": 7,
    "start_time": "2024-01-17T21:15:24.711Z"
   },
   {
    "duration": 4,
    "start_time": "2024-01-17T21:16:15.781Z"
   },
   {
    "duration": 7,
    "start_time": "2024-01-17T21:16:18.171Z"
   },
   {
    "duration": 3,
    "start_time": "2024-01-17T21:16:23.909Z"
   },
   {
    "duration": 7,
    "start_time": "2024-01-17T21:16:26.269Z"
   },
   {
    "duration": 69,
    "start_time": "2024-01-17T21:16:36.161Z"
   },
   {
    "duration": 3,
    "start_time": "2024-01-17T21:16:53.233Z"
   },
   {
    "duration": 4,
    "start_time": "2024-01-17T21:17:09.433Z"
   },
   {
    "duration": 7,
    "start_time": "2024-01-17T21:17:11.664Z"
   },
   {
    "duration": 4,
    "start_time": "2024-01-17T21:17:20.942Z"
   },
   {
    "duration": 6,
    "start_time": "2024-01-17T21:17:21.160Z"
   },
   {
    "duration": 139,
    "start_time": "2024-01-17T21:17:44.234Z"
   },
   {
    "duration": 1136,
    "start_time": "2024-01-17T21:18:09.663Z"
   },
   {
    "duration": 3,
    "start_time": "2024-01-17T21:18:10.800Z"
   },
   {
    "duration": 41,
    "start_time": "2024-01-17T21:18:10.805Z"
   },
   {
    "duration": 19,
    "start_time": "2024-01-17T21:18:10.847Z"
   },
   {
    "duration": 13,
    "start_time": "2024-01-17T21:18:10.868Z"
   },
   {
    "duration": 14,
    "start_time": "2024-01-17T21:18:10.882Z"
   },
   {
    "duration": 14,
    "start_time": "2024-01-17T21:18:10.898Z"
   },
   {
    "duration": 9,
    "start_time": "2024-01-17T21:18:10.914Z"
   },
   {
    "duration": 51,
    "start_time": "2024-01-17T21:18:10.925Z"
   },
   {
    "duration": 4,
    "start_time": "2024-01-17T21:18:10.978Z"
   },
   {
    "duration": 18,
    "start_time": "2024-01-17T21:18:10.984Z"
   },
   {
    "duration": 13,
    "start_time": "2024-01-17T21:18:11.003Z"
   },
   {
    "duration": 13,
    "start_time": "2024-01-17T21:18:11.017Z"
   },
   {
    "duration": 18,
    "start_time": "2024-01-17T21:18:11.033Z"
   },
   {
    "duration": 8,
    "start_time": "2024-01-17T21:18:11.052Z"
   },
   {
    "duration": 14,
    "start_time": "2024-01-17T21:18:11.062Z"
   },
   {
    "duration": 21,
    "start_time": "2024-01-17T21:18:11.077Z"
   },
   {
    "duration": 6,
    "start_time": "2024-01-17T21:18:11.100Z"
   },
   {
    "duration": 48,
    "start_time": "2024-01-17T21:18:11.107Z"
   },
   {
    "duration": 6,
    "start_time": "2024-01-17T21:18:11.157Z"
   },
   {
    "duration": 10,
    "start_time": "2024-01-17T21:18:11.164Z"
   },
   {
    "duration": 6,
    "start_time": "2024-01-17T21:18:11.175Z"
   },
   {
    "duration": 8,
    "start_time": "2024-01-17T21:18:11.182Z"
   },
   {
    "duration": 21,
    "start_time": "2024-01-17T21:18:11.191Z"
   },
   {
    "duration": 20,
    "start_time": "2024-01-17T21:18:11.213Z"
   },
   {
    "duration": 46,
    "start_time": "2024-01-17T21:18:11.234Z"
   },
   {
    "duration": 24,
    "start_time": "2024-01-17T21:18:11.281Z"
   },
   {
    "duration": 11,
    "start_time": "2024-01-17T21:18:11.306Z"
   },
   {
    "duration": 8,
    "start_time": "2024-01-17T21:18:11.318Z"
   },
   {
    "duration": 221,
    "start_time": "2024-01-17T21:18:11.327Z"
   },
   {
    "duration": 241,
    "start_time": "2024-01-17T21:18:11.550Z"
   },
   {
    "duration": 219,
    "start_time": "2024-01-17T21:18:11.792Z"
   },
   {
    "duration": 396,
    "start_time": "2024-01-17T21:18:12.012Z"
   },
   {
    "duration": 6,
    "start_time": "2024-01-17T21:18:12.410Z"
   },
   {
    "duration": 187,
    "start_time": "2024-01-17T21:18:12.418Z"
   },
   {
    "duration": 143,
    "start_time": "2024-01-17T21:18:12.607Z"
   },
   {
    "duration": 96,
    "start_time": "2024-01-17T21:18:12.752Z"
   },
   {
    "duration": 0,
    "start_time": "2024-01-17T21:18:12.850Z"
   },
   {
    "duration": 0,
    "start_time": "2024-01-17T21:18:12.851Z"
   },
   {
    "duration": 0,
    "start_time": "2024-01-17T21:18:12.852Z"
   },
   {
    "duration": 0,
    "start_time": "2024-01-17T21:18:12.853Z"
   },
   {
    "duration": 0,
    "start_time": "2024-01-17T21:18:12.854Z"
   },
   {
    "duration": 1,
    "start_time": "2024-01-17T21:18:12.864Z"
   },
   {
    "duration": 0,
    "start_time": "2024-01-17T21:18:12.865Z"
   },
   {
    "duration": 0,
    "start_time": "2024-01-17T21:18:12.867Z"
   },
   {
    "duration": 0,
    "start_time": "2024-01-17T21:18:12.868Z"
   },
   {
    "duration": 0,
    "start_time": "2024-01-17T21:18:12.869Z"
   },
   {
    "duration": 0,
    "start_time": "2024-01-17T21:18:12.870Z"
   },
   {
    "duration": 0,
    "start_time": "2024-01-17T21:18:12.871Z"
   },
   {
    "duration": 0,
    "start_time": "2024-01-17T21:18:12.872Z"
   },
   {
    "duration": 0,
    "start_time": "2024-01-17T21:18:12.873Z"
   },
   {
    "duration": 0,
    "start_time": "2024-01-17T21:18:12.875Z"
   },
   {
    "duration": 0,
    "start_time": "2024-01-17T21:18:12.876Z"
   },
   {
    "duration": 0,
    "start_time": "2024-01-17T21:18:12.877Z"
   },
   {
    "duration": 0,
    "start_time": "2024-01-17T21:18:12.878Z"
   },
   {
    "duration": 0,
    "start_time": "2024-01-17T21:18:12.879Z"
   },
   {
    "duration": 0,
    "start_time": "2024-01-17T21:18:12.880Z"
   },
   {
    "duration": 0,
    "start_time": "2024-01-17T21:18:12.881Z"
   },
   {
    "duration": 0,
    "start_time": "2024-01-17T21:18:12.882Z"
   },
   {
    "duration": 0,
    "start_time": "2024-01-17T21:18:12.883Z"
   },
   {
    "duration": 0,
    "start_time": "2024-01-17T21:18:12.884Z"
   },
   {
    "duration": 9,
    "start_time": "2024-01-17T21:19:47.804Z"
   },
   {
    "duration": 143,
    "start_time": "2024-01-17T21:20:31.122Z"
   },
   {
    "duration": 145,
    "start_time": "2024-01-17T21:21:40.352Z"
   },
   {
    "duration": 210,
    "start_time": "2024-01-17T21:21:46.020Z"
   },
   {
    "duration": 165,
    "start_time": "2024-01-17T21:25:19.697Z"
   },
   {
    "duration": 141,
    "start_time": "2024-01-17T21:25:53.338Z"
   },
   {
    "duration": 144,
    "start_time": "2024-01-17T21:26:02.298Z"
   },
   {
    "duration": 159,
    "start_time": "2024-01-17T21:26:07.183Z"
   },
   {
    "duration": 158,
    "start_time": "2024-01-17T21:27:35.583Z"
   },
   {
    "duration": 143,
    "start_time": "2024-01-17T21:27:44.240Z"
   },
   {
    "duration": 155,
    "start_time": "2024-01-17T21:28:32.338Z"
   },
   {
    "duration": 142,
    "start_time": "2024-01-17T21:28:43.703Z"
   },
   {
    "duration": 135,
    "start_time": "2024-01-17T21:29:05.109Z"
   },
   {
    "duration": 152,
    "start_time": "2024-01-17T21:30:11.676Z"
   },
   {
    "duration": 226,
    "start_time": "2024-01-17T21:30:27.601Z"
   },
   {
    "duration": 147,
    "start_time": "2024-01-17T21:30:38.081Z"
   },
   {
    "duration": 146,
    "start_time": "2024-01-17T21:31:46.078Z"
   },
   {
    "duration": 141,
    "start_time": "2024-01-17T21:31:57.855Z"
   },
   {
    "duration": 143,
    "start_time": "2024-01-17T21:32:47.907Z"
   },
   {
    "duration": 145,
    "start_time": "2024-01-17T21:32:54.930Z"
   },
   {
    "duration": 146,
    "start_time": "2024-01-17T21:34:32.601Z"
   },
   {
    "duration": 145,
    "start_time": "2024-01-17T21:34:45.435Z"
   },
   {
    "duration": 152,
    "start_time": "2024-01-17T21:34:51.725Z"
   },
   {
    "duration": 146,
    "start_time": "2024-01-17T21:35:10.635Z"
   },
   {
    "duration": 136,
    "start_time": "2024-01-17T21:35:24.218Z"
   },
   {
    "duration": 1153,
    "start_time": "2024-01-17T21:35:32.668Z"
   },
   {
    "duration": 2,
    "start_time": "2024-01-17T21:35:33.823Z"
   },
   {
    "duration": 42,
    "start_time": "2024-01-17T21:35:33.828Z"
   },
   {
    "duration": 20,
    "start_time": "2024-01-17T21:35:33.871Z"
   },
   {
    "duration": 14,
    "start_time": "2024-01-17T21:35:33.892Z"
   },
   {
    "duration": 6,
    "start_time": "2024-01-17T21:35:33.908Z"
   },
   {
    "duration": 15,
    "start_time": "2024-01-17T21:35:33.916Z"
   },
   {
    "duration": 34,
    "start_time": "2024-01-17T21:35:33.933Z"
   },
   {
    "duration": 37,
    "start_time": "2024-01-17T21:35:33.969Z"
   },
   {
    "duration": 3,
    "start_time": "2024-01-17T21:35:34.007Z"
   },
   {
    "duration": 10,
    "start_time": "2024-01-17T21:35:34.012Z"
   },
   {
    "duration": 7,
    "start_time": "2024-01-17T21:35:34.023Z"
   },
   {
    "duration": 5,
    "start_time": "2024-01-17T21:35:34.031Z"
   },
   {
    "duration": 7,
    "start_time": "2024-01-17T21:35:34.037Z"
   },
   {
    "duration": 19,
    "start_time": "2024-01-17T21:35:34.046Z"
   },
   {
    "duration": 7,
    "start_time": "2024-01-17T21:35:34.067Z"
   },
   {
    "duration": 15,
    "start_time": "2024-01-17T21:35:34.076Z"
   },
   {
    "duration": 7,
    "start_time": "2024-01-17T21:35:34.093Z"
   },
   {
    "duration": 65,
    "start_time": "2024-01-17T21:35:34.101Z"
   },
   {
    "duration": 7,
    "start_time": "2024-01-17T21:35:34.167Z"
   },
   {
    "duration": 14,
    "start_time": "2024-01-17T21:35:34.175Z"
   },
   {
    "duration": 4,
    "start_time": "2024-01-17T21:35:34.191Z"
   },
   {
    "duration": 9,
    "start_time": "2024-01-17T21:35:34.197Z"
   },
   {
    "duration": 26,
    "start_time": "2024-01-17T21:35:34.207Z"
   },
   {
    "duration": 42,
    "start_time": "2024-01-17T21:35:34.234Z"
   },
   {
    "duration": 20,
    "start_time": "2024-01-17T21:35:34.277Z"
   },
   {
    "duration": 26,
    "start_time": "2024-01-17T21:35:34.300Z"
   },
   {
    "duration": 11,
    "start_time": "2024-01-17T21:35:34.328Z"
   },
   {
    "duration": 3,
    "start_time": "2024-01-17T21:35:34.365Z"
   },
   {
    "duration": 230,
    "start_time": "2024-01-17T21:35:34.370Z"
   },
   {
    "duration": 244,
    "start_time": "2024-01-17T21:35:34.602Z"
   },
   {
    "duration": 220,
    "start_time": "2024-01-17T21:35:34.847Z"
   },
   {
    "duration": 381,
    "start_time": "2024-01-17T21:35:35.068Z"
   },
   {
    "duration": 7,
    "start_time": "2024-01-17T21:35:35.451Z"
   },
   {
    "duration": 186,
    "start_time": "2024-01-17T21:35:35.464Z"
   },
   {
    "duration": 161,
    "start_time": "2024-01-17T21:35:35.652Z"
   },
   {
    "duration": 7,
    "start_time": "2024-01-17T21:35:35.815Z"
   },
   {
    "duration": 1636,
    "start_time": "2024-01-17T21:35:35.824Z"
   },
   {
    "duration": 201,
    "start_time": "2024-01-17T21:35:37.461Z"
   },
   {
    "duration": 159,
    "start_time": "2024-01-17T21:35:37.663Z"
   },
   {
    "duration": 136,
    "start_time": "2024-01-17T21:35:37.824Z"
   },
   {
    "duration": 185,
    "start_time": "2024-01-17T21:35:37.962Z"
   },
   {
    "duration": 6,
    "start_time": "2024-01-17T21:35:38.148Z"
   },
   {
    "duration": 435,
    "start_time": "2024-01-17T21:35:38.155Z"
   },
   {
    "duration": 3,
    "start_time": "2024-01-17T21:35:38.591Z"
   },
   {
    "duration": 24,
    "start_time": "2024-01-17T21:35:38.595Z"
   },
   {
    "duration": 20,
    "start_time": "2024-01-17T21:35:38.620Z"
   },
   {
    "duration": 14,
    "start_time": "2024-01-17T21:35:38.642Z"
   },
   {
    "duration": 11,
    "start_time": "2024-01-17T21:35:38.658Z"
   },
   {
    "duration": 9,
    "start_time": "2024-01-17T21:35:38.670Z"
   },
   {
    "duration": 20,
    "start_time": "2024-01-17T21:35:38.680Z"
   },
   {
    "duration": 28,
    "start_time": "2024-01-17T21:35:38.701Z"
   },
   {
    "duration": 1096,
    "start_time": "2024-01-17T21:35:38.731Z"
   },
   {
    "duration": 3,
    "start_time": "2024-01-17T21:35:39.828Z"
   },
   {
    "duration": 6,
    "start_time": "2024-01-17T21:35:39.833Z"
   },
   {
    "duration": 4,
    "start_time": "2024-01-17T21:35:39.841Z"
   },
   {
    "duration": 19,
    "start_time": "2024-01-17T21:35:39.847Z"
   },
   {
    "duration": 9364,
    "start_time": "2024-01-17T21:35:39.868Z"
   },
   {
    "duration": 10,
    "start_time": "2024-01-17T21:35:49.234Z"
   },
   {
    "duration": 23,
    "start_time": "2024-01-17T21:35:49.245Z"
   },
   {
    "duration": 10,
    "start_time": "2024-01-17T21:35:49.270Z"
   },
   {
    "duration": 915,
    "start_time": "2024-01-17T21:43:19.182Z"
   },
   {
    "duration": 1069,
    "start_time": "2024-01-17T21:45:19.529Z"
   },
   {
    "duration": 3,
    "start_time": "2024-01-17T21:45:20.599Z"
   },
   {
    "duration": 46,
    "start_time": "2024-01-17T21:45:20.603Z"
   },
   {
    "duration": 18,
    "start_time": "2024-01-17T21:45:20.651Z"
   },
   {
    "duration": 11,
    "start_time": "2024-01-17T21:45:20.670Z"
   },
   {
    "duration": 6,
    "start_time": "2024-01-17T21:45:20.682Z"
   },
   {
    "duration": 11,
    "start_time": "2024-01-17T21:45:20.689Z"
   },
   {
    "duration": 8,
    "start_time": "2024-01-17T21:45:20.701Z"
   },
   {
    "duration": 56,
    "start_time": "2024-01-17T21:45:20.710Z"
   },
   {
    "duration": 3,
    "start_time": "2024-01-17T21:45:20.768Z"
   },
   {
    "duration": 3,
    "start_time": "2024-01-17T21:45:20.773Z"
   },
   {
    "duration": 6,
    "start_time": "2024-01-17T21:45:20.777Z"
   },
   {
    "duration": 3,
    "start_time": "2024-01-17T21:45:20.785Z"
   },
   {
    "duration": 4,
    "start_time": "2024-01-17T21:45:20.790Z"
   },
   {
    "duration": 4,
    "start_time": "2024-01-17T21:45:20.795Z"
   },
   {
    "duration": 11,
    "start_time": "2024-01-17T21:45:20.800Z"
   },
   {
    "duration": 15,
    "start_time": "2024-01-17T21:45:20.812Z"
   },
   {
    "duration": 38,
    "start_time": "2024-01-17T21:45:20.828Z"
   },
   {
    "duration": 29,
    "start_time": "2024-01-17T21:45:20.868Z"
   },
   {
    "duration": 7,
    "start_time": "2024-01-17T21:45:20.899Z"
   },
   {
    "duration": 19,
    "start_time": "2024-01-17T21:45:20.908Z"
   },
   {
    "duration": 5,
    "start_time": "2024-01-17T21:45:20.928Z"
   },
   {
    "duration": 32,
    "start_time": "2024-01-17T21:45:20.934Z"
   },
   {
    "duration": 23,
    "start_time": "2024-01-17T21:45:20.968Z"
   },
   {
    "duration": 19,
    "start_time": "2024-01-17T21:45:20.993Z"
   },
   {
    "duration": 21,
    "start_time": "2024-01-17T21:45:21.014Z"
   },
   {
    "duration": 25,
    "start_time": "2024-01-17T21:45:21.066Z"
   },
   {
    "duration": 11,
    "start_time": "2024-01-17T21:45:21.095Z"
   },
   {
    "duration": 5,
    "start_time": "2024-01-17T21:45:21.108Z"
   },
   {
    "duration": 224,
    "start_time": "2024-01-17T21:45:21.115Z"
   },
   {
    "duration": 240,
    "start_time": "2024-01-17T21:45:21.341Z"
   },
   {
    "duration": 264,
    "start_time": "2024-01-17T21:45:21.583Z"
   },
   {
    "duration": 393,
    "start_time": "2024-01-17T21:45:21.849Z"
   },
   {
    "duration": 8,
    "start_time": "2024-01-17T21:45:22.243Z"
   },
   {
    "duration": 197,
    "start_time": "2024-01-17T21:45:22.252Z"
   },
   {
    "duration": 155,
    "start_time": "2024-01-17T21:45:22.451Z"
   },
   {
    "duration": 7,
    "start_time": "2024-01-17T21:45:22.607Z"
   },
   {
    "duration": 1768,
    "start_time": "2024-01-17T21:45:22.616Z"
   },
   {
    "duration": 194,
    "start_time": "2024-01-17T21:45:24.385Z"
   },
   {
    "duration": 157,
    "start_time": "2024-01-17T21:45:24.581Z"
   },
   {
    "duration": 141,
    "start_time": "2024-01-17T21:45:24.739Z"
   },
   {
    "duration": 139,
    "start_time": "2024-01-17T21:45:24.881Z"
   },
   {
    "duration": 984,
    "start_time": "2024-01-17T21:45:25.021Z"
   },
   {
    "duration": 5,
    "start_time": "2024-01-17T21:45:26.007Z"
   },
   {
    "duration": 489,
    "start_time": "2024-01-17T21:45:26.013Z"
   },
   {
    "duration": 2,
    "start_time": "2024-01-17T21:45:26.504Z"
   },
   {
    "duration": 7,
    "start_time": "2024-01-17T21:45:26.507Z"
   },
   {
    "duration": 5,
    "start_time": "2024-01-17T21:45:26.515Z"
   },
   {
    "duration": 7,
    "start_time": "2024-01-17T21:45:26.521Z"
   },
   {
    "duration": 38,
    "start_time": "2024-01-17T21:45:26.529Z"
   },
   {
    "duration": 10,
    "start_time": "2024-01-17T21:45:26.568Z"
   },
   {
    "duration": 19,
    "start_time": "2024-01-17T21:45:26.580Z"
   },
   {
    "duration": 30,
    "start_time": "2024-01-17T21:45:26.601Z"
   },
   {
    "duration": 2,
    "start_time": "2024-01-17T21:45:26.633Z"
   },
   {
    "duration": 29,
    "start_time": "2024-01-17T21:45:26.637Z"
   },
   {
    "duration": 7,
    "start_time": "2024-01-17T21:45:26.667Z"
   },
   {
    "duration": 5,
    "start_time": "2024-01-17T21:45:26.675Z"
   },
   {
    "duration": 9310,
    "start_time": "2024-01-17T21:45:26.681Z"
   },
   {
    "duration": 10,
    "start_time": "2024-01-17T21:45:35.992Z"
   },
   {
    "duration": 23,
    "start_time": "2024-01-17T21:45:36.003Z"
   },
   {
    "duration": 17,
    "start_time": "2024-01-17T21:45:36.028Z"
   },
   {
    "duration": 1424,
    "start_time": "2024-01-18T17:54:25.527Z"
   },
   {
    "duration": 3,
    "start_time": "2024-01-18T17:54:26.956Z"
   },
   {
    "duration": 328,
    "start_time": "2024-01-18T17:54:26.961Z"
   },
   {
    "duration": 33,
    "start_time": "2024-01-18T17:54:27.292Z"
   },
   {
    "duration": 21,
    "start_time": "2024-01-18T17:54:27.327Z"
   },
   {
    "duration": 16,
    "start_time": "2024-01-18T17:54:27.350Z"
   },
   {
    "duration": 12,
    "start_time": "2024-01-18T17:54:27.368Z"
   },
   {
    "duration": 9,
    "start_time": "2024-01-18T17:54:27.382Z"
   },
   {
    "duration": 39,
    "start_time": "2024-01-18T17:54:27.393Z"
   },
   {
    "duration": 25,
    "start_time": "2024-01-18T17:54:27.434Z"
   },
   {
    "duration": 11,
    "start_time": "2024-01-18T17:54:27.461Z"
   },
   {
    "duration": 6,
    "start_time": "2024-01-18T17:54:27.473Z"
   },
   {
    "duration": 4,
    "start_time": "2024-01-18T17:54:27.480Z"
   },
   {
    "duration": 6,
    "start_time": "2024-01-18T17:54:27.486Z"
   },
   {
    "duration": 4,
    "start_time": "2024-01-18T17:54:27.494Z"
   },
   {
    "duration": 7,
    "start_time": "2024-01-18T17:54:27.499Z"
   },
   {
    "duration": 52,
    "start_time": "2024-01-18T17:54:27.508Z"
   },
   {
    "duration": 7,
    "start_time": "2024-01-18T17:54:27.561Z"
   },
   {
    "duration": 31,
    "start_time": "2024-01-18T17:54:27.569Z"
   },
   {
    "duration": 7,
    "start_time": "2024-01-18T17:54:27.601Z"
   },
   {
    "duration": 16,
    "start_time": "2024-01-18T17:54:27.610Z"
   },
   {
    "duration": 48,
    "start_time": "2024-01-18T17:54:27.628Z"
   },
   {
    "duration": 12,
    "start_time": "2024-01-18T17:54:27.678Z"
   },
   {
    "duration": 24,
    "start_time": "2024-01-18T17:54:27.692Z"
   },
   {
    "duration": 21,
    "start_time": "2024-01-18T17:54:27.718Z"
   },
   {
    "duration": 31,
    "start_time": "2024-01-18T17:54:27.741Z"
   },
   {
    "duration": 28,
    "start_time": "2024-01-18T17:54:27.774Z"
   },
   {
    "duration": 13,
    "start_time": "2024-01-18T17:54:27.805Z"
   },
   {
    "duration": 25,
    "start_time": "2024-01-18T17:54:27.820Z"
   },
   {
    "duration": 253,
    "start_time": "2024-01-18T17:54:27.847Z"
   },
   {
    "duration": 268,
    "start_time": "2024-01-18T17:54:28.101Z"
   },
   {
    "duration": 252,
    "start_time": "2024-01-18T17:54:28.370Z"
   },
   {
    "duration": 448,
    "start_time": "2024-01-18T17:54:28.624Z"
   },
   {
    "duration": 8,
    "start_time": "2024-01-18T17:54:29.074Z"
   },
   {
    "duration": 237,
    "start_time": "2024-01-18T17:54:29.083Z"
   },
   {
    "duration": 171,
    "start_time": "2024-01-18T17:54:29.321Z"
   },
   {
    "duration": 9,
    "start_time": "2024-01-18T17:54:29.493Z"
   },
   {
    "duration": 1957,
    "start_time": "2024-01-18T17:54:29.503Z"
   },
   {
    "duration": 245,
    "start_time": "2024-01-18T17:54:31.461Z"
   },
   {
    "duration": 186,
    "start_time": "2024-01-18T17:54:31.707Z"
   },
   {
    "duration": 170,
    "start_time": "2024-01-18T17:54:31.895Z"
   },
   {
    "duration": 185,
    "start_time": "2024-01-18T17:54:32.067Z"
   },
   {
    "duration": 1084,
    "start_time": "2024-01-18T17:54:32.258Z"
   },
   {
    "duration": 18,
    "start_time": "2024-01-18T17:54:33.344Z"
   },
   {
    "duration": 595,
    "start_time": "2024-01-18T17:54:33.364Z"
   },
   {
    "duration": 3,
    "start_time": "2024-01-18T17:54:33.961Z"
   },
   {
    "duration": 8,
    "start_time": "2024-01-18T17:54:33.966Z"
   },
   {
    "duration": 7,
    "start_time": "2024-01-18T17:54:33.976Z"
   },
   {
    "duration": 16,
    "start_time": "2024-01-18T17:54:33.985Z"
   },
   {
    "duration": 12,
    "start_time": "2024-01-18T17:54:34.003Z"
   },
   {
    "duration": 11,
    "start_time": "2024-01-18T17:54:34.016Z"
   },
   {
    "duration": 49,
    "start_time": "2024-01-18T17:54:34.028Z"
   },
   {
    "duration": 34,
    "start_time": "2024-01-18T17:54:34.079Z"
   },
   {
    "duration": 3,
    "start_time": "2024-01-18T17:54:34.114Z"
   },
   {
    "duration": 7,
    "start_time": "2024-01-18T17:54:34.119Z"
   },
   {
    "duration": 7,
    "start_time": "2024-01-18T17:54:34.159Z"
   },
   {
    "duration": 8,
    "start_time": "2024-01-18T17:54:34.168Z"
   },
   {
    "duration": 1268,
    "start_time": "2024-01-18T17:54:46.280Z"
   },
   {
    "duration": 3,
    "start_time": "2024-01-18T17:54:47.550Z"
   },
   {
    "duration": 41,
    "start_time": "2024-01-18T17:54:47.558Z"
   },
   {
    "duration": 21,
    "start_time": "2024-01-18T17:54:47.601Z"
   },
   {
    "duration": 14,
    "start_time": "2024-01-18T17:54:47.624Z"
   },
   {
    "duration": 26,
    "start_time": "2024-01-18T17:54:47.640Z"
   },
   {
    "duration": 22,
    "start_time": "2024-01-18T17:54:47.668Z"
   },
   {
    "duration": 39,
    "start_time": "2024-01-18T17:54:47.692Z"
   },
   {
    "duration": 63,
    "start_time": "2024-01-18T17:54:47.733Z"
   },
   {
    "duration": 4,
    "start_time": "2024-01-18T17:54:47.798Z"
   },
   {
    "duration": 8,
    "start_time": "2024-01-18T17:54:47.803Z"
   },
   {
    "duration": 23,
    "start_time": "2024-01-18T17:54:47.812Z"
   },
   {
    "duration": 17,
    "start_time": "2024-01-18T17:54:47.837Z"
   },
   {
    "duration": 12,
    "start_time": "2024-01-18T17:54:47.857Z"
   },
   {
    "duration": 23,
    "start_time": "2024-01-18T17:54:47.870Z"
   },
   {
    "duration": 12,
    "start_time": "2024-01-18T17:54:47.894Z"
   },
   {
    "duration": 21,
    "start_time": "2024-01-18T17:54:47.907Z"
   },
   {
    "duration": 7,
    "start_time": "2024-01-18T17:54:47.929Z"
   },
   {
    "duration": 35,
    "start_time": "2024-01-18T17:54:47.938Z"
   },
   {
    "duration": 6,
    "start_time": "2024-01-18T17:54:47.974Z"
   },
   {
    "duration": 16,
    "start_time": "2024-01-18T17:54:47.982Z"
   },
   {
    "duration": 20,
    "start_time": "2024-01-18T17:54:48.000Z"
   },
   {
    "duration": 35,
    "start_time": "2024-01-18T17:54:48.022Z"
   },
   {
    "duration": 37,
    "start_time": "2024-01-18T17:54:48.058Z"
   },
   {
    "duration": 30,
    "start_time": "2024-01-18T17:54:48.097Z"
   },
   {
    "duration": 23,
    "start_time": "2024-01-18T17:54:48.129Z"
   },
   {
    "duration": 33,
    "start_time": "2024-01-18T17:54:48.154Z"
   },
   {
    "duration": 20,
    "start_time": "2024-01-18T17:54:48.188Z"
   },
   {
    "duration": 43,
    "start_time": "2024-01-18T17:54:48.210Z"
   },
   {
    "duration": 249,
    "start_time": "2024-01-18T17:54:48.254Z"
   },
   {
    "duration": 270,
    "start_time": "2024-01-18T17:54:48.505Z"
   },
   {
    "duration": 253,
    "start_time": "2024-01-18T17:54:48.777Z"
   },
   {
    "duration": 453,
    "start_time": "2024-01-18T17:54:49.031Z"
   },
   {
    "duration": 8,
    "start_time": "2024-01-18T17:54:49.486Z"
   },
   {
    "duration": 220,
    "start_time": "2024-01-18T17:54:49.495Z"
   },
   {
    "duration": 169,
    "start_time": "2024-01-18T17:54:49.717Z"
   },
   {
    "duration": 7,
    "start_time": "2024-01-18T17:54:49.888Z"
   },
   {
    "duration": 1855,
    "start_time": "2024-01-18T17:54:49.897Z"
   },
   {
    "duration": 229,
    "start_time": "2024-01-18T17:54:51.754Z"
   },
   {
    "duration": 187,
    "start_time": "2024-01-18T17:54:51.985Z"
   },
   {
    "duration": 172,
    "start_time": "2024-01-18T17:54:52.177Z"
   },
   {
    "duration": 161,
    "start_time": "2024-01-18T17:54:52.351Z"
   },
   {
    "duration": 1096,
    "start_time": "2024-01-18T17:54:52.514Z"
   },
   {
    "duration": 7,
    "start_time": "2024-01-18T17:54:53.612Z"
   },
   {
    "duration": 588,
    "start_time": "2024-01-18T17:54:53.621Z"
   },
   {
    "duration": 3,
    "start_time": "2024-01-18T17:54:54.211Z"
   },
   {
    "duration": 15,
    "start_time": "2024-01-18T17:54:54.216Z"
   },
   {
    "duration": 12,
    "start_time": "2024-01-18T17:54:54.232Z"
   },
   {
    "duration": 17,
    "start_time": "2024-01-18T17:54:54.246Z"
   },
   {
    "duration": 18,
    "start_time": "2024-01-18T17:54:54.265Z"
   },
   {
    "duration": 37,
    "start_time": "2024-01-18T17:54:54.284Z"
   },
   {
    "duration": 40,
    "start_time": "2024-01-18T17:54:54.323Z"
   },
   {
    "duration": 35,
    "start_time": "2024-01-18T17:54:54.365Z"
   },
   {
    "duration": 4,
    "start_time": "2024-01-18T17:54:54.401Z"
   },
   {
    "duration": 16,
    "start_time": "2024-01-18T17:54:54.407Z"
   },
   {
    "duration": 6,
    "start_time": "2024-01-18T17:54:54.425Z"
   },
   {
    "duration": 13,
    "start_time": "2024-01-18T17:54:54.433Z"
   },
   {
    "duration": 11287,
    "start_time": "2024-01-18T17:54:54.447Z"
   },
   {
    "duration": 22,
    "start_time": "2024-01-18T17:55:05.736Z"
   },
   {
    "duration": 13,
    "start_time": "2024-01-18T17:55:05.760Z"
   },
   {
    "duration": 14,
    "start_time": "2024-01-18T17:55:05.775Z"
   },
   {
    "duration": 1368,
    "start_time": "2024-01-18T20:16:45.559Z"
   },
   {
    "duration": 3,
    "start_time": "2024-01-18T20:16:46.928Z"
   },
   {
    "duration": 96,
    "start_time": "2024-01-18T20:16:46.932Z"
   },
   {
    "duration": 20,
    "start_time": "2024-01-18T20:16:47.030Z"
   },
   {
    "duration": 13,
    "start_time": "2024-01-18T20:16:47.052Z"
   },
   {
    "duration": 23,
    "start_time": "2024-01-18T20:16:47.067Z"
   },
   {
    "duration": 21,
    "start_time": "2024-01-18T20:16:47.091Z"
   },
   {
    "duration": 37,
    "start_time": "2024-01-18T20:16:47.114Z"
   },
   {
    "duration": 39,
    "start_time": "2024-01-18T20:16:47.152Z"
   },
   {
    "duration": 4,
    "start_time": "2024-01-18T20:16:47.193Z"
   },
   {
    "duration": 9,
    "start_time": "2024-01-18T20:16:47.198Z"
   },
   {
    "duration": 4,
    "start_time": "2024-01-18T20:16:47.209Z"
   },
   {
    "duration": 14,
    "start_time": "2024-01-18T20:16:47.215Z"
   },
   {
    "duration": 9,
    "start_time": "2024-01-18T20:16:47.230Z"
   },
   {
    "duration": 6,
    "start_time": "2024-01-18T20:16:47.241Z"
   },
   {
    "duration": 6,
    "start_time": "2024-01-18T20:16:47.249Z"
   },
   {
    "duration": 37,
    "start_time": "2024-01-18T20:16:47.256Z"
   },
   {
    "duration": 7,
    "start_time": "2024-01-18T20:16:47.295Z"
   },
   {
    "duration": 28,
    "start_time": "2024-01-18T20:16:47.304Z"
   },
   {
    "duration": 7,
    "start_time": "2024-01-18T20:16:47.333Z"
   },
   {
    "duration": 26,
    "start_time": "2024-01-18T20:16:47.341Z"
   },
   {
    "duration": 4,
    "start_time": "2024-01-18T20:16:47.380Z"
   },
   {
    "duration": 9,
    "start_time": "2024-01-18T20:16:47.385Z"
   },
   {
    "duration": 23,
    "start_time": "2024-01-18T20:16:47.396Z"
   },
   {
    "duration": 20,
    "start_time": "2024-01-18T20:16:47.420Z"
   },
   {
    "duration": 49,
    "start_time": "2024-01-18T20:16:47.441Z"
   },
   {
    "duration": 26,
    "start_time": "2024-01-18T20:16:47.492Z"
   },
   {
    "duration": 12,
    "start_time": "2024-01-18T20:16:47.521Z"
   },
   {
    "duration": 18,
    "start_time": "2024-01-18T20:16:47.534Z"
   },
   {
    "duration": 233,
    "start_time": "2024-01-18T20:16:47.554Z"
   },
   {
    "duration": 259,
    "start_time": "2024-01-18T20:16:47.788Z"
   },
   {
    "duration": 263,
    "start_time": "2024-01-18T20:16:48.049Z"
   },
   {
    "duration": 460,
    "start_time": "2024-01-18T20:16:48.314Z"
   },
   {
    "duration": 8,
    "start_time": "2024-01-18T20:16:48.779Z"
   },
   {
    "duration": 216,
    "start_time": "2024-01-18T20:16:48.789Z"
   },
   {
    "duration": 168,
    "start_time": "2024-01-18T20:16:49.007Z"
   },
   {
    "duration": 7,
    "start_time": "2024-01-18T20:16:49.179Z"
   },
   {
    "duration": 1929,
    "start_time": "2024-01-18T20:16:49.188Z"
   },
   {
    "duration": 222,
    "start_time": "2024-01-18T20:16:51.119Z"
   },
   {
    "duration": 174,
    "start_time": "2024-01-18T20:16:51.342Z"
   },
   {
    "duration": 156,
    "start_time": "2024-01-18T20:16:51.517Z"
   },
   {
    "duration": 162,
    "start_time": "2024-01-18T20:16:51.679Z"
   },
   {
    "duration": 1112,
    "start_time": "2024-01-18T20:16:51.843Z"
   },
   {
    "duration": 6,
    "start_time": "2024-01-18T20:16:52.956Z"
   },
   {
    "duration": 565,
    "start_time": "2024-01-18T20:16:52.963Z"
   },
   {
    "duration": 2,
    "start_time": "2024-01-18T20:16:53.530Z"
   },
   {
    "duration": 5,
    "start_time": "2024-01-18T20:16:53.535Z"
   },
   {
    "duration": 8,
    "start_time": "2024-01-18T20:16:53.541Z"
   },
   {
    "duration": 34,
    "start_time": "2024-01-18T20:16:53.551Z"
   },
   {
    "duration": 13,
    "start_time": "2024-01-18T20:16:53.586Z"
   },
   {
    "duration": 11,
    "start_time": "2024-01-18T20:16:53.600Z"
   },
   {
    "duration": 19,
    "start_time": "2024-01-18T20:16:53.612Z"
   },
   {
    "duration": 64,
    "start_time": "2024-01-18T20:16:53.632Z"
   },
   {
    "duration": 4,
    "start_time": "2024-01-18T20:16:53.697Z"
   },
   {
    "duration": 6,
    "start_time": "2024-01-18T20:16:53.702Z"
   },
   {
    "duration": 14,
    "start_time": "2024-01-18T20:16:53.709Z"
   },
   {
    "duration": 11,
    "start_time": "2024-01-18T20:16:53.724Z"
   },
   {
    "duration": 10282,
    "start_time": "2024-01-18T20:16:53.737Z"
   },
   {
    "duration": 11,
    "start_time": "2024-01-18T20:17:04.021Z"
   },
   {
    "duration": 14,
    "start_time": "2024-01-18T20:17:04.034Z"
   },
   {
    "duration": 23,
    "start_time": "2024-01-18T20:17:04.049Z"
   },
   {
    "duration": 17,
    "start_time": "2024-01-18T20:23:21.007Z"
   },
   {
    "duration": 1477,
    "start_time": "2024-01-18T20:33:10.509Z"
   },
   {
    "duration": 1437,
    "start_time": "2024-01-18T20:33:22.098Z"
   },
   {
    "duration": 1355,
    "start_time": "2024-01-18T20:33:28.855Z"
   },
   {
    "duration": 1303,
    "start_time": "2024-01-18T20:33:37.267Z"
   },
   {
    "duration": 13,
    "start_time": "2024-01-18T20:33:44.432Z"
   },
   {
    "duration": 5,
    "start_time": "2024-01-18T20:33:45.180Z"
   },
   {
    "duration": 4,
    "start_time": "2024-01-18T20:34:41.837Z"
   },
   {
    "duration": 8,
    "start_time": "2024-01-18T20:34:59.566Z"
   },
   {
    "duration": 1385,
    "start_time": "2024-01-18T20:36:34.589Z"
   },
   {
    "duration": 1364,
    "start_time": "2024-01-18T20:36:44.945Z"
   },
   {
    "duration": 355,
    "start_time": "2024-01-18T20:37:51.164Z"
   },
   {
    "duration": 7,
    "start_time": "2024-01-18T20:38:36.263Z"
   },
   {
    "duration": 365,
    "start_time": "2024-01-18T20:38:53.141Z"
   },
   {
    "duration": 143,
    "start_time": "2024-01-18T20:39:15.547Z"
   },
   {
    "duration": 149,
    "start_time": "2024-01-18T20:40:08.684Z"
   },
   {
    "duration": 128,
    "start_time": "2024-01-18T20:40:49.316Z"
   },
   {
    "duration": 128,
    "start_time": "2024-01-18T20:42:46.224Z"
   },
   {
    "duration": 123,
    "start_time": "2024-01-18T20:44:03.088Z"
   },
   {
    "duration": 112,
    "start_time": "2024-01-18T20:45:25.062Z"
   },
   {
    "duration": 106,
    "start_time": "2024-01-18T20:45:28.908Z"
   },
   {
    "duration": 121,
    "start_time": "2024-01-18T20:46:00.684Z"
   },
   {
    "duration": 97,
    "start_time": "2024-01-18T20:46:05.236Z"
   },
   {
    "duration": 151,
    "start_time": "2024-01-18T20:46:59.027Z"
   },
   {
    "duration": 143,
    "start_time": "2024-01-18T20:47:08.776Z"
   },
   {
    "duration": 98,
    "start_time": "2024-01-18T20:47:47.521Z"
   },
   {
    "duration": 155,
    "start_time": "2024-01-18T20:48:11.238Z"
   },
   {
    "duration": 156,
    "start_time": "2024-01-18T20:48:49.952Z"
   },
   {
    "duration": 156,
    "start_time": "2024-01-18T20:49:45.381Z"
   },
   {
    "duration": 111,
    "start_time": "2024-01-18T20:50:16.898Z"
   },
   {
    "duration": 116,
    "start_time": "2024-01-18T20:50:45.018Z"
   },
   {
    "duration": 109,
    "start_time": "2024-01-18T20:51:16.294Z"
   },
   {
    "duration": 292,
    "start_time": "2024-01-18T20:52:21.139Z"
   },
   {
    "duration": 224,
    "start_time": "2024-01-18T20:52:24.498Z"
   },
   {
    "duration": 13,
    "start_time": "2024-01-18T20:52:52.745Z"
   },
   {
    "duration": 109,
    "start_time": "2024-01-18T20:52:57.225Z"
   },
   {
    "duration": 150,
    "start_time": "2024-01-18T20:53:20.631Z"
   },
   {
    "duration": 111,
    "start_time": "2024-01-18T20:53:27.453Z"
   },
   {
    "duration": 116,
    "start_time": "2024-01-18T20:54:30.415Z"
   },
   {
    "duration": 113,
    "start_time": "2024-01-18T20:54:45.569Z"
   },
   {
    "duration": 107,
    "start_time": "2024-01-18T20:55:30.838Z"
   },
   {
    "duration": 112,
    "start_time": "2024-01-18T20:55:52.049Z"
   },
   {
    "duration": 104,
    "start_time": "2024-01-18T20:56:04.928Z"
   },
   {
    "duration": 113,
    "start_time": "2024-01-18T20:56:16.394Z"
   },
   {
    "duration": 104,
    "start_time": "2024-01-18T20:56:27.023Z"
   },
   {
    "duration": 10,
    "start_time": "2024-01-18T20:57:39.002Z"
   },
   {
    "duration": 11,
    "start_time": "2024-01-18T20:58:08.683Z"
   },
   {
    "duration": 104,
    "start_time": "2024-01-18T20:58:09.235Z"
   },
   {
    "duration": 10,
    "start_time": "2024-01-18T20:58:44.265Z"
   },
   {
    "duration": 14,
    "start_time": "2024-01-18T20:58:47.254Z"
   },
   {
    "duration": 10,
    "start_time": "2024-01-18T20:58:47.588Z"
   },
   {
    "duration": 130,
    "start_time": "2024-01-18T20:59:06.424Z"
   }
  ],
  "kernelspec": {
   "display_name": "Python 3 (ipykernel)",
   "language": "python",
   "name": "python3"
  },
  "language_info": {
   "codemirror_mode": {
    "name": "ipython",
    "version": 3
   },
   "file_extension": ".py",
   "mimetype": "text/x-python",
   "name": "python",
   "nbconvert_exporter": "python",
   "pygments_lexer": "ipython3",
   "version": "3.10.9"
  },
  "toc": {
   "base_numbering": 1,
   "nav_menu": {},
   "number_sections": true,
   "sideBar": true,
   "skip_h1_title": true,
   "title_cell": "Table of Contents",
   "title_sidebar": "Contents",
   "toc_cell": false,
   "toc_position": {},
   "toc_section_display": true,
   "toc_window_display": false
  }
 },
 "nbformat": 4,
 "nbformat_minor": 2
}
