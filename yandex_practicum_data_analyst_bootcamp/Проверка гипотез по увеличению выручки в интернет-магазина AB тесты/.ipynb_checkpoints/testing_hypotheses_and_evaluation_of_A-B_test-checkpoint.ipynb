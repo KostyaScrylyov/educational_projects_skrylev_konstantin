{
 "cells": [
  {
   "cell_type": "markdown",
   "metadata": {},
   "source": [
    "# Описание данных"
   ]
  },
  {
   "cell_type": "markdown",
   "metadata": {},
   "source": [
    "# Часть 1  \n",
    "В файле /datasets/hypothesis.csv 9 гипотез по увеличению выручки интернет-магазина с указанными параметрами:\n",
    "- `Hypothesis` — краткое описание гипотезы;\n",
    "- `Reach` — охват пользователей по 10-балльной шкале;\n",
    "- `Impact` — влияние на пользователей по 10-балльной шкале;\n",
    "- `Confidence` — уверенность в гипотезе по 10-балльной шкале;\n",
    "- `Efforts` — затраты ресурсов на проверку гипотезы по 10-балльной шкале. Чем больше значение Efforts, тем дороже проверка гипотезы."
   ]
  },
  {
   "cell_type": "markdown",
   "metadata": {},
   "source": [
    "# Часть 2  \n",
    "Файл /datasets/orders.csv с результатами A/B-тестов:\n",
    "- `transactionId` — идентификатор заказа;\n",
    "- `visitorId` — идентификатор пользователя, совершившего заказ;\n",
    "- `date` — дата, когда был совершён заказ;\n",
    "- `revenue` — выручка заказа;\n",
    "- `group` — группа A/B-теста, в которую попал заказ.  \n",
    "\n",
    "Файл /datasets/visitors.csv  \n",
    "- `date` — дата;\n",
    "- `group` — группа A/B-теста;\n",
    "- `visitors` — количество пользователей в указанную дату в указанной группе A/B-теста"
   ]
  },
  {
   "cell_type": "markdown",
   "metadata": {},
   "source": [
    "# Описание проекта"
   ]
  },
  {
   "cell_type": "markdown",
   "metadata": {},
   "source": [
    "В крупном интернет-магазине подготовлен список гипотез для увеличения выручки.  \n",
    "Необходимо приоритизировать гипотезы, запустить A/B-тест и проанализировать результаты"
   ]
  },
  {
   "cell_type": "markdown",
   "metadata": {},
   "source": [
    "## Часть 1. Приоритизация гипотез"
   ]
  },
  {
   "cell_type": "markdown",
   "metadata": {},
   "source": [
    "### Загрузка данных и подготовка их к анализу"
   ]
  },
  {
   "cell_type": "code",
   "execution_count": 1,
   "metadata": {},
   "outputs": [],
   "source": [
    "# импорт библиотек\n",
    "\n",
    "import pandas as pd\n",
    "import numpy as np\n",
    "import matplotlib.pyplot as plt\n",
    "from datetime import datetime, timedelta\n",
    "import seaborn as sns\n",
    "from pymystem3 import Mystem\n",
    "from collections import Counter\n",
    "from scipy import stats as st\n",
    "import datetime as dt\n",
    "from pandas.plotting import register_matplotlib_converters"
   ]
  },
  {
   "cell_type": "code",
   "execution_count": 2,
   "metadata": {},
   "outputs": [],
   "source": [
    "# снимем ограничение на колличество отображаемых столбцов\n",
    "\n",
    "pd.set_option('display.max_columns', None)\n",
    "\n",
    "# изменим формат отображения чисел\n",
    "\n",
    "pd.options.display.float_format = '{:,.2f}'.format"
   ]
  },
  {
   "cell_type": "code",
   "execution_count": 3,
   "metadata": {},
   "outputs": [],
   "source": [
    "# создаём датасеты из загруженных данных\n",
    "\n",
    "try:\n",
    "    hypothesis = pd.read_csv('___.csv')\n",
    "    orders = pd.read_csv('___.csv')\n",
    "    visitors = pd.read_csv('___.csv')\n",
    "except:\n",
    "    hypothesis = pd.read_csv('https://___.csv')\n",
    "    orders = pd.read_csv('https://___.csv')\n",
    "    visitors = pd.read_csv('https://___.csv')"
   ]
  },
  {
   "cell_type": "code",
   "execution_count": 4,
   "metadata": {},
   "outputs": [],
   "source": [
    "# напишем функцию для вывода информации о таблице\n",
    "\n",
    "def get_info (df):\n",
    "    name = [x for x in globals() if globals()[x] is df][0]\n",
    "    print('Содержимое {}:'.format(name))\n",
    "    display(df.head())\n",
    "    print('Информация о распределение данных {}:'.format(name))\n",
    "    display(df.describe())\n",
    "    print('Информация о {}:'.format(name))\n",
    "    display(df.info())\n",
    "    print('Колличество дубликатов: {}'.format(df.duplicated().sum()))"
   ]
  },
  {
   "cell_type": "code",
   "execution_count": 5,
   "metadata": {},
   "outputs": [
    {
     "name": "stdout",
     "output_type": "stream",
     "text": [
      "Содержимое hypothesis:\n"
     ]
    },
    {
     "data": {
      "text/html": [
       "<div>\n",
       "<style scoped>\n",
       "    .dataframe tbody tr th:only-of-type {\n",
       "        vertical-align: middle;\n",
       "    }\n",
       "\n",
       "    .dataframe tbody tr th {\n",
       "        vertical-align: top;\n",
       "    }\n",
       "\n",
       "    .dataframe thead th {\n",
       "        text-align: right;\n",
       "    }\n",
       "</style>\n",
       "<table border=\"1\" class=\"dataframe\">\n",
       "  <thead>\n",
       "    <tr style=\"text-align: right;\">\n",
       "      <th></th>\n",
       "      <th>Hypothesis</th>\n",
       "      <th>Reach</th>\n",
       "      <th>Impact</th>\n",
       "      <th>Confidence</th>\n",
       "      <th>Efforts</th>\n",
       "    </tr>\n",
       "  </thead>\n",
       "  <tbody>\n",
       "    <tr>\n",
       "      <th>0</th>\n",
       "      <td>Добавить два новых канала привлечения трафика,...</td>\n",
       "      <td>3</td>\n",
       "      <td>10</td>\n",
       "      <td>8</td>\n",
       "      <td>6</td>\n",
       "    </tr>\n",
       "    <tr>\n",
       "      <th>1</th>\n",
       "      <td>Запустить собственную службу доставки, что сок...</td>\n",
       "      <td>2</td>\n",
       "      <td>5</td>\n",
       "      <td>4</td>\n",
       "      <td>10</td>\n",
       "    </tr>\n",
       "    <tr>\n",
       "      <th>2</th>\n",
       "      <td>Добавить блоки рекомендаций товаров на сайт ин...</td>\n",
       "      <td>8</td>\n",
       "      <td>3</td>\n",
       "      <td>7</td>\n",
       "      <td>3</td>\n",
       "    </tr>\n",
       "    <tr>\n",
       "      <th>3</th>\n",
       "      <td>Изменить структура категорий, что увеличит кон...</td>\n",
       "      <td>8</td>\n",
       "      <td>3</td>\n",
       "      <td>3</td>\n",
       "      <td>8</td>\n",
       "    </tr>\n",
       "    <tr>\n",
       "      <th>4</th>\n",
       "      <td>Изменить цвет фона главной страницы, чтобы уве...</td>\n",
       "      <td>3</td>\n",
       "      <td>1</td>\n",
       "      <td>1</td>\n",
       "      <td>1</td>\n",
       "    </tr>\n",
       "  </tbody>\n",
       "</table>\n",
       "</div>"
      ],
      "text/plain": [
       "                                          Hypothesis  Reach  Impact  \\\n",
       "0  Добавить два новых канала привлечения трафика,...      3      10   \n",
       "1  Запустить собственную службу доставки, что сок...      2       5   \n",
       "2  Добавить блоки рекомендаций товаров на сайт ин...      8       3   \n",
       "3  Изменить структура категорий, что увеличит кон...      8       3   \n",
       "4  Изменить цвет фона главной страницы, чтобы уве...      3       1   \n",
       "\n",
       "   Confidence  Efforts  \n",
       "0           8        6  \n",
       "1           4       10  \n",
       "2           7        3  \n",
       "3           3        8  \n",
       "4           1        1  "
      ]
     },
     "metadata": {},
     "output_type": "display_data"
    },
    {
     "name": "stdout",
     "output_type": "stream",
     "text": [
      "Информация о распределение данных hypothesis:\n"
     ]
    },
    {
     "data": {
      "text/html": [
       "<div>\n",
       "<style scoped>\n",
       "    .dataframe tbody tr th:only-of-type {\n",
       "        vertical-align: middle;\n",
       "    }\n",
       "\n",
       "    .dataframe tbody tr th {\n",
       "        vertical-align: top;\n",
       "    }\n",
       "\n",
       "    .dataframe thead th {\n",
       "        text-align: right;\n",
       "    }\n",
       "</style>\n",
       "<table border=\"1\" class=\"dataframe\">\n",
       "  <thead>\n",
       "    <tr style=\"text-align: right;\">\n",
       "      <th></th>\n",
       "      <th>Reach</th>\n",
       "      <th>Impact</th>\n",
       "      <th>Confidence</th>\n",
       "      <th>Efforts</th>\n",
       "    </tr>\n",
       "  </thead>\n",
       "  <tbody>\n",
       "    <tr>\n",
       "      <th>count</th>\n",
       "      <td>9.00</td>\n",
       "      <td>9.00</td>\n",
       "      <td>9.00</td>\n",
       "      <td>9.00</td>\n",
       "    </tr>\n",
       "    <tr>\n",
       "      <th>mean</th>\n",
       "      <td>4.78</td>\n",
       "      <td>4.78</td>\n",
       "      <td>5.56</td>\n",
       "      <td>4.89</td>\n",
       "    </tr>\n",
       "    <tr>\n",
       "      <th>std</th>\n",
       "      <td>3.15</td>\n",
       "      <td>3.19</td>\n",
       "      <td>3.05</td>\n",
       "      <td>2.80</td>\n",
       "    </tr>\n",
       "    <tr>\n",
       "      <th>min</th>\n",
       "      <td>1.00</td>\n",
       "      <td>1.00</td>\n",
       "      <td>1.00</td>\n",
       "      <td>1.00</td>\n",
       "    </tr>\n",
       "    <tr>\n",
       "      <th>25%</th>\n",
       "      <td>3.00</td>\n",
       "      <td>3.00</td>\n",
       "      <td>3.00</td>\n",
       "      <td>3.00</td>\n",
       "    </tr>\n",
       "    <tr>\n",
       "      <th>50%</th>\n",
       "      <td>3.00</td>\n",
       "      <td>3.00</td>\n",
       "      <td>7.00</td>\n",
       "      <td>5.00</td>\n",
       "    </tr>\n",
       "    <tr>\n",
       "      <th>75%</th>\n",
       "      <td>8.00</td>\n",
       "      <td>7.00</td>\n",
       "      <td>8.00</td>\n",
       "      <td>6.00</td>\n",
       "    </tr>\n",
       "    <tr>\n",
       "      <th>max</th>\n",
       "      <td>10.00</td>\n",
       "      <td>10.00</td>\n",
       "      <td>9.00</td>\n",
       "      <td>10.00</td>\n",
       "    </tr>\n",
       "  </tbody>\n",
       "</table>\n",
       "</div>"
      ],
      "text/plain": [
       "       Reach  Impact  Confidence  Efforts\n",
       "count   9.00    9.00        9.00     9.00\n",
       "mean    4.78    4.78        5.56     4.89\n",
       "std     3.15    3.19        3.05     2.80\n",
       "min     1.00    1.00        1.00     1.00\n",
       "25%     3.00    3.00        3.00     3.00\n",
       "50%     3.00    3.00        7.00     5.00\n",
       "75%     8.00    7.00        8.00     6.00\n",
       "max    10.00   10.00        9.00    10.00"
      ]
     },
     "metadata": {},
     "output_type": "display_data"
    },
    {
     "name": "stdout",
     "output_type": "stream",
     "text": [
      "Информация о hypothesis:\n",
      "<class 'pandas.core.frame.DataFrame'>\n",
      "RangeIndex: 9 entries, 0 to 8\n",
      "Data columns (total 5 columns):\n",
      " #   Column      Non-Null Count  Dtype \n",
      "---  ------      --------------  ----- \n",
      " 0   Hypothesis  9 non-null      object\n",
      " 1   Reach       9 non-null      int64 \n",
      " 2   Impact      9 non-null      int64 \n",
      " 3   Confidence  9 non-null      int64 \n",
      " 4   Efforts     9 non-null      int64 \n",
      "dtypes: int64(4), object(1)\n",
      "memory usage: 488.0+ bytes\n"
     ]
    },
    {
     "data": {
      "text/plain": [
       "None"
      ]
     },
     "metadata": {},
     "output_type": "display_data"
    },
    {
     "name": "stdout",
     "output_type": "stream",
     "text": [
      "Колличество дубликатов: 0\n"
     ]
    }
   ],
   "source": [
    "get_info(hypothesis)"
   ]
  },
  {
   "cell_type": "code",
   "execution_count": 6,
   "metadata": {},
   "outputs": [
    {
     "name": "stdout",
     "output_type": "stream",
     "text": [
      "Содержимое orders:\n"
     ]
    },
    {
     "data": {
      "text/html": [
       "<div>\n",
       "<style scoped>\n",
       "    .dataframe tbody tr th:only-of-type {\n",
       "        vertical-align: middle;\n",
       "    }\n",
       "\n",
       "    .dataframe tbody tr th {\n",
       "        vertical-align: top;\n",
       "    }\n",
       "\n",
       "    .dataframe thead th {\n",
       "        text-align: right;\n",
       "    }\n",
       "</style>\n",
       "<table border=\"1\" class=\"dataframe\">\n",
       "  <thead>\n",
       "    <tr style=\"text-align: right;\">\n",
       "      <th></th>\n",
       "      <th>transactionId</th>\n",
       "      <th>visitorId</th>\n",
       "      <th>date</th>\n",
       "      <th>revenue</th>\n",
       "      <th>group</th>\n",
       "    </tr>\n",
       "  </thead>\n",
       "  <tbody>\n",
       "    <tr>\n",
       "      <th>0</th>\n",
       "      <td>3667963787</td>\n",
       "      <td>3312258926</td>\n",
       "      <td>2019-08-15</td>\n",
       "      <td>1650</td>\n",
       "      <td>B</td>\n",
       "    </tr>\n",
       "    <tr>\n",
       "      <th>1</th>\n",
       "      <td>2804400009</td>\n",
       "      <td>3642806036</td>\n",
       "      <td>2019-08-15</td>\n",
       "      <td>730</td>\n",
       "      <td>B</td>\n",
       "    </tr>\n",
       "    <tr>\n",
       "      <th>2</th>\n",
       "      <td>2961555356</td>\n",
       "      <td>4069496402</td>\n",
       "      <td>2019-08-15</td>\n",
       "      <td>400</td>\n",
       "      <td>A</td>\n",
       "    </tr>\n",
       "    <tr>\n",
       "      <th>3</th>\n",
       "      <td>3797467345</td>\n",
       "      <td>1196621759</td>\n",
       "      <td>2019-08-15</td>\n",
       "      <td>9759</td>\n",
       "      <td>B</td>\n",
       "    </tr>\n",
       "    <tr>\n",
       "      <th>4</th>\n",
       "      <td>2282983706</td>\n",
       "      <td>2322279887</td>\n",
       "      <td>2019-08-15</td>\n",
       "      <td>2308</td>\n",
       "      <td>B</td>\n",
       "    </tr>\n",
       "  </tbody>\n",
       "</table>\n",
       "</div>"
      ],
      "text/plain": [
       "   transactionId   visitorId        date  revenue group\n",
       "0     3667963787  3312258926  2019-08-15     1650     B\n",
       "1     2804400009  3642806036  2019-08-15      730     B\n",
       "2     2961555356  4069496402  2019-08-15      400     A\n",
       "3     3797467345  1196621759  2019-08-15     9759     B\n",
       "4     2282983706  2322279887  2019-08-15     2308     B"
      ]
     },
     "metadata": {},
     "output_type": "display_data"
    },
    {
     "name": "stdout",
     "output_type": "stream",
     "text": [
      "Информация о распределение данных orders:\n"
     ]
    },
    {
     "data": {
      "text/html": [
       "<div>\n",
       "<style scoped>\n",
       "    .dataframe tbody tr th:only-of-type {\n",
       "        vertical-align: middle;\n",
       "    }\n",
       "\n",
       "    .dataframe tbody tr th {\n",
       "        vertical-align: top;\n",
       "    }\n",
       "\n",
       "    .dataframe thead th {\n",
       "        text-align: right;\n",
       "    }\n",
       "</style>\n",
       "<table border=\"1\" class=\"dataframe\">\n",
       "  <thead>\n",
       "    <tr style=\"text-align: right;\">\n",
       "      <th></th>\n",
       "      <th>transactionId</th>\n",
       "      <th>visitorId</th>\n",
       "      <th>revenue</th>\n",
       "    </tr>\n",
       "  </thead>\n",
       "  <tbody>\n",
       "    <tr>\n",
       "      <th>count</th>\n",
       "      <td>1,197.00</td>\n",
       "      <td>1,197.00</td>\n",
       "      <td>1,197.00</td>\n",
       "    </tr>\n",
       "    <tr>\n",
       "      <th>mean</th>\n",
       "      <td>2,155,621,385.53</td>\n",
       "      <td>2,165,960,143.10</td>\n",
       "      <td>8,348.01</td>\n",
       "    </tr>\n",
       "    <tr>\n",
       "      <th>std</th>\n",
       "      <td>1,229,084,904.76</td>\n",
       "      <td>1,236,014,192.15</td>\n",
       "      <td>39,191.13</td>\n",
       "    </tr>\n",
       "    <tr>\n",
       "      <th>min</th>\n",
       "      <td>1,062,393.00</td>\n",
       "      <td>5,114,589.00</td>\n",
       "      <td>50.00</td>\n",
       "    </tr>\n",
       "    <tr>\n",
       "      <th>25%</th>\n",
       "      <td>1,166,775,572.00</td>\n",
       "      <td>1,111,826,046.00</td>\n",
       "      <td>1,220.00</td>\n",
       "    </tr>\n",
       "    <tr>\n",
       "      <th>50%</th>\n",
       "      <td>2,145,193,898.00</td>\n",
       "      <td>2,217,984,702.00</td>\n",
       "      <td>2,978.00</td>\n",
       "    </tr>\n",
       "    <tr>\n",
       "      <th>75%</th>\n",
       "      <td>3,237,740,112.00</td>\n",
       "      <td>3,177,606,451.00</td>\n",
       "      <td>8,290.00</td>\n",
       "    </tr>\n",
       "    <tr>\n",
       "      <th>max</th>\n",
       "      <td>4,293,855,558.00</td>\n",
       "      <td>4,283,872,382.00</td>\n",
       "      <td>1,294,500.00</td>\n",
       "    </tr>\n",
       "  </tbody>\n",
       "</table>\n",
       "</div>"
      ],
      "text/plain": [
       "         transactionId        visitorId      revenue\n",
       "count         1,197.00         1,197.00     1,197.00\n",
       "mean  2,155,621,385.53 2,165,960,143.10     8,348.01\n",
       "std   1,229,084,904.76 1,236,014,192.15    39,191.13\n",
       "min       1,062,393.00     5,114,589.00        50.00\n",
       "25%   1,166,775,572.00 1,111,826,046.00     1,220.00\n",
       "50%   2,145,193,898.00 2,217,984,702.00     2,978.00\n",
       "75%   3,237,740,112.00 3,177,606,451.00     8,290.00\n",
       "max   4,293,855,558.00 4,283,872,382.00 1,294,500.00"
      ]
     },
     "metadata": {},
     "output_type": "display_data"
    },
    {
     "name": "stdout",
     "output_type": "stream",
     "text": [
      "Информация о orders:\n",
      "<class 'pandas.core.frame.DataFrame'>\n",
      "RangeIndex: 1197 entries, 0 to 1196\n",
      "Data columns (total 5 columns):\n",
      " #   Column         Non-Null Count  Dtype \n",
      "---  ------         --------------  ----- \n",
      " 0   transactionId  1197 non-null   int64 \n",
      " 1   visitorId      1197 non-null   int64 \n",
      " 2   date           1197 non-null   object\n",
      " 3   revenue        1197 non-null   int64 \n",
      " 4   group          1197 non-null   object\n",
      "dtypes: int64(3), object(2)\n",
      "memory usage: 46.9+ KB\n"
     ]
    },
    {
     "data": {
      "text/plain": [
       "None"
      ]
     },
     "metadata": {},
     "output_type": "display_data"
    },
    {
     "name": "stdout",
     "output_type": "stream",
     "text": [
      "Колличество дубликатов: 0\n"
     ]
    }
   ],
   "source": [
    "get_info(orders)"
   ]
  },
  {
   "cell_type": "code",
   "execution_count": 7,
   "metadata": {},
   "outputs": [
    {
     "name": "stdout",
     "output_type": "stream",
     "text": [
      "Содержимое visitors:\n"
     ]
    },
    {
     "data": {
      "text/html": [
       "<div>\n",
       "<style scoped>\n",
       "    .dataframe tbody tr th:only-of-type {\n",
       "        vertical-align: middle;\n",
       "    }\n",
       "\n",
       "    .dataframe tbody tr th {\n",
       "        vertical-align: top;\n",
       "    }\n",
       "\n",
       "    .dataframe thead th {\n",
       "        text-align: right;\n",
       "    }\n",
       "</style>\n",
       "<table border=\"1\" class=\"dataframe\">\n",
       "  <thead>\n",
       "    <tr style=\"text-align: right;\">\n",
       "      <th></th>\n",
       "      <th>date</th>\n",
       "      <th>group</th>\n",
       "      <th>visitors</th>\n",
       "    </tr>\n",
       "  </thead>\n",
       "  <tbody>\n",
       "    <tr>\n",
       "      <th>0</th>\n",
       "      <td>2019-08-01</td>\n",
       "      <td>A</td>\n",
       "      <td>719</td>\n",
       "    </tr>\n",
       "    <tr>\n",
       "      <th>1</th>\n",
       "      <td>2019-08-02</td>\n",
       "      <td>A</td>\n",
       "      <td>619</td>\n",
       "    </tr>\n",
       "    <tr>\n",
       "      <th>2</th>\n",
       "      <td>2019-08-03</td>\n",
       "      <td>A</td>\n",
       "      <td>507</td>\n",
       "    </tr>\n",
       "    <tr>\n",
       "      <th>3</th>\n",
       "      <td>2019-08-04</td>\n",
       "      <td>A</td>\n",
       "      <td>717</td>\n",
       "    </tr>\n",
       "    <tr>\n",
       "      <th>4</th>\n",
       "      <td>2019-08-05</td>\n",
       "      <td>A</td>\n",
       "      <td>756</td>\n",
       "    </tr>\n",
       "  </tbody>\n",
       "</table>\n",
       "</div>"
      ],
      "text/plain": [
       "         date group  visitors\n",
       "0  2019-08-01     A       719\n",
       "1  2019-08-02     A       619\n",
       "2  2019-08-03     A       507\n",
       "3  2019-08-04     A       717\n",
       "4  2019-08-05     A       756"
      ]
     },
     "metadata": {},
     "output_type": "display_data"
    },
    {
     "name": "stdout",
     "output_type": "stream",
     "text": [
      "Информация о распределение данных visitors:\n"
     ]
    },
    {
     "data": {
      "text/html": [
       "<div>\n",
       "<style scoped>\n",
       "    .dataframe tbody tr th:only-of-type {\n",
       "        vertical-align: middle;\n",
       "    }\n",
       "\n",
       "    .dataframe tbody tr th {\n",
       "        vertical-align: top;\n",
       "    }\n",
       "\n",
       "    .dataframe thead th {\n",
       "        text-align: right;\n",
       "    }\n",
       "</style>\n",
       "<table border=\"1\" class=\"dataframe\">\n",
       "  <thead>\n",
       "    <tr style=\"text-align: right;\">\n",
       "      <th></th>\n",
       "      <th>visitors</th>\n",
       "    </tr>\n",
       "  </thead>\n",
       "  <tbody>\n",
       "    <tr>\n",
       "      <th>count</th>\n",
       "      <td>62.00</td>\n",
       "    </tr>\n",
       "    <tr>\n",
       "      <th>mean</th>\n",
       "      <td>607.29</td>\n",
       "    </tr>\n",
       "    <tr>\n",
       "      <th>std</th>\n",
       "      <td>114.40</td>\n",
       "    </tr>\n",
       "    <tr>\n",
       "      <th>min</th>\n",
       "      <td>361.00</td>\n",
       "    </tr>\n",
       "    <tr>\n",
       "      <th>25%</th>\n",
       "      <td>534.00</td>\n",
       "    </tr>\n",
       "    <tr>\n",
       "      <th>50%</th>\n",
       "      <td>624.50</td>\n",
       "    </tr>\n",
       "    <tr>\n",
       "      <th>75%</th>\n",
       "      <td>710.50</td>\n",
       "    </tr>\n",
       "    <tr>\n",
       "      <th>max</th>\n",
       "      <td>770.00</td>\n",
       "    </tr>\n",
       "  </tbody>\n",
       "</table>\n",
       "</div>"
      ],
      "text/plain": [
       "       visitors\n",
       "count     62.00\n",
       "mean     607.29\n",
       "std      114.40\n",
       "min      361.00\n",
       "25%      534.00\n",
       "50%      624.50\n",
       "75%      710.50\n",
       "max      770.00"
      ]
     },
     "metadata": {},
     "output_type": "display_data"
    },
    {
     "name": "stdout",
     "output_type": "stream",
     "text": [
      "Информация о visitors:\n",
      "<class 'pandas.core.frame.DataFrame'>\n",
      "RangeIndex: 62 entries, 0 to 61\n",
      "Data columns (total 3 columns):\n",
      " #   Column    Non-Null Count  Dtype \n",
      "---  ------    --------------  ----- \n",
      " 0   date      62 non-null     object\n",
      " 1   group     62 non-null     object\n",
      " 2   visitors  62 non-null     int64 \n",
      "dtypes: int64(1), object(2)\n",
      "memory usage: 1.6+ KB\n"
     ]
    },
    {
     "data": {
      "text/plain": [
       "None"
      ]
     },
     "metadata": {},
     "output_type": "display_data"
    },
    {
     "name": "stdout",
     "output_type": "stream",
     "text": [
      "Колличество дубликатов: 0\n"
     ]
    }
   ],
   "source": [
    "get_info(visitors)"
   ]
  },
  {
   "cell_type": "code",
   "execution_count": 8,
   "metadata": {},
   "outputs": [
    {
     "data": {
      "text/plain": [
       "['hypothesis', 'reach', 'impact', 'confidence', 'efforts']"
      ]
     },
     "execution_count": 8,
     "metadata": {},
     "output_type": "execute_result"
    }
   ],
   "source": [
    "# приведем к нижнему регистру названия столбцов\n",
    "\n",
    "hypothesis.columns = map(str.lower, hypothesis.columns)\n",
    "\n",
    "# сразу проверим названия столбцов\n",
    "\n",
    "hypothesis.columns.to_list()"
   ]
  },
  {
   "cell_type": "code",
   "execution_count": 9,
   "metadata": {},
   "outputs": [],
   "source": [
    "# преобразуем тип данных о времени\n",
    "\n",
    "visitors['date'] = visitors['date'].map(\n",
    "    lambda x: dt.datetime.strptime(x, '%Y-%m-%d')\n",
    ")\n",
    "orders['date'] = orders['date'].map(\n",
    "    lambda x: dt.datetime.strptime(x, '%Y-%m-%d')\n",
    ")  "
   ]
  },
  {
   "cell_type": "markdown",
   "metadata": {},
   "source": [
    "- привели названия столбцов к нижнему регистру,\n",
    "- изменили тип данных столбца с датой,\n",
    "- дубликаты и пропуски не обнаружили."
   ]
  },
  {
   "cell_type": "markdown",
   "metadata": {},
   "source": [
    "### Применение фреймворка ICE для приоритизации гипотез. Сортировка их по убыванию приоритета"
   ]
  },
  {
   "cell_type": "code",
   "execution_count": 10,
   "metadata": {},
   "outputs": [],
   "source": [
    "pd.set_option(\"max_colwidth\", 999)"
   ]
  },
  {
   "cell_type": "code",
   "execution_count": 11,
   "metadata": {},
   "outputs": [
    {
     "data": {
      "text/html": [
       "<div>\n",
       "<style scoped>\n",
       "    .dataframe tbody tr th:only-of-type {\n",
       "        vertical-align: middle;\n",
       "    }\n",
       "\n",
       "    .dataframe tbody tr th {\n",
       "        vertical-align: top;\n",
       "    }\n",
       "\n",
       "    .dataframe thead th {\n",
       "        text-align: right;\n",
       "    }\n",
       "</style>\n",
       "<table border=\"1\" class=\"dataframe\">\n",
       "  <thead>\n",
       "    <tr style=\"text-align: right;\">\n",
       "      <th></th>\n",
       "      <th>hypothesis</th>\n",
       "      <th>ice</th>\n",
       "    </tr>\n",
       "  </thead>\n",
       "  <tbody>\n",
       "    <tr>\n",
       "      <th>8</th>\n",
       "      <td>Запустить акцию, дающую скидку на товар в день рождения</td>\n",
       "      <td>16.20</td>\n",
       "    </tr>\n",
       "    <tr>\n",
       "      <th>0</th>\n",
       "      <td>Добавить два новых канала привлечения трафика, что позволит привлекать на 30% больше пользователей</td>\n",
       "      <td>13.33</td>\n",
       "    </tr>\n",
       "    <tr>\n",
       "      <th>7</th>\n",
       "      <td>Добавить форму подписки на все основные страницы, чтобы собрать базу клиентов для email-рассылок</td>\n",
       "      <td>11.20</td>\n",
       "    </tr>\n",
       "    <tr>\n",
       "      <th>6</th>\n",
       "      <td>Показать на главной странице баннеры с актуальными акциями и распродажами, чтобы увеличить конверсию</td>\n",
       "      <td>8.00</td>\n",
       "    </tr>\n",
       "    <tr>\n",
       "      <th>2</th>\n",
       "      <td>Добавить блоки рекомендаций товаров на сайт интернет магазина, чтобы повысить конверсию и средний чек заказа</td>\n",
       "      <td>7.00</td>\n",
       "    </tr>\n",
       "    <tr>\n",
       "      <th>1</th>\n",
       "      <td>Запустить собственную службу доставки, что сократит срок доставки заказов</td>\n",
       "      <td>2.00</td>\n",
       "    </tr>\n",
       "    <tr>\n",
       "      <th>5</th>\n",
       "      <td>Добавить страницу отзывов клиентов о магазине, что позволит увеличить количество заказов</td>\n",
       "      <td>1.33</td>\n",
       "    </tr>\n",
       "    <tr>\n",
       "      <th>3</th>\n",
       "      <td>Изменить структура категорий, что увеличит конверсию, т.к. пользователи быстрее найдут нужный товар</td>\n",
       "      <td>1.12</td>\n",
       "    </tr>\n",
       "    <tr>\n",
       "      <th>4</th>\n",
       "      <td>Изменить цвет фона главной страницы, чтобы увеличить вовлеченность пользователей</td>\n",
       "      <td>1.00</td>\n",
       "    </tr>\n",
       "  </tbody>\n",
       "</table>\n",
       "</div>"
      ],
      "text/plain": [
       "                                                                                                     hypothesis  \\\n",
       "8                                                       Запустить акцию, дающую скидку на товар в день рождения   \n",
       "0            Добавить два новых канала привлечения трафика, что позволит привлекать на 30% больше пользователей   \n",
       "7              Добавить форму подписки на все основные страницы, чтобы собрать базу клиентов для email-рассылок   \n",
       "6          Показать на главной странице баннеры с актуальными акциями и распродажами, чтобы увеличить конверсию   \n",
       "2  Добавить блоки рекомендаций товаров на сайт интернет магазина, чтобы повысить конверсию и средний чек заказа   \n",
       "1                                     Запустить собственную службу доставки, что сократит срок доставки заказов   \n",
       "5                      Добавить страницу отзывов клиентов о магазине, что позволит увеличить количество заказов   \n",
       "3           Изменить структура категорий, что увеличит конверсию, т.к. пользователи быстрее найдут нужный товар   \n",
       "4                              Изменить цвет фона главной страницы, чтобы увеличить вовлеченность пользователей   \n",
       "\n",
       "    ice  \n",
       "8 16.20  \n",
       "0 13.33  \n",
       "7 11.20  \n",
       "6  8.00  \n",
       "2  7.00  \n",
       "1  2.00  \n",
       "5  1.33  \n",
       "3  1.12  \n",
       "4  1.00  "
      ]
     },
     "execution_count": 11,
     "metadata": {},
     "output_type": "execute_result"
    }
   ],
   "source": [
    "# посчитаем ICE для гипотез\n",
    "\n",
    "hypothesis['ice'] = ( hypothesis['impact'] * hypothesis['confidence']) / hypothesis['efforts']\n",
    "sort_ice_hypothesis = hypothesis[['hypothesis', 'ice']].sort_values(by='ice', ascending=False).round(2)\n",
    "sort_ice_hypothesis"
   ]
  },
  {
   "cell_type": "code",
   "execution_count": 12,
   "metadata": {},
   "outputs": [
    {
     "name": "stdout",
     "output_type": "stream",
     "text": [
      "Наивысший ICE, равный 16.2, у гипотизы с индексом 8: \"Запустить акцию, дающую скидку на товар в день рождения\"\n"
     ]
    }
   ],
   "source": [
    "print('Наивысший ICE, равный {}, у гипотизы с индексом {}: \"{}\"'.format(\n",
    "    sort_ice_hypothesis['ice'][sort_ice_hypothesis.index[0]],\n",
    "    sort_ice_hypothesis.index[0],\n",
    "    sort_ice_hypothesis['hypothesis'][sort_ice_hypothesis.index[0]]\n",
    "))"
   ]
  },
  {
   "cell_type": "markdown",
   "metadata": {},
   "source": [
    "### Применение фреймворка RICE для приоритизации гипотез. Сортировка их по убыванию приоритета"
   ]
  },
  {
   "cell_type": "code",
   "execution_count": 13,
   "metadata": {},
   "outputs": [
    {
     "data": {
      "text/html": [
       "<div>\n",
       "<style scoped>\n",
       "    .dataframe tbody tr th:only-of-type {\n",
       "        vertical-align: middle;\n",
       "    }\n",
       "\n",
       "    .dataframe tbody tr th {\n",
       "        vertical-align: top;\n",
       "    }\n",
       "\n",
       "    .dataframe thead th {\n",
       "        text-align: right;\n",
       "    }\n",
       "</style>\n",
       "<table border=\"1\" class=\"dataframe\">\n",
       "  <thead>\n",
       "    <tr style=\"text-align: right;\">\n",
       "      <th></th>\n",
       "      <th>hypothesis</th>\n",
       "      <th>rice</th>\n",
       "    </tr>\n",
       "  </thead>\n",
       "  <tbody>\n",
       "    <tr>\n",
       "      <th>7</th>\n",
       "      <td>Добавить форму подписки на все основные страницы, чтобы собрать базу клиентов для email-рассылок</td>\n",
       "      <td>112.00</td>\n",
       "    </tr>\n",
       "    <tr>\n",
       "      <th>2</th>\n",
       "      <td>Добавить блоки рекомендаций товаров на сайт интернет магазина, чтобы повысить конверсию и средний чек заказа</td>\n",
       "      <td>56.00</td>\n",
       "    </tr>\n",
       "    <tr>\n",
       "      <th>0</th>\n",
       "      <td>Добавить два новых канала привлечения трафика, что позволит привлекать на 30% больше пользователей</td>\n",
       "      <td>40.00</td>\n",
       "    </tr>\n",
       "    <tr>\n",
       "      <th>6</th>\n",
       "      <td>Показать на главной странице баннеры с актуальными акциями и распродажами, чтобы увеличить конверсию</td>\n",
       "      <td>40.00</td>\n",
       "    </tr>\n",
       "    <tr>\n",
       "      <th>8</th>\n",
       "      <td>Запустить акцию, дающую скидку на товар в день рождения</td>\n",
       "      <td>16.20</td>\n",
       "    </tr>\n",
       "    <tr>\n",
       "      <th>3</th>\n",
       "      <td>Изменить структура категорий, что увеличит конверсию, т.к. пользователи быстрее найдут нужный товар</td>\n",
       "      <td>9.00</td>\n",
       "    </tr>\n",
       "    <tr>\n",
       "      <th>1</th>\n",
       "      <td>Запустить собственную службу доставки, что сократит срок доставки заказов</td>\n",
       "      <td>4.00</td>\n",
       "    </tr>\n",
       "    <tr>\n",
       "      <th>5</th>\n",
       "      <td>Добавить страницу отзывов клиентов о магазине, что позволит увеличить количество заказов</td>\n",
       "      <td>4.00</td>\n",
       "    </tr>\n",
       "    <tr>\n",
       "      <th>4</th>\n",
       "      <td>Изменить цвет фона главной страницы, чтобы увеличить вовлеченность пользователей</td>\n",
       "      <td>3.00</td>\n",
       "    </tr>\n",
       "  </tbody>\n",
       "</table>\n",
       "</div>"
      ],
      "text/plain": [
       "                                                                                                     hypothesis  \\\n",
       "7              Добавить форму подписки на все основные страницы, чтобы собрать базу клиентов для email-рассылок   \n",
       "2  Добавить блоки рекомендаций товаров на сайт интернет магазина, чтобы повысить конверсию и средний чек заказа   \n",
       "0            Добавить два новых канала привлечения трафика, что позволит привлекать на 30% больше пользователей   \n",
       "6          Показать на главной странице баннеры с актуальными акциями и распродажами, чтобы увеличить конверсию   \n",
       "8                                                       Запустить акцию, дающую скидку на товар в день рождения   \n",
       "3           Изменить структура категорий, что увеличит конверсию, т.к. пользователи быстрее найдут нужный товар   \n",
       "1                                     Запустить собственную службу доставки, что сократит срок доставки заказов   \n",
       "5                      Добавить страницу отзывов клиентов о магазине, что позволит увеличить количество заказов   \n",
       "4                              Изменить цвет фона главной страницы, чтобы увеличить вовлеченность пользователей   \n",
       "\n",
       "    rice  \n",
       "7 112.00  \n",
       "2  56.00  \n",
       "0  40.00  \n",
       "6  40.00  \n",
       "8  16.20  \n",
       "3   9.00  \n",
       "1   4.00  \n",
       "5   4.00  \n",
       "4   3.00  "
      ]
     },
     "execution_count": 13,
     "metadata": {},
     "output_type": "execute_result"
    }
   ],
   "source": [
    "# Посчитаем RICE для гипотез\n",
    "\n",
    "hypothesis['rice'] = (hypothesis['reach'] *  hypothesis['impact'] * hypothesis['confidence']) / hypothesis['efforts']\n",
    "sort_rice_hypothesis = hypothesis[['hypothesis', 'rice']].sort_values(by='rice', ascending=False).round(2)\n",
    "sort_rice_hypothesis"
   ]
  },
  {
   "cell_type": "code",
   "execution_count": 14,
   "metadata": {},
   "outputs": [
    {
     "name": "stdout",
     "output_type": "stream",
     "text": [
      "Наивысший RICE, равный 112.0, у гипотизы с индексом 7: \"Добавить форму подписки на все основные страницы, чтобы собрать базу клиентов для email-рассылок\"\n"
     ]
    }
   ],
   "source": [
    "print('Наивысший RICE, равный {}, у гипотизы с индексом {}: \"{}\"'.format(\n",
    "    sort_rice_hypothesis['rice'][sort_rice_hypothesis.index[0]],\n",
    "    sort_rice_hypothesis.index[0],\n",
    "    sort_rice_hypothesis['hypothesis'][sort_rice_hypothesis.index[0]]\n",
    "))"
   ]
  },
  {
   "cell_type": "markdown",
   "metadata": {},
   "source": [
    "### Анализ, как изменилась приоритизация гипотез при применении RICE вместо ICE"
   ]
  },
  {
   "cell_type": "code",
   "execution_count": 15,
   "metadata": {},
   "outputs": [
    {
     "data": {
      "text/html": [
       "<div>\n",
       "<style scoped>\n",
       "    .dataframe tbody tr th:only-of-type {\n",
       "        vertical-align: middle;\n",
       "    }\n",
       "\n",
       "    .dataframe tbody tr th {\n",
       "        vertical-align: top;\n",
       "    }\n",
       "\n",
       "    .dataframe thead th {\n",
       "        text-align: right;\n",
       "    }\n",
       "</style>\n",
       "<table border=\"1\" class=\"dataframe\">\n",
       "  <thead>\n",
       "    <tr style=\"text-align: right;\">\n",
       "      <th></th>\n",
       "      <th>hypothesis</th>\n",
       "      <th>reach</th>\n",
       "      <th>impact</th>\n",
       "      <th>confidence</th>\n",
       "      <th>efforts</th>\n",
       "      <th>ice</th>\n",
       "      <th>rice</th>\n",
       "    </tr>\n",
       "  </thead>\n",
       "  <tbody>\n",
       "    <tr>\n",
       "      <th>0</th>\n",
       "      <td>Добавить два новых канала привлечения трафика, что позволит привлекать на 30% больше пользователей</td>\n",
       "      <td>3</td>\n",
       "      <td>10</td>\n",
       "      <td>8</td>\n",
       "      <td>6</td>\n",
       "      <td>13.33</td>\n",
       "      <td>40.00</td>\n",
       "    </tr>\n",
       "    <tr>\n",
       "      <th>1</th>\n",
       "      <td>Запустить собственную службу доставки, что сократит срок доставки заказов</td>\n",
       "      <td>2</td>\n",
       "      <td>5</td>\n",
       "      <td>4</td>\n",
       "      <td>10</td>\n",
       "      <td>2.00</td>\n",
       "      <td>4.00</td>\n",
       "    </tr>\n",
       "    <tr>\n",
       "      <th>2</th>\n",
       "      <td>Добавить блоки рекомендаций товаров на сайт интернет магазина, чтобы повысить конверсию и средний чек заказа</td>\n",
       "      <td>8</td>\n",
       "      <td>3</td>\n",
       "      <td>7</td>\n",
       "      <td>3</td>\n",
       "      <td>7.00</td>\n",
       "      <td>56.00</td>\n",
       "    </tr>\n",
       "    <tr>\n",
       "      <th>3</th>\n",
       "      <td>Изменить структура категорий, что увеличит конверсию, т.к. пользователи быстрее найдут нужный товар</td>\n",
       "      <td>8</td>\n",
       "      <td>3</td>\n",
       "      <td>3</td>\n",
       "      <td>8</td>\n",
       "      <td>1.12</td>\n",
       "      <td>9.00</td>\n",
       "    </tr>\n",
       "    <tr>\n",
       "      <th>4</th>\n",
       "      <td>Изменить цвет фона главной страницы, чтобы увеличить вовлеченность пользователей</td>\n",
       "      <td>3</td>\n",
       "      <td>1</td>\n",
       "      <td>1</td>\n",
       "      <td>1</td>\n",
       "      <td>1.00</td>\n",
       "      <td>3.00</td>\n",
       "    </tr>\n",
       "    <tr>\n",
       "      <th>5</th>\n",
       "      <td>Добавить страницу отзывов клиентов о магазине, что позволит увеличить количество заказов</td>\n",
       "      <td>3</td>\n",
       "      <td>2</td>\n",
       "      <td>2</td>\n",
       "      <td>3</td>\n",
       "      <td>1.33</td>\n",
       "      <td>4.00</td>\n",
       "    </tr>\n",
       "    <tr>\n",
       "      <th>6</th>\n",
       "      <td>Показать на главной странице баннеры с актуальными акциями и распродажами, чтобы увеличить конверсию</td>\n",
       "      <td>5</td>\n",
       "      <td>3</td>\n",
       "      <td>8</td>\n",
       "      <td>3</td>\n",
       "      <td>8.00</td>\n",
       "      <td>40.00</td>\n",
       "    </tr>\n",
       "    <tr>\n",
       "      <th>7</th>\n",
       "      <td>Добавить форму подписки на все основные страницы, чтобы собрать базу клиентов для email-рассылок</td>\n",
       "      <td>10</td>\n",
       "      <td>7</td>\n",
       "      <td>8</td>\n",
       "      <td>5</td>\n",
       "      <td>11.20</td>\n",
       "      <td>112.00</td>\n",
       "    </tr>\n",
       "    <tr>\n",
       "      <th>8</th>\n",
       "      <td>Запустить акцию, дающую скидку на товар в день рождения</td>\n",
       "      <td>1</td>\n",
       "      <td>9</td>\n",
       "      <td>9</td>\n",
       "      <td>5</td>\n",
       "      <td>16.20</td>\n",
       "      <td>16.20</td>\n",
       "    </tr>\n",
       "  </tbody>\n",
       "</table>\n",
       "</div>"
      ],
      "text/plain": [
       "                                                                                                     hypothesis  \\\n",
       "0            Добавить два новых канала привлечения трафика, что позволит привлекать на 30% больше пользователей   \n",
       "1                                     Запустить собственную службу доставки, что сократит срок доставки заказов   \n",
       "2  Добавить блоки рекомендаций товаров на сайт интернет магазина, чтобы повысить конверсию и средний чек заказа   \n",
       "3           Изменить структура категорий, что увеличит конверсию, т.к. пользователи быстрее найдут нужный товар   \n",
       "4                              Изменить цвет фона главной страницы, чтобы увеличить вовлеченность пользователей   \n",
       "5                      Добавить страницу отзывов клиентов о магазине, что позволит увеличить количество заказов   \n",
       "6          Показать на главной странице баннеры с актуальными акциями и распродажами, чтобы увеличить конверсию   \n",
       "7              Добавить форму подписки на все основные страницы, чтобы собрать базу клиентов для email-рассылок   \n",
       "8                                                       Запустить акцию, дающую скидку на товар в день рождения   \n",
       "\n",
       "   reach  impact  confidence  efforts   ice   rice  \n",
       "0      3      10           8        6 13.33  40.00  \n",
       "1      2       5           4       10  2.00   4.00  \n",
       "2      8       3           7        3  7.00  56.00  \n",
       "3      8       3           3        8  1.12   9.00  \n",
       "4      3       1           1        1  1.00   3.00  \n",
       "5      3       2           2        3  1.33   4.00  \n",
       "6      5       3           8        3  8.00  40.00  \n",
       "7     10       7           8        5 11.20 112.00  \n",
       "8      1       9           9        5 16.20  16.20  "
      ]
     },
     "execution_count": 15,
     "metadata": {},
     "output_type": "execute_result"
    }
   ],
   "source": [
    "# посмотрим на таблицу\n",
    "\n",
    "hypothesis"
   ]
  },
  {
   "cell_type": "markdown",
   "metadata": {},
   "source": [
    "**Выводы**\n",
    "- пятёрка лучших гипотез по методу `ICE` и `RICE`, совпадает (0, 2, 6, 7, 8),\n",
    "- для `ICE` лучшая гипотеза с индексом `8`, а для `RICE` под номером `7`.\n",
    "\n",
    "Так получилось потому, что параметр reach ,для 7-ой гипотезы равен 10, в то время как у остальных гипотез он меньше.\n",
    "Параметр охвата (Reach), использующийся в методе RICE изменил приоритетность, полученную по методу ICE.\n",
    "\n",
    "Кроме силы гипотезы нужно учитывать и то, сколько пользователей она затронет."
   ]
  },
  {
   "cell_type": "markdown",
   "metadata": {},
   "source": [
    "## Часть 2. Анализ A/B-теста"
   ]
  },
  {
   "cell_type": "markdown",
   "metadata": {},
   "source": [
    "### Проверим выборки на предмет пользователей, попавших в обе группы:"
   ]
  },
  {
   "cell_type": "code",
   "execution_count": 16,
   "metadata": {},
   "outputs": [
    {
     "data": {
      "text/html": [
       "<div>\n",
       "<style scoped>\n",
       "    .dataframe tbody tr th:only-of-type {\n",
       "        vertical-align: middle;\n",
       "    }\n",
       "\n",
       "    .dataframe tbody tr th {\n",
       "        vertical-align: top;\n",
       "    }\n",
       "\n",
       "    .dataframe thead th {\n",
       "        text-align: right;\n",
       "    }\n",
       "</style>\n",
       "<table border=\"1\" class=\"dataframe\">\n",
       "  <thead>\n",
       "    <tr style=\"text-align: right;\">\n",
       "      <th></th>\n",
       "      <th>groups</th>\n",
       "      <th>group_names</th>\n",
       "    </tr>\n",
       "    <tr>\n",
       "      <th>visitorId</th>\n",
       "      <th></th>\n",
       "      <th></th>\n",
       "    </tr>\n",
       "  </thead>\n",
       "  <tbody>\n",
       "    <tr>\n",
       "      <th>8300375</th>\n",
       "      <td>2</td>\n",
       "      <td>[B, A]</td>\n",
       "    </tr>\n",
       "    <tr>\n",
       "      <th>199603092</th>\n",
       "      <td>2</td>\n",
       "      <td>[A, B]</td>\n",
       "    </tr>\n",
       "    <tr>\n",
       "      <th>232979603</th>\n",
       "      <td>2</td>\n",
       "      <td>[B, A]</td>\n",
       "    </tr>\n",
       "    <tr>\n",
       "      <th>237748145</th>\n",
       "      <td>2</td>\n",
       "      <td>[B, A]</td>\n",
       "    </tr>\n",
       "    <tr>\n",
       "      <th>276558944</th>\n",
       "      <td>2</td>\n",
       "      <td>[B, A]</td>\n",
       "    </tr>\n",
       "  </tbody>\n",
       "</table>\n",
       "</div>"
      ],
      "text/plain": [
       "           groups group_names\n",
       "visitorId                    \n",
       "8300375         2      [B, A]\n",
       "199603092       2      [A, B]\n",
       "232979603       2      [B, A]\n",
       "237748145       2      [B, A]\n",
       "276558944       2      [B, A]"
      ]
     },
     "metadata": {},
     "output_type": "display_data"
    },
    {
     "data": {
      "text/plain": [
       "58"
      ]
     },
     "execution_count": 16,
     "metadata": {},
     "output_type": "execute_result"
    }
   ],
   "source": [
    "# выборка пользователей, попавших в обе выборки\n",
    "\n",
    "duplicated_users = orders.groupby('visitorId').agg({'group': ['nunique', 'unique']})\n",
    "duplicated_users.columns = ['groups', 'group_names']\n",
    "duplicated_users = duplicated_users.query('groups > 1')\n",
    "display(duplicated_users.head())\n",
    "len(duplicated_users)"
   ]
  },
  {
   "cell_type": "code",
   "execution_count": 17,
   "metadata": {},
   "outputs": [
    {
     "name": "stdout",
     "output_type": "stream",
     "text": [
      "Общее количество пользователей до удаления \"двойных\" пользователей- 1031\n",
      "количество пользователей в группе А - 503\n",
      "количество пользователей в группе В - 586\n"
     ]
    }
   ],
   "source": [
    "print('Общее количество пользователей до удаления \"двойных\" пользователей-', orders['visitorId'].nunique())\n",
    "print('количество пользователей в группе А -', orders.query('group == \"A\"')['visitorId'].nunique())\n",
    "print('количество пользователей в группе В -', orders.query('group == \"B\"')['visitorId'].nunique())"
   ]
  },
  {
   "cell_type": "markdown",
   "metadata": {},
   "source": [
    "Пользователей попавших в обе группы - 58, это около 10% в каждой группе. Их участие сразу в обоих группах может субъективно исказить результаты, а также повлиять на расчет выбросов. Но поскольку нам известны только id пользователей, совершивших хоть один платеж, а \"неплатящие\" неизвестны, то удаление таких пользователей может также исказить результаты в сторону \"неплатящих\". Оставим их в данных, а результаты будем анализировать предварительно разделив данные по группам А и В."
   ]
  },
  {
   "cell_type": "markdown",
   "metadata": {},
   "source": [
    "### Построим график кумулятивной выручки по группам "
   ]
  },
  {
   "cell_type": "code",
   "execution_count": 18,
   "metadata": {},
   "outputs": [
    {
     "data": {
      "text/html": [
       "<div>\n",
       "<style scoped>\n",
       "    .dataframe tbody tr th:only-of-type {\n",
       "        vertical-align: middle;\n",
       "    }\n",
       "\n",
       "    .dataframe tbody tr th {\n",
       "        vertical-align: top;\n",
       "    }\n",
       "\n",
       "    .dataframe thead th {\n",
       "        text-align: right;\n",
       "    }\n",
       "</style>\n",
       "<table border=\"1\" class=\"dataframe\">\n",
       "  <thead>\n",
       "    <tr style=\"text-align: right;\">\n",
       "      <th></th>\n",
       "      <th>date</th>\n",
       "      <th>group</th>\n",
       "      <th>orders</th>\n",
       "      <th>buyers</th>\n",
       "      <th>revenue</th>\n",
       "      <th>visitors</th>\n",
       "    </tr>\n",
       "  </thead>\n",
       "  <tbody>\n",
       "    <tr>\n",
       "      <th>0</th>\n",
       "      <td>2019-08-01</td>\n",
       "      <td>A</td>\n",
       "      <td>24</td>\n",
       "      <td>20</td>\n",
       "      <td>148579</td>\n",
       "      <td>719</td>\n",
       "    </tr>\n",
       "    <tr>\n",
       "      <th>1</th>\n",
       "      <td>2019-08-01</td>\n",
       "      <td>B</td>\n",
       "      <td>21</td>\n",
       "      <td>20</td>\n",
       "      <td>101217</td>\n",
       "      <td>713</td>\n",
       "    </tr>\n",
       "    <tr>\n",
       "      <th>2</th>\n",
       "      <td>2019-08-02</td>\n",
       "      <td>A</td>\n",
       "      <td>44</td>\n",
       "      <td>38</td>\n",
       "      <td>242401</td>\n",
       "      <td>1338</td>\n",
       "    </tr>\n",
       "    <tr>\n",
       "      <th>3</th>\n",
       "      <td>2019-08-02</td>\n",
       "      <td>B</td>\n",
       "      <td>45</td>\n",
       "      <td>43</td>\n",
       "      <td>266748</td>\n",
       "      <td>1294</td>\n",
       "    </tr>\n",
       "    <tr>\n",
       "      <th>4</th>\n",
       "      <td>2019-08-03</td>\n",
       "      <td>A</td>\n",
       "      <td>68</td>\n",
       "      <td>62</td>\n",
       "      <td>354874</td>\n",
       "      <td>1845</td>\n",
       "    </tr>\n",
       "  </tbody>\n",
       "</table>\n",
       "</div>"
      ],
      "text/plain": [
       "        date group  orders  buyers  revenue  visitors\n",
       "0 2019-08-01     A      24      20   148579       719\n",
       "1 2019-08-01     B      21      20   101217       713\n",
       "2 2019-08-02     A      44      38   242401      1338\n",
       "3 2019-08-02     B      45      43   266748      1294\n",
       "4 2019-08-03     A      68      62   354874      1845"
      ]
     },
     "execution_count": 18,
     "metadata": {},
     "output_type": "execute_result"
    }
   ],
   "source": [
    "# создадим массив уникальных пар значений дат и групп теста\n",
    "datesGroups = orders[['date','group']].drop_duplicates()\n",
    "\n",
    "# получаем агрегированные кумулятивные по дням данные о заказах \n",
    "ordersAggregated = datesGroups.apply(lambda x: orders[np.logical_and(orders['date'] <= x['date'], orders['group'] == x['group'])]. \\\n",
    "                                     agg({'date' : 'max', \n",
    "                                          'group' : 'max', \n",
    "                                          'transactionId' : pd.Series.nunique, \n",
    "                                          'visitorId' : pd.Series.nunique, \n",
    "                                          'revenue' : 'sum'}), axis=1).sort_values(by=['date','group'])\n",
    "\n",
    "# получаем агрегированные кумулятивные по дням данные о посетителях интернет-магазина \n",
    "visitorsAggregated = datesGroups.apply(lambda x: visitors[np.logical_and(visitors['date'] <= x['date'], visitors['group'] == x['group'])]. \\\n",
    "                                       agg({'date' : 'max', \n",
    "                                            'group' : 'max', \n",
    "                                            'visitors' : 'sum'}), axis=1).sort_values(by=['date','group'])\n",
    "\n",
    "# объединим кумулятивные данные в одной таблице и присваиваем ее столбцам понятные названия\n",
    "cumulativeData = ordersAggregated.merge(visitorsAggregated, left_on=['date', 'group'], right_on=['date', 'group'])\n",
    "\n",
    "# переименуем столбцы\n",
    "cumulativeData.columns = ['date', 'group', 'orders', 'buyers', 'revenue', 'visitors']\n",
    "\n",
    "cumulativeData.head(5)"
   ]
  },
  {
   "cell_type": "code",
   "execution_count": 19,
   "metadata": {},
   "outputs": [
    {
     "data": {
      "image/png": "[encoded data removed]",
      "text/plain": [
       "<Figure size 1080x360 with 1 Axes>"
      ]
     },
     "metadata": {
      "needs_background": "light"
     },
     "output_type": "display_data"
    }
   ],
   "source": [
    "# датафрейм с кумулятивным количеством заказов и кумулятивной выручкой по дням в группе А\n",
    "cumulativeRevenueA = cumulativeData[cumulativeData['group']=='A'][['date','revenue', 'orders']]\n",
    "# датафрейм с кумулятивным количеством заказов и кумулятивной выручкой по дням в группе B\n",
    "cumulativeRevenueB = cumulativeData[cumulativeData['group']=='B'][['date','revenue', 'orders']]\n",
    "\n",
    "from pandas.plotting import register_matplotlib_converters\n",
    "register_matplotlib_converters()\n",
    "\n",
    "plt.figure(figsize=(15,5))\n",
    "# строим график выручки группы А\n",
    "plt.plot(cumulativeRevenueA['date'], cumulativeRevenueA['revenue'], label='Кум.выручка группы A')\n",
    "# строим график выручки группы B\n",
    "plt.plot(cumulativeRevenueB['date'], cumulativeRevenueB['revenue'], label='Кум.выручка группы B')\n",
    "plt.title('График кумулятивной выручки по группам\\n  ')\n",
    "plt.xlabel('\\nДата')\n",
    "plt.ylabel('Выручка\\n')\n",
    "plt.grid()\n",
    "plt.legend() ;"
   ]
  },
  {
   "cell_type": "markdown",
   "metadata": {},
   "source": [
    "**Вывод:**\n",
    "\n",
    "Наблюдается резкий скачек в графике у группы В, возможно имеют место аномально большое количество заказов или аномально высокий средний чек. Запомним этот момент 19.08.2019."
   ]
  },
  {
   "cell_type": "markdown",
   "metadata": {},
   "source": [
    "### Построим график кумулятивного среднего чека по группам"
   ]
  },
  {
   "cell_type": "markdown",
   "metadata": {},
   "source": [
    "Чтобы построить графики среднего кумулятивного чека по группам — разделим кумулятивную выручку на кумулятивное число заказов."
   ]
  },
  {
   "cell_type": "code",
   "execution_count": 20,
   "metadata": {},
   "outputs": [
    {
     "data": {
      "image/png": "[encoded data removed]",
      "text/plain": [
       "<Figure size 1080x360 with 1 Axes>"
      ]
     },
     "metadata": {
      "needs_background": "light"
     },
     "output_type": "display_data"
    }
   ],
   "source": [
    "plt.figure(figsize=(15,5))\n",
    "plt.grid()\n",
    "plt.plot(cumulativeRevenueA['date'], cumulativeRevenueA['revenue']/cumulativeRevenueA['orders'], label='A')\n",
    "plt.plot(cumulativeRevenueB['date'], cumulativeRevenueB['revenue']/cumulativeRevenueB['orders'], label='B')\n",
    "plt.title('График кумулятивного среднего чека по группам\\n  ')\n",
    "plt.xlabel('\\nДата')\n",
    "plt.ylabel('Сумма среднего чека\\n')\n",
    "plt.legend();"
   ]
  },
  {
   "cell_type": "markdown",
   "metadata": {},
   "source": [
    "**Вывод**\n",
    "\n",
    "Ком.значение среднего чека по сегментам нестабильно. Возможно имеются аномальные значения (выбросы), которые искажают общую картину."
   ]
  },
  {
   "cell_type": "markdown",
   "metadata": {},
   "source": [
    "### Построим график относительного изменения кумулятивного среднего чека группы B к группе A"
   ]
  },
  {
   "cell_type": "code",
   "execution_count": 21,
   "metadata": {},
   "outputs": [
    {
     "data": {
      "image/png": "[encoded data removed]",
      "text/plain": [
       "<Figure size 1080x360 with 1 Axes>"
      ]
     },
     "metadata": {
      "needs_background": "light"
     },
     "output_type": "display_data"
    }
   ],
   "source": [
    "# собираем данные в одном датафрейме\n",
    "mergedCumulativeRevenue = cumulativeRevenueA.merge(cumulativeRevenueB, left_on='date', right_on='date', how='left', suffixes=['A', 'B'])\n",
    "\n",
    "# cтроим отношение средних чеков\n",
    "plt.figure(figsize=(15,5))\n",
    "plt.grid()\n",
    "plt.plot(mergedCumulativeRevenue['date'], (mergedCumulativeRevenue['revenueB']/mergedCumulativeRevenue['ordersB'])/(mergedCumulativeRevenue['revenueA']/mergedCumulativeRevenue['ordersA'])-1)\n",
    "plt.title('График относительного изменения кумулятивного среднего чека группы B к группе A\\n  ')\n",
    "plt.xlabel('\\nДата')\n",
    "plt.ylabel('Изменение среденего чека \\n')\n",
    "# добавляем ось X\n",
    "plt.axhline(y=0, color='black', linestyle='--');"
   ]
  },
  {
   "cell_type": "markdown",
   "metadata": {},
   "source": [
    "**Вывод**\n",
    "\n",
    "Глядя на график относительного различия в среднем чеке между группами, видим как сильно меняются значения в определенные даты. Веротяно, тогда и были совершены аномальные заказы."
   ]
  },
  {
   "cell_type": "markdown",
   "metadata": {},
   "source": [
    "### Построим график кумулятивной конверсии по группам"
   ]
  },
  {
   "cell_type": "code",
   "execution_count": 22,
   "metadata": {},
   "outputs": [
    {
     "data": {
      "image/png": "[encoded data removed]",
      "text/plain": [
       "<Figure size 1080x360 with 1 Axes>"
      ]
     },
     "metadata": {
      "needs_background": "light"
     },
     "output_type": "display_data"
    }
   ],
   "source": [
    "# считаем кумулятивную конверсию\n",
    "cumulativeData['conversion'] = cumulativeData['orders']/cumulativeData['visitors']\n",
    "\n",
    "# отделяем данные по группе A\n",
    "cumulativeDataA = cumulativeData[cumulativeData['group']=='A']\n",
    "\n",
    "# отделяем данные по группе B\n",
    "cumulativeDataB = cumulativeData[cumulativeData['group']=='B']\n",
    "\n",
    "# строим графики\n",
    "plt.figure(figsize=(15,5))\n",
    "plt.grid()\n",
    "plt.plot(cumulativeDataA['date'], cumulativeDataA['conversion'], label='A')\n",
    "plt.plot(cumulativeDataB['date'], cumulativeDataB['conversion'], label='B')\n",
    "plt.legend()\n",
    "plt.title('График кумулятивной конверсии по группам\\n  ')\n",
    "plt.xlabel('\\nДата')\n",
    "plt.ylabel('Конверсия\\n')\n",
    "# задаем масштаб осей\n",
    "plt.axis([dt.datetime(2019, 8, 1), dt.datetime(2019, 9, 1), 0, 0.05]);"
   ]
  },
  {
   "cell_type": "markdown",
   "metadata": {},
   "source": [
    "**Вывод**\n",
    "\n",
    "Сначала сегмент `А` имел большую конверсию, но чуть позже сегмент `В` выровнялся и зафиксировался больше значения сегмента `А`."
   ]
  },
  {
   "cell_type": "markdown",
   "metadata": {},
   "source": [
    "### Построим график относительного изменения кумулятивной конверсии группы B к группе A"
   ]
  },
  {
   "cell_type": "code",
   "execution_count": 23,
   "metadata": {},
   "outputs": [
    {
     "data": {
      "image/png": "[encoded data removed]",
      "text/plain": [
       "<Figure size 1080x360 with 1 Axes>"
      ]
     },
     "metadata": {
      "needs_background": "light"
     },
     "output_type": "display_data"
    }
   ],
   "source": [
    "mergedCumulativeConversions = cumulativeDataA[['date','conversion']].merge(cumulativeDataB[['date','conversion']], left_on='date', right_on='date', how='left', suffixes=['A', 'B'])\n",
    "plt.figure(figsize=(15,5))\n",
    "plt.grid()\n",
    "plt.plot(mergedCumulativeConversions['date'], mergedCumulativeConversions['conversionB']/mergedCumulativeConversions['conversionA']-1, label=\"Относительный прирост конверсии группы B относительно группы A\")\n",
    "plt.legend()\n",
    "\n",
    "plt.axhline(y=0, color='black', linestyle='--')\n",
    "plt.axhline(y=0.2, color='grey', linestyle='--')\n",
    "plt.axis([\"2019-08-01\", '2019-09-01', -0.4, 0.4])\n",
    "plt.title('График относительного изменения кумулятивной конверсии группы B к группе A\\n  ')\n",
    "plt.xlabel('\\nДата')\n",
    "plt.ylabel('Относительне изменение конверсии\\n');"
   ]
  },
  {
   "cell_type": "markdown",
   "metadata": {},
   "source": [
    "**Вывод**\n",
    "\n",
    "Почти с самого начала группа `В` лидирует по конверсии. Приняла стабильные +12% относительно группы `А`."
   ]
  },
  {
   "cell_type": "markdown",
   "metadata": {},
   "source": [
    "### Построим точечный график количества заказов по пользователям для двух групп"
   ]
  },
  {
   "cell_type": "code",
   "execution_count": 24,
   "metadata": {},
   "outputs": [
    {
     "data": {
      "image/png": "[encoded data removed]",
      "text/plain": [
       "<Figure size 1080x360 with 1 Axes>"
      ]
     },
     "metadata": {
      "needs_background": "light"
     },
     "output_type": "display_data"
    }
   ],
   "source": [
    "ordersByUsersA = orders.query('group == \"A\"').groupby('visitorId',as_index=False)['transactionId'].count()\n",
    "ordersByUsersA.columns = ['visitorId', 'orders']\n",
    "\n",
    "plt.figure(figsize=(15,5))\n",
    "plt.grid()\n",
    "plt.title('График количества заказов по пользователям\\n  ')\n",
    "plt.xlabel('\\nКол-во пользователей')\n",
    "plt.ylabel('Кол-во заказов\\n')\n",
    "x_values = pd.Series(range(0, len(ordersByUsersA)))\n",
    "plt.scatter(x_values, ordersByUsersA['orders']);"
   ]
  },
  {
   "cell_type": "code",
   "execution_count": 25,
   "metadata": {},
   "outputs": [
    {
     "data": {
      "image/png": "[encoded data removed]",
      "text/plain": [
       "<Figure size 1080x360 with 1 Axes>"
      ]
     },
     "metadata": {
      "needs_background": "light"
     },
     "output_type": "display_data"
    }
   ],
   "source": [
    "ordersByUsersB = orders.query('group == \"B\"').groupby('visitorId',as_index=False)['transactionId'].count()\n",
    "ordersByUsersB.columns = ['visitorId', 'orders']\n",
    "\n",
    "plt.figure(figsize=(15,5))\n",
    "plt.grid()\n",
    "plt.title('График количества заказов по пользователям\\n  ')\n",
    "plt.xlabel('\\nКол-во пользователей')\n",
    "plt.ylabel('Кол-во заказов\\n')\n",
    "x_values = pd.Series(range(0, len(ordersByUsersB)))\n",
    "plt.scatter(x_values, ordersByUsersB['orders']);"
   ]
  },
  {
   "cell_type": "markdown",
   "metadata": {},
   "source": [
    "**Вывод**\n",
    "\n",
    "- больше всего пользователей совершивших 1 заказ,\n",
    "- совершивших 2 заказа значительно меньше,\n",
    "- Встречаются пользователи, совершившие 3 и более заказов возможно они будут являться выбросами, стоит посчитать выборочные перцентили."
   ]
  },
  {
   "cell_type": "markdown",
   "metadata": {},
   "source": [
    "### Посчитаем 95-й и 99-й перцентили количества заказов на пользователя"
   ]
  },
  {
   "cell_type": "code",
   "execution_count": 26,
   "metadata": {},
   "outputs": [
    {
     "name": "stdout",
     "output_type": "stream",
     "text": [
      "[2.   3.98]\n",
      "[2.   3.15]\n"
     ]
    }
   ],
   "source": [
    "# Метод np.percentile('column', [percentile1, percentile2]) находит перцентили.\n",
    "\n",
    "print(np.percentile(ordersByUsersA['orders'], [95, 99])) \n",
    "print(np.percentile(ordersByUsersB['orders'], [95, 99])) "
   ]
  },
  {
   "cell_type": "markdown",
   "metadata": {},
   "source": [
    "В группе А не более 5% клиентов, которые оформили более 2 заказов, и не более 1% оформивших более 3 заказов.\n",
    "\n",
    "В группе В не более 5% клиентов, которые оформили более 2 заказов, и не более 1% оформивших более 3 заказов."
   ]
  },
  {
   "cell_type": "markdown",
   "metadata": {},
   "source": [
    "**Вывод**\n",
    "\n",
    "95-й и 99-й перцентили количества заказов на одного пользователя соответственно:\n",
    "\n",
    "- для группы А: 2 и 3.98 заказа на пользователя\n",
    "- для группы В: 2 и 3.15 заказа на пользователя\n",
    "\n",
    "Примем за аномальных пользователей в обоих группах тех, кто совершил от 3 заказов и более.\n",
    "Так мы уберём 1-3% пользователей с наибольшим числом заказов."
   ]
  },
  {
   "cell_type": "markdown",
   "metadata": {},
   "source": [
    "### Построим точечный график стоимостей заказов"
   ]
  },
  {
   "cell_type": "code",
   "execution_count": 27,
   "metadata": {},
   "outputs": [
    {
     "data": {
      "text/plain": [
       "<Figure size 1080x360 with 0 Axes>"
      ]
     },
     "metadata": {},
     "output_type": "display_data"
    },
    {
     "data": {
      "image/png": "[encoded data removed]",
      "text/plain": [
       "<Figure size 1080x360 with 1 Axes>"
      ]
     },
     "metadata": {
      "needs_background": "light"
     },
     "output_type": "display_data"
    },
    {
     "data": {
      "image/png": "[encoded data removed]",
      "text/plain": [
       "<Figure size 1080x360 with 1 Axes>"
      ]
     },
     "metadata": {
      "needs_background": "light"
     },
     "output_type": "display_data"
    }
   ],
   "source": [
    "revenue_per_ordersA = orders.query('group == \"A\"')['revenue']\n",
    "revenue_per_ordersB = orders.query('group == \"B\"')['revenue']\n",
    "\n",
    "plt.figure(figsize=(15,5))\n",
    "\n",
    "x_values = pd.Series(range(0,len(revenue_per_ordersA)))\n",
    "plt.figure(figsize=(15,5))\n",
    "plt.grid()\n",
    "plt.title('График стоимостей заказов группы А\\n ')\n",
    "plt.xlabel('\\nКол-во пользователей группы А')\n",
    "plt.ylabel('Стоимость заказа группы А\\n')\n",
    "plt.scatter(x_values, revenue_per_ordersA, alpha=0.3)\n",
    "\n",
    "x_values = pd.Series(range(0,len(revenue_per_ordersB)))\n",
    "plt.figure(figsize=(15,5))\n",
    "plt.grid()\n",
    "plt.title('График стоимостей заказов группы B\\n ')\n",
    "plt.xlabel('\\nКол-во пользователей группы B')\n",
    "plt.ylabel('Стоимость заказа группы B\\n')\n",
    "plt.scatter(x_values, revenue_per_ordersB, alpha=0.3)\n",
    "\n",
    "plt.show()"
   ]
  },
  {
   "cell_type": "markdown",
   "metadata": {},
   "source": [
    "График не очень нагляный из-за наличия двух аномальных значений.\n",
    "\n",
    "Посмотрим поближе, для это уберем очевидные выбросы с 'revenue' большим 100000"
   ]
  },
  {
   "cell_type": "code",
   "execution_count": 28,
   "metadata": {},
   "outputs": [
    {
     "data": {
      "image/png": "[encoded data removed]",
      "text/plain": [
       "<Figure size 1080x360 with 1 Axes>"
      ]
     },
     "metadata": {
      "needs_background": "light"
     },
     "output_type": "display_data"
    },
    {
     "data": {
      "image/png": "[encoded data removed]",
      "text/plain": [
       "<Figure size 1080x360 with 1 Axes>"
      ]
     },
     "metadata": {
      "needs_background": "light"
     },
     "output_type": "display_data"
    }
   ],
   "source": [
    "x_values = pd.Series(range(0,len(revenue_per_ordersA)))\n",
    "plt.figure(figsize=(15,5))\n",
    "plt.grid()\n",
    "plt.title('График стоимостей заказов группы А\\n ')\n",
    "plt.xlabel('\\nКол-во пользователей группы А')\n",
    "plt.ylabel('Стоимость заказа группы А\\n')\n",
    "plt.scatter(x_values, revenue_per_ordersA, alpha=0.3)\n",
    "plt.ylim(0,100000)\n",
    "\n",
    "x_values = pd.Series(range(0,len(revenue_per_ordersB)))\n",
    "plt.figure(figsize=(15,5))\n",
    "plt.grid()\n",
    "plt.title('График стоимостей заказов группы B\\n ')\n",
    "plt.xlabel('\\nКол-во пользователей группы B')\n",
    "plt.ylabel('Стоимость заказа группы B\\n')\n",
    "plt.scatter(x_values, revenue_per_ordersB, alpha=0.3)\n",
    "plt.ylim(0,100000)\n",
    "\n",
    "plt.show()"
   ]
  },
  {
   "cell_type": "markdown",
   "metadata": {},
   "source": [
    "**Вывод**\n",
    "\n",
    "Большая часть всех заказов не дороже 20000. Более точное распределение посмотрим с помощью перцентилей."
   ]
  },
  {
   "cell_type": "markdown",
   "metadata": {},
   "source": [
    "Выберем границу для определения аномальных заказов."
   ]
  },
  {
   "cell_type": "code",
   "execution_count": 29,
   "metadata": {},
   "outputs": [
    {
     "name": "stdout",
     "output_type": "stream",
     "text": [
      "[26718.  62764.4]\n",
      "[28787.45 55579.06]\n"
     ]
    }
   ],
   "source": [
    "print(np.percentile(orders.query('group == \"A\"')['revenue'], [95, 99]))\n",
    "print(np.percentile(orders.query('group == \"B\"')['revenue'], [95, 99]))"
   ]
  },
  {
   "cell_type": "markdown",
   "metadata": {},
   "source": [
    "В группе А не более 5% заказов на сумму свыше 26718 руб и не более 1% -на сумму свыше 62764 руб.\n",
    "\n",
    "В группе В не более 5% заказов на сумму свыше 28787 руб и не более 1% -на сумму свыше 55579 руб."
   ]
  },
  {
   "cell_type": "markdown",
   "metadata": {},
   "source": [
    "**Вывод**\n",
    "\n",
    "Найденные нами 95-й и 99-й перцентили средних чеков равны:\n",
    "\n",
    "- для группы А: 26718 и 62764.4 рублей\n",
    "- для группы В: 28787.45 и 55579.06 рублей\n",
    "\n",
    "Примем за аномальных пользователей тех, кто совершил заказ дороже 55579 рублей."
   ]
  },
  {
   "cell_type": "markdown",
   "metadata": {},
   "source": [
    "### Посчитаем статистическую значимость различий в конверсии между группами по «сырым» данным"
   ]
  },
  {
   "cell_type": "markdown",
   "metadata": {},
   "source": [
    "Начнём с подготовки данных.\n",
    "Соберем в общую таблицу все данные по заказам и визитам, добавив кумулятивные показатели."
   ]
  },
  {
   "cell_type": "code",
   "execution_count": 30,
   "metadata": {},
   "outputs": [],
   "source": [
    "visitorsADaily = visitors[visitors['group']=='A'][['date', 'visitors']]\n",
    "visitorsADaily.columns = ['date', 'visitorsPerDateA']\n",
    "\n",
    "visitorsACummulative = visitorsADaily.apply(lambda x: visitorsADaily[visitorsADaily['date'] <= x['date']]. \\\n",
    "                                            agg({'date' : 'max', 'visitorsPerDateA' : 'sum'}), axis=1)\n",
    "visitorsACummulative.columns = ['date', 'visitorsCummulativeA']\n",
    "\n",
    "visitorsBDaily = visitors[visitors['group']=='B'][['date', 'visitors']]\n",
    "visitorsBDaily.columns = ['date', 'visitorsPerDateB']\n",
    "\n",
    "visitorsBCummulative = visitorsBDaily.apply(lambda x: visitorsBDaily[visitorsBDaily['date'] <= x['date']]. \\\n",
    "                                            agg({'date' : 'max', 'visitorsPerDateB' : 'sum'}), axis=1)\n",
    "visitorsBCummulative.columns = ['date', 'visitorsCummulativeB']"
   ]
  },
  {
   "cell_type": "code",
   "execution_count": 31,
   "metadata": {},
   "outputs": [],
   "source": [
    "ordersADaily = orders[orders['group']=='A'][['date', 'transactionId', 'visitorId', 'revenue']]\\\n",
    "    .groupby('date', as_index=False)\\\n",
    "    .agg({'transactionId' : pd.Series.nunique, 'revenue' : 'sum'})\n",
    "ordersADaily.columns = ['date', 'ordersPerDateA', 'revenuePerDateA']\n",
    "\n",
    "ordersACummulative = ordersADaily.apply(\n",
    "    lambda x: \\\n",
    "        ordersADaily[ordersADaily['date'] <= x['date']]\\\n",
    "            .agg({\n",
    "                'date' : 'max',\n",
    "                'ordersPerDateA' : 'sum',\n",
    "                'revenuePerDateA' : 'sum'}), axis=1).sort_values(by=['date'])\n",
    "ordersACummulative.columns = ['date', 'ordersCummulativeA', 'revenueCummulativeA']\n",
    "\n",
    "ordersBDaily = orders[orders['group']=='B'][['date', 'transactionId', 'visitorId', 'revenue']]\\\n",
    "    .groupby('date', as_index=False)\\\n",
    "    .agg({'transactionId' : pd.Series.nunique, 'revenue' : 'sum'})\n",
    "ordersBDaily.columns = ['date', 'ordersPerDateB', 'revenuePerDateB']\n",
    "\n",
    "ordersBCummulative = ordersBDaily.apply(\n",
    "    lambda x: \\\n",
    "        ordersBDaily[ordersBDaily['date'] <= x['date']]\\\n",
    "            .agg({\n",
    "                'date' : 'max',\n",
    "                'ordersPerDateB' : 'sum',\n",
    "                'revenuePerDateB' : 'sum'}), axis=1).sort_values(by=['date'])\n",
    "ordersBCummulative.columns = ['date', 'ordersCummulativeB', 'revenueCummulativeB']"
   ]
  },
  {
   "cell_type": "code",
   "execution_count": 32,
   "metadata": {
    "scrolled": true
   },
   "outputs": [
    {
     "data": {
      "text/html": [
       "<div>\n",
       "<style scoped>\n",
       "    .dataframe tbody tr th:only-of-type {\n",
       "        vertical-align: middle;\n",
       "    }\n",
       "\n",
       "    .dataframe tbody tr th {\n",
       "        vertical-align: top;\n",
       "    }\n",
       "\n",
       "    .dataframe thead th {\n",
       "        text-align: right;\n",
       "    }\n",
       "</style>\n",
       "<table border=\"1\" class=\"dataframe\">\n",
       "  <thead>\n",
       "    <tr style=\"text-align: right;\">\n",
       "      <th></th>\n",
       "      <th>date</th>\n",
       "      <th>ordersPerDateA</th>\n",
       "      <th>revenuePerDateA</th>\n",
       "      <th>ordersPerDateB</th>\n",
       "      <th>revenuePerDateB</th>\n",
       "      <th>ordersCummulativeA</th>\n",
       "      <th>revenueCummulativeA</th>\n",
       "      <th>ordersCummulativeB</th>\n",
       "      <th>revenueCummulativeB</th>\n",
       "      <th>visitorsPerDateA</th>\n",
       "      <th>visitorsPerDateB</th>\n",
       "      <th>visitorsCummulativeA</th>\n",
       "      <th>visitorsCummulativeB</th>\n",
       "    </tr>\n",
       "  </thead>\n",
       "  <tbody>\n",
       "    <tr>\n",
       "      <th>0</th>\n",
       "      <td>2019-08-01</td>\n",
       "      <td>24</td>\n",
       "      <td>148579</td>\n",
       "      <td>21</td>\n",
       "      <td>101217</td>\n",
       "      <td>24</td>\n",
       "      <td>148579</td>\n",
       "      <td>21</td>\n",
       "      <td>101217</td>\n",
       "      <td>719</td>\n",
       "      <td>713</td>\n",
       "      <td>719</td>\n",
       "      <td>713</td>\n",
       "    </tr>\n",
       "    <tr>\n",
       "      <th>1</th>\n",
       "      <td>2019-08-02</td>\n",
       "      <td>20</td>\n",
       "      <td>93822</td>\n",
       "      <td>24</td>\n",
       "      <td>165531</td>\n",
       "      <td>44</td>\n",
       "      <td>242401</td>\n",
       "      <td>45</td>\n",
       "      <td>266748</td>\n",
       "      <td>619</td>\n",
       "      <td>581</td>\n",
       "      <td>1338</td>\n",
       "      <td>1294</td>\n",
       "    </tr>\n",
       "    <tr>\n",
       "      <th>2</th>\n",
       "      <td>2019-08-03</td>\n",
       "      <td>24</td>\n",
       "      <td>112473</td>\n",
       "      <td>16</td>\n",
       "      <td>114248</td>\n",
       "      <td>68</td>\n",
       "      <td>354874</td>\n",
       "      <td>61</td>\n",
       "      <td>380996</td>\n",
       "      <td>507</td>\n",
       "      <td>509</td>\n",
       "      <td>1845</td>\n",
       "      <td>1803</td>\n",
       "    </tr>\n",
       "    <tr>\n",
       "      <th>3</th>\n",
       "      <td>2019-08-04</td>\n",
       "      <td>16</td>\n",
       "      <td>70825</td>\n",
       "      <td>17</td>\n",
       "      <td>108571</td>\n",
       "      <td>84</td>\n",
       "      <td>425699</td>\n",
       "      <td>78</td>\n",
       "      <td>489567</td>\n",
       "      <td>717</td>\n",
       "      <td>770</td>\n",
       "      <td>2562</td>\n",
       "      <td>2573</td>\n",
       "    </tr>\n",
       "    <tr>\n",
       "      <th>4</th>\n",
       "      <td>2019-08-05</td>\n",
       "      <td>25</td>\n",
       "      <td>124218</td>\n",
       "      <td>23</td>\n",
       "      <td>92428</td>\n",
       "      <td>109</td>\n",
       "      <td>549917</td>\n",
       "      <td>101</td>\n",
       "      <td>581995</td>\n",
       "      <td>756</td>\n",
       "      <td>707</td>\n",
       "      <td>3318</td>\n",
       "      <td>3280</td>\n",
       "    </tr>\n",
       "  </tbody>\n",
       "</table>\n",
       "</div>"
      ],
      "text/plain": [
       "        date  ordersPerDateA  revenuePerDateA  ordersPerDateB  \\\n",
       "0 2019-08-01              24           148579              21   \n",
       "1 2019-08-02              20            93822              24   \n",
       "2 2019-08-03              24           112473              16   \n",
       "3 2019-08-04              16            70825              17   \n",
       "4 2019-08-05              25           124218              23   \n",
       "\n",
       "   revenuePerDateB  ordersCummulativeA  revenueCummulativeA  \\\n",
       "0           101217                  24               148579   \n",
       "1           165531                  44               242401   \n",
       "2           114248                  68               354874   \n",
       "3           108571                  84               425699   \n",
       "4            92428                 109               549917   \n",
       "\n",
       "   ordersCummulativeB  revenueCummulativeB  visitorsPerDateA  \\\n",
       "0                  21               101217               719   \n",
       "1                  45               266748               619   \n",
       "2                  61               380996               507   \n",
       "3                  78               489567               717   \n",
       "4                 101               581995               756   \n",
       "\n",
       "   visitorsPerDateB  visitorsCummulativeA  visitorsCummulativeB  \n",
       "0               713                   719                   713  \n",
       "1               581                  1338                  1294  \n",
       "2               509                  1845                  1803  \n",
       "3               770                  2562                  2573  \n",
       "4               707                  3318                  3280  "
      ]
     },
     "execution_count": 32,
     "metadata": {},
     "output_type": "execute_result"
    }
   ],
   "source": [
    "data = ordersADaily.merge(ordersBDaily, left_on='date', right_on='date', how='left')\\\n",
    "    .merge(ordersACummulative, left_on='date', right_on='date', how='left')\\\n",
    "    .merge(ordersBCummulative, left_on='date', right_on='date', how='left')\\\n",
    "    .merge(visitorsADaily, left_on='date', right_on='date', how='left')\\\n",
    "    .merge(visitorsBDaily, left_on='date', right_on='date', how='left')\\\n",
    "    .merge(visitorsACummulative, left_on='date', right_on='date', how='left')\\\n",
    "    .merge(visitorsBCummulative, left_on='date', right_on='date', how='left')\n",
    "data.head()"
   ]
  },
  {
   "cell_type": "markdown",
   "metadata": {},
   "source": [
    "Теперь мы можем посчитать статистическую значимость различия в конверсии между группами.\n",
    "Создадим переменные ordersByUsersA и ordersByUsersB со столбцами ['userId', 'orders']. В них для пользователей, которые заказывали хотя бы 1 раз, укажем число совершённых заказов."
   ]
  },
  {
   "cell_type": "code",
   "execution_count": 33,
   "metadata": {},
   "outputs": [],
   "source": [
    "ordersByUsersA = orders[orders['group']=='A'].groupby('visitorId', as_index=False).agg({'transactionId' : pd.Series.nunique})\n",
    "ordersByUsersA.columns = ['userId', 'orders']\n",
    "\n",
    "ordersByUsersB = orders[orders['group']=='B'].groupby('visitorId', as_index=False).agg({'transactionId' : pd.Series.nunique})\n",
    "ordersByUsersB.columns = ['userId', 'orders']"
   ]
  },
  {
   "cell_type": "markdown",
   "metadata": {},
   "source": [
    "Объявим переменные sampleA и sampleB, в которых пользователям из разных групп будет соответствовать количество заказов.\n",
    "Тем, кто ничего не заказал, будут соответствовать нули. Это нужно, чтобы подготовить выборки к проверке критерием Манна-Уитни"
   ]
  },
  {
   "cell_type": "code",
   "execution_count": 34,
   "metadata": {},
   "outputs": [],
   "source": [
    "sampleA = pd.concat([ordersByUsersA['orders'],pd.Series(0, index=np.arange(data['visitorsPerDateA'].sum() - len(ordersByUsersA['orders'])), name='orders')],axis=0)\n",
    "\n",
    "sampleB = pd.concat([ordersByUsersB['orders'],pd.Series(0, index=np.arange(data['visitorsPerDateB'].sum() - len(ordersByUsersB['orders'])), name='orders')],axis=0)"
   ]
  },
  {
   "cell_type": "markdown",
   "metadata": {},
   "source": [
    "**За нулевую гипотезу H0 примем** - статистически значимых различий в конверсиях между группами нет.  \n",
    "**Тогда альтернативная гипотеза Н1** - статистически значимые различия есть."
   ]
  },
  {
   "cell_type": "code",
   "execution_count": 35,
   "metadata": {},
   "outputs": [
    {
     "data": {
      "text/plain": [
       "'alpha = 0.05'"
      ]
     },
     "metadata": {},
     "output_type": "display_data"
    },
    {
     "data": {
      "text/plain": [
       "'p-value = 0.017'"
      ]
     },
     "metadata": {},
     "output_type": "display_data"
    },
    {
     "data": {
      "text/plain": [
       "'относительный прирост конверсии группы B = 0.138'"
      ]
     },
     "metadata": {},
     "output_type": "display_data"
    }
   ],
   "source": [
    "#Применим критерий и отформатируем p-value, округлив его до трёх знаков после запятой\n",
    "display(\"alpha = 0.05\")\n",
    "display(\"p-value = {0:.3f}\".format(st.mannwhitneyu(sampleA, sampleB, alternative = 'two-sided')[1]))\n",
    "display(\"относительный прирост конверсии группы B = {0:.3f}\".format(sampleB.mean()/sampleA.mean()-1)) "
   ]
  },
  {
   "cell_type": "markdown",
   "metadata": {},
   "source": [
    "p-value = 0.017 меньше 0.05. Поэтому нулевую гипотезу о том, что статистически значимых различий в конверсии между группами нет, - отвергаем.  \n",
    "\n",
    "Это значит по «сырым» данным в конверсии между группами A и B есть статистически значимые различия. \n",
    "\n",
    "А относительный прирост группы В к А равен 13.8% ."
   ]
  },
  {
   "cell_type": "markdown",
   "metadata": {},
   "source": [
    "### Посчитаем статистическую значимость различий в среднем чеке заказа между группами по «сырым» данным"
   ]
  },
  {
   "cell_type": "markdown",
   "metadata": {},
   "source": [
    "**За нулевую гипотезу H0 примем** - статистически значимых различий в среднемчеке между группами нет.  \n",
    "**Тогда альтернативная гипотеза Н1** - статистически значимые различия есть."
   ]
  },
  {
   "cell_type": "code",
   "execution_count": 36,
   "metadata": {},
   "outputs": [
    {
     "data": {
      "text/plain": [
       "'alpha = 0.05'"
      ]
     },
     "metadata": {},
     "output_type": "display_data"
    },
    {
     "data": {
      "text/plain": [
       "'p-value = 0.729'"
      ]
     },
     "metadata": {},
     "output_type": "display_data"
    },
    {
     "data": {
      "text/plain": [
       "\"Относительный показатель 'B' и 'A' = 0.259\""
      ]
     },
     "metadata": {},
     "output_type": "display_data"
    }
   ],
   "source": [
    "display(\"alpha = 0.05\")\n",
    "display(\"p-value = {0:.3f}\".format(st.mannwhitneyu(orders[orders['group']=='A']['revenue'], orders[orders['group']=='B']['revenue'], alternative = 'two-sided')[1]))\n",
    "display(\"Относительный показатель 'B' и 'A' = {0:.3f}\".format(orders[orders['group']=='B']['revenue'].mean()/orders[orders['group']=='A']['revenue'].mean()-1)) "
   ]
  },
  {
   "cell_type": "markdown",
   "metadata": {},
   "source": [
    "p-value = 0.729 значительно больше 0.05, поэтому можно считать, что значимых различий в среднем чеке между группами нет. \n",
    "\n",
    "По \"сырым\" данным средние чеки похожи. При этом средний чек группы B значительно выше среднего чека группы A (почти на 26%)"
   ]
  },
  {
   "cell_type": "markdown",
   "metadata": {},
   "source": [
    "### Посчитаем статистическую значимость различий в конверсии между группами по «очищенным» данным"
   ]
  },
  {
   "cell_type": "markdown",
   "metadata": {},
   "source": [
    "Приступаем к подготовке очищенных от аномалий данных.  \n",
    "В предыдущих расчётах мы приняли за аномальных пользователей тех, кто: \n",
    "- совершил 3 и больше заказов\n",
    "- совершил заказ дороже 55579 рублей.  \n",
    "Сделаем срезы пользователей:\n",
    "- с числом заказов больше 2 — usersWithManyOrders\n",
    "- совершивших заказы дороже 55579 — usersWithExpensiveOrders.  \n",
    "Объединим их в таблицу abnormalUsers. \n",
    "Посмотрим количество аномальных пользователей методом shape()"
   ]
  },
  {
   "cell_type": "code",
   "execution_count": 37,
   "metadata": {},
   "outputs": [
    {
     "data": {
      "text/plain": [
       "1099    148427295\n",
       "18      199603092\n",
       "23      237748145\n",
       "37      249864742\n",
       "68      457167155\n",
       "dtype: int64"
      ]
     },
     "metadata": {},
     "output_type": "display_data"
    },
    {
     "name": "stdout",
     "output_type": "stream",
     "text": [
      "Всего аномальных пользователей = 31\n"
     ]
    }
   ],
   "source": [
    "usersWithManyOrders = pd.concat([ordersByUsersA[ordersByUsersA['orders'] > 2]['userId'], ordersByUsersB[ordersByUsersB['orders'] > 2]['userId']], axis = 0)\n",
    "usersWithExpensiveOrders = orders[orders['revenue'] > 55579]['visitorId']\n",
    "abnormalUsers = pd.concat([usersWithManyOrders, usersWithExpensiveOrders], axis = 0).drop_duplicates().sort_values()\n",
    "display(abnormalUsers.head(5))\n",
    "print(\"Всего аномальных пользователей =\" ,len(abnormalUsers)) "
   ]
  },
  {
   "cell_type": "markdown",
   "metadata": {},
   "source": [
    "Всего 31 аномальный пользователь. Посмотрим, как изменятся расчеты без их участия."
   ]
  },
  {
   "cell_type": "code",
   "execution_count": 38,
   "metadata": {},
   "outputs": [],
   "source": [
    "sampleAFiltered = pd.concat([ordersByUsersA[np.logical_not(ordersByUsersA['userId'].isin(abnormalUsers))]['orders'], \\\n",
    "                             pd.Series(0, index=np.arange(data['visitorsPerDateA'].sum() - len(ordersByUsersA['orders'])), \\\n",
    "                                       name='orders')],axis=0)\n",
    "\n",
    "sampleBFiltered = pd.concat([ordersByUsersB[np.logical_not(ordersByUsersB['userId'].isin(abnormalUsers))]['orders'], \\\n",
    "                             pd.Series(0, index=np.arange(data['visitorsPerDateB'].sum() - len(ordersByUsersB['orders'])), \\\n",
    "                                       name='orders')],axis=0) "
   ]
  },
  {
   "cell_type": "markdown",
   "metadata": {},
   "source": [
    "**За нулевую гипотезу H0 примем** - статистически значимых различий в конверсиях между группами нет.  \n",
    "**Тогда альтернативная гипотеза Н1** - статистически значимые различия есть."
   ]
  },
  {
   "cell_type": "code",
   "execution_count": 39,
   "metadata": {},
   "outputs": [
    {
     "name": "stdout",
     "output_type": "stream",
     "text": [
      "alpha = 0.05\n",
      "p-value = 0.010\n",
      "Относительный показатель 'B' и 'A' = 0.174\n"
     ]
    }
   ],
   "source": [
    "#Применим статистический критерий Манна-Уитни к полученным выборкам\n",
    "print(\"alpha =\",0.05)\n",
    "print(\"p-value = {0:.3f}\".format(st.mannwhitneyu(sampleAFiltered, sampleBFiltered, alternative = 'two-sided')[1]))\n",
    "print(\"Относительный показатель 'B' и 'A' = {0:.3f}\".format(sampleBFiltered.mean()/sampleAFiltered.mean()-1)) "
   ]
  },
  {
   "cell_type": "markdown",
   "metadata": {},
   "source": [
    "**Вывод**\n",
    "\n",
    "p-value = 0.010 меньше 0.05. Поэтому, нулевую гипотезу о том, что статистически значимых различий в конверсии между группами нет, - отвергаем. \n",
    "\n",
    "Это значит: и по «очищенным» данным в конверсии групп A и B есть статистически значимые различия. А относительный выигрыш группы \"B\" над \"A\" равен почти 17.4% (выше, чем с «сырыми» данными - 13.8%) "
   ]
  },
  {
   "cell_type": "markdown",
   "metadata": {},
   "source": [
    "### Посчитаем статистическую значимость различий в среднем чеке заказа между группами по «очищенным» данным"
   ]
  },
  {
   "cell_type": "markdown",
   "metadata": {},
   "source": [
    "**За нулевую гипотезу H0 примем:** \"статистически значимых различий в средних чеках между группами нет\".  \n",
    "**Тогда альтернативная гипотеза Н1** - статистически значимые различия есть."
   ]
  },
  {
   "cell_type": "code",
   "execution_count": 40,
   "metadata": {},
   "outputs": [
    {
     "name": "stdout",
     "output_type": "stream",
     "text": [
      "alpha = 0.05\n",
      "p-value = 0.798\n",
      "Относительный показатель В и А = -0.020\n"
     ]
    }
   ],
   "source": [
    "print(\"alpha =\",0.05)\n",
    "print(\"p-value = {0:.3f}\".format(st.mannwhitneyu(\n",
    "    orders[np.logical_and(\n",
    "        orders['group']=='A',\n",
    "        np.logical_not(orders['visitorId'].isin(abnormalUsers)))]['revenue'],\n",
    "    orders[np.logical_and(\n",
    "        orders['group']=='B',\n",
    "        np.logical_not(orders['visitorId'].isin(abnormalUsers)))]['revenue'], alternative = 'two-sided')[1]))\n",
    "\n",
    "print(\"Относительный показатель В и А = {0:.3f}\".format(\n",
    "    orders[np.logical_and(orders['group']=='B',np.logical_not(orders['visitorId'].isin(abnormalUsers)))]['revenue'].mean()/\n",
    "    orders[np.logical_and(\n",
    "        orders['group']=='A',\n",
    "        np.logical_not(orders['visitorId'].isin(abnormalUsers)))]['revenue'].mean() - 1)) "
   ]
  },
  {
   "cell_type": "markdown",
   "metadata": {},
   "source": [
    "**Вывод**\n",
    "\n",
    "P-value = 0.798, значительно больше 0.05. Поэтому можем считать, что в среднем чеке нет различий (как и с \"сырыми\" данными). \n",
    "\n",
    "А вот средний чек группы B оказался незначительно (на 6%) ниже среднего чека группы A, в то время как по \"сырым\" данным, он был больше почти на ~26%. \n",
    "\n",
    "Вот так ощутимо повлияли на результаты наши аномальные заказы с большими суммами."
   ]
  },
  {
   "cell_type": "markdown",
   "metadata": {},
   "source": [
    "### Результаты теста и решение"
   ]
  },
  {
   "cell_type": "markdown",
   "metadata": {},
   "source": [
    "Из представленных 9 гипотез с применением фреймворка RICE нами была выбрана как наиболее приоритетная гипотеза 8 - 'Добавить форму подписки на все основные страницы, чтобы собрать базу клиентов для email-рассылок'\n",
    "\n",
    "По результатам А/В-тестирования гипотезы были сделаны следующие выводы:\n",
    "\n",
    "- кумулятивная выручка группы В стабильно выше выручки группы А, кроме того, мы видим ее значительный скачек 19.08.2019.\n",
    "\n",
    "- ситуация с кумулятивным средним чеком между группами не так однозначна: кривая группы В нестабильна, но все-таки выше аналогичной группы А.\n",
    " \n",
    "- кумулятивная конверсия группы В стабильно выше, чем у группы А, с легкой тенденцией к снижению.\n",
    " \n",
    "В обоих группах подавляющее большинство пользователей сделали по одному заказу, некоторые -по два, и очень редко- по 3-7. У подавляющего большинства пользователей обоих групп сумма заказа не превышает 10 тыс. рублей,а порог заказов не превышает 100 тыс руб. Тем не менее на графике группы В можно заметить один аномально большой заказ на сумму 1294500 руб. Это и есть причина резкого скачка кумулятивного среднего чека группы В. В остальном группы очень похожи между собой.\n",
    "\n",
    "Был произведен расчет статистической значимости различий в конверсии и в сумме среднего чека между группами по «сырым» и \"очищенным\" от выбросов данным:\n",
    "\n",
    "- При проведении тестов с использованием критерия Манна-Уитни мы видим, что гипотеза о равенстве конверсии между группами отвергнута, а относительная разница конверсии группы В на 13.8% больше, чем в группе А. При тестировании \"очищенных\" от выбросов данных результат также подтвердился: конверсия отличается, а относительная разница составила 17.4%- на столько конверсия группы В больше конверсии группы А.\n",
    "\n",
    "- Гипотеза о том, что различий в сумме среднего чека между группами нет, не отвергнута с очень большой долей вероятности, а относительная разница суммы среднего чека между группами составила 5.9% (против 25.9% по \"сырым\" данным)- после удаления выбросов (мы помним, что в группе В единственный очень крупный выброс- это один заказ на сумму 1.29 млн.) разница  между чеками обоих групп стремится к нулю.\n",
    "\n",
    "**Выводы:**\n",
    "\n",
    "Если целью тестирования было установить -изменилась ли сумма среднего чека, то она осталась прежней, мы видим лишь незначительные изменения.  Если же целью являлось изменение конверсии и связанное с ней получение дополнительной прибыли в перспективе -то результаты тестирования группы В говорят о том, что ее конверсия отличается от группы А на 13-19%.\n",
    "\n",
    "**Рекомендации:**\n",
    "\n",
    "Тест остановить, зафиксировать отсутствие различий между группами по сумме среднего чека и победу группы В в части повышенной конверсии."
   ]
  }
 ],
 "metadata": {
  "ExecuteTimeLog": [
   {
    "duration": 1653,
    "start_time": "2023-09-28T21:55:16.792Z"
   },
   {
    "duration": 4,
    "start_time": "2023-09-28T22:20:38.559Z"
   },
   {
    "duration": 349,
    "start_time": "2023-09-28T22:44:09.052Z"
   },
   {
    "duration": 6,
    "start_time": "2023-09-28T22:44:21.804Z"
   },
   {
    "duration": 5,
    "start_time": "2023-09-28T22:44:27.908Z"
   },
   {
    "duration": 9,
    "start_time": "2023-09-28T22:44:47.129Z"
   },
   {
    "duration": 5,
    "start_time": "2023-09-28T22:46:45.147Z"
   },
   {
    "duration": 4,
    "start_time": "2023-09-28T22:50:41.663Z"
   },
   {
    "duration": 3,
    "start_time": "2023-09-28T22:51:10.186Z"
   },
   {
    "duration": 3,
    "start_time": "2023-09-28T22:55:03.545Z"
   },
   {
    "duration": 33,
    "start_time": "2023-09-28T22:55:25.696Z"
   },
   {
    "duration": 31,
    "start_time": "2023-09-28T22:57:33.405Z"
   },
   {
    "duration": 30,
    "start_time": "2023-09-28T22:57:54.833Z"
   },
   {
    "duration": 3,
    "start_time": "2023-09-28T22:58:56.493Z"
   },
   {
    "duration": 37,
    "start_time": "2023-09-28T22:58:59.451Z"
   },
   {
    "duration": 39,
    "start_time": "2023-09-28T22:59:01.332Z"
   },
   {
    "duration": 32,
    "start_time": "2023-09-28T22:59:03.677Z"
   },
   {
    "duration": 1347,
    "start_time": "2023-09-28T23:01:29.397Z"
   },
   {
    "duration": 10,
    "start_time": "2023-09-28T23:01:30.746Z"
   },
   {
    "duration": 257,
    "start_time": "2023-09-28T23:01:30.762Z"
   },
   {
    "duration": 5,
    "start_time": "2023-09-28T23:01:31.021Z"
   },
   {
    "duration": 180,
    "start_time": "2023-09-28T23:01:31.028Z"
   },
   {
    "duration": 84,
    "start_time": "2023-09-28T23:01:31.210Z"
   },
   {
    "duration": 89,
    "start_time": "2023-09-28T23:01:31.296Z"
   },
   {
    "duration": 5,
    "start_time": "2023-09-28T23:02:54.078Z"
   },
   {
    "duration": 13,
    "start_time": "2023-09-28T23:04:15.973Z"
   },
   {
    "duration": 10,
    "start_time": "2023-09-28T23:10:59.357Z"
   },
   {
    "duration": 21,
    "start_time": "2023-09-28T23:12:03.538Z"
   },
   {
    "duration": 15,
    "start_time": "2023-09-28T23:16:23.569Z"
   },
   {
    "duration": 12,
    "start_time": "2023-09-28T23:16:50.260Z"
   },
   {
    "duration": 118,
    "start_time": "2023-09-28T23:17:07.933Z"
   },
   {
    "duration": 12,
    "start_time": "2023-09-28T23:17:12.970Z"
   },
   {
    "duration": 12,
    "start_time": "2023-09-28T23:17:21.070Z"
   },
   {
    "duration": 7,
    "start_time": "2023-09-28T23:18:30.641Z"
   },
   {
    "duration": 11,
    "start_time": "2023-09-28T23:18:40.980Z"
   },
   {
    "duration": 1930,
    "start_time": "2023-09-28T23:18:45.269Z"
   },
   {
    "duration": 4,
    "start_time": "2023-09-28T23:18:52.574Z"
   },
   {
    "duration": 4,
    "start_time": "2023-09-28T23:20:12.673Z"
   },
   {
    "duration": 14,
    "start_time": "2023-09-28T23:23:18.649Z"
   },
   {
    "duration": 4,
    "start_time": "2023-09-28T23:24:19.765Z"
   },
   {
    "duration": 11,
    "start_time": "2023-09-28T23:25:47.236Z"
   },
   {
    "duration": 10,
    "start_time": "2023-09-28T23:26:07.001Z"
   },
   {
    "duration": 12,
    "start_time": "2023-09-28T23:26:19.599Z"
   },
   {
    "duration": 5,
    "start_time": "2023-09-28T23:26:20.071Z"
   },
   {
    "duration": 4,
    "start_time": "2023-09-28T23:26:32.144Z"
   },
   {
    "duration": 13,
    "start_time": "2023-09-28T23:27:09.780Z"
   },
   {
    "duration": 1159,
    "start_time": "2023-09-28T23:27:27.113Z"
   },
   {
    "duration": 4,
    "start_time": "2023-09-28T23:27:28.274Z"
   },
   {
    "duration": 151,
    "start_time": "2023-09-28T23:27:28.280Z"
   },
   {
    "duration": 5,
    "start_time": "2023-09-28T23:27:28.433Z"
   },
   {
    "duration": 78,
    "start_time": "2023-09-28T23:27:28.441Z"
   },
   {
    "duration": 46,
    "start_time": "2023-09-28T23:27:28.521Z"
   },
   {
    "duration": 34,
    "start_time": "2023-09-28T23:27:28.569Z"
   },
   {
    "duration": 5,
    "start_time": "2023-09-28T23:27:28.605Z"
   },
   {
    "duration": 51,
    "start_time": "2023-09-28T23:27:28.611Z"
   },
   {
    "duration": 18,
    "start_time": "2023-09-28T23:27:28.663Z"
   },
   {
    "duration": 28,
    "start_time": "2023-09-28T23:27:28.683Z"
   },
   {
    "duration": 6,
    "start_time": "2023-09-28T23:27:28.713Z"
   },
   {
    "duration": 21,
    "start_time": "2023-09-28T23:27:28.721Z"
   },
   {
    "duration": 33,
    "start_time": "2023-09-28T23:27:28.745Z"
   },
   {
    "duration": 20,
    "start_time": "2023-09-28T23:27:28.780Z"
   },
   {
    "duration": 102,
    "start_time": "2023-09-28T23:46:59.472Z"
   },
   {
    "duration": 12,
    "start_time": "2023-09-28T23:49:27.499Z"
   },
   {
    "duration": 5,
    "start_time": "2023-09-28T23:52:17.933Z"
   },
   {
    "duration": 6,
    "start_time": "2023-09-28T23:52:28.867Z"
   },
   {
    "duration": 4,
    "start_time": "2023-09-28T23:53:08.944Z"
   },
   {
    "duration": 62,
    "start_time": "2023-09-28T23:53:15.015Z"
   },
   {
    "duration": 1296,
    "start_time": "2023-09-28T23:53:49.285Z"
   },
   {
    "duration": 10,
    "start_time": "2023-09-28T23:53:57.000Z"
   },
   {
    "duration": 225,
    "start_time": "2023-09-28T23:59:06.333Z"
   },
   {
    "duration": 3,
    "start_time": "2023-09-29T00:02:57.411Z"
   },
   {
    "duration": 18,
    "start_time": "2023-09-29T00:03:10.242Z"
   },
   {
    "duration": 12,
    "start_time": "2023-09-29T00:05:12.352Z"
   },
   {
    "duration": 228,
    "start_time": "2023-09-29T00:06:30.700Z"
   },
   {
    "duration": 12,
    "start_time": "2023-09-29T00:09:38.711Z"
   },
   {
    "duration": 12,
    "start_time": "2023-09-29T00:11:19.653Z"
   },
   {
    "duration": 212,
    "start_time": "2023-09-29T00:11:42.541Z"
   },
   {
    "duration": 195,
    "start_time": "2023-09-29T00:12:04.564Z"
   },
   {
    "duration": 11,
    "start_time": "2023-09-29T00:13:50.024Z"
   },
   {
    "duration": 14,
    "start_time": "2023-09-29T00:14:10.767Z"
   },
   {
    "duration": 10,
    "start_time": "2023-09-29T00:16:19.544Z"
   },
   {
    "duration": 1987,
    "start_time": "2023-09-29T00:19:16.595Z"
   },
   {
    "duration": 5,
    "start_time": "2023-09-29T00:22:32.796Z"
   },
   {
    "duration": 1161,
    "start_time": "2023-09-29T00:22:38.697Z"
   },
   {
    "duration": 3,
    "start_time": "2023-09-29T00:22:39.860Z"
   },
   {
    "duration": 141,
    "start_time": "2023-09-29T00:22:39.865Z"
   },
   {
    "duration": 4,
    "start_time": "2023-09-29T00:22:40.007Z"
   },
   {
    "duration": 72,
    "start_time": "2023-09-29T00:22:40.013Z"
   },
   {
    "duration": 32,
    "start_time": "2023-09-29T00:22:40.087Z"
   },
   {
    "duration": 51,
    "start_time": "2023-09-29T00:22:40.121Z"
   },
   {
    "duration": 4,
    "start_time": "2023-09-29T00:22:40.174Z"
   },
   {
    "duration": 17,
    "start_time": "2023-09-29T00:22:40.179Z"
   },
   {
    "duration": 13,
    "start_time": "2023-09-29T00:22:40.198Z"
   },
   {
    "duration": 14,
    "start_time": "2023-09-29T00:22:40.212Z"
   },
   {
    "duration": 24,
    "start_time": "2023-09-29T00:22:40.228Z"
   },
   {
    "duration": 29,
    "start_time": "2023-09-29T00:22:40.253Z"
   },
   {
    "duration": 6,
    "start_time": "2023-09-29T00:22:40.284Z"
   },
   {
    "duration": 11,
    "start_time": "2023-09-29T00:22:40.291Z"
   },
   {
    "duration": 107,
    "start_time": "2023-09-29T00:22:40.304Z"
   },
   {
    "duration": 0,
    "start_time": "2023-09-29T00:22:40.412Z"
   },
   {
    "duration": 0,
    "start_time": "2023-09-29T00:22:40.413Z"
   },
   {
    "duration": 66,
    "start_time": "2023-09-29T00:22:55.575Z"
   },
   {
    "duration": 10,
    "start_time": "2023-09-29T00:23:09.347Z"
   },
   {
    "duration": 287,
    "start_time": "2023-09-29T00:23:11.035Z"
   },
   {
    "duration": 284,
    "start_time": "2023-09-29T00:23:20.400Z"
   },
   {
    "duration": 229,
    "start_time": "2023-09-29T00:27:38.736Z"
   },
   {
    "duration": 325,
    "start_time": "2023-09-29T00:29:36.665Z"
   },
   {
    "duration": 196,
    "start_time": "2023-09-29T00:30:39.765Z"
   },
   {
    "duration": 346,
    "start_time": "2023-09-29T00:31:33.044Z"
   },
   {
    "duration": 248,
    "start_time": "2023-09-29T00:34:07.589Z"
   },
   {
    "duration": 4,
    "start_time": "2023-09-29T00:39:12.405Z"
   },
   {
    "duration": 4,
    "start_time": "2023-09-29T00:42:24.914Z"
   },
   {
    "duration": 4,
    "start_time": "2023-09-29T00:42:42.793Z"
   },
   {
    "duration": 4,
    "start_time": "2023-09-29T00:42:48.406Z"
   },
   {
    "duration": 7,
    "start_time": "2023-09-29T00:46:22.234Z"
   },
   {
    "duration": 2510,
    "start_time": "2023-09-29T00:47:34.056Z"
   },
   {
    "duration": 2869,
    "start_time": "2023-09-29T00:49:15.485Z"
   },
   {
    "duration": 2088,
    "start_time": "2023-09-29T00:49:27.460Z"
   },
   {
    "duration": 8,
    "start_time": "2023-09-29T00:49:32.666Z"
   },
   {
    "duration": 224,
    "start_time": "2023-09-29T00:50:05.499Z"
   },
   {
    "duration": 150,
    "start_time": "2023-09-29T00:51:42.167Z"
   },
   {
    "duration": 1185,
    "start_time": "2023-09-29T00:53:35.418Z"
   },
   {
    "duration": 3,
    "start_time": "2023-09-29T00:53:36.605Z"
   },
   {
    "duration": 119,
    "start_time": "2023-09-29T00:53:36.609Z"
   },
   {
    "duration": 4,
    "start_time": "2023-09-29T00:53:36.730Z"
   },
   {
    "duration": 35,
    "start_time": "2023-09-29T00:53:36.736Z"
   },
   {
    "duration": 27,
    "start_time": "2023-09-29T00:53:36.772Z"
   },
   {
    "duration": 55,
    "start_time": "2023-09-29T00:53:36.801Z"
   },
   {
    "duration": 53,
    "start_time": "2023-09-29T00:53:36.857Z"
   },
   {
    "duration": 28,
    "start_time": "2023-09-29T00:53:36.912Z"
   },
   {
    "duration": 59,
    "start_time": "2023-09-29T00:53:36.942Z"
   },
   {
    "duration": 40,
    "start_time": "2023-09-29T00:53:37.003Z"
   },
   {
    "duration": 14,
    "start_time": "2023-09-29T00:53:37.045Z"
   },
   {
    "duration": 28,
    "start_time": "2023-09-29T00:53:37.061Z"
   },
   {
    "duration": 5,
    "start_time": "2023-09-29T00:53:37.091Z"
   },
   {
    "duration": 24,
    "start_time": "2023-09-29T00:53:37.097Z"
   },
   {
    "duration": 82,
    "start_time": "2023-09-29T00:53:37.123Z"
   },
   {
    "duration": 10,
    "start_time": "2023-09-29T00:53:37.206Z"
   },
   {
    "duration": 299,
    "start_time": "2023-09-29T00:53:37.218Z"
   },
   {
    "duration": 298,
    "start_time": "2023-09-29T00:53:37.519Z"
   },
   {
    "duration": 211,
    "start_time": "2023-09-29T00:53:37.819Z"
   },
   {
    "duration": 343,
    "start_time": "2023-09-29T00:53:38.032Z"
   },
   {
    "duration": 199,
    "start_time": "2023-09-29T00:53:38.377Z"
   },
   {
    "duration": 333,
    "start_time": "2023-09-29T00:53:38.578Z"
   },
   {
    "duration": 3,
    "start_time": "2023-09-29T00:53:38.913Z"
   },
   {
    "duration": 184,
    "start_time": "2023-09-29T00:53:38.917Z"
   },
   {
    "duration": 224,
    "start_time": "2023-09-29T00:53:39.104Z"
   },
   {
    "duration": 108,
    "start_time": "2023-09-29T00:53:39.330Z"
   },
   {
    "duration": 5,
    "start_time": "2023-09-29T00:54:29.641Z"
   },
   {
    "duration": 279,
    "start_time": "2023-09-29T00:57:44.863Z"
   },
   {
    "duration": 1762,
    "start_time": "2023-09-29T00:59:56.500Z"
   },
   {
    "duration": 160,
    "start_time": "2023-09-29T01:00:58.500Z"
   },
   {
    "duration": 1686,
    "start_time": "2023-09-29T01:01:25.423Z"
   },
   {
    "duration": 363,
    "start_time": "2023-09-29T01:02:08.638Z"
   },
   {
    "duration": 311,
    "start_time": "2023-09-29T01:02:47.978Z"
   },
   {
    "duration": 325,
    "start_time": "2023-09-29T01:03:12.011Z"
   },
   {
    "duration": 267,
    "start_time": "2023-09-29T01:03:19.698Z"
   },
   {
    "duration": 335,
    "start_time": "2023-09-29T01:03:37.560Z"
   },
   {
    "duration": 358,
    "start_time": "2023-09-29T01:04:07.761Z"
   },
   {
    "duration": 31,
    "start_time": "2023-09-29T01:04:32.491Z"
   },
   {
    "duration": 306,
    "start_time": "2023-09-29T01:04:46.395Z"
   },
   {
    "duration": 447,
    "start_time": "2023-09-29T01:04:53.951Z"
   },
   {
    "duration": 350,
    "start_time": "2023-09-29T01:05:06.131Z"
   },
   {
    "duration": 373,
    "start_time": "2023-09-29T01:06:12.950Z"
   },
   {
    "duration": 157,
    "start_time": "2023-09-29T01:06:28.431Z"
   },
   {
    "duration": 334,
    "start_time": "2023-09-29T01:06:41.003Z"
   },
   {
    "duration": 292,
    "start_time": "2023-09-29T01:08:52.918Z"
   },
   {
    "duration": 301,
    "start_time": "2023-09-29T01:09:55.185Z"
   },
   {
    "duration": 323,
    "start_time": "2023-09-29T01:11:07.840Z"
   },
   {
    "duration": 442,
    "start_time": "2023-09-29T01:12:07.862Z"
   },
   {
    "duration": 291,
    "start_time": "2023-09-29T01:13:23.234Z"
   },
   {
    "duration": 11,
    "start_time": "2023-09-29T01:14:47.126Z"
   },
   {
    "duration": 87,
    "start_time": "2023-09-29T01:15:54.018Z"
   },
   {
    "duration": 83,
    "start_time": "2023-09-29T01:19:30.796Z"
   },
   {
    "duration": 111,
    "start_time": "2023-09-29T01:19:39.425Z"
   },
   {
    "duration": 26,
    "start_time": "2023-09-29T01:19:45.162Z"
   },
   {
    "duration": 119,
    "start_time": "2023-09-29T01:20:20.567Z"
   },
   {
    "duration": 7,
    "start_time": "2023-09-29T01:21:44.218Z"
   },
   {
    "duration": 26,
    "start_time": "2023-09-29T01:22:18.548Z"
   },
   {
    "duration": 12,
    "start_time": "2023-09-29T01:24:17.320Z"
   },
   {
    "duration": 10,
    "start_time": "2023-09-29T01:33:57.479Z"
   },
   {
    "duration": 8,
    "start_time": "2023-09-29T01:34:38.502Z"
   },
   {
    "duration": 23,
    "start_time": "2023-09-29T01:35:03.451Z"
   },
   {
    "duration": 14,
    "start_time": "2023-09-29T01:36:58.941Z"
   },
   {
    "duration": 1520,
    "start_time": "2023-09-29T14:10:44.051Z"
   },
   {
    "duration": 5,
    "start_time": "2023-09-29T14:10:45.573Z"
   },
   {
    "duration": 278,
    "start_time": "2023-09-29T14:10:45.580Z"
   },
   {
    "duration": 6,
    "start_time": "2023-09-29T14:10:45.860Z"
   },
   {
    "duration": 72,
    "start_time": "2023-09-29T14:10:45.869Z"
   },
   {
    "duration": 49,
    "start_time": "2023-09-29T14:10:45.944Z"
   },
   {
    "duration": 56,
    "start_time": "2023-09-29T14:10:45.995Z"
   },
   {
    "duration": 5,
    "start_time": "2023-09-29T14:10:46.054Z"
   },
   {
    "duration": 89,
    "start_time": "2023-09-29T14:10:46.061Z"
   },
   {
    "duration": 108,
    "start_time": "2023-09-29T14:10:46.151Z"
   },
   {
    "duration": 70,
    "start_time": "2023-09-29T14:10:46.261Z"
   },
   {
    "duration": 52,
    "start_time": "2023-09-29T14:10:46.334Z"
   },
   {
    "duration": 40,
    "start_time": "2023-09-29T14:10:46.388Z"
   },
   {
    "duration": 15,
    "start_time": "2023-09-29T14:10:46.432Z"
   },
   {
    "duration": 30,
    "start_time": "2023-09-29T14:10:46.449Z"
   },
   {
    "duration": 139,
    "start_time": "2023-09-29T14:10:46.481Z"
   },
   {
    "duration": 14,
    "start_time": "2023-09-29T14:10:46.621Z"
   },
   {
    "duration": 351,
    "start_time": "2023-09-29T14:10:46.645Z"
   },
   {
    "duration": 400,
    "start_time": "2023-09-29T14:10:46.998Z"
   },
   {
    "duration": 276,
    "start_time": "2023-09-29T14:10:47.400Z"
   },
   {
    "duration": 504,
    "start_time": "2023-09-29T14:10:47.678Z"
   },
   {
    "duration": 263,
    "start_time": "2023-09-29T14:10:48.185Z"
   },
   {
    "duration": 396,
    "start_time": "2023-09-29T14:10:48.450Z"
   },
   {
    "duration": 188,
    "start_time": "2023-09-29T14:10:48.848Z"
   },
   {
    "duration": 188,
    "start_time": "2023-09-29T14:10:49.038Z"
   },
   {
    "duration": 15,
    "start_time": "2023-09-29T14:10:49.229Z"
   },
   {
    "duration": 623,
    "start_time": "2023-09-29T14:10:49.246Z"
   },
   {
    "duration": 407,
    "start_time": "2023-09-29T14:10:49.871Z"
   },
   {
    "duration": 11,
    "start_time": "2023-09-29T14:10:50.280Z"
   },
   {
    "duration": 127,
    "start_time": "2023-09-29T14:10:50.293Z"
   },
   {
    "duration": 177,
    "start_time": "2023-09-29T14:10:50.422Z"
   },
   {
    "duration": 64,
    "start_time": "2023-09-29T14:10:50.604Z"
   },
   {
    "duration": 193,
    "start_time": "2023-09-29T14:10:50.670Z"
   },
   {
    "duration": 7,
    "start_time": "2023-09-29T14:10:50.865Z"
   },
   {
    "duration": 124,
    "start_time": "2023-09-29T14:10:50.874Z"
   },
   {
    "duration": 32,
    "start_time": "2023-09-29T14:10:51.000Z"
   },
   {
    "duration": 40,
    "start_time": "2023-09-29T14:10:51.036Z"
   },
   {
    "duration": 40,
    "start_time": "2023-09-29T14:10:51.077Z"
   },
   {
    "duration": 197,
    "start_time": "2023-09-29T14:10:51.119Z"
   },
   {
    "duration": 20,
    "start_time": "2023-09-29T14:10:51.318Z"
   },
   {
    "duration": 1324,
    "start_time": "2023-09-29T15:27:46.229Z"
   },
   {
    "duration": 4,
    "start_time": "2023-09-29T15:27:47.556Z"
   },
   {
    "duration": 123,
    "start_time": "2023-09-29T15:27:47.562Z"
   },
   {
    "duration": 4,
    "start_time": "2023-09-29T15:27:47.687Z"
   },
   {
    "duration": 84,
    "start_time": "2023-09-29T15:27:47.694Z"
   },
   {
    "duration": 67,
    "start_time": "2023-09-29T15:27:47.780Z"
   },
   {
    "duration": 37,
    "start_time": "2023-09-29T15:27:47.850Z"
   },
   {
    "duration": 6,
    "start_time": "2023-09-29T15:27:47.889Z"
   },
   {
    "duration": 55,
    "start_time": "2023-09-29T15:27:47.897Z"
   },
   {
    "duration": 21,
    "start_time": "2023-09-29T15:27:47.955Z"
   },
   {
    "duration": 26,
    "start_time": "2023-09-29T15:27:47.979Z"
   },
   {
    "duration": 5,
    "start_time": "2023-09-29T15:27:48.007Z"
   },
   {
    "duration": 38,
    "start_time": "2023-09-29T15:27:48.014Z"
   },
   {
    "duration": 22,
    "start_time": "2023-09-29T15:27:48.057Z"
   },
   {
    "duration": 23,
    "start_time": "2023-09-29T15:27:48.081Z"
   },
   {
    "duration": 112,
    "start_time": "2023-09-29T15:27:48.106Z"
   },
   {
    "duration": 24,
    "start_time": "2023-09-29T15:27:48.220Z"
   },
   {
    "duration": 326,
    "start_time": "2023-09-29T15:27:48.246Z"
   },
   {
    "duration": 379,
    "start_time": "2023-09-29T15:27:48.575Z"
   },
   {
    "duration": 244,
    "start_time": "2023-09-29T15:27:48.956Z"
   },
   {
    "duration": 420,
    "start_time": "2023-09-29T15:27:49.203Z"
   },
   {
    "duration": 248,
    "start_time": "2023-09-29T15:27:49.625Z"
   },
   {
    "duration": 365,
    "start_time": "2023-09-29T15:27:49.874Z"
   },
   {
    "duration": 192,
    "start_time": "2023-09-29T15:27:50.240Z"
   },
   {
    "duration": 197,
    "start_time": "2023-09-29T15:27:50.443Z"
   },
   {
    "duration": 6,
    "start_time": "2023-09-29T15:27:50.642Z"
   },
   {
    "duration": 500,
    "start_time": "2023-09-29T15:27:50.650Z"
   },
   {
    "duration": 364,
    "start_time": "2023-09-29T15:27:51.152Z"
   },
   {
    "duration": 11,
    "start_time": "2023-09-29T15:27:51.518Z"
   },
   {
    "duration": 123,
    "start_time": "2023-09-29T15:27:51.544Z"
   },
   {
    "duration": 156,
    "start_time": "2023-09-29T15:27:51.669Z"
   },
   {
    "duration": 39,
    "start_time": "2023-09-29T15:27:51.827Z"
   },
   {
    "duration": 191,
    "start_time": "2023-09-29T15:27:51.868Z"
   },
   {
    "duration": 7,
    "start_time": "2023-09-29T15:27:52.061Z"
   },
   {
    "duration": 53,
    "start_time": "2023-09-29T15:27:52.069Z"
   },
   {
    "duration": 21,
    "start_time": "2023-09-29T15:27:52.124Z"
   },
   {
    "duration": 22,
    "start_time": "2023-09-29T15:27:52.147Z"
   },
   {
    "duration": 25,
    "start_time": "2023-09-29T15:27:52.171Z"
   },
   {
    "duration": 50,
    "start_time": "2023-09-29T15:27:52.198Z"
   },
   {
    "duration": 19,
    "start_time": "2023-09-29T15:27:52.251Z"
   },
   {
    "duration": 1185,
    "start_time": "2023-09-29T15:28:38.197Z"
   },
   {
    "duration": 6,
    "start_time": "2023-09-29T15:28:39.384Z"
   },
   {
    "duration": 172,
    "start_time": "2023-09-29T15:28:39.392Z"
   },
   {
    "duration": 5,
    "start_time": "2023-09-29T15:28:39.567Z"
   },
   {
    "duration": 78,
    "start_time": "2023-09-29T15:28:39.574Z"
   },
   {
    "duration": 45,
    "start_time": "2023-09-29T15:28:39.654Z"
   },
   {
    "duration": 47,
    "start_time": "2023-09-29T15:28:39.700Z"
   },
   {
    "duration": 4,
    "start_time": "2023-09-29T15:28:39.749Z"
   },
   {
    "duration": 39,
    "start_time": "2023-09-29T15:28:39.755Z"
   },
   {
    "duration": 31,
    "start_time": "2023-09-29T15:28:39.798Z"
   },
   {
    "duration": 18,
    "start_time": "2023-09-29T15:28:39.831Z"
   },
   {
    "duration": 4,
    "start_time": "2023-09-29T15:28:39.851Z"
   },
   {
    "duration": 24,
    "start_time": "2023-09-29T15:28:39.856Z"
   },
   {
    "duration": 29,
    "start_time": "2023-09-29T15:28:39.881Z"
   },
   {
    "duration": 22,
    "start_time": "2023-09-29T15:28:39.912Z"
   },
   {
    "duration": 108,
    "start_time": "2023-09-29T15:28:39.937Z"
   },
   {
    "duration": 12,
    "start_time": "2023-09-29T15:28:40.048Z"
   },
   {
    "duration": 547,
    "start_time": "2023-09-29T15:28:40.062Z"
   },
   {
    "duration": 503,
    "start_time": "2023-09-29T15:28:40.611Z"
   },
   {
    "duration": 259,
    "start_time": "2023-09-29T15:28:41.116Z"
   },
   {
    "duration": 356,
    "start_time": "2023-09-29T15:28:41.377Z"
   },
   {
    "duration": 250,
    "start_time": "2023-09-29T15:28:41.735Z"
   },
   {
    "duration": 457,
    "start_time": "2023-09-29T15:28:41.987Z"
   },
   {
    "duration": 197,
    "start_time": "2023-09-29T15:28:42.446Z"
   },
   {
    "duration": 184,
    "start_time": "2023-09-29T15:28:42.644Z"
   },
   {
    "duration": 13,
    "start_time": "2023-09-29T15:28:42.830Z"
   },
   {
    "duration": 553,
    "start_time": "2023-09-29T15:28:42.846Z"
   },
   {
    "duration": 465,
    "start_time": "2023-09-29T15:28:43.403Z"
   },
   {
    "duration": 12,
    "start_time": "2023-09-29T15:28:43.870Z"
   },
   {
    "duration": 163,
    "start_time": "2023-09-29T15:28:43.884Z"
   },
   {
    "duration": 151,
    "start_time": "2023-09-29T15:28:44.049Z"
   },
   {
    "duration": 32,
    "start_time": "2023-09-29T15:28:44.202Z"
   },
   {
    "duration": 254,
    "start_time": "2023-09-29T15:28:44.236Z"
   },
   {
    "duration": 8,
    "start_time": "2023-09-29T15:28:44.492Z"
   },
   {
    "duration": 48,
    "start_time": "2023-09-29T15:28:44.503Z"
   },
   {
    "duration": 17,
    "start_time": "2023-09-29T15:28:44.554Z"
   },
   {
    "duration": 19,
    "start_time": "2023-09-29T15:28:44.573Z"
   },
   {
    "duration": 26,
    "start_time": "2023-09-29T15:28:44.594Z"
   },
   {
    "duration": 57,
    "start_time": "2023-09-29T15:28:44.623Z"
   },
   {
    "duration": 20,
    "start_time": "2023-09-29T15:28:44.682Z"
   },
   {
    "duration": 1443,
    "start_time": "2023-09-29T15:29:00.471Z"
   },
   {
    "duration": 4,
    "start_time": "2023-09-29T15:29:01.916Z"
   },
   {
    "duration": 269,
    "start_time": "2023-09-29T15:29:01.922Z"
   },
   {
    "duration": 80,
    "start_time": "2023-09-29T15:29:02.193Z"
   },
   {
    "duration": 118,
    "start_time": "2023-09-29T15:29:02.276Z"
   },
   {
    "duration": 65,
    "start_time": "2023-09-29T15:29:02.396Z"
   },
   {
    "duration": 66,
    "start_time": "2023-09-29T15:29:02.463Z"
   },
   {
    "duration": 44,
    "start_time": "2023-09-29T15:29:02.531Z"
   },
   {
    "duration": 91,
    "start_time": "2023-09-29T15:29:02.577Z"
   },
   {
    "duration": 51,
    "start_time": "2023-09-29T15:29:02.670Z"
   },
   {
    "duration": 63,
    "start_time": "2023-09-29T15:29:02.723Z"
   },
   {
    "duration": 46,
    "start_time": "2023-09-29T15:29:02.789Z"
   },
   {
    "duration": 59,
    "start_time": "2023-09-29T15:29:02.838Z"
   },
   {
    "duration": 21,
    "start_time": "2023-09-29T15:29:02.901Z"
   },
   {
    "duration": 40,
    "start_time": "2023-09-29T15:29:02.925Z"
   },
   {
    "duration": 116,
    "start_time": "2023-09-29T15:29:02.967Z"
   },
   {
    "duration": 13,
    "start_time": "2023-09-29T15:29:03.086Z"
   },
   {
    "duration": 341,
    "start_time": "2023-09-29T15:29:03.101Z"
   },
   {
    "duration": 355,
    "start_time": "2023-09-29T15:29:03.444Z"
   },
   {
    "duration": 257,
    "start_time": "2023-09-29T15:29:03.801Z"
   },
   {
    "duration": 415,
    "start_time": "2023-09-29T15:29:04.060Z"
   },
   {
    "duration": 323,
    "start_time": "2023-09-29T15:29:04.477Z"
   },
   {
    "duration": 415,
    "start_time": "2023-09-29T15:29:04.802Z"
   },
   {
    "duration": 201,
    "start_time": "2023-09-29T15:29:05.219Z"
   },
   {
    "duration": 176,
    "start_time": "2023-09-29T15:29:05.422Z"
   },
   {
    "duration": 6,
    "start_time": "2023-09-29T15:29:05.600Z"
   },
   {
    "duration": 673,
    "start_time": "2023-09-29T15:29:05.608Z"
   },
   {
    "duration": 459,
    "start_time": "2023-09-29T15:29:06.284Z"
   },
   {
    "duration": 12,
    "start_time": "2023-09-29T15:29:06.745Z"
   },
   {
    "duration": 128,
    "start_time": "2023-09-29T15:29:06.759Z"
   },
   {
    "duration": 168,
    "start_time": "2023-09-29T15:29:06.889Z"
   },
   {
    "duration": 38,
    "start_time": "2023-09-29T15:29:07.059Z"
   },
   {
    "duration": 245,
    "start_time": "2023-09-29T15:29:07.099Z"
   },
   {
    "duration": 11,
    "start_time": "2023-09-29T15:29:07.346Z"
   },
   {
    "duration": 50,
    "start_time": "2023-09-29T15:29:07.360Z"
   },
   {
    "duration": 36,
    "start_time": "2023-09-29T15:29:07.412Z"
   },
   {
    "duration": 16,
    "start_time": "2023-09-29T15:29:07.450Z"
   },
   {
    "duration": 59,
    "start_time": "2023-09-29T15:29:07.469Z"
   },
   {
    "duration": 43,
    "start_time": "2023-09-29T15:29:07.530Z"
   },
   {
    "duration": 21,
    "start_time": "2023-09-29T15:29:07.575Z"
   },
   {
    "duration": 1463,
    "start_time": "2023-09-30T07:45:16.332Z"
   },
   {
    "duration": 4,
    "start_time": "2023-09-30T07:45:17.798Z"
   },
   {
    "duration": 246,
    "start_time": "2023-09-30T07:45:17.804Z"
   },
   {
    "duration": 5,
    "start_time": "2023-09-30T07:45:18.052Z"
   },
   {
    "duration": 59,
    "start_time": "2023-09-30T07:45:18.060Z"
   },
   {
    "duration": 49,
    "start_time": "2023-09-30T07:45:18.121Z"
   },
   {
    "duration": 28,
    "start_time": "2023-09-30T07:45:18.172Z"
   },
   {
    "duration": 5,
    "start_time": "2023-09-30T07:45:18.202Z"
   },
   {
    "duration": 21,
    "start_time": "2023-09-30T07:45:18.248Z"
   },
   {
    "duration": 30,
    "start_time": "2023-09-30T07:45:18.271Z"
   },
   {
    "duration": 43,
    "start_time": "2023-09-30T07:45:18.303Z"
   },
   {
    "duration": 16,
    "start_time": "2023-09-30T07:45:18.348Z"
   },
   {
    "duration": 47,
    "start_time": "2023-09-30T07:45:18.366Z"
   },
   {
    "duration": 65,
    "start_time": "2023-09-30T07:45:18.417Z"
   },
   {
    "duration": 45,
    "start_time": "2023-09-30T07:45:18.484Z"
   },
   {
    "duration": 114,
    "start_time": "2023-09-30T07:45:18.531Z"
   },
   {
    "duration": 10,
    "start_time": "2023-09-30T07:45:18.647Z"
   },
   {
    "duration": 350,
    "start_time": "2023-09-30T07:45:18.658Z"
   },
   {
    "duration": 365,
    "start_time": "2023-09-30T07:45:19.009Z"
   },
   {
    "duration": 265,
    "start_time": "2023-09-30T07:45:19.376Z"
   },
   {
    "duration": 384,
    "start_time": "2023-09-30T07:45:19.643Z"
   },
   {
    "duration": 251,
    "start_time": "2023-09-30T07:45:20.030Z"
   },
   {
    "duration": 460,
    "start_time": "2023-09-30T07:45:20.283Z"
   },
   {
    "duration": 190,
    "start_time": "2023-09-30T07:45:20.745Z"
   },
   {
    "duration": 189,
    "start_time": "2023-09-30T07:45:20.937Z"
   },
   {
    "duration": 5,
    "start_time": "2023-09-30T07:45:21.128Z"
   },
   {
    "duration": 463,
    "start_time": "2023-09-30T07:45:21.135Z"
   },
   {
    "duration": 373,
    "start_time": "2023-09-30T07:45:21.599Z"
   },
   {
    "duration": 10,
    "start_time": "2023-09-30T07:45:21.973Z"
   },
   {
    "duration": 117,
    "start_time": "2023-09-30T07:45:21.984Z"
   },
   {
    "duration": 144,
    "start_time": "2023-09-30T07:45:22.103Z"
   },
   {
    "duration": 31,
    "start_time": "2023-09-30T07:45:22.248Z"
   },
   {
    "duration": 179,
    "start_time": "2023-09-30T07:45:22.281Z"
   },
   {
    "duration": 7,
    "start_time": "2023-09-30T07:45:22.462Z"
   },
   {
    "duration": 61,
    "start_time": "2023-09-30T07:45:22.471Z"
   },
   {
    "duration": 22,
    "start_time": "2023-09-30T07:45:22.534Z"
   },
   {
    "duration": 12,
    "start_time": "2023-09-30T07:45:22.558Z"
   },
   {
    "duration": 16,
    "start_time": "2023-09-30T07:45:22.572Z"
   },
   {
    "duration": 41,
    "start_time": "2023-09-30T07:45:22.590Z"
   },
   {
    "duration": 14,
    "start_time": "2023-09-30T07:45:22.646Z"
   }
  ],
  "kernelspec": {
   "display_name": "Python 3 (ipykernel)",
   "language": "python",
   "name": "python3"
  },
  "language_info": {
   "codemirror_mode": {
    "name": "ipython",
    "version": 3
   },
   "file_extension": ".py",
   "mimetype": "text/x-python",
   "name": "python",
   "nbconvert_exporter": "python",
   "pygments_lexer": "ipython3",
   "version": "3.10.9"
  },
  "toc": {
   "base_numbering": 1,
   "nav_menu": {},
   "number_sections": true,
   "sideBar": true,
   "skip_h1_title": true,
   "title_cell": "Table of Contents",
   "title_sidebar": "Contents",
   "toc_cell": false,
   "toc_position": {},
   "toc_section_display": true,
   "toc_window_display": false
  }
 },
 "nbformat": 4,
 "nbformat_minor": 2
}
