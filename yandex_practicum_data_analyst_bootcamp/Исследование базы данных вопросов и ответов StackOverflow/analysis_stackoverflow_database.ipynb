{
 "cells": [
  {
   "cell_type": "markdown",
   "id": "af3d036d",
   "metadata": {},
   "source": [
    "# Исследование базы данных StackOverflow"
   ]
  },
  {
   "cell_type": "markdown",
   "id": "1a9b875b",
   "metadata": {},
   "source": [
    "**Проект выполняется в интерактивном тренажере на платформе Яндекс.Практикума**"
   ]
  },
  {
   "cell_type": "markdown",
   "id": "89806e9a",
   "metadata": {},
   "source": [
    "## ЧАСТЬ 1"
   ]
  },
  {
   "cell_type": "markdown",
   "id": "6ef61c98",
   "metadata": {},
   "source": [
    "*Задание 1. Найдите количество вопросов, которые набрали больше 300 очков или как минимум 100 раз были добавлены в «Закладки».*"
   ]
  },
  {
   "cell_type": "code",
   "execution_count": null,
   "id": "fe653e8b",
   "metadata": {},
   "outputs": [],
   "source": [
    "'''\n",
    "SELECT COUNT(id)\n",
    "FROM stackoverflow.posts\n",
    "WHERE (score > 300 OR favorites_count >=100) AND post_type_id = 1\n",
    "'''"
   ]
  },
  {
   "cell_type": "markdown",
   "id": "ac2d1d62",
   "metadata": {},
   "source": [
    "*Задание 2. Сколько в среднем в день задавали вопросов с 1 по 18 ноября 2008 включительно? Результат округлите до целого числа.*"
   ]
  },
  {
   "cell_type": "code",
   "execution_count": null,
   "id": "fb1c73fb",
   "metadata": {},
   "outputs": [],
   "source": [
    "'''\n",
    "WITH cnt AS (SELECT CAST(DATE_TRUNC('day', p.creation_date) AS date) AS date, \n",
    "                    COUNT(p.id)\n",
    "             FROM stackoverflow.posts AS p\n",
    "             WHERE post_type_id = 1\n",
    "             GROUP BY CAST(DATE_TRUNC('day', p.creation_date) AS date)\n",
    "             HAVING CAST(DATE_TRUNC('day', p.creation_date) AS date) BETWEEN '2008-11-01' AND '2008-11-18')\n",
    "SELECT ROUND(AVG(count))\n",
    "FROM cnt\n",
    "'''"
   ]
  },
  {
   "cell_type": "markdown",
   "id": "fb1a9399",
   "metadata": {},
   "source": [
    "*Задание 3. Сколько пользователей получили значки сразу в день регистрации? Выведите количество уникальных пользователей.*"
   ]
  },
  {
   "cell_type": "code",
   "execution_count": null,
   "id": "b021084a",
   "metadata": {},
   "outputs": [],
   "source": [
    "'''\n",
    "SELECT COUNT(DISTINCT(u.id))\n",
    "FROM stackoverflow.users AS u\n",
    "JOIN stackoverflow.badges AS b ON u.id = b.user_id\n",
    "WHERE CAST(DATE_TRUNC('day', u.creation_date) AS date) = CAST(DATE_TRUNC('day', b.creation_date) AS date)\n",
    "'''"
   ]
  },
  {
   "cell_type": "markdown",
   "id": "c53179ad",
   "metadata": {},
   "source": [
    "*Задание 4. Сколько уникальных постов пользователя с именем Joel Coehoorn получили хотя бы один голос?*"
   ]
  },
  {
   "cell_type": "code",
   "execution_count": null,
   "id": "df3c96a3",
   "metadata": {},
   "outputs": [],
   "source": [
    "'''\n",
    "SELECT COUNT(DISTINCT(p.id))\n",
    "FROM stackoverflow.posts AS p\n",
    "JOIN stackoverflow.users AS u ON p.user_id = u.id\n",
    "RIGHT JOIN stackoverflow.votes AS v ON p.id = v.post_id\n",
    "WHERE u.display_name LIKE 'Joel Coehoorn'\n",
    "'''"
   ]
  },
  {
   "cell_type": "markdown",
   "id": "cbd999d2",
   "metadata": {},
   "source": [
    "*Задание 5. Выгрузите все поля таблицы vote_types. Добавьте к таблице поле rank, в которое войдут номера записей в обратном порядке. Таблица должна быть отсортирована по полю id.*"
   ]
  },
  {
   "cell_type": "code",
   "execution_count": null,
   "id": "500f0374",
   "metadata": {},
   "outputs": [],
   "source": [
    "'''\n",
    "SELECT *, \n",
    "       RANK() OVER (ORDER BY id DESC) AS rank\n",
    "FROM stackoverflow.vote_types\n",
    "ORDER BY id\n",
    "'''"
   ]
  },
  {
   "cell_type": "markdown",
   "id": "42d4005d",
   "metadata": {},
   "source": [
    "*Задание 6. Отберите 10 пользователей, которые поставили больше всего голосов типа Close. Отобразите таблицу из двух полей: идентификатором пользователя и количеством голосов. Отсортируйте данные сначала по убыванию количества голосов, потом по убыванию значения идентификатора пользователя.*"
   ]
  },
  {
   "cell_type": "code",
   "execution_count": null,
   "id": "24c27219",
   "metadata": {},
   "outputs": [],
   "source": [
    "'''\n",
    "SELECT user_id,\n",
    "       COUNT(id)\n",
    "FROM stackoverflow.votes\n",
    "WHERE vote_type_id = 6\n",
    "GROUP BY user_id\n",
    "ORDER BY COUNT(id) DESC, user_id DESC\n",
    "LIMIT 10\n",
    "'''"
   ]
  },
  {
   "cell_type": "markdown",
   "id": "b094bb74",
   "metadata": {},
   "source": [
    "*Задание 7. Отберите 10 пользователей по количеству значков, полученных в период с 15 ноября по 15 декабря 2008 года включительно. Отобразите несколько полей:*\n",
    "\n",
    "  - идентификатор пользователя;\n",
    "  - число значков;\n",
    "  - место в рейтинге — чем больше значков, тем выше рейтинг.\n",
    "\n",
    "*Пользователям, которые набрали одинаковое количество значков, присвойте одно и то же место в рейтинге.\n",
    "Отсортируйте записи по количеству значков по убыванию, а затем по возрастанию значения идентификатора пользователя.*"
   ]
  },
  {
   "cell_type": "code",
   "execution_count": null,
   "id": "3626f58a",
   "metadata": {},
   "outputs": [],
   "source": [
    "'''\n",
    "SELECT user_id,\n",
    "       COUNT(id),\n",
    "       DENSE_RANK() OVER (ORDER BY COUNT(id) DESC)\n",
    "FROM stackoverflow.badges\n",
    "WHERE CAST(creation_date AS date) BETWEEN '2008-11-15' AND '2008-12-15'\n",
    "GROUP BY user_id\n",
    "ORDER BY COUNT(id) DESC, user_id\n",
    "LIMIT 10\n",
    "'''"
   ]
  },
  {
   "cell_type": "markdown",
   "id": "c9a547cc",
   "metadata": {},
   "source": [
    "*Задание 8. Сколько в среднем очков получает пост каждого пользователя?\n",
    "Сформируйте таблицу из следующих полей:*\n",
    "\n",
    "  - заголовок поста;\n",
    "  - идентификатор пользователя;\n",
    "  - число очков поста;\n",
    "  - среднее число очков пользователя за пост, округлённое до целого числа.\n",
    "\n",
    "*Не учитывайте посты без заголовка, а также те, что набрали ноль очков.*"
   ]
  },
  {
   "cell_type": "code",
   "execution_count": null,
   "id": "ffb4b30f",
   "metadata": {},
   "outputs": [],
   "source": [
    "'''\n",
    "SELECT title,\n",
    "       user_id,\n",
    "       score,\n",
    "ROUND(AVG(score) OVER (PARTITION BY user_id))\n",
    "FROM stackoverflow.posts\n",
    "WHERE score <> 0 AND title IS NOT NULL\n",
    "'''"
   ]
  },
  {
   "cell_type": "markdown",
   "id": "38e7582c",
   "metadata": {},
   "source": [
    "*Задание 9. Отобразите заголовки постов, которые были написаны пользователями, получившими более 1000 значков. Посты без заголовков не должны попасть в список.*"
   ]
  },
  {
   "cell_type": "code",
   "execution_count": null,
   "id": "8908f969",
   "metadata": {},
   "outputs": [],
   "source": [
    "'''\n",
    "SELECT title\n",
    "FROM stackoverflow.posts\n",
    "WHERE user_id IN (SELECT user_id \n",
    "                  FROM stackoverflow.badges \n",
    "                  GROUP BY user_id \n",
    "                  HAVING COUNT(id)>1000)\n",
    "AND title IS NOT NULL\n",
    "'''"
   ]
  },
  {
   "cell_type": "markdown",
   "id": "36a139b8",
   "metadata": {},
   "source": [
    "*Задание 10. Напишите запрос, который выгрузит данные о пользователях из Канады (англ. Canada). Разделите пользователей на три группы в зависимости от количества просмотров их профилей:*\n",
    "\n",
    "  - пользователям с числом просмотров больше либо равным 350 присвойте группу 1;\n",
    "  - пользователям с числом просмотров меньше 350, но больше либо равно 100 — группу 2;\n",
    "  - пользователям с числом просмотров меньше 100 — группу 3.\n",
    "\n",
    "*Отобразите в итоговой таблице идентификатор пользователя, количество просмотров профиля и группу. Пользователи с нулевым количеством просмотров не должны войти в итоговую таблицу.*"
   ]
  },
  {
   "cell_type": "code",
   "execution_count": null,
   "id": "6b226cd2",
   "metadata": {},
   "outputs": [],
   "source": [
    "'''\n",
    "SELECT id,\n",
    "       views,\n",
    "       CASE\n",
    "            WHEN views < 100 THEN 3\n",
    "            WHEN views < 350 THEN 2\n",
    "            WHEN views >= 350 THEN 1\n",
    "       END\n",
    "FROM stackoverflow.users\n",
    "WHERE location LIKE '%Canada%' AND views > 0\n",
    "'''"
   ]
  },
  {
   "cell_type": "markdown",
   "id": "22716002",
   "metadata": {},
   "source": [
    "*Задание 11. Дополните предыдущий запрос. Отобразите лидеров каждой группы — пользователей, которые набрали максимальное число просмотров в своей группе. Выведите поля с идентификатором пользователя, группой и количеством просмотров. Отсортируйте таблицу по убыванию просмотров, а затем по возрастанию значения идентификатора.*"
   ]
  },
  {
   "cell_type": "code",
   "execution_count": null,
   "id": "777b0ef7",
   "metadata": {},
   "outputs": [],
   "source": [
    "'''\n",
    "WITH us_users AS (SELECT id AS user_id,\n",
    "                         views AS views_cnt,\n",
    "                         CASE\n",
    "                              WHEN views < 100 THEN 3\n",
    "                              WHEN views < 350 THEN 2\n",
    "                              WHEN views >= 350 THEN 1\n",
    "                         END AS groups\n",
    "                   FROM stackoverflow.users\n",
    "                   WHERE location LIKE '%Canada%' AND views != 0)\n",
    "SELECT user_id,\n",
    "       groups,\n",
    "       views_cnt\n",
    "FROM (SELECT user_id,\n",
    "             views_cnt,\n",
    "             groups,\n",
    "             MAX(views_cnt) OVER (PARTITION BY groups ORDER BY views_cnt DESC) AS max_views\n",
    "      FROM us_users) AS max_us\n",
    "WHERE views_cnt = max_views\n",
    "ORDER BY views_cnt DESC, user_id\n",
    "'''"
   ]
  },
  {
   "cell_type": "markdown",
   "id": "7c645522",
   "metadata": {},
   "source": [
    "*Задание 12. Посчитайте ежедневный прирост новых пользователей в ноябре 2008 года. Сформируйте таблицу с полями:*\n",
    "\n",
    "  - номер дня;\n",
    "  - число пользователей, зарегистрированных в этот день;\n",
    "  - сумму пользователей с накоплением."
   ]
  },
  {
   "cell_type": "code",
   "execution_count": null,
   "id": "cd9f4dad",
   "metadata": {},
   "outputs": [],
   "source": [
    "'''\n",
    "WITH t1 AS (SELECT CAST(DATE_TRUNC('day', creation_date) AS date) AS dt, \n",
    "                   COUNT(id) AS val\n",
    "            FROM stackoverflow.users\n",
    "            GROUP BY CAST(DATE_TRUNC('day', creation_date) AS date)\n",
    "            ORDER BY CAST(DATE_TRUNC('day', creation_date) AS date))\n",
    "SELECT RANK() OVER(ORDER BY dt),\n",
    "       val,\n",
    "       SUM(val) OVER (ORDER BY dt) AS cum\n",
    "FROM t1 \n",
    "WHERE CAST(DATE_TRUNC('day', dt) AS date) BETWEEN '2008-11-01' AND '2008-11-30'\n",
    "'''"
   ]
  },
  {
   "cell_type": "markdown",
   "id": "413fe769",
   "metadata": {},
   "source": [
    "*Задание 13. Для каждого пользователя, который написал хотя бы один пост, найдите интервал между регистрацией и временем создания первого поста. Отобразите:*\n",
    "\n",
    "  - идентификатор пользователя;\n",
    "  - разницу во времени между регистрацией и первым постом."
   ]
  },
  {
   "cell_type": "code",
   "execution_count": null,
   "id": "6ef10116",
   "metadata": {},
   "outputs": [],
   "source": [
    "'''\n",
    "SELECT DISTINCT p.user_id,\n",
    "       MIN(p.creation_date ) OVER (PARTITION BY p.user_id) - u.creation_date  AS interval\n",
    "FROM stackoverflow.posts  AS p\n",
    "LEFT JOIN stackoverflow.users AS u ON p.user_id =  u.id\n",
    "'''"
   ]
  },
  {
   "cell_type": "markdown",
   "id": "71151df2",
   "metadata": {},
   "source": [
    "## ЧАСТЬ 2"
   ]
  },
  {
   "cell_type": "markdown",
   "id": "e089cf1f",
   "metadata": {},
   "source": [
    "*Задание 1. Выведите общую сумму просмотров у постов, опубликованных в каждый месяц 2008 года. Если данных за какой-либо месяц в базе нет, такой месяц можно пропустить. Результат отсортируйте по убыванию общего количества просмотров.*"
   ]
  },
  {
   "cell_type": "code",
   "execution_count": null,
   "id": "20c11768",
   "metadata": {},
   "outputs": [],
   "source": [
    "'''\n",
    "SELECT CAST(DATE_TRUNC('month', creation_date) AS date) AS month,\n",
    "       SUM(views_count) AS sum\n",
    "FROM stackoverflow.posts\n",
    "WHERE creation_date::date BETWEEN '2008-01-01' AND '2008-12-31'\n",
    "GROUP BY CAST(DATE_TRUNC('month', creation_date) AS date)\n",
    "ORDER BY sum DESC\n",
    "'''"
   ]
  },
  {
   "cell_type": "markdown",
   "id": "f6fba5c1",
   "metadata": {},
   "source": [
    "*Задание 2. Выведите имена самых активных пользователей, которые в первый месяц после регистрации (включая день регистрации) дали больше 100 ответов. Вопросы, которые задавали пользователи, не учитывайте. Для каждого имени пользователя выведите количество уникальных значений user_id. Отсортируйте результат по полю с именами в лексикографическом порядке.*"
   ]
  },
  {
   "cell_type": "code",
   "execution_count": null,
   "id": "1fee165b",
   "metadata": {},
   "outputs": [],
   "source": [
    "'''\n",
    "SELECT u.display_name,\n",
    "       COUNT(DISTINCT p.user_id)\n",
    "FROM stackoverflow.users AS u JOIN stackoverflow.posts AS p ON u.id = p.user_id\n",
    "JOIN stackoverflow.post_types AS pt ON p.post_type_id = pt.id\n",
    "WHERE p.creation_date::date BETWEEN u.creation_date::date AND u.creation_date::date + INTERVAL '1 month'\n",
    "AND pt.type = 'Answer'\n",
    "GROUP BY u.display_name\n",
    "HAVING COUNT(DISTINCT p.id) > 100\n",
    "'''"
   ]
  },
  {
   "cell_type": "markdown",
   "id": "5c6a2f27",
   "metadata": {},
   "source": [
    "*Задание 3. Выведите количество постов за 2008 год по месяцам. Отберите посты от пользователей, которые зарегистрировались в сентябре 2008 года и сделали хотя бы один пост в декабре того же года. Отсортируйте таблицу по значению месяца по убыванию.*"
   ]
  },
  {
   "cell_type": "code",
   "execution_count": null,
   "id": "e7efde2b",
   "metadata": {},
   "outputs": [],
   "source": [
    "'''\n",
    "WITH t1 AS (SELECT u.id\n",
    "            FROM stackoverflow.users AS u JOIN stackoverflow.posts AS p ON u.id=p.user_id\n",
    "            WHERE (u.creation_date::date BETWEEN '2008-09-01' AND '2008-09-30')\n",
    "            AND ((p.creation_date::date BETWEEN '2008-12-01' AND '2008-12-31'))\n",
    "            GROUP BY u.id)\n",
    "SELECT CAST(DATE_TRUNC('month', p.creation_date) AS date) AS month,\n",
    "       COUNT(p.id) AS cnt\n",
    "FROM stackoverflow.users AS u JOIN stackoverflow.posts AS p ON u.id=p.user_id\n",
    "WHERE (p.creation_date::date BETWEEN '2008-01-01' AND '2008-12-31')\n",
    "AND p.user_id IN (SELECT * FROM t1)\n",
    "GROUP BY CAST(DATE_TRUNC('month', p.creation_date) AS date)\n",
    "ORDER BY CAST(DATE_TRUNC('month', p.creation_date) AS date) DESC\n",
    "'''"
   ]
  },
  {
   "cell_type": "markdown",
   "id": "a00b2705",
   "metadata": {},
   "source": [
    "*Задание 4. Используя данные о постах, выведите несколько полей:*\n",
    "\n",
    "  - идентификатор пользователя, который написал пост;\n",
    "  - дата создания поста;\n",
    "  - количество просмотров у текущего поста;\n",
    "  - сумма просмотров постов автора с накоплением.\n",
    "\n",
    "*Данные в таблице должны быть отсортированы по возрастанию идентификаторов пользователей, а данные об одном и том же пользователе — по возрастанию даты создания поста.*"
   ]
  },
  {
   "cell_type": "code",
   "execution_count": null,
   "id": "59cf8e19",
   "metadata": {},
   "outputs": [],
   "source": [
    "'''\n",
    "SELECT user_id,\n",
    "       creation_date,\n",
    "       views_count,\n",
    "       SUM(views_count) OVER (PARTITION BY user_id ORDER BY creation_date)\n",
    "FROM stackoverflow.posts \n",
    "ORDER BY user_id, creation_date\n",
    "'''"
   ]
  },
  {
   "cell_type": "markdown",
   "id": "2ccd10c8",
   "metadata": {},
   "source": [
    "*Задание 5. Сколько в среднем дней в период с 1 по 7 декабря 2008 года включительно пользователи взаимодействовали с платформой? Для каждого пользователя отберите дни, в которые он или она опубликовали хотя бы один пост. Нужно получить одно целое число — не забудьте округлить результат.*"
   ]
  },
  {
   "cell_type": "code",
   "execution_count": null,
   "id": "e0c85312",
   "metadata": {},
   "outputs": [],
   "source": [
    "'''\n",
    "WITH users AS (SELECT p.user_id, \n",
    "                      COUNT(distinct p.creation_date::date)\n",
    "               FROM stackoverflow.posts AS p\n",
    "               WHERE CAST(creation_date AS date) BETWEEN '2008-12-1' AND '2008-12-7' \n",
    "               GROUP BY p.user_id\n",
    "               HAVING COUNT(p.id)>=1)\n",
    "SELECT ROUND(AVG(count))\n",
    "FROM users\n",
    "'''"
   ]
  },
  {
   "cell_type": "markdown",
   "id": "569902c4",
   "metadata": {},
   "source": [
    "*Задание 6. На сколько процентов менялось количество постов ежемесячно с 1 сентября по 31 декабря 2008 года? Отобразите таблицу со следующими полями:*\n",
    "\n",
    "  - Номер месяца.\n",
    "  - Количество постов за месяц.\n",
    "  - Процент, который показывает, насколько изменилось количество постов в текущем месяце по сравнению с предыдущим.\n",
    "\n",
    "*Если постов стало меньше, значение процента должно быть отрицательным, если больше — положительным. Округлите значение процента до двух знаков после запятой.*\n",
    "\n",
    "*Напомним, что при делении одного целого числа на другое в PostgreSQL в результате получится целое число, округлённое до ближайшего целого вниз. Чтобы этого избежать, переведите делимое в тип numeric.*"
   ]
  },
  {
   "cell_type": "code",
   "execution_count": null,
   "id": "caddc776",
   "metadata": {},
   "outputs": [],
   "source": [
    "'''\n",
    "with a AS (SELECT EXTRACT(month from creation_date) AS num,\n",
    "                  COUNT(id) AS cnt\n",
    "           FROM stackoverflow.posts\n",
    "           WHERE creation_date::date BETWEEN '2008-09-01' AND '2008-12-31'\n",
    "           GROUP BY 1)\n",
    "SELECT num,\n",
    "       cnt,\n",
    "       ROUND(((cnt::numeric/LAG(cnt) OVER (ORDER BY num))-1) * 100, 2)\n",
    "FROM a\n",
    "'''"
   ]
  },
  {
   "cell_type": "markdown",
   "id": "d7cb9ac8",
   "metadata": {},
   "source": [
    "*Задание 7. Найдите пользователя, который опубликовал больше всего постов за всё время с момента регистрации. Выведите данные его активности за октябрь 2008 года в таком виде:*\n",
    "  - номер недели;\n",
    "  - дата и время последнего поста, опубликованного на этой неделе."
   ]
  },
  {
   "cell_type": "code",
   "execution_count": null,
   "id": "3d43766b",
   "metadata": {},
   "outputs": [],
   "source": [
    "'''\n",
    "WITH week AS (SELECT EXTRACT(WEEK FROM creation_date) AS week_number,\n",
    "                     MAX(creation_date) OVER (ORDER BY EXTRACT(WEEK FROM creation_date))\n",
    "              FROM stackoverflow.posts \n",
    "              WHERE user_id = (SELECT user_id\n",
    "                               FROM stackoverflow.posts \n",
    "                               GROUP BY user_id \n",
    "                               ORDER BY COUNT(id) DESC\n",
    "                               LIMIT 1\n",
    "                               ) \n",
    "               AND creation_date :: date BETWEEN '2008-10-01' AND '2008-10-31'          \n",
    "               ORDER BY creation_date\n",
    "               )\n",
    "SELECT DISTINCT *\n",
    "FROM week\n",
    "ORDER BY week_number\n",
    "'''"
   ]
  }
 ],
 "metadata": {
  "kernelspec": {
   "display_name": "Python 3 (ipykernel)",
   "language": "python",
   "name": "python3"
  },
  "language_info": {
   "codemirror_mode": {
    "name": "ipython",
    "version": 3
   },
   "file_extension": ".py",
   "mimetype": "text/x-python",
   "name": "python",
   "nbconvert_exporter": "python",
   "pygments_lexer": "ipython3",
   "version": "3.10.9"
  },
  "toc": {
   "base_numbering": 1,
   "nav_menu": {},
   "number_sections": true,
   "sideBar": true,
   "skip_h1_title": false,
   "title_cell": "Table of Contents",
   "title_sidebar": "Contents",
   "toc_cell": false,
   "toc_position": {},
   "toc_section_display": true,
   "toc_window_display": false
  }
 },
 "nbformat": 4,
 "nbformat_minor": 5
}
