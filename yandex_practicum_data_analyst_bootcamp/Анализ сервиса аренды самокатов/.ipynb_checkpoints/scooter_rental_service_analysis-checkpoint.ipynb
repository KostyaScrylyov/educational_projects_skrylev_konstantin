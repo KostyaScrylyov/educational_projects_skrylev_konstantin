{
 "cells": [
  {
   "cell_type": "markdown",
   "id": "3261e9e3",
   "metadata": {},
   "source": [
    "## Анализ сервиса аренды самокатов GoFast"
   ]
  },
  {
   "cell_type": "markdown",
   "id": "32246768",
   "metadata": {},
   "source": [
    "Наам передали данные о некоторых пользователях из нескольких городов, а также об их поездках. Необходимо проанализировать данные и проверьте некоторые гипотезы, которые могут помочь бизнесу вырасти.\n",
    "\n",
    "Чтобы совершать поездки по городу, пользователи сервиса GoFast пользуются мобильным приложением. Сервисом можно пользоваться:\n",
    "- без подписки\n",
    "    - абонентская плата отсутствует;\n",
    "    - стоимость одной минуты поездки — 8 рублей;\n",
    "    - стоимость старта (начала поездки) — 50 рублей;\n",
    "- с подпиской Ultra\n",
    "    - абонентская плата — 199 рублей в месяц;\n",
    "    - стоимость одной минуты поездки — 6 рублей;\n",
    "    - стоимость старта — бесплатно."
   ]
  },
  {
   "cell_type": "markdown",
   "id": "b9a47c05",
   "metadata": {},
   "source": [
    "**Описание данных**"
   ]
  },
  {
   "cell_type": "markdown",
   "id": "353893e0",
   "metadata": {},
   "source": [
    "**Пользователи — `users_go.csv`**\n",
    "\n",
    "- `user_id`\t— уникальный идентификатор пользователя\n",
    "- `name` — имя пользователя\n",
    "- `age` —\tвозраст\n",
    "- `city` — город\n",
    "- `subscription_type` — тип подписки (free, ultra)\n",
    "\n",
    "**Поeздки — `rides_go.csv`**\n",
    "\n",
    "- `user_id`\t— уникальный идентификатор пользователя\n",
    "- `distance` — расстояние, которое пользователь проехал в текущей сессии (в метрах)\n",
    "- `duration` — продолжительность сессии (в минутах) — время с того момента, как пользователь нажал кнопку «Начать поездку» до момента, как он нажал кнопку «Завершить поездку»\n",
    "- `date` — дата совершения поездки\n",
    "\n",
    "**Подписки — `subscriptions_go.csv`**\n",
    "\n",
    "- `subscription_type` — тип подписки\n",
    "- `minute_price` — стоимость одной минуты поездки по данной подписке\n",
    "- `start_ride_price` — стоимость начала поездки\n",
    "- `subscription_fee` — стоимость ежемесячного платежа"
   ]
  },
  {
   "cell_type": "markdown",
   "id": "c42cbe00",
   "metadata": {},
   "source": [
    "### 1. Загрузка данных"
   ]
  },
  {
   "cell_type": "code",
   "execution_count": 1,
   "id": "1ae18e13",
   "metadata": {},
   "outputs": [],
   "source": [
    "import pandas as pd\n",
    "import matplotlib.pyplot as plt\n",
    "import seaborn as sns\n",
    "import plotly.express as px\n",
    "import numpy as np\n",
    "from scipy import stats as st"
   ]
  },
  {
   "cell_type": "markdown",
   "id": "4824f4fd",
   "metadata": {},
   "source": [
    "**Считываем данные из CSV-файлов. Сохраняем их в датафреймы.**"
   ]
  },
  {
   "cell_type": "code",
   "execution_count": 2,
   "id": "6e1f8b50",
   "metadata": {},
   "outputs": [],
   "source": [
    "try:\n",
    "    data_users = pd.read_csv('___.csv')\n",
    "except:\n",
    "    data_users = pd.read_csv('https://___.csv')\n"
   ]
  },
  {
   "cell_type": "code",
   "execution_count": 3,
   "id": "34f39f19",
   "metadata": {},
   "outputs": [],
   "source": [
    "try:\n",
    "    data_riders = pd.read_csv('___.csv')\n",
    "except:\n",
    "    data_riders = pd.read_csv('https://___.csv')"
   ]
  },
  {
   "cell_type": "code",
   "execution_count": 4,
   "id": "21c0d78d",
   "metadata": {},
   "outputs": [],
   "source": [
    "try:\n",
    "    data_sub = pd.read_csv('___.csv')\n",
    "except:\n",
    "    data_sub = pd.read_csv('https://___.csv')"
   ]
  },
  {
   "cell_type": "markdown",
   "id": "a6186722",
   "metadata": {},
   "source": [
    "**Изучим общую информацию о наших датафреймах.**"
   ]
  },
  {
   "cell_type": "markdown",
   "id": "c1b10779",
   "metadata": {},
   "source": [
    "**Пользователи:**"
   ]
  },
  {
   "cell_type": "code",
   "execution_count": 5,
   "id": "01124759",
   "metadata": {},
   "outputs": [
    {
     "data": {
      "text/html": [
       "<div>\n",
       "<style scoped>\n",
       "    .dataframe tbody tr th:only-of-type {\n",
       "        vertical-align: middle;\n",
       "    }\n",
       "\n",
       "    .dataframe tbody tr th {\n",
       "        vertical-align: top;\n",
       "    }\n",
       "\n",
       "    .dataframe thead th {\n",
       "        text-align: right;\n",
       "    }\n",
       "</style>\n",
       "<table border=\"1\" class=\"dataframe\">\n",
       "  <thead>\n",
       "    <tr style=\"text-align: right;\">\n",
       "      <th></th>\n",
       "      <th>user_id</th>\n",
       "      <th>name</th>\n",
       "      <th>age</th>\n",
       "      <th>city</th>\n",
       "      <th>subscription_type</th>\n",
       "    </tr>\n",
       "  </thead>\n",
       "  <tbody>\n",
       "    <tr>\n",
       "      <th>0</th>\n",
       "      <td>1</td>\n",
       "      <td>Кира</td>\n",
       "      <td>22</td>\n",
       "      <td>Тюмень</td>\n",
       "      <td>ultra</td>\n",
       "    </tr>\n",
       "    <tr>\n",
       "      <th>1</th>\n",
       "      <td>2</td>\n",
       "      <td>Станислав</td>\n",
       "      <td>31</td>\n",
       "      <td>Омск</td>\n",
       "      <td>ultra</td>\n",
       "    </tr>\n",
       "    <tr>\n",
       "      <th>2</th>\n",
       "      <td>3</td>\n",
       "      <td>Алексей</td>\n",
       "      <td>20</td>\n",
       "      <td>Москва</td>\n",
       "      <td>ultra</td>\n",
       "    </tr>\n",
       "    <tr>\n",
       "      <th>3</th>\n",
       "      <td>4</td>\n",
       "      <td>Константин</td>\n",
       "      <td>26</td>\n",
       "      <td>Ростов-на-Дону</td>\n",
       "      <td>ultra</td>\n",
       "    </tr>\n",
       "    <tr>\n",
       "      <th>4</th>\n",
       "      <td>5</td>\n",
       "      <td>Адель</td>\n",
       "      <td>28</td>\n",
       "      <td>Омск</td>\n",
       "      <td>ultra</td>\n",
       "    </tr>\n",
       "    <tr>\n",
       "      <th>5</th>\n",
       "      <td>6</td>\n",
       "      <td>Регина</td>\n",
       "      <td>25</td>\n",
       "      <td>Краснодар</td>\n",
       "      <td>ultra</td>\n",
       "    </tr>\n",
       "    <tr>\n",
       "      <th>6</th>\n",
       "      <td>7</td>\n",
       "      <td>Игорь</td>\n",
       "      <td>23</td>\n",
       "      <td>Омск</td>\n",
       "      <td>ultra</td>\n",
       "    </tr>\n",
       "    <tr>\n",
       "      <th>7</th>\n",
       "      <td>8</td>\n",
       "      <td>Юрий</td>\n",
       "      <td>23</td>\n",
       "      <td>Краснодар</td>\n",
       "      <td>ultra</td>\n",
       "    </tr>\n",
       "    <tr>\n",
       "      <th>8</th>\n",
       "      <td>9</td>\n",
       "      <td>Ян</td>\n",
       "      <td>21</td>\n",
       "      <td>Пятигорск</td>\n",
       "      <td>ultra</td>\n",
       "    </tr>\n",
       "    <tr>\n",
       "      <th>9</th>\n",
       "      <td>10</td>\n",
       "      <td>Валерий</td>\n",
       "      <td>18</td>\n",
       "      <td>Екатеринбург</td>\n",
       "      <td>ultra</td>\n",
       "    </tr>\n",
       "  </tbody>\n",
       "</table>\n",
       "</div>"
      ],
      "text/plain": [
       "   user_id        name  age            city subscription_type\n",
       "0        1        Кира   22          Тюмень             ultra\n",
       "1        2   Станислав   31            Омск             ultra\n",
       "2        3     Алексей   20          Москва             ultra\n",
       "3        4  Константин   26  Ростов-на-Дону             ultra\n",
       "4        5       Адель   28            Омск             ultra\n",
       "5        6      Регина   25       Краснодар             ultra\n",
       "6        7       Игорь   23            Омск             ultra\n",
       "7        8        Юрий   23       Краснодар             ultra\n",
       "8        9          Ян   21       Пятигорск             ultra\n",
       "9       10     Валерий   18    Екатеринбург             ultra"
      ]
     },
     "execution_count": 5,
     "metadata": {},
     "output_type": "execute_result"
    }
   ],
   "source": [
    "data_users.head(10)"
   ]
  },
  {
   "cell_type": "code",
   "execution_count": 6,
   "id": "07fd7946",
   "metadata": {},
   "outputs": [
    {
     "name": "stdout",
     "output_type": "stream",
     "text": [
      "<class 'pandas.core.frame.DataFrame'>\n",
      "RangeIndex: 1565 entries, 0 to 1564\n",
      "Data columns (total 5 columns):\n",
      " #   Column             Non-Null Count  Dtype \n",
      "---  ------             --------------  ----- \n",
      " 0   user_id            1565 non-null   int64 \n",
      " 1   name               1565 non-null   object\n",
      " 2   age                1565 non-null   int64 \n",
      " 3   city               1565 non-null   object\n",
      " 4   subscription_type  1565 non-null   object\n",
      "dtypes: int64(2), object(3)\n",
      "memory usage: 61.3+ KB\n"
     ]
    }
   ],
   "source": [
    "data_users.info()"
   ]
  },
  {
   "cell_type": "code",
   "execution_count": 7,
   "id": "c6fc70ff",
   "metadata": {},
   "outputs": [
    {
     "data": {
      "image/png": "[encoded data removed]",
      "text/plain": [
       "<Figure size 432x288 with 1 Axes>"
      ]
     },
     "metadata": {
      "needs_background": "light"
     },
     "output_type": "display_data"
    }
   ],
   "source": [
    "plt.hist(data_users['age'], bins = 10)\n",
    "plt.title('Возраст пользователей')\n",
    "plt.xlabel('Возраст')\n",
    "plt.ylabel('Количество пользователей')\n",
    "plt.grid()\n",
    "plt.show()"
   ]
  },
  {
   "cell_type": "code",
   "execution_count": 8,
   "id": "52ed3c29",
   "metadata": {},
   "outputs": [
    {
     "data": {
      "text/plain": [
       "Пятигорск         226\n",
       "Екатеринбург      206\n",
       "Ростов-на-Дону    202\n",
       "Краснодар         196\n",
       "Сочи              192\n",
       "Омск              186\n",
       "Тюмень            185\n",
       "Москва            172\n",
       "Name: city, dtype: int64"
      ]
     },
     "execution_count": 8,
     "metadata": {},
     "output_type": "execute_result"
    }
   ],
   "source": [
    "count_users_by_city = data_users['city'].value_counts()\n",
    "count_users_by_city"
   ]
  },
  {
   "cell_type": "code",
   "execution_count": 9,
   "id": "052dbb02",
   "metadata": {},
   "outputs": [
    {
     "data": {
      "image/png": "[encoded data removed]",
      "text/plain": [
       "<Figure size 504x504 with 1 Axes>"
      ]
     },
     "metadata": {},
     "output_type": "display_data"
    }
   ],
   "source": [
    "data_users['city'].value_counts().plot(\n",
    "    kind = 'pie', \n",
    "    y = count_users_by_city,\n",
    "    autopct = '%1.0f%%',\n",
    "    figsize=(7,7), \n",
    "    title = 'Распределение пользователей по городам');"
   ]
  },
  {
   "cell_type": "code",
   "execution_count": 10,
   "id": "38b0e551",
   "metadata": {},
   "outputs": [
    {
     "data": {
      "text/plain": [
       "free     846\n",
       "ultra    719\n",
       "Name: subscription_type, dtype: int64"
      ]
     },
     "execution_count": 10,
     "metadata": {},
     "output_type": "execute_result"
    }
   ],
   "source": [
    "count_sub = data_users['subscription_type'].value_counts()\n",
    "count_sub"
   ]
  },
  {
   "cell_type": "code",
   "execution_count": 11,
   "id": "4576c2e0",
   "metadata": {},
   "outputs": [
    {
     "data": {
      "image/png": "[encoded data removed]",
      "text/plain": [
       "<Figure size 360x360 with 1 Axes>"
      ]
     },
     "metadata": {},
     "output_type": "display_data"
    }
   ],
   "source": [
    "data_users['subscription_type'].value_counts().plot(\n",
    "    kind = 'pie', \n",
    "    y = count_sub, \n",
    "    autopct = '%1.0f%%', \n",
    "    figsize=(5,5),\n",
    "    title = 'Процентное соотношение пользователей в зависимости от тарифа');"
   ]
  },
  {
   "cell_type": "markdown",
   "id": "587a5c23",
   "metadata": {},
   "source": [
    "**Поездки:**"
   ]
  },
  {
   "cell_type": "code",
   "execution_count": 12,
   "id": "aa0c9561",
   "metadata": {},
   "outputs": [
    {
     "data": {
      "text/html": [
       "<div>\n",
       "<style scoped>\n",
       "    .dataframe tbody tr th:only-of-type {\n",
       "        vertical-align: middle;\n",
       "    }\n",
       "\n",
       "    .dataframe tbody tr th {\n",
       "        vertical-align: top;\n",
       "    }\n",
       "\n",
       "    .dataframe thead th {\n",
       "        text-align: right;\n",
       "    }\n",
       "</style>\n",
       "<table border=\"1\" class=\"dataframe\">\n",
       "  <thead>\n",
       "    <tr style=\"text-align: right;\">\n",
       "      <th></th>\n",
       "      <th>user_id</th>\n",
       "      <th>distance</th>\n",
       "      <th>duration</th>\n",
       "      <th>date</th>\n",
       "    </tr>\n",
       "  </thead>\n",
       "  <tbody>\n",
       "    <tr>\n",
       "      <th>0</th>\n",
       "      <td>1</td>\n",
       "      <td>4409.919140</td>\n",
       "      <td>25.599769</td>\n",
       "      <td>2021-01-01</td>\n",
       "    </tr>\n",
       "    <tr>\n",
       "      <th>1</th>\n",
       "      <td>1</td>\n",
       "      <td>2617.592153</td>\n",
       "      <td>15.816871</td>\n",
       "      <td>2021-01-18</td>\n",
       "    </tr>\n",
       "    <tr>\n",
       "      <th>2</th>\n",
       "      <td>1</td>\n",
       "      <td>754.159807</td>\n",
       "      <td>6.232113</td>\n",
       "      <td>2021-04-20</td>\n",
       "    </tr>\n",
       "    <tr>\n",
       "      <th>3</th>\n",
       "      <td>1</td>\n",
       "      <td>2694.783254</td>\n",
       "      <td>18.511000</td>\n",
       "      <td>2021-08-11</td>\n",
       "    </tr>\n",
       "    <tr>\n",
       "      <th>4</th>\n",
       "      <td>1</td>\n",
       "      <td>4028.687306</td>\n",
       "      <td>26.265803</td>\n",
       "      <td>2021-08-28</td>\n",
       "    </tr>\n",
       "    <tr>\n",
       "      <th>5</th>\n",
       "      <td>1</td>\n",
       "      <td>2770.890808</td>\n",
       "      <td>16.650138</td>\n",
       "      <td>2021-10-09</td>\n",
       "    </tr>\n",
       "    <tr>\n",
       "      <th>6</th>\n",
       "      <td>1</td>\n",
       "      <td>3039.020292</td>\n",
       "      <td>14.927879</td>\n",
       "      <td>2021-10-19</td>\n",
       "    </tr>\n",
       "    <tr>\n",
       "      <th>7</th>\n",
       "      <td>1</td>\n",
       "      <td>2842.118050</td>\n",
       "      <td>23.117468</td>\n",
       "      <td>2021-11-06</td>\n",
       "    </tr>\n",
       "    <tr>\n",
       "      <th>8</th>\n",
       "      <td>1</td>\n",
       "      <td>3412.690668</td>\n",
       "      <td>15.238072</td>\n",
       "      <td>2021-11-14</td>\n",
       "    </tr>\n",
       "    <tr>\n",
       "      <th>9</th>\n",
       "      <td>1</td>\n",
       "      <td>748.690645</td>\n",
       "      <td>15.041884</td>\n",
       "      <td>2021-11-22</td>\n",
       "    </tr>\n",
       "  </tbody>\n",
       "</table>\n",
       "</div>"
      ],
      "text/plain": [
       "   user_id     distance   duration        date\n",
       "0        1  4409.919140  25.599769  2021-01-01\n",
       "1        1  2617.592153  15.816871  2021-01-18\n",
       "2        1   754.159807   6.232113  2021-04-20\n",
       "3        1  2694.783254  18.511000  2021-08-11\n",
       "4        1  4028.687306  26.265803  2021-08-28\n",
       "5        1  2770.890808  16.650138  2021-10-09\n",
       "6        1  3039.020292  14.927879  2021-10-19\n",
       "7        1  2842.118050  23.117468  2021-11-06\n",
       "8        1  3412.690668  15.238072  2021-11-14\n",
       "9        1   748.690645  15.041884  2021-11-22"
      ]
     },
     "execution_count": 12,
     "metadata": {},
     "output_type": "execute_result"
    }
   ],
   "source": [
    "data_riders.head(10)"
   ]
  },
  {
   "cell_type": "code",
   "execution_count": 13,
   "id": "013e491f",
   "metadata": {},
   "outputs": [
    {
     "name": "stdout",
     "output_type": "stream",
     "text": [
      "<class 'pandas.core.frame.DataFrame'>\n",
      "RangeIndex: 18068 entries, 0 to 18067\n",
      "Data columns (total 4 columns):\n",
      " #   Column    Non-Null Count  Dtype  \n",
      "---  ------    --------------  -----  \n",
      " 0   user_id   18068 non-null  int64  \n",
      " 1   distance  18068 non-null  float64\n",
      " 2   duration  18068 non-null  float64\n",
      " 3   date      18068 non-null  object \n",
      "dtypes: float64(2), int64(1), object(1)\n",
      "memory usage: 564.8+ KB\n"
     ]
    }
   ],
   "source": [
    "data_riders.info()"
   ]
  },
  {
   "cell_type": "markdown",
   "id": "062957ef",
   "metadata": {},
   "source": [
    "Изучим поездки каждого пользователя."
   ]
  },
  {
   "cell_type": "markdown",
   "id": "00d40926",
   "metadata": {},
   "source": [
    "Лидеры по числу поездок:"
   ]
  },
  {
   "cell_type": "code",
   "execution_count": 14,
   "id": "f46f1547",
   "metadata": {},
   "outputs": [
    {
     "data": {
      "text/plain": [
       "1236    27\n",
       "1063    26\n",
       "783     26\n",
       "1204    24\n",
       "1149    23\n",
       "716     23\n",
       "1531    23\n",
       "1030    23\n",
       "1252    22\n",
       "919     22\n",
       "Name: user_id, dtype: int64"
      ]
     },
     "execution_count": 14,
     "metadata": {},
     "output_type": "execute_result"
    }
   ],
   "source": [
    "top_riders = data_riders['user_id'].value_counts().sort_values(ascending=False)\n",
    "top_riders.head(10)"
   ]
  },
  {
   "cell_type": "markdown",
   "id": "7ec9c54a",
   "metadata": {},
   "source": [
    "Общая дистанция и время, проведенное в поездках каждым пользователем:"
   ]
  },
  {
   "cell_type": "code",
   "execution_count": 15,
   "id": "58f1e138",
   "metadata": {},
   "outputs": [
    {
     "data": {
      "text/html": [
       "<div>\n",
       "<style scoped>\n",
       "    .dataframe tbody tr th:only-of-type {\n",
       "        vertical-align: middle;\n",
       "    }\n",
       "\n",
       "    .dataframe tbody tr th {\n",
       "        vertical-align: top;\n",
       "    }\n",
       "\n",
       "    .dataframe thead th {\n",
       "        text-align: right;\n",
       "    }\n",
       "</style>\n",
       "<table border=\"1\" class=\"dataframe\">\n",
       "  <thead>\n",
       "    <tr style=\"text-align: right;\">\n",
       "      <th></th>\n",
       "      <th>distance</th>\n",
       "      <th>duration</th>\n",
       "    </tr>\n",
       "    <tr>\n",
       "      <th>user_id</th>\n",
       "      <th></th>\n",
       "      <th></th>\n",
       "    </tr>\n",
       "  </thead>\n",
       "  <tbody>\n",
       "    <tr>\n",
       "      <th>1</th>\n",
       "      <td>34070.182066</td>\n",
       "      <td>204.604909</td>\n",
       "    </tr>\n",
       "    <tr>\n",
       "      <th>2</th>\n",
       "      <td>33964.058614</td>\n",
       "      <td>197.644279</td>\n",
       "    </tr>\n",
       "    <tr>\n",
       "      <th>3</th>\n",
       "      <td>36907.597866</td>\n",
       "      <td>233.193513</td>\n",
       "    </tr>\n",
       "    <tr>\n",
       "      <th>4</th>\n",
       "      <td>44837.189916</td>\n",
       "      <td>288.563581</td>\n",
       "    </tr>\n",
       "    <tr>\n",
       "      <th>5</th>\n",
       "      <td>35556.949649</td>\n",
       "      <td>174.073932</td>\n",
       "    </tr>\n",
       "    <tr>\n",
       "      <th>6</th>\n",
       "      <td>34078.606693</td>\n",
       "      <td>203.299077</td>\n",
       "    </tr>\n",
       "    <tr>\n",
       "      <th>7</th>\n",
       "      <td>48707.479147</td>\n",
       "      <td>258.371222</td>\n",
       "    </tr>\n",
       "    <tr>\n",
       "      <th>8</th>\n",
       "      <td>15754.261455</td>\n",
       "      <td>90.681387</td>\n",
       "    </tr>\n",
       "    <tr>\n",
       "      <th>9</th>\n",
       "      <td>23730.942270</td>\n",
       "      <td>129.790228</td>\n",
       "    </tr>\n",
       "    <tr>\n",
       "      <th>10</th>\n",
       "      <td>29528.226111</td>\n",
       "      <td>171.863879</td>\n",
       "    </tr>\n",
       "  </tbody>\n",
       "</table>\n",
       "</div>"
      ],
      "text/plain": [
       "             distance    duration\n",
       "user_id                          \n",
       "1        34070.182066  204.604909\n",
       "2        33964.058614  197.644279\n",
       "3        36907.597866  233.193513\n",
       "4        44837.189916  288.563581\n",
       "5        35556.949649  174.073932\n",
       "6        34078.606693  203.299077\n",
       "7        48707.479147  258.371222\n",
       "8        15754.261455   90.681387\n",
       "9        23730.942270  129.790228\n",
       "10       29528.226111  171.863879"
      ]
     },
     "execution_count": 15,
     "metadata": {},
     "output_type": "execute_result"
    }
   ],
   "source": [
    "total_distance_by_user = data_riders.groupby(['user_id']).sum(numeric_only = True)\n",
    "total_distance_by_user.head(10)"
   ]
  },
  {
   "cell_type": "markdown",
   "id": "ffae1cd3",
   "metadata": {},
   "source": [
    "**Подписки:**"
   ]
  },
  {
   "cell_type": "code",
   "execution_count": 16,
   "id": "669a9021",
   "metadata": {},
   "outputs": [
    {
     "data": {
      "text/html": [
       "<div>\n",
       "<style scoped>\n",
       "    .dataframe tbody tr th:only-of-type {\n",
       "        vertical-align: middle;\n",
       "    }\n",
       "\n",
       "    .dataframe tbody tr th {\n",
       "        vertical-align: top;\n",
       "    }\n",
       "\n",
       "    .dataframe thead th {\n",
       "        text-align: right;\n",
       "    }\n",
       "</style>\n",
       "<table border=\"1\" class=\"dataframe\">\n",
       "  <thead>\n",
       "    <tr style=\"text-align: right;\">\n",
       "      <th></th>\n",
       "      <th>subscription_type</th>\n",
       "      <th>minute_price</th>\n",
       "      <th>start_ride_price</th>\n",
       "      <th>subscription_fee</th>\n",
       "    </tr>\n",
       "  </thead>\n",
       "  <tbody>\n",
       "    <tr>\n",
       "      <th>0</th>\n",
       "      <td>free</td>\n",
       "      <td>8</td>\n",
       "      <td>50</td>\n",
       "      <td>0</td>\n",
       "    </tr>\n",
       "    <tr>\n",
       "      <th>1</th>\n",
       "      <td>ultra</td>\n",
       "      <td>6</td>\n",
       "      <td>0</td>\n",
       "      <td>199</td>\n",
       "    </tr>\n",
       "  </tbody>\n",
       "</table>\n",
       "</div>"
      ],
      "text/plain": [
       "  subscription_type  minute_price  start_ride_price  subscription_fee\n",
       "0              free             8                50                 0\n",
       "1             ultra             6                 0               199"
      ]
     },
     "execution_count": 16,
     "metadata": {},
     "output_type": "execute_result"
    }
   ],
   "source": [
    "data_sub.head()"
   ]
  },
  {
   "cell_type": "code",
   "execution_count": 17,
   "id": "7dd69b6f",
   "metadata": {},
   "outputs": [
    {
     "name": "stdout",
     "output_type": "stream",
     "text": [
      "<class 'pandas.core.frame.DataFrame'>\n",
      "RangeIndex: 2 entries, 0 to 1\n",
      "Data columns (total 4 columns):\n",
      " #   Column             Non-Null Count  Dtype \n",
      "---  ------             --------------  ----- \n",
      " 0   subscription_type  2 non-null      object\n",
      " 1   minute_price       2 non-null      int64 \n",
      " 2   start_ride_price   2 non-null      int64 \n",
      " 3   subscription_fee   2 non-null      int64 \n",
      "dtypes: int64(3), object(1)\n",
      "memory usage: 192.0+ bytes\n"
     ]
    }
   ],
   "source": [
    "data_sub.info()"
   ]
  },
  {
   "cell_type": "markdown",
   "id": "ebf66e30",
   "metadata": {},
   "source": [
    "**Вывод**"
   ]
  },
  {
   "cell_type": "markdown",
   "id": "01d530b4",
   "metadata": {},
   "source": [
    "Загрузили и рассмотрели данные. \n",
    "\n",
    "- Основные пользователи - люди от 20 до 30 лет\n",
    "- Распределение пользователей по городам +- одинаковое: \n",
    "    - Наибольшее количество пользователей в Пятигорске\n",
    "    - Наименьшее в Москве\n",
    "- Преобладают пользователи с бесплатным тарифом (54%) "
   ]
  },
  {
   "cell_type": "markdown",
   "id": "e95ebca7",
   "metadata": {},
   "source": [
    "### 2. Предобработка данных"
   ]
  },
  {
   "cell_type": "markdown",
   "id": "87aa7326",
   "metadata": {},
   "source": [
    "Взглянув на данные в прошлом шаге, можно было предположить, что пропуски отсутствуют, так как колличество не нулевых элементов совпадало. \n",
    "\n",
    "**Проверим наличие пропущенных значений для всех фреймов двнных:**"
   ]
  },
  {
   "cell_type": "code",
   "execution_count": 18,
   "id": "71e441e0",
   "metadata": {},
   "outputs": [
    {
     "data": {
      "text/plain": [
       "user_id              0\n",
       "name                 0\n",
       "age                  0\n",
       "city                 0\n",
       "subscription_type    0\n",
       "dtype: int64"
      ]
     },
     "execution_count": 18,
     "metadata": {},
     "output_type": "execute_result"
    }
   ],
   "source": [
    "data_users.isna().sum()"
   ]
  },
  {
   "cell_type": "code",
   "execution_count": 19,
   "id": "969cc57b",
   "metadata": {},
   "outputs": [
    {
     "data": {
      "text/plain": [
       "user_id     0\n",
       "distance    0\n",
       "duration    0\n",
       "date        0\n",
       "dtype: int64"
      ]
     },
     "execution_count": 19,
     "metadata": {},
     "output_type": "execute_result"
    }
   ],
   "source": [
    "data_riders.isna().sum()"
   ]
  },
  {
   "cell_type": "code",
   "execution_count": 20,
   "id": "1bf803ae",
   "metadata": {},
   "outputs": [
    {
     "data": {
      "text/plain": [
       "subscription_type    0\n",
       "minute_price         0\n",
       "start_ride_price     0\n",
       "subscription_fee     0\n",
       "dtype: int64"
      ]
     },
     "execution_count": 20,
     "metadata": {},
     "output_type": "execute_result"
    }
   ],
   "source": [
    "data_sub.isna().sum()"
   ]
  },
  {
   "cell_type": "markdown",
   "id": "717fc46f",
   "metadata": {},
   "source": [
    "Пропусков нет."
   ]
  },
  {
   "cell_type": "markdown",
   "id": "48987506",
   "metadata": {},
   "source": [
    "**Рассмотрим столбцы и поменяем тип данных там, где это возможно**"
   ]
  },
  {
   "cell_type": "markdown",
   "id": "b272e1a6",
   "metadata": {},
   "source": [
    "Приведем столбец `date` из датафрейма `data_riders` к типу даты."
   ]
  },
  {
   "cell_type": "code",
   "execution_count": 21,
   "id": "6f97cfbc",
   "metadata": {},
   "outputs": [
    {
     "data": {
      "text/plain": [
       "0   2021-01-01\n",
       "1   2021-01-18\n",
       "2   2021-04-20\n",
       "3   2021-08-11\n",
       "4   2021-08-28\n",
       "5   2021-10-09\n",
       "6   2021-10-19\n",
       "7   2021-11-06\n",
       "8   2021-11-14\n",
       "9   2021-11-22\n",
       "Name: date, dtype: datetime64[ns]"
      ]
     },
     "execution_count": 21,
     "metadata": {},
     "output_type": "execute_result"
    }
   ],
   "source": [
    "data_riders['date'] = pd.to_datetime(data_riders['date'], format = '%Y-%m-%d')\n",
    "data_riders['date'].head(10)"
   ]
  },
  {
   "cell_type": "markdown",
   "id": "e1934b8c",
   "metadata": {},
   "source": [
    "**Добавим номер месяца**"
   ]
  },
  {
   "cell_type": "markdown",
   "id": "b940f3f1",
   "metadata": {},
   "source": [
    "Сначала проверим, за какой период предоставлены данные. Если данные предоставлены за несколько лет, то они могут попасть в один и тот же месяц"
   ]
  },
  {
   "cell_type": "code",
   "execution_count": 22,
   "id": "4db8654b",
   "metadata": {},
   "outputs": [
    {
     "data": {
      "text/plain": [
       "array([2021])"
      ]
     },
     "execution_count": 22,
     "metadata": {},
     "output_type": "execute_result"
    }
   ],
   "source": [
    "data_riders['date'].dt.year.unique()"
   ]
  },
  {
   "cell_type": "markdown",
   "id": "da5c539d",
   "metadata": {},
   "source": [
    "Данные предоставлены только за один год, соответственно ошибок не будет, добавим номер месяца:"
   ]
  },
  {
   "cell_type": "code",
   "execution_count": 23,
   "id": "18ddc515",
   "metadata": {},
   "outputs": [
    {
     "data": {
      "text/plain": [
       "0     1\n",
       "1     1\n",
       "2     4\n",
       "3     8\n",
       "4     8\n",
       "5    10\n",
       "6    10\n",
       "7    11\n",
       "8    11\n",
       "9    11\n",
       "Name: month, dtype: int64"
      ]
     },
     "execution_count": 23,
     "metadata": {},
     "output_type": "execute_result"
    }
   ],
   "source": [
    "data_riders['month'] = data_riders['date'].dt.month\n",
    "data_riders['month'].head(10)"
   ]
  },
  {
   "cell_type": "markdown",
   "id": "85f091dd",
   "metadata": {},
   "source": [
    "**Проверим наличие дубликатов и удалим**"
   ]
  },
  {
   "cell_type": "markdown",
   "id": "30df3cf2",
   "metadata": {},
   "source": [
    "**Пользователи:**"
   ]
  },
  {
   "cell_type": "code",
   "execution_count": 24,
   "id": "020e340b",
   "metadata": {},
   "outputs": [
    {
     "data": {
      "text/plain": [
       "31"
      ]
     },
     "execution_count": 24,
     "metadata": {},
     "output_type": "execute_result"
    }
   ],
   "source": [
    "data_users.duplicated().sum()"
   ]
  },
  {
   "cell_type": "code",
   "execution_count": 25,
   "id": "f6aa56cf",
   "metadata": {},
   "outputs": [],
   "source": [
    "data_users.drop_duplicates(inplace=True)"
   ]
  },
  {
   "cell_type": "code",
   "execution_count": 26,
   "id": "45a76fda",
   "metadata": {},
   "outputs": [
    {
     "data": {
      "text/plain": [
       "0"
      ]
     },
     "execution_count": 26,
     "metadata": {},
     "output_type": "execute_result"
    }
   ],
   "source": [
    "data_users.duplicated().sum()"
   ]
  },
  {
   "cell_type": "markdown",
   "id": "b2aa113e",
   "metadata": {},
   "source": [
    "**Поездки:**"
   ]
  },
  {
   "cell_type": "code",
   "execution_count": 27,
   "id": "bfc50706",
   "metadata": {},
   "outputs": [
    {
     "data": {
      "text/plain": [
       "0"
      ]
     },
     "execution_count": 27,
     "metadata": {},
     "output_type": "execute_result"
    }
   ],
   "source": [
    "data_riders.duplicated().sum()"
   ]
  },
  {
   "cell_type": "markdown",
   "id": "f0d9256b",
   "metadata": {},
   "source": [
    "**Вывод**\n",
    "\n",
    "- Пропущенных данных в таблицах нет.\n",
    "- Дубликаты имеются среди пользователей, удалили строки-дубликаты. \n",
    "- Добавили столбец `month` с номер месяца."
   ]
  },
  {
   "cell_type": "markdown",
   "id": "212593c7",
   "metadata": {},
   "source": [
    "### 3. Исследовательский анализ данных"
   ]
  },
  {
   "cell_type": "markdown",
   "id": "275a6428",
   "metadata": {},
   "source": [
    "**Частота встречаемости городов:**"
   ]
  },
  {
   "cell_type": "code",
   "execution_count": 28,
   "id": "733de0d2",
   "metadata": {},
   "outputs": [
    {
     "data": {
      "text/plain": [
       "Пятигорск         219\n",
       "Екатеринбург      204\n",
       "Ростов-на-Дону    198\n",
       "Краснодар         193\n",
       "Сочи              189\n",
       "Омск              183\n",
       "Тюмень            180\n",
       "Москва            168\n",
       "Name: city, dtype: int64"
      ]
     },
     "execution_count": 28,
     "metadata": {},
     "output_type": "execute_result"
    }
   ],
   "source": [
    "count_users_by_city = data_users['city'].value_counts()\n",
    "count_users_by_city"
   ]
  },
  {
   "cell_type": "code",
   "execution_count": 29,
   "id": "2ecb7bca",
   "metadata": {},
   "outputs": [
    {
     "data": {
      "text/plain": [
       "Пятигорск         14.0\n",
       "Екатеринбург      13.0\n",
       "Ростов-на-Дону    13.0\n",
       "Краснодар         13.0\n",
       "Сочи              12.0\n",
       "Омск              12.0\n",
       "Тюмень            12.0\n",
       "Москва            11.0\n",
       "Name: city, dtype: float64"
      ]
     },
     "execution_count": 29,
     "metadata": {},
     "output_type": "execute_result"
    }
   ],
   "source": [
    "count_users_by_city['rate'] = round(data_users['city'].value_counts() / count_users_by_city.sum(), 2) * 100\n",
    "count_users_by_city['rate']"
   ]
  },
  {
   "cell_type": "code",
   "execution_count": 30,
   "id": "e8da8eca",
   "metadata": {},
   "outputs": [
    {
     "data": {
      "image/png": "[encoded data removed]",
      "text/plain": [
       "<Figure size 504x504 with 1 Axes>"
      ]
     },
     "metadata": {
      "needs_background": "light"
     },
     "output_type": "display_data"
    }
   ],
   "source": [
    "data_users['city'].value_counts().plot(\n",
    "    kind = 'bar', \n",
    "    y = count_users_by_city,\n",
    "    figsize=(7,7), \n",
    "    title = 'Распределение пользователей по городам');"
   ]
  },
  {
   "cell_type": "markdown",
   "id": "e39195e5",
   "metadata": {},
   "source": [
    "**Соотношение пользователей с подпиской и без подписки:**"
   ]
  },
  {
   "cell_type": "code",
   "execution_count": 31,
   "id": "ea29c61a",
   "metadata": {},
   "outputs": [],
   "source": [
    "count_sub = data_users['subscription_type'].value_counts()"
   ]
  },
  {
   "cell_type": "code",
   "execution_count": 32,
   "id": "6f2ceb3b",
   "metadata": {},
   "outputs": [
    {
     "data": {
      "text/plain": [
       "free     835\n",
       "ultra    699\n",
       "Name: subscription_type, dtype: int64"
      ]
     },
     "execution_count": 32,
     "metadata": {},
     "output_type": "execute_result"
    }
   ],
   "source": [
    "count_sub"
   ]
  },
  {
   "cell_type": "code",
   "execution_count": 33,
   "id": "caf72791",
   "metadata": {},
   "outputs": [
    {
     "data": {
      "image/png": "[encoded data removed]",
      "text/plain": [
       "<Figure size 360x360 with 1 Axes>"
      ]
     },
     "metadata": {},
     "output_type": "display_data"
    }
   ],
   "source": [
    "data_users['subscription_type'].value_counts().plot(\n",
    "    kind = 'pie', \n",
    "    y = count_sub, \n",
    "    autopct = '%1.0f%%', \n",
    "    figsize=(5,5),\n",
    "    title = 'Процентное соотношение пользователей в зависимости от тарифа');"
   ]
  },
  {
   "cell_type": "markdown",
   "id": "e39077c2",
   "metadata": {},
   "source": [
    "**Возраст пользователей:**"
   ]
  },
  {
   "cell_type": "markdown",
   "id": "93103f84",
   "metadata": {},
   "source": [
    "Самые младшие пользователи:"
   ]
  },
  {
   "cell_type": "code",
   "execution_count": 34,
   "id": "bb3758e8",
   "metadata": {},
   "outputs": [
    {
     "data": {
      "text/plain": [
       "664     12\n",
       "66      12\n",
       "727     12\n",
       "34      12\n",
       "235     13\n",
       "1249    13\n",
       "314     13\n",
       "83      13\n",
       "553     13\n",
       "1241    13\n",
       "Name: age, dtype: int64"
      ]
     },
     "execution_count": 34,
     "metadata": {},
     "output_type": "execute_result"
    }
   ],
   "source": [
    "data_users['age'].sort_values().head(10)"
   ]
  },
  {
   "cell_type": "markdown",
   "id": "a7d5878d",
   "metadata": {},
   "source": [
    "Самые старшие пользователи:"
   ]
  },
  {
   "cell_type": "code",
   "execution_count": 35,
   "id": "768e7862",
   "metadata": {},
   "outputs": [
    {
     "data": {
      "text/plain": [
       "721     36\n",
       "855     36\n",
       "644     36\n",
       "205     37\n",
       "848     37\n",
       "383     38\n",
       "804     38\n",
       "453     38\n",
       "961     39\n",
       "1201    43\n",
       "Name: age, dtype: int64"
      ]
     },
     "execution_count": 35,
     "metadata": {},
     "output_type": "execute_result"
    }
   ],
   "source": [
    "data_users['age'].sort_values().tail(10)"
   ]
  },
  {
   "cell_type": "code",
   "execution_count": 36,
   "id": "14fdc8ac",
   "metadata": {},
   "outputs": [
    {
     "data": {
      "image/png": "[encoded data removed]",
      "text/plain": [
       "<Figure size 432x288 with 1 Axes>"
      ]
     },
     "metadata": {
      "needs_background": "light"
     },
     "output_type": "display_data"
    }
   ],
   "source": [
    "plt.hist(data_users['age'], bins = 10)\n",
    "plt.title('Возраст пользователей')\n",
    "plt.xlabel('Возраст')\n",
    "plt.ylabel('Количество пользователей')\n",
    "plt.grid()\n",
    "plt.show()"
   ]
  },
  {
   "cell_type": "markdown",
   "id": "0fb091bb",
   "metadata": {},
   "source": [
    "**Расстояние, которое пользователь преодолел за одну поездку:**"
   ]
  },
  {
   "cell_type": "markdown",
   "id": "3c68be50",
   "metadata": {},
   "source": [
    "Самые короткие дистанции за одну поездку:"
   ]
  },
  {
   "cell_type": "code",
   "execution_count": 37,
   "id": "e2cf3ca4",
   "metadata": {},
   "outputs": [
    {
     "data": {
      "text/plain": [
       "11555     0.86\n",
       "9541      2.57\n",
       "13690     4.33\n",
       "8658      6.78\n",
       "7841      7.10\n",
       "8906     11.28\n",
       "8324     12.23\n",
       "13940    15.00\n",
       "15626    15.37\n",
       "11862    15.63\n",
       "Name: distance, dtype: float64"
      ]
     },
     "execution_count": 37,
     "metadata": {},
     "output_type": "execute_result"
    }
   ],
   "source": [
    "round(data_riders['distance'].sort_values(), 2).head(10)"
   ]
  },
  {
   "cell_type": "markdown",
   "id": "98d60922",
   "metadata": {},
   "source": [
    "Самые длинные дистанции за одну поездку:"
   ]
  },
  {
   "cell_type": "code",
   "execution_count": 38,
   "id": "f05faa2f",
   "metadata": {},
   "outputs": [
    {
     "data": {
      "text/plain": [
       "11319    6503.60\n",
       "10915    6535.39\n",
       "12086    6538.94\n",
       "11385    6601.20\n",
       "10341    6671.97\n",
       "17242    6724.93\n",
       "17171    6760.94\n",
       "15580    6908.49\n",
       "16484    7066.00\n",
       "16309    7211.01\n",
       "Name: distance, dtype: float64"
      ]
     },
     "execution_count": 38,
     "metadata": {},
     "output_type": "execute_result"
    }
   ],
   "source": [
    "round(data_riders['distance'].sort_values(), 2).tail(10)"
   ]
  },
  {
   "cell_type": "code",
   "execution_count": 39,
   "id": "168faa7b",
   "metadata": {},
   "outputs": [
    {
     "data": {
      "image/png": "[encoded data removed]",
      "text/plain": [
       "<Figure size 432x288 with 1 Axes>"
      ]
     },
     "metadata": {
      "needs_background": "light"
     },
     "output_type": "display_data"
    }
   ],
   "source": [
    "sns.boxplot(x=data_riders['distance'], color='blue')\n",
    "plt.title('Расстояние, преодоленное за одну поездку')\n",
    "plt.xlabel('Расстояние, м')\n",
    "_ = plt.xlim(0, 8000)"
   ]
  },
  {
   "cell_type": "markdown",
   "id": "d3aac63c",
   "metadata": {},
   "source": [
    "**Продолжительность поездок:**"
   ]
  },
  {
   "cell_type": "markdown",
   "id": "deeb3368",
   "metadata": {},
   "source": [
    "Самые короткие поездки:"
   ]
  },
  {
   "cell_type": "code",
   "execution_count": 40,
   "id": "e903e36b",
   "metadata": {},
   "outputs": [
    {
     "data": {
      "text/plain": [
       "12013    0.5\n",
       "17314    0.5\n",
       "15029    0.5\n",
       "7437     0.5\n",
       "12967    0.5\n",
       "15015    0.5\n",
       "13012    0.5\n",
       "7508     0.5\n",
       "16589    0.5\n",
       "9049     0.5\n",
       "Name: duration, dtype: float64"
      ]
     },
     "execution_count": 40,
     "metadata": {},
     "output_type": "execute_result"
    }
   ],
   "source": [
    "data_riders['duration'].sort_values().head(10)"
   ]
  },
  {
   "cell_type": "markdown",
   "id": "b8599c15",
   "metadata": {},
   "source": [
    "Самые долгие поездки:"
   ]
  },
  {
   "cell_type": "code",
   "execution_count": 41,
   "id": "a9ba697c",
   "metadata": {},
   "outputs": [
    {
     "data": {
      "text/plain": [
       "4653    36.622595\n",
       "6348    36.809310\n",
       "499     36.906491\n",
       "3729    37.014141\n",
       "143     38.125729\n",
       "6453    38.265229\n",
       "1998    38.352763\n",
       "2623    39.526602\n",
       "4709    39.873856\n",
       "4215    40.823963\n",
       "Name: duration, dtype: float64"
      ]
     },
     "execution_count": 41,
     "metadata": {},
     "output_type": "execute_result"
    }
   ],
   "source": [
    "data_riders['duration'].sort_values().tail(10)"
   ]
  },
  {
   "cell_type": "markdown",
   "id": "a42909c1",
   "metadata": {},
   "source": [
    "Общее время поездок и дистанция для каждого пользователя:"
   ]
  },
  {
   "cell_type": "code",
   "execution_count": 42,
   "id": "bace23e0",
   "metadata": {},
   "outputs": [
    {
     "data": {
      "text/html": [
       "<div>\n",
       "<style scoped>\n",
       "    .dataframe tbody tr th:only-of-type {\n",
       "        vertical-align: middle;\n",
       "    }\n",
       "\n",
       "    .dataframe tbody tr th {\n",
       "        vertical-align: top;\n",
       "    }\n",
       "\n",
       "    .dataframe thead th {\n",
       "        text-align: right;\n",
       "    }\n",
       "</style>\n",
       "<table border=\"1\" class=\"dataframe\">\n",
       "  <thead>\n",
       "    <tr style=\"text-align: right;\">\n",
       "      <th></th>\n",
       "      <th>distance</th>\n",
       "      <th>duration</th>\n",
       "      <th>month</th>\n",
       "    </tr>\n",
       "    <tr>\n",
       "      <th>user_id</th>\n",
       "      <th></th>\n",
       "      <th></th>\n",
       "      <th></th>\n",
       "    </tr>\n",
       "  </thead>\n",
       "  <tbody>\n",
       "    <tr>\n",
       "      <th>1</th>\n",
       "      <td>34070.182066</td>\n",
       "      <td>204.604909</td>\n",
       "      <td>99</td>\n",
       "    </tr>\n",
       "    <tr>\n",
       "      <th>2</th>\n",
       "      <td>33964.058614</td>\n",
       "      <td>197.644279</td>\n",
       "      <td>67</td>\n",
       "    </tr>\n",
       "    <tr>\n",
       "      <th>3</th>\n",
       "      <td>36907.597866</td>\n",
       "      <td>233.193513</td>\n",
       "      <td>66</td>\n",
       "    </tr>\n",
       "    <tr>\n",
       "      <th>4</th>\n",
       "      <td>44837.189916</td>\n",
       "      <td>288.563581</td>\n",
       "      <td>107</td>\n",
       "    </tr>\n",
       "    <tr>\n",
       "      <th>5</th>\n",
       "      <td>35556.949649</td>\n",
       "      <td>174.073932</td>\n",
       "      <td>51</td>\n",
       "    </tr>\n",
       "    <tr>\n",
       "      <th>...</th>\n",
       "      <td>...</td>\n",
       "      <td>...</td>\n",
       "      <td>...</td>\n",
       "    </tr>\n",
       "    <tr>\n",
       "      <th>1530</th>\n",
       "      <td>46758.469822</td>\n",
       "      <td>292.366839</td>\n",
       "      <td>104</td>\n",
       "    </tr>\n",
       "    <tr>\n",
       "      <th>1531</th>\n",
       "      <td>67054.794222</td>\n",
       "      <td>408.192206</td>\n",
       "      <td>142</td>\n",
       "    </tr>\n",
       "    <tr>\n",
       "      <th>1532</th>\n",
       "      <td>33902.203192</td>\n",
       "      <td>212.160144</td>\n",
       "      <td>111</td>\n",
       "    </tr>\n",
       "    <tr>\n",
       "      <th>1533</th>\n",
       "      <td>36890.192211</td>\n",
       "      <td>240.580297</td>\n",
       "      <td>65</td>\n",
       "    </tr>\n",
       "    <tr>\n",
       "      <th>1534</th>\n",
       "      <td>41898.442847</td>\n",
       "      <td>229.835127</td>\n",
       "      <td>100</td>\n",
       "    </tr>\n",
       "  </tbody>\n",
       "</table>\n",
       "<p>1534 rows × 3 columns</p>\n",
       "</div>"
      ],
      "text/plain": [
       "             distance    duration  month\n",
       "user_id                                 \n",
       "1        34070.182066  204.604909     99\n",
       "2        33964.058614  197.644279     67\n",
       "3        36907.597866  233.193513     66\n",
       "4        44837.189916  288.563581    107\n",
       "5        35556.949649  174.073932     51\n",
       "...               ...         ...    ...\n",
       "1530     46758.469822  292.366839    104\n",
       "1531     67054.794222  408.192206    142\n",
       "1532     33902.203192  212.160144    111\n",
       "1533     36890.192211  240.580297     65\n",
       "1534     41898.442847  229.835127    100\n",
       "\n",
       "[1534 rows x 3 columns]"
      ]
     },
     "execution_count": 42,
     "metadata": {},
     "output_type": "execute_result"
    }
   ],
   "source": [
    "data_riders.groupby(['user_id']).sum(numeric_only = True)"
   ]
  },
  {
   "cell_type": "code",
   "execution_count": 43,
   "id": "95233994",
   "metadata": {},
   "outputs": [
    {
     "data": {
      "image/png": "[encoded data removed]",
      "text/plain": [
       "<Figure size 432x288 with 1 Axes>"
      ]
     },
     "metadata": {
      "needs_background": "light"
     },
     "output_type": "display_data"
    }
   ],
   "source": [
    "sns.boxplot(x = data_riders['duration'], color='blue')\n",
    "plt.title('Время, проведенное в поездке')\n",
    "plt.xlabel('Время, минуты')\n",
    "_ = plt.xlim(0, 45)"
   ]
  },
  {
   "cell_type": "markdown",
   "id": "2cc1a40f",
   "metadata": {},
   "source": [
    "**Вывод**\n",
    "\n",
    "**Частота встречаемости городов**\n",
    "\n",
    "Количество пользователей по городам распределено примерно одинаково, нет выдающихся значений. Лидером по количеству пользователей является Пятигорск - 219 пользователей. Меньше всего пользователей в Москве - 168.\n",
    "\n",
    "**Соотношение пользователей с подпиской и без подписки**\n",
    "\n",
    "Пользователей, использующих бесплатную подписку больше - 835 человек, что является ~54% от общего числа пользователей.\n",
    "На платной подписке сидит 699 пользователей, что соответственно является ~46%.\n",
    "\n",
    "**Возраст пользователей**\n",
    "\n",
    "- Самыми младшими являются пользователи 12, 13 лет.\n",
    "- Самыми старшими - 43, 39.\n",
    "\n",
    "В целом, возраст основных пользователи приложения укладываются в промежуток от 20 до 30 лет. \n",
    "\n",
    "**Расстояние, которое пользователь преодолел за одну поездку**\n",
    "\n",
    "- Самая короткая дистанция - 0.86 км\n",
    "- Самая длинная - 7.2 км\n",
    "\n",
    "В основном пользователи проезжают от 2.5 км до 4 км.\n",
    "\n",
    "**Продолжительность поездок**\n",
    "\n",
    "- Самые короткие поездки - по пол минуты. Выглядят крайне странно, возможно пользователи просто передумали пользоваться самокатом. Либо же техническая неинсправность самого самоката.\n",
    "- Самая длинная поездка заняла 40 минут.\n",
    "\n",
    "В основном же длительность поездки состовляет 13 - 22 минут. "
   ]
  },
  {
   "cell_type": "markdown",
   "id": "4ef51331",
   "metadata": {},
   "source": [
    "### 4. Объединение данных"
   ]
  },
  {
   "cell_type": "markdown",
   "id": "1cb2096f",
   "metadata": {},
   "source": [
    "**Объединим данные о пользователях, поездках и подписках в один датафрейм.**"
   ]
  },
  {
   "cell_type": "code",
   "execution_count": 44,
   "id": "6791c3b0",
   "metadata": {},
   "outputs": [],
   "source": [
    "full_data = data_users.merge(data_riders)"
   ]
  },
  {
   "cell_type": "code",
   "execution_count": 45,
   "id": "ed164365",
   "metadata": {},
   "outputs": [],
   "source": [
    "full_data = full_data.merge(data_sub)"
   ]
  },
  {
   "cell_type": "code",
   "execution_count": 46,
   "id": "64577c38",
   "metadata": {},
   "outputs": [
    {
     "data": {
      "text/html": [
       "<div>\n",
       "<style scoped>\n",
       "    .dataframe tbody tr th:only-of-type {\n",
       "        vertical-align: middle;\n",
       "    }\n",
       "\n",
       "    .dataframe tbody tr th {\n",
       "        vertical-align: top;\n",
       "    }\n",
       "\n",
       "    .dataframe thead th {\n",
       "        text-align: right;\n",
       "    }\n",
       "</style>\n",
       "<table border=\"1\" class=\"dataframe\">\n",
       "  <thead>\n",
       "    <tr style=\"text-align: right;\">\n",
       "      <th></th>\n",
       "      <th>user_id</th>\n",
       "      <th>name</th>\n",
       "      <th>age</th>\n",
       "      <th>city</th>\n",
       "      <th>subscription_type</th>\n",
       "      <th>distance</th>\n",
       "      <th>duration</th>\n",
       "      <th>date</th>\n",
       "      <th>month</th>\n",
       "      <th>minute_price</th>\n",
       "      <th>start_ride_price</th>\n",
       "      <th>subscription_fee</th>\n",
       "    </tr>\n",
       "  </thead>\n",
       "  <tbody>\n",
       "    <tr>\n",
       "      <th>0</th>\n",
       "      <td>1</td>\n",
       "      <td>Кира</td>\n",
       "      <td>22</td>\n",
       "      <td>Тюмень</td>\n",
       "      <td>ultra</td>\n",
       "      <td>4409.919140</td>\n",
       "      <td>25.599769</td>\n",
       "      <td>2021-01-01</td>\n",
       "      <td>1</td>\n",
       "      <td>6</td>\n",
       "      <td>0</td>\n",
       "      <td>199</td>\n",
       "    </tr>\n",
       "    <tr>\n",
       "      <th>1</th>\n",
       "      <td>1</td>\n",
       "      <td>Кира</td>\n",
       "      <td>22</td>\n",
       "      <td>Тюмень</td>\n",
       "      <td>ultra</td>\n",
       "      <td>2617.592153</td>\n",
       "      <td>15.816871</td>\n",
       "      <td>2021-01-18</td>\n",
       "      <td>1</td>\n",
       "      <td>6</td>\n",
       "      <td>0</td>\n",
       "      <td>199</td>\n",
       "    </tr>\n",
       "    <tr>\n",
       "      <th>2</th>\n",
       "      <td>1</td>\n",
       "      <td>Кира</td>\n",
       "      <td>22</td>\n",
       "      <td>Тюмень</td>\n",
       "      <td>ultra</td>\n",
       "      <td>754.159807</td>\n",
       "      <td>6.232113</td>\n",
       "      <td>2021-04-20</td>\n",
       "      <td>4</td>\n",
       "      <td>6</td>\n",
       "      <td>0</td>\n",
       "      <td>199</td>\n",
       "    </tr>\n",
       "    <tr>\n",
       "      <th>3</th>\n",
       "      <td>1</td>\n",
       "      <td>Кира</td>\n",
       "      <td>22</td>\n",
       "      <td>Тюмень</td>\n",
       "      <td>ultra</td>\n",
       "      <td>2694.783254</td>\n",
       "      <td>18.511000</td>\n",
       "      <td>2021-08-11</td>\n",
       "      <td>8</td>\n",
       "      <td>6</td>\n",
       "      <td>0</td>\n",
       "      <td>199</td>\n",
       "    </tr>\n",
       "    <tr>\n",
       "      <th>4</th>\n",
       "      <td>1</td>\n",
       "      <td>Кира</td>\n",
       "      <td>22</td>\n",
       "      <td>Тюмень</td>\n",
       "      <td>ultra</td>\n",
       "      <td>4028.687306</td>\n",
       "      <td>26.265803</td>\n",
       "      <td>2021-08-28</td>\n",
       "      <td>8</td>\n",
       "      <td>6</td>\n",
       "      <td>0</td>\n",
       "      <td>199</td>\n",
       "    </tr>\n",
       "    <tr>\n",
       "      <th>...</th>\n",
       "      <td>...</td>\n",
       "      <td>...</td>\n",
       "      <td>...</td>\n",
       "      <td>...</td>\n",
       "      <td>...</td>\n",
       "      <td>...</td>\n",
       "      <td>...</td>\n",
       "      <td>...</td>\n",
       "      <td>...</td>\n",
       "      <td>...</td>\n",
       "      <td>...</td>\n",
       "      <td>...</td>\n",
       "    </tr>\n",
       "    <tr>\n",
       "      <th>18063</th>\n",
       "      <td>1534</td>\n",
       "      <td>Альберт</td>\n",
       "      <td>25</td>\n",
       "      <td>Краснодар</td>\n",
       "      <td>free</td>\n",
       "      <td>3781.098080</td>\n",
       "      <td>19.822962</td>\n",
       "      <td>2021-11-04</td>\n",
       "      <td>11</td>\n",
       "      <td>8</td>\n",
       "      <td>50</td>\n",
       "      <td>0</td>\n",
       "    </tr>\n",
       "    <tr>\n",
       "      <th>18064</th>\n",
       "      <td>1534</td>\n",
       "      <td>Альберт</td>\n",
       "      <td>25</td>\n",
       "      <td>Краснодар</td>\n",
       "      <td>free</td>\n",
       "      <td>2840.423057</td>\n",
       "      <td>21.409799</td>\n",
       "      <td>2021-11-16</td>\n",
       "      <td>11</td>\n",
       "      <td>8</td>\n",
       "      <td>50</td>\n",
       "      <td>0</td>\n",
       "    </tr>\n",
       "    <tr>\n",
       "      <th>18065</th>\n",
       "      <td>1534</td>\n",
       "      <td>Альберт</td>\n",
       "      <td>25</td>\n",
       "      <td>Краснодар</td>\n",
       "      <td>free</td>\n",
       "      <td>3826.185507</td>\n",
       "      <td>18.435051</td>\n",
       "      <td>2021-11-18</td>\n",
       "      <td>11</td>\n",
       "      <td>8</td>\n",
       "      <td>50</td>\n",
       "      <td>0</td>\n",
       "    </tr>\n",
       "    <tr>\n",
       "      <th>18066</th>\n",
       "      <td>1534</td>\n",
       "      <td>Альберт</td>\n",
       "      <td>25</td>\n",
       "      <td>Краснодар</td>\n",
       "      <td>free</td>\n",
       "      <td>2902.308661</td>\n",
       "      <td>16.674362</td>\n",
       "      <td>2021-11-27</td>\n",
       "      <td>11</td>\n",
       "      <td>8</td>\n",
       "      <td>50</td>\n",
       "      <td>0</td>\n",
       "    </tr>\n",
       "    <tr>\n",
       "      <th>18067</th>\n",
       "      <td>1534</td>\n",
       "      <td>Альберт</td>\n",
       "      <td>25</td>\n",
       "      <td>Краснодар</td>\n",
       "      <td>free</td>\n",
       "      <td>2371.711192</td>\n",
       "      <td>15.893917</td>\n",
       "      <td>2021-12-29</td>\n",
       "      <td>12</td>\n",
       "      <td>8</td>\n",
       "      <td>50</td>\n",
       "      <td>0</td>\n",
       "    </tr>\n",
       "  </tbody>\n",
       "</table>\n",
       "<p>18068 rows × 12 columns</p>\n",
       "</div>"
      ],
      "text/plain": [
       "       user_id     name  age       city subscription_type     distance  \\\n",
       "0            1     Кира   22     Тюмень             ultra  4409.919140   \n",
       "1            1     Кира   22     Тюмень             ultra  2617.592153   \n",
       "2            1     Кира   22     Тюмень             ultra   754.159807   \n",
       "3            1     Кира   22     Тюмень             ultra  2694.783254   \n",
       "4            1     Кира   22     Тюмень             ultra  4028.687306   \n",
       "...        ...      ...  ...        ...               ...          ...   \n",
       "18063     1534  Альберт   25  Краснодар              free  3781.098080   \n",
       "18064     1534  Альберт   25  Краснодар              free  2840.423057   \n",
       "18065     1534  Альберт   25  Краснодар              free  3826.185507   \n",
       "18066     1534  Альберт   25  Краснодар              free  2902.308661   \n",
       "18067     1534  Альберт   25  Краснодар              free  2371.711192   \n",
       "\n",
       "        duration       date  month  minute_price  start_ride_price  \\\n",
       "0      25.599769 2021-01-01      1             6                 0   \n",
       "1      15.816871 2021-01-18      1             6                 0   \n",
       "2       6.232113 2021-04-20      4             6                 0   \n",
       "3      18.511000 2021-08-11      8             6                 0   \n",
       "4      26.265803 2021-08-28      8             6                 0   \n",
       "...          ...        ...    ...           ...               ...   \n",
       "18063  19.822962 2021-11-04     11             8                50   \n",
       "18064  21.409799 2021-11-16     11             8                50   \n",
       "18065  18.435051 2021-11-18     11             8                50   \n",
       "18066  16.674362 2021-11-27     11             8                50   \n",
       "18067  15.893917 2021-12-29     12             8                50   \n",
       "\n",
       "       subscription_fee  \n",
       "0                   199  \n",
       "1                   199  \n",
       "2                   199  \n",
       "3                   199  \n",
       "4                   199  \n",
       "...                 ...  \n",
       "18063                 0  \n",
       "18064                 0  \n",
       "18065                 0  \n",
       "18066                 0  \n",
       "18067                 0  \n",
       "\n",
       "[18068 rows x 12 columns]"
      ]
     },
     "execution_count": 46,
     "metadata": {},
     "output_type": "execute_result"
    }
   ],
   "source": [
    "full_data"
   ]
  },
  {
   "cell_type": "markdown",
   "id": "ac542aa9",
   "metadata": {},
   "source": [
    "**Создадим датафрейм с данными о пользователях без подписки**"
   ]
  },
  {
   "cell_type": "code",
   "execution_count": 47,
   "id": "88a99213",
   "metadata": {},
   "outputs": [
    {
     "data": {
      "text/html": [
       "<div>\n",
       "<style scoped>\n",
       "    .dataframe tbody tr th:only-of-type {\n",
       "        vertical-align: middle;\n",
       "    }\n",
       "\n",
       "    .dataframe tbody tr th {\n",
       "        vertical-align: top;\n",
       "    }\n",
       "\n",
       "    .dataframe thead th {\n",
       "        text-align: right;\n",
       "    }\n",
       "</style>\n",
       "<table border=\"1\" class=\"dataframe\">\n",
       "  <thead>\n",
       "    <tr style=\"text-align: right;\">\n",
       "      <th></th>\n",
       "      <th>user_id</th>\n",
       "      <th>name</th>\n",
       "      <th>age</th>\n",
       "      <th>city</th>\n",
       "      <th>subscription_type</th>\n",
       "      <th>distance</th>\n",
       "      <th>duration</th>\n",
       "      <th>date</th>\n",
       "      <th>month</th>\n",
       "      <th>minute_price</th>\n",
       "      <th>start_ride_price</th>\n",
       "      <th>subscription_fee</th>\n",
       "    </tr>\n",
       "  </thead>\n",
       "  <tbody>\n",
       "    <tr>\n",
       "      <th>6500</th>\n",
       "      <td>700</td>\n",
       "      <td>Айдар</td>\n",
       "      <td>22</td>\n",
       "      <td>Омск</td>\n",
       "      <td>free</td>\n",
       "      <td>2515.690719</td>\n",
       "      <td>14.944286</td>\n",
       "      <td>2021-01-02</td>\n",
       "      <td>1</td>\n",
       "      <td>8</td>\n",
       "      <td>50</td>\n",
       "      <td>0</td>\n",
       "    </tr>\n",
       "    <tr>\n",
       "      <th>6501</th>\n",
       "      <td>700</td>\n",
       "      <td>Айдар</td>\n",
       "      <td>22</td>\n",
       "      <td>Омск</td>\n",
       "      <td>free</td>\n",
       "      <td>846.932642</td>\n",
       "      <td>16.234663</td>\n",
       "      <td>2021-02-01</td>\n",
       "      <td>2</td>\n",
       "      <td>8</td>\n",
       "      <td>50</td>\n",
       "      <td>0</td>\n",
       "    </tr>\n",
       "    <tr>\n",
       "      <th>6502</th>\n",
       "      <td>700</td>\n",
       "      <td>Айдар</td>\n",
       "      <td>22</td>\n",
       "      <td>Омск</td>\n",
       "      <td>free</td>\n",
       "      <td>4004.434142</td>\n",
       "      <td>20.016628</td>\n",
       "      <td>2021-02-04</td>\n",
       "      <td>2</td>\n",
       "      <td>8</td>\n",
       "      <td>50</td>\n",
       "      <td>0</td>\n",
       "    </tr>\n",
       "    <tr>\n",
       "      <th>6503</th>\n",
       "      <td>700</td>\n",
       "      <td>Айдар</td>\n",
       "      <td>22</td>\n",
       "      <td>Омск</td>\n",
       "      <td>free</td>\n",
       "      <td>1205.911290</td>\n",
       "      <td>9.782872</td>\n",
       "      <td>2021-02-10</td>\n",
       "      <td>2</td>\n",
       "      <td>8</td>\n",
       "      <td>50</td>\n",
       "      <td>0</td>\n",
       "    </tr>\n",
       "    <tr>\n",
       "      <th>6504</th>\n",
       "      <td>700</td>\n",
       "      <td>Айдар</td>\n",
       "      <td>22</td>\n",
       "      <td>Омск</td>\n",
       "      <td>free</td>\n",
       "      <td>3047.379435</td>\n",
       "      <td>17.427673</td>\n",
       "      <td>2021-02-14</td>\n",
       "      <td>2</td>\n",
       "      <td>8</td>\n",
       "      <td>50</td>\n",
       "      <td>0</td>\n",
       "    </tr>\n",
       "    <tr>\n",
       "      <th>...</th>\n",
       "      <td>...</td>\n",
       "      <td>...</td>\n",
       "      <td>...</td>\n",
       "      <td>...</td>\n",
       "      <td>...</td>\n",
       "      <td>...</td>\n",
       "      <td>...</td>\n",
       "      <td>...</td>\n",
       "      <td>...</td>\n",
       "      <td>...</td>\n",
       "      <td>...</td>\n",
       "      <td>...</td>\n",
       "    </tr>\n",
       "    <tr>\n",
       "      <th>18063</th>\n",
       "      <td>1534</td>\n",
       "      <td>Альберт</td>\n",
       "      <td>25</td>\n",
       "      <td>Краснодар</td>\n",
       "      <td>free</td>\n",
       "      <td>3781.098080</td>\n",
       "      <td>19.822962</td>\n",
       "      <td>2021-11-04</td>\n",
       "      <td>11</td>\n",
       "      <td>8</td>\n",
       "      <td>50</td>\n",
       "      <td>0</td>\n",
       "    </tr>\n",
       "    <tr>\n",
       "      <th>18064</th>\n",
       "      <td>1534</td>\n",
       "      <td>Альберт</td>\n",
       "      <td>25</td>\n",
       "      <td>Краснодар</td>\n",
       "      <td>free</td>\n",
       "      <td>2840.423057</td>\n",
       "      <td>21.409799</td>\n",
       "      <td>2021-11-16</td>\n",
       "      <td>11</td>\n",
       "      <td>8</td>\n",
       "      <td>50</td>\n",
       "      <td>0</td>\n",
       "    </tr>\n",
       "    <tr>\n",
       "      <th>18065</th>\n",
       "      <td>1534</td>\n",
       "      <td>Альберт</td>\n",
       "      <td>25</td>\n",
       "      <td>Краснодар</td>\n",
       "      <td>free</td>\n",
       "      <td>3826.185507</td>\n",
       "      <td>18.435051</td>\n",
       "      <td>2021-11-18</td>\n",
       "      <td>11</td>\n",
       "      <td>8</td>\n",
       "      <td>50</td>\n",
       "      <td>0</td>\n",
       "    </tr>\n",
       "    <tr>\n",
       "      <th>18066</th>\n",
       "      <td>1534</td>\n",
       "      <td>Альберт</td>\n",
       "      <td>25</td>\n",
       "      <td>Краснодар</td>\n",
       "      <td>free</td>\n",
       "      <td>2902.308661</td>\n",
       "      <td>16.674362</td>\n",
       "      <td>2021-11-27</td>\n",
       "      <td>11</td>\n",
       "      <td>8</td>\n",
       "      <td>50</td>\n",
       "      <td>0</td>\n",
       "    </tr>\n",
       "    <tr>\n",
       "      <th>18067</th>\n",
       "      <td>1534</td>\n",
       "      <td>Альберт</td>\n",
       "      <td>25</td>\n",
       "      <td>Краснодар</td>\n",
       "      <td>free</td>\n",
       "      <td>2371.711192</td>\n",
       "      <td>15.893917</td>\n",
       "      <td>2021-12-29</td>\n",
       "      <td>12</td>\n",
       "      <td>8</td>\n",
       "      <td>50</td>\n",
       "      <td>0</td>\n",
       "    </tr>\n",
       "  </tbody>\n",
       "</table>\n",
       "<p>11568 rows × 12 columns</p>\n",
       "</div>"
      ],
      "text/plain": [
       "       user_id     name  age       city subscription_type     distance  \\\n",
       "6500       700    Айдар   22       Омск              free  2515.690719   \n",
       "6501       700    Айдар   22       Омск              free   846.932642   \n",
       "6502       700    Айдар   22       Омск              free  4004.434142   \n",
       "6503       700    Айдар   22       Омск              free  1205.911290   \n",
       "6504       700    Айдар   22       Омск              free  3047.379435   \n",
       "...        ...      ...  ...        ...               ...          ...   \n",
       "18063     1534  Альберт   25  Краснодар              free  3781.098080   \n",
       "18064     1534  Альберт   25  Краснодар              free  2840.423057   \n",
       "18065     1534  Альберт   25  Краснодар              free  3826.185507   \n",
       "18066     1534  Альберт   25  Краснодар              free  2902.308661   \n",
       "18067     1534  Альберт   25  Краснодар              free  2371.711192   \n",
       "\n",
       "        duration       date  month  minute_price  start_ride_price  \\\n",
       "6500   14.944286 2021-01-02      1             8                50   \n",
       "6501   16.234663 2021-02-01      2             8                50   \n",
       "6502   20.016628 2021-02-04      2             8                50   \n",
       "6503    9.782872 2021-02-10      2             8                50   \n",
       "6504   17.427673 2021-02-14      2             8                50   \n",
       "...          ...        ...    ...           ...               ...   \n",
       "18063  19.822962 2021-11-04     11             8                50   \n",
       "18064  21.409799 2021-11-16     11             8                50   \n",
       "18065  18.435051 2021-11-18     11             8                50   \n",
       "18066  16.674362 2021-11-27     11             8                50   \n",
       "18067  15.893917 2021-12-29     12             8                50   \n",
       "\n",
       "       subscription_fee  \n",
       "6500                  0  \n",
       "6501                  0  \n",
       "6502                  0  \n",
       "6503                  0  \n",
       "6504                  0  \n",
       "...                 ...  \n",
       "18063                 0  \n",
       "18064                 0  \n",
       "18065                 0  \n",
       "18066                 0  \n",
       "18067                 0  \n",
       "\n",
       "[11568 rows x 12 columns]"
      ]
     },
     "execution_count": 47,
     "metadata": {},
     "output_type": "execute_result"
    }
   ],
   "source": [
    "free_sub = full_data.query(\"`subscription_type` == 'free'\")\n",
    "free_sub"
   ]
  },
  {
   "cell_type": "markdown",
   "id": "79d7d517",
   "metadata": {},
   "source": [
    "**Создадим датафрейм с данными о пользователях с подпиской**"
   ]
  },
  {
   "cell_type": "code",
   "execution_count": 48,
   "id": "a1dc2f0d",
   "metadata": {},
   "outputs": [
    {
     "data": {
      "text/html": [
       "<div>\n",
       "<style scoped>\n",
       "    .dataframe tbody tr th:only-of-type {\n",
       "        vertical-align: middle;\n",
       "    }\n",
       "\n",
       "    .dataframe tbody tr th {\n",
       "        vertical-align: top;\n",
       "    }\n",
       "\n",
       "    .dataframe thead th {\n",
       "        text-align: right;\n",
       "    }\n",
       "</style>\n",
       "<table border=\"1\" class=\"dataframe\">\n",
       "  <thead>\n",
       "    <tr style=\"text-align: right;\">\n",
       "      <th></th>\n",
       "      <th>user_id</th>\n",
       "      <th>name</th>\n",
       "      <th>age</th>\n",
       "      <th>city</th>\n",
       "      <th>subscription_type</th>\n",
       "      <th>distance</th>\n",
       "      <th>duration</th>\n",
       "      <th>date</th>\n",
       "      <th>month</th>\n",
       "      <th>minute_price</th>\n",
       "      <th>start_ride_price</th>\n",
       "      <th>subscription_fee</th>\n",
       "    </tr>\n",
       "  </thead>\n",
       "  <tbody>\n",
       "    <tr>\n",
       "      <th>0</th>\n",
       "      <td>1</td>\n",
       "      <td>Кира</td>\n",
       "      <td>22</td>\n",
       "      <td>Тюмень</td>\n",
       "      <td>ultra</td>\n",
       "      <td>4409.919140</td>\n",
       "      <td>25.599769</td>\n",
       "      <td>2021-01-01</td>\n",
       "      <td>1</td>\n",
       "      <td>6</td>\n",
       "      <td>0</td>\n",
       "      <td>199</td>\n",
       "    </tr>\n",
       "    <tr>\n",
       "      <th>1</th>\n",
       "      <td>1</td>\n",
       "      <td>Кира</td>\n",
       "      <td>22</td>\n",
       "      <td>Тюмень</td>\n",
       "      <td>ultra</td>\n",
       "      <td>2617.592153</td>\n",
       "      <td>15.816871</td>\n",
       "      <td>2021-01-18</td>\n",
       "      <td>1</td>\n",
       "      <td>6</td>\n",
       "      <td>0</td>\n",
       "      <td>199</td>\n",
       "    </tr>\n",
       "    <tr>\n",
       "      <th>2</th>\n",
       "      <td>1</td>\n",
       "      <td>Кира</td>\n",
       "      <td>22</td>\n",
       "      <td>Тюмень</td>\n",
       "      <td>ultra</td>\n",
       "      <td>754.159807</td>\n",
       "      <td>6.232113</td>\n",
       "      <td>2021-04-20</td>\n",
       "      <td>4</td>\n",
       "      <td>6</td>\n",
       "      <td>0</td>\n",
       "      <td>199</td>\n",
       "    </tr>\n",
       "    <tr>\n",
       "      <th>3</th>\n",
       "      <td>1</td>\n",
       "      <td>Кира</td>\n",
       "      <td>22</td>\n",
       "      <td>Тюмень</td>\n",
       "      <td>ultra</td>\n",
       "      <td>2694.783254</td>\n",
       "      <td>18.511000</td>\n",
       "      <td>2021-08-11</td>\n",
       "      <td>8</td>\n",
       "      <td>6</td>\n",
       "      <td>0</td>\n",
       "      <td>199</td>\n",
       "    </tr>\n",
       "    <tr>\n",
       "      <th>4</th>\n",
       "      <td>1</td>\n",
       "      <td>Кира</td>\n",
       "      <td>22</td>\n",
       "      <td>Тюмень</td>\n",
       "      <td>ultra</td>\n",
       "      <td>4028.687306</td>\n",
       "      <td>26.265803</td>\n",
       "      <td>2021-08-28</td>\n",
       "      <td>8</td>\n",
       "      <td>6</td>\n",
       "      <td>0</td>\n",
       "      <td>199</td>\n",
       "    </tr>\n",
       "    <tr>\n",
       "      <th>...</th>\n",
       "      <td>...</td>\n",
       "      <td>...</td>\n",
       "      <td>...</td>\n",
       "      <td>...</td>\n",
       "      <td>...</td>\n",
       "      <td>...</td>\n",
       "      <td>...</td>\n",
       "      <td>...</td>\n",
       "      <td>...</td>\n",
       "      <td>...</td>\n",
       "      <td>...</td>\n",
       "      <td>...</td>\n",
       "    </tr>\n",
       "    <tr>\n",
       "      <th>6495</th>\n",
       "      <td>699</td>\n",
       "      <td>Оксана</td>\n",
       "      <td>22</td>\n",
       "      <td>Москва</td>\n",
       "      <td>ultra</td>\n",
       "      <td>3973.046497</td>\n",
       "      <td>24.671163</td>\n",
       "      <td>2021-08-29</td>\n",
       "      <td>8</td>\n",
       "      <td>6</td>\n",
       "      <td>0</td>\n",
       "      <td>199</td>\n",
       "    </tr>\n",
       "    <tr>\n",
       "      <th>6496</th>\n",
       "      <td>699</td>\n",
       "      <td>Оксана</td>\n",
       "      <td>22</td>\n",
       "      <td>Москва</td>\n",
       "      <td>ultra</td>\n",
       "      <td>3288.702563</td>\n",
       "      <td>15.892886</td>\n",
       "      <td>2021-09-12</td>\n",
       "      <td>9</td>\n",
       "      <td>6</td>\n",
       "      <td>0</td>\n",
       "      <td>199</td>\n",
       "    </tr>\n",
       "    <tr>\n",
       "      <th>6497</th>\n",
       "      <td>699</td>\n",
       "      <td>Оксана</td>\n",
       "      <td>22</td>\n",
       "      <td>Москва</td>\n",
       "      <td>ultra</td>\n",
       "      <td>3076.159348</td>\n",
       "      <td>14.389525</td>\n",
       "      <td>2021-09-26</td>\n",
       "      <td>9</td>\n",
       "      <td>6</td>\n",
       "      <td>0</td>\n",
       "      <td>199</td>\n",
       "    </tr>\n",
       "    <tr>\n",
       "      <th>6498</th>\n",
       "      <td>699</td>\n",
       "      <td>Оксана</td>\n",
       "      <td>22</td>\n",
       "      <td>Москва</td>\n",
       "      <td>ultra</td>\n",
       "      <td>4707.845501</td>\n",
       "      <td>15.839579</td>\n",
       "      <td>2021-10-17</td>\n",
       "      <td>10</td>\n",
       "      <td>6</td>\n",
       "      <td>0</td>\n",
       "      <td>199</td>\n",
       "    </tr>\n",
       "    <tr>\n",
       "      <th>6499</th>\n",
       "      <td>699</td>\n",
       "      <td>Оксана</td>\n",
       "      <td>22</td>\n",
       "      <td>Москва</td>\n",
       "      <td>ultra</td>\n",
       "      <td>3202.890770</td>\n",
       "      <td>25.217345</td>\n",
       "      <td>2021-12-03</td>\n",
       "      <td>12</td>\n",
       "      <td>6</td>\n",
       "      <td>0</td>\n",
       "      <td>199</td>\n",
       "    </tr>\n",
       "  </tbody>\n",
       "</table>\n",
       "<p>6500 rows × 12 columns</p>\n",
       "</div>"
      ],
      "text/plain": [
       "      user_id    name  age    city subscription_type     distance   duration  \\\n",
       "0           1    Кира   22  Тюмень             ultra  4409.919140  25.599769   \n",
       "1           1    Кира   22  Тюмень             ultra  2617.592153  15.816871   \n",
       "2           1    Кира   22  Тюмень             ultra   754.159807   6.232113   \n",
       "3           1    Кира   22  Тюмень             ultra  2694.783254  18.511000   \n",
       "4           1    Кира   22  Тюмень             ultra  4028.687306  26.265803   \n",
       "...       ...     ...  ...     ...               ...          ...        ...   \n",
       "6495      699  Оксана   22  Москва             ultra  3973.046497  24.671163   \n",
       "6496      699  Оксана   22  Москва             ultra  3288.702563  15.892886   \n",
       "6497      699  Оксана   22  Москва             ultra  3076.159348  14.389525   \n",
       "6498      699  Оксана   22  Москва             ultra  4707.845501  15.839579   \n",
       "6499      699  Оксана   22  Москва             ultra  3202.890770  25.217345   \n",
       "\n",
       "           date  month  minute_price  start_ride_price  subscription_fee  \n",
       "0    2021-01-01      1             6                 0               199  \n",
       "1    2021-01-18      1             6                 0               199  \n",
       "2    2021-04-20      4             6                 0               199  \n",
       "3    2021-08-11      8             6                 0               199  \n",
       "4    2021-08-28      8             6                 0               199  \n",
       "...         ...    ...           ...               ...               ...  \n",
       "6495 2021-08-29      8             6                 0               199  \n",
       "6496 2021-09-12      9             6                 0               199  \n",
       "6497 2021-09-26      9             6                 0               199  \n",
       "6498 2021-10-17     10             6                 0               199  \n",
       "6499 2021-12-03     12             6                 0               199  \n",
       "\n",
       "[6500 rows x 12 columns]"
      ]
     },
     "execution_count": 48,
     "metadata": {},
     "output_type": "execute_result"
    }
   ],
   "source": [
    "ultra_sub = full_data.query(\"`subscription_type` == 'ultra'\")\n",
    "ultra_sub"
   ]
  },
  {
   "cell_type": "markdown",
   "id": "560b7897",
   "metadata": {},
   "source": [
    "**Визуализируем информацию о расстоянии**"
   ]
  },
  {
   "cell_type": "code",
   "execution_count": 49,
   "id": "36e209fe",
   "metadata": {},
   "outputs": [
    {
     "data": {
      "image/png": "[encoded data removed]",
      "text/plain": [
       "<Figure size 432x288 with 1 Axes>"
      ]
     },
     "metadata": {
      "needs_background": "light"
     },
     "output_type": "display_data"
    },
    {
     "data": {
      "text/plain": [
       "<Figure size 1440x1440 with 0 Axes>"
      ]
     },
     "metadata": {},
     "output_type": "display_data"
    }
   ],
   "source": [
    "plt.hist(free_sub['distance'], bins=40, range = (0, 7000))\n",
    "plt.title('Расстояние, бесплатный тариф')\n",
    "plt.xlabel('Расстояние, м')\n",
    "plt.ylabel('Количество поездок')\n",
    "plt.figure(figsize=(20,20))\n",
    "plt.show()"
   ]
  },
  {
   "cell_type": "code",
   "execution_count": 50,
   "id": "5abc520b",
   "metadata": {},
   "outputs": [
    {
     "data": {
      "image/png": "[encoded data removed]",
      "text/plain": [
       "<Figure size 432x288 with 1 Axes>"
      ]
     },
     "metadata": {
      "needs_background": "light"
     },
     "output_type": "display_data"
    },
    {
     "data": {
      "text/plain": [
       "<Figure size 1440x1440 with 0 Axes>"
      ]
     },
     "metadata": {},
     "output_type": "display_data"
    }
   ],
   "source": [
    "plt.hist(ultra_sub['distance'], bins=40, range = (0, 6000))\n",
    "plt.title('Расстояние, платный тариф')\n",
    "plt.xlabel('Расстояние, м')\n",
    "plt.ylabel('Количество поездок')\n",
    "plt.figure(figsize=(20,20))\n",
    "plt.show()"
   ]
  },
  {
   "cell_type": "markdown",
   "id": "f9cf24b1",
   "metadata": {},
   "source": [
    "**Визуализируем информацию о времени**"
   ]
  },
  {
   "cell_type": "code",
   "execution_count": 51,
   "id": "ea4ab63b",
   "metadata": {},
   "outputs": [
    {
     "data": {
      "image/png": "[encoded data removed]",
      "text/plain": [
       "<Figure size 432x288 with 1 Axes>"
      ]
     },
     "metadata": {
      "needs_background": "light"
     },
     "output_type": "display_data"
    },
    {
     "data": {
      "text/plain": [
       "<Figure size 1440x1440 with 0 Axes>"
      ]
     },
     "metadata": {},
     "output_type": "display_data"
    }
   ],
   "source": [
    "plt.hist(free_sub['duration'], bins=30, range = (0, 35))\n",
    "plt.title('Время, бесплатный тариф')\n",
    "plt.xlabel('Время поездки, минуты')\n",
    "plt.ylabel('Количество поездок')\n",
    "plt.figure(figsize=(20,20))\n",
    "plt.show()"
   ]
  },
  {
   "cell_type": "code",
   "execution_count": 52,
   "id": "615ea9ad",
   "metadata": {},
   "outputs": [
    {
     "data": {
      "image/png": "[encoded data removed]",
      "text/plain": [
       "<Figure size 432x288 with 1 Axes>"
      ]
     },
     "metadata": {
      "needs_background": "light"
     },
     "output_type": "display_data"
    },
    {
     "data": {
      "text/plain": [
       "<Figure size 1440x1440 with 0 Axes>"
      ]
     },
     "metadata": {},
     "output_type": "display_data"
    }
   ],
   "source": [
    "plt.hist(ultra_sub['duration'], bins=30, range = (0, 35))\n",
    "plt.title('Время, платный тариф')\n",
    "plt.xlabel('Время поездки, минуты')\n",
    "plt.ylabel('Количество поездок')\n",
    "plt.figure(figsize=(20,20))\n",
    "plt.show()"
   ]
  },
  {
   "cell_type": "markdown",
   "id": "68082b82",
   "metadata": {},
   "source": [
    "**Вывод**\n",
    "\n",
    "Объединили данные о пользователях, поездках и тарифах в один датафрейм - `full_data`.\n",
    "\n",
    "Выделили два датафрейма на основе `full_data`:\n",
    "- `free_sub` - Информация о пользователях с бесплатным тарифом\n",
    "- `ultra_sub` - Информация о пользователях с платным тарифом\n",
    "\n",
    "Визуализировали информацию о расстоянии и времени для каждого из тарифов.\n",
    "\n",
    "Для бесплатного тарифа время поездки составляет от 10 до 30 минут, и проезжают от 2 до 5 км, есть пользователи, которые проехали даже 6, 6.5 км.\n",
    "\n",
    "Платный тариф. В основном время укладывается в промежуток от 15 до 25 минут. Пик расстояния приходится на 3км.\n",
    "\n",
    "Таким образом, можно сделать вывод, что пользователи с бесплатным тарифом в целом совершают более долгие поездки, а также проезжают большее расстояние, чем пользователи на платном тарифе. "
   ]
  },
  {
   "cell_type": "markdown",
   "id": "402d620f",
   "metadata": {},
   "source": [
    "### 5. Подсчёт выручки"
   ]
  },
  {
   "cell_type": "markdown",
   "id": "1d37025a",
   "metadata": {},
   "source": [
    "**Найдем суммарное расстояние, количество поeздок и суммарное время для каждого пользователя за каждый месяц**"
   ]
  },
  {
   "cell_type": "code",
   "execution_count": 53,
   "id": "d6b4a3cc",
   "metadata": {},
   "outputs": [],
   "source": [
    "full_data['duration'] = np.ceil(full_data['duration'])"
   ]
  },
  {
   "cell_type": "code",
   "execution_count": 54,
   "id": "5a2ce04a",
   "metadata": {},
   "outputs": [],
   "source": [
    "total_data = pd.pivot_table(full_data,\n",
    "                           index=['month', 'user_id'],\n",
    "                           values = ['distance', 'duration', 'name', 'subscription_type'],\n",
    "                           aggfunc = {'distance': sum, \n",
    "                                      'duration' : sum, \n",
    "                                      'name' : len, \n",
    "                                      'subscription_type' : min})"
   ]
  },
  {
   "cell_type": "code",
   "execution_count": 55,
   "id": "918e4ea5",
   "metadata": {},
   "outputs": [],
   "source": [
    "total_data.rename(columns = {'name' : 'count_tips'}, inplace = True)"
   ]
  },
  {
   "cell_type": "code",
   "execution_count": 56,
   "id": "fadce79b",
   "metadata": {},
   "outputs": [],
   "source": [
    "total_data['duration'] = np.ceil(total_data['duration'])"
   ]
  },
  {
   "cell_type": "code",
   "execution_count": 57,
   "id": "43782f81",
   "metadata": {},
   "outputs": [
    {
     "data": {
      "text/html": [
       "<div>\n",
       "<style scoped>\n",
       "    .dataframe tbody tr th:only-of-type {\n",
       "        vertical-align: middle;\n",
       "    }\n",
       "\n",
       "    .dataframe tbody tr th {\n",
       "        vertical-align: top;\n",
       "    }\n",
       "\n",
       "    .dataframe thead th {\n",
       "        text-align: right;\n",
       "    }\n",
       "</style>\n",
       "<table border=\"1\" class=\"dataframe\">\n",
       "  <thead>\n",
       "    <tr style=\"text-align: right;\">\n",
       "      <th></th>\n",
       "      <th></th>\n",
       "      <th>distance</th>\n",
       "      <th>duration</th>\n",
       "      <th>count_tips</th>\n",
       "      <th>subscription_type</th>\n",
       "    </tr>\n",
       "    <tr>\n",
       "      <th>month</th>\n",
       "      <th>user_id</th>\n",
       "      <th></th>\n",
       "      <th></th>\n",
       "      <th></th>\n",
       "      <th></th>\n",
       "    </tr>\n",
       "  </thead>\n",
       "  <tbody>\n",
       "    <tr>\n",
       "      <th rowspan=\"20\" valign=\"top\">1</th>\n",
       "      <th>1</th>\n",
       "      <td>7027.511294</td>\n",
       "      <td>42.0</td>\n",
       "      <td>2</td>\n",
       "      <td>ultra</td>\n",
       "    </tr>\n",
       "    <tr>\n",
       "      <th>1061</th>\n",
       "      <td>12637.249630</td>\n",
       "      <td>43.0</td>\n",
       "      <td>3</td>\n",
       "      <td>free</td>\n",
       "    </tr>\n",
       "    <tr>\n",
       "      <th>1063</th>\n",
       "      <td>3276.362299</td>\n",
       "      <td>10.0</td>\n",
       "      <td>1</td>\n",
       "      <td>free</td>\n",
       "    </tr>\n",
       "    <tr>\n",
       "      <th>1064</th>\n",
       "      <td>5297.324649</td>\n",
       "      <td>15.0</td>\n",
       "      <td>1</td>\n",
       "      <td>free</td>\n",
       "    </tr>\n",
       "    <tr>\n",
       "      <th>1065</th>\n",
       "      <td>14547.099333</td>\n",
       "      <td>99.0</td>\n",
       "      <td>4</td>\n",
       "      <td>free</td>\n",
       "    </tr>\n",
       "    <tr>\n",
       "      <th>1066</th>\n",
       "      <td>2809.064949</td>\n",
       "      <td>19.0</td>\n",
       "      <td>1</td>\n",
       "      <td>free</td>\n",
       "    </tr>\n",
       "    <tr>\n",
       "      <th>1067</th>\n",
       "      <td>3864.900780</td>\n",
       "      <td>22.0</td>\n",
       "      <td>1</td>\n",
       "      <td>free</td>\n",
       "    </tr>\n",
       "    <tr>\n",
       "      <th>1069</th>\n",
       "      <td>7007.076943</td>\n",
       "      <td>53.0</td>\n",
       "      <td>3</td>\n",
       "      <td>free</td>\n",
       "    </tr>\n",
       "    <tr>\n",
       "      <th>1071</th>\n",
       "      <td>3635.094136</td>\n",
       "      <td>15.0</td>\n",
       "      <td>1</td>\n",
       "      <td>free</td>\n",
       "    </tr>\n",
       "    <tr>\n",
       "      <th>1072</th>\n",
       "      <td>2498.615999</td>\n",
       "      <td>11.0</td>\n",
       "      <td>1</td>\n",
       "      <td>free</td>\n",
       "    </tr>\n",
       "    <tr>\n",
       "      <th>1073</th>\n",
       "      <td>2945.802455</td>\n",
       "      <td>16.0</td>\n",
       "      <td>1</td>\n",
       "      <td>free</td>\n",
       "    </tr>\n",
       "    <tr>\n",
       "      <th>1074</th>\n",
       "      <td>2814.793386</td>\n",
       "      <td>22.0</td>\n",
       "      <td>1</td>\n",
       "      <td>free</td>\n",
       "    </tr>\n",
       "    <tr>\n",
       "      <th>1075</th>\n",
       "      <td>5746.745124</td>\n",
       "      <td>29.0</td>\n",
       "      <td>3</td>\n",
       "      <td>free</td>\n",
       "    </tr>\n",
       "    <tr>\n",
       "      <th>1077</th>\n",
       "      <td>114.036199</td>\n",
       "      <td>13.0</td>\n",
       "      <td>1</td>\n",
       "      <td>free</td>\n",
       "    </tr>\n",
       "    <tr>\n",
       "      <th>1078</th>\n",
       "      <td>3748.219563</td>\n",
       "      <td>19.0</td>\n",
       "      <td>1</td>\n",
       "      <td>free</td>\n",
       "    </tr>\n",
       "    <tr>\n",
       "      <th>1082</th>\n",
       "      <td>7250.124895</td>\n",
       "      <td>30.0</td>\n",
       "      <td>2</td>\n",
       "      <td>free</td>\n",
       "    </tr>\n",
       "    <tr>\n",
       "      <th>1083</th>\n",
       "      <td>5848.881463</td>\n",
       "      <td>31.0</td>\n",
       "      <td>2</td>\n",
       "      <td>free</td>\n",
       "    </tr>\n",
       "    <tr>\n",
       "      <th>1084</th>\n",
       "      <td>4615.097141</td>\n",
       "      <td>25.0</td>\n",
       "      <td>1</td>\n",
       "      <td>free</td>\n",
       "    </tr>\n",
       "    <tr>\n",
       "      <th>1085</th>\n",
       "      <td>11410.546346</td>\n",
       "      <td>63.0</td>\n",
       "      <td>3</td>\n",
       "      <td>free</td>\n",
       "    </tr>\n",
       "    <tr>\n",
       "      <th>1086</th>\n",
       "      <td>4044.280322</td>\n",
       "      <td>18.0</td>\n",
       "      <td>1</td>\n",
       "      <td>free</td>\n",
       "    </tr>\n",
       "  </tbody>\n",
       "</table>\n",
       "</div>"
      ],
      "text/plain": [
       "                   distance  duration  count_tips subscription_type\n",
       "month user_id                                                      \n",
       "1     1         7027.511294      42.0           2             ultra\n",
       "      1061     12637.249630      43.0           3              free\n",
       "      1063      3276.362299      10.0           1              free\n",
       "      1064      5297.324649      15.0           1              free\n",
       "      1065     14547.099333      99.0           4              free\n",
       "      1066      2809.064949      19.0           1              free\n",
       "      1067      3864.900780      22.0           1              free\n",
       "      1069      7007.076943      53.0           3              free\n",
       "      1071      3635.094136      15.0           1              free\n",
       "      1072      2498.615999      11.0           1              free\n",
       "      1073      2945.802455      16.0           1              free\n",
       "      1074      2814.793386      22.0           1              free\n",
       "      1075      5746.745124      29.0           3              free\n",
       "      1077       114.036199      13.0           1              free\n",
       "      1078      3748.219563      19.0           1              free\n",
       "      1082      7250.124895      30.0           2              free\n",
       "      1083      5848.881463      31.0           2              free\n",
       "      1084      4615.097141      25.0           1              free\n",
       "      1085     11410.546346      63.0           3              free\n",
       "      1086      4044.280322      18.0           1              free"
      ]
     },
     "execution_count": 57,
     "metadata": {},
     "output_type": "execute_result"
    }
   ],
   "source": [
    "total_data.sort_values(by='month').head(20)"
   ]
  },
  {
   "cell_type": "code",
   "execution_count": 58,
   "id": "a50d5cde",
   "metadata": {},
   "outputs": [
    {
     "data": {
      "text/html": [
       "<div>\n",
       "<style scoped>\n",
       "    .dataframe tbody tr th:only-of-type {\n",
       "        vertical-align: middle;\n",
       "    }\n",
       "\n",
       "    .dataframe tbody tr th {\n",
       "        vertical-align: top;\n",
       "    }\n",
       "\n",
       "    .dataframe thead th {\n",
       "        text-align: right;\n",
       "    }\n",
       "</style>\n",
       "<table border=\"1\" class=\"dataframe\">\n",
       "  <thead>\n",
       "    <tr style=\"text-align: right;\">\n",
       "      <th></th>\n",
       "      <th></th>\n",
       "      <th>distance</th>\n",
       "      <th>duration</th>\n",
       "      <th>count_tips</th>\n",
       "      <th>subscription_type</th>\n",
       "    </tr>\n",
       "    <tr>\n",
       "      <th>month</th>\n",
       "      <th>user_id</th>\n",
       "      <th></th>\n",
       "      <th></th>\n",
       "      <th></th>\n",
       "      <th></th>\n",
       "    </tr>\n",
       "  </thead>\n",
       "  <tbody>\n",
       "    <tr>\n",
       "      <th>1</th>\n",
       "      <th>1</th>\n",
       "      <td>7027.511294</td>\n",
       "      <td>42.0</td>\n",
       "      <td>2</td>\n",
       "      <td>ultra</td>\n",
       "    </tr>\n",
       "    <tr>\n",
       "      <th>4</th>\n",
       "      <th>1</th>\n",
       "      <td>754.159807</td>\n",
       "      <td>7.0</td>\n",
       "      <td>1</td>\n",
       "      <td>ultra</td>\n",
       "    </tr>\n",
       "    <tr>\n",
       "      <th>8</th>\n",
       "      <th>1</th>\n",
       "      <td>6723.470560</td>\n",
       "      <td>46.0</td>\n",
       "      <td>2</td>\n",
       "      <td>ultra</td>\n",
       "    </tr>\n",
       "    <tr>\n",
       "      <th>10</th>\n",
       "      <th>1</th>\n",
       "      <td>5809.911100</td>\n",
       "      <td>32.0</td>\n",
       "      <td>2</td>\n",
       "      <td>ultra</td>\n",
       "    </tr>\n",
       "    <tr>\n",
       "      <th>11</th>\n",
       "      <th>1</th>\n",
       "      <td>7003.499363</td>\n",
       "      <td>56.0</td>\n",
       "      <td>3</td>\n",
       "      <td>ultra</td>\n",
       "    </tr>\n",
       "    <tr>\n",
       "      <th>12</th>\n",
       "      <th>1</th>\n",
       "      <td>6751.629942</td>\n",
       "      <td>28.0</td>\n",
       "      <td>2</td>\n",
       "      <td>ultra</td>\n",
       "    </tr>\n",
       "  </tbody>\n",
       "</table>\n",
       "</div>"
      ],
      "text/plain": [
       "                  distance  duration  count_tips subscription_type\n",
       "month user_id                                                     \n",
       "1     1        7027.511294      42.0           2             ultra\n",
       "4     1         754.159807       7.0           1             ultra\n",
       "8     1        6723.470560      46.0           2             ultra\n",
       "10    1        5809.911100      32.0           2             ultra\n",
       "11    1        7003.499363      56.0           3             ultra\n",
       "12    1        6751.629942      28.0           2             ultra"
      ]
     },
     "execution_count": 58,
     "metadata": {},
     "output_type": "execute_result"
    }
   ],
   "source": [
    "total_data.query('user_id == 1')"
   ]
  },
  {
   "cell_type": "markdown",
   "id": "8363771d",
   "metadata": {},
   "source": [
    "**Добавим столбец с помесячной выручкой**"
   ]
  },
  {
   "cell_type": "code",
   "execution_count": 59,
   "id": "fb0f87f1",
   "metadata": {},
   "outputs": [],
   "source": [
    "def revenue(row):\n",
    "    if row['subscription_type'] == 'ultra':\n",
    "        return 6 * row['duration'] + 199\n",
    "    elif row['subscription_type'] == 'free':\n",
    "        return 8 * row['duration'] + 50 * row['count_tips']\n",
    "    else:\n",
    "        return 'Not such sub'"
   ]
  },
  {
   "cell_type": "code",
   "execution_count": 60,
   "id": "a228f5e2",
   "metadata": {},
   "outputs": [],
   "source": [
    "total_data['revenue_per_month'] = total_data.apply(revenue, axis=1)"
   ]
  },
  {
   "cell_type": "code",
   "execution_count": 61,
   "id": "69ac597d",
   "metadata": {},
   "outputs": [
    {
     "data": {
      "text/plain": [
       "month  user_id\n",
       "1      1          451.0\n",
       "       3          277.0\n",
       "       5          277.0\n",
       "       7          367.0\n",
       "       12         397.0\n",
       "       13         451.0\n",
       "       14         409.0\n",
       "       15         433.0\n",
       "       20         373.0\n",
       "       22         277.0\n",
       "       25         301.0\n",
       "       26         367.0\n",
       "       30         349.0\n",
       "       32         349.0\n",
       "       35         541.0\n",
       "       42         337.0\n",
       "       43         487.0\n",
       "       44         313.0\n",
       "       45         361.0\n",
       "       46         319.0\n",
       "Name: revenue_per_month, dtype: float64"
      ]
     },
     "execution_count": 61,
     "metadata": {},
     "output_type": "execute_result"
    }
   ],
   "source": [
    "total_data['revenue_per_month'].head(20)"
   ]
  },
  {
   "cell_type": "code",
   "execution_count": 62,
   "id": "fbbbc38b",
   "metadata": {},
   "outputs": [
    {
     "data": {
      "text/html": [
       "<div>\n",
       "<style scoped>\n",
       "    .dataframe tbody tr th:only-of-type {\n",
       "        vertical-align: middle;\n",
       "    }\n",
       "\n",
       "    .dataframe tbody tr th {\n",
       "        vertical-align: top;\n",
       "    }\n",
       "\n",
       "    .dataframe thead th {\n",
       "        text-align: right;\n",
       "    }\n",
       "</style>\n",
       "<table border=\"1\" class=\"dataframe\">\n",
       "  <thead>\n",
       "    <tr style=\"text-align: right;\">\n",
       "      <th></th>\n",
       "      <th></th>\n",
       "      <th>distance</th>\n",
       "      <th>duration</th>\n",
       "      <th>count_tips</th>\n",
       "      <th>subscription_type</th>\n",
       "      <th>revenue_per_month</th>\n",
       "    </tr>\n",
       "    <tr>\n",
       "      <th>month</th>\n",
       "      <th>user_id</th>\n",
       "      <th></th>\n",
       "      <th></th>\n",
       "      <th></th>\n",
       "      <th></th>\n",
       "      <th></th>\n",
       "    </tr>\n",
       "  </thead>\n",
       "  <tbody>\n",
       "    <tr>\n",
       "      <th>1</th>\n",
       "      <th>1</th>\n",
       "      <td>7027.511294</td>\n",
       "      <td>42.0</td>\n",
       "      <td>2</td>\n",
       "      <td>ultra</td>\n",
       "      <td>451.0</td>\n",
       "    </tr>\n",
       "    <tr>\n",
       "      <th>4</th>\n",
       "      <th>1</th>\n",
       "      <td>754.159807</td>\n",
       "      <td>7.0</td>\n",
       "      <td>1</td>\n",
       "      <td>ultra</td>\n",
       "      <td>241.0</td>\n",
       "    </tr>\n",
       "    <tr>\n",
       "      <th>8</th>\n",
       "      <th>1</th>\n",
       "      <td>6723.470560</td>\n",
       "      <td>46.0</td>\n",
       "      <td>2</td>\n",
       "      <td>ultra</td>\n",
       "      <td>475.0</td>\n",
       "    </tr>\n",
       "    <tr>\n",
       "      <th>10</th>\n",
       "      <th>1</th>\n",
       "      <td>5809.911100</td>\n",
       "      <td>32.0</td>\n",
       "      <td>2</td>\n",
       "      <td>ultra</td>\n",
       "      <td>391.0</td>\n",
       "    </tr>\n",
       "    <tr>\n",
       "      <th>11</th>\n",
       "      <th>1</th>\n",
       "      <td>7003.499363</td>\n",
       "      <td>56.0</td>\n",
       "      <td>3</td>\n",
       "      <td>ultra</td>\n",
       "      <td>535.0</td>\n",
       "    </tr>\n",
       "    <tr>\n",
       "      <th>12</th>\n",
       "      <th>1</th>\n",
       "      <td>6751.629942</td>\n",
       "      <td>28.0</td>\n",
       "      <td>2</td>\n",
       "      <td>ultra</td>\n",
       "      <td>367.0</td>\n",
       "    </tr>\n",
       "  </tbody>\n",
       "</table>\n",
       "</div>"
      ],
      "text/plain": [
       "                  distance  duration  count_tips subscription_type  \\\n",
       "month user_id                                                        \n",
       "1     1        7027.511294      42.0           2             ultra   \n",
       "4     1         754.159807       7.0           1             ultra   \n",
       "8     1        6723.470560      46.0           2             ultra   \n",
       "10    1        5809.911100      32.0           2             ultra   \n",
       "11    1        7003.499363      56.0           3             ultra   \n",
       "12    1        6751.629942      28.0           2             ultra   \n",
       "\n",
       "               revenue_per_month  \n",
       "month user_id                     \n",
       "1     1                    451.0  \n",
       "4     1                    241.0  \n",
       "8     1                    475.0  \n",
       "10    1                    391.0  \n",
       "11    1                    535.0  \n",
       "12    1                    367.0  "
      ]
     },
     "execution_count": 62,
     "metadata": {},
     "output_type": "execute_result"
    }
   ],
   "source": [
    "total_data.query('user_id == 1')"
   ]
  },
  {
   "cell_type": "code",
   "execution_count": 63,
   "id": "917d4dd3",
   "metadata": {},
   "outputs": [
    {
     "data": {
      "text/plain": [
       "subscription_type\n",
       "free     328.641365\n",
       "ultra    362.792191\n",
       "Name: revenue_per_month, dtype: float64"
      ]
     },
     "execution_count": 63,
     "metadata": {},
     "output_type": "execute_result"
    }
   ],
   "source": [
    "# Код ревьюера\n",
    "total_data.groupby('subscription_type')['revenue_per_month'].mean()"
   ]
  },
  {
   "cell_type": "markdown",
   "id": "b7b6d439",
   "metadata": {},
   "source": [
    "**Вывод**\n",
    "\n",
    "Создали новый датафрейм с агрегированными данными (`total_data`) на основе датафрейма с объединенными данными (`full_data`).\n",
    "\n",
    "Нашли суммарное расстояние, количество поездок и суммарное время для каждого пользователя за каждый месяц.\n",
    "Также добавили столбец с помесячной выручкой, которую принес каждый пользователь."
   ]
  },
  {
   "cell_type": "markdown",
   "id": "41545ac0",
   "metadata": {},
   "source": [
    "### 6. Проверка гипотез"
   ]
  },
  {
   "cell_type": "markdown",
   "id": "122af737",
   "metadata": {},
   "source": [
    "**Важно понять, тратят ли пользователи с подпиской больше времени на поездки?** \n",
    "\n",
    "Если да, то пользователи с подпиской могут быть «выгоднее» для компании. Проверим гипотезу. Используем исходные данные о продолжительности каждой сессии — отдельно для подписчиков и тех, у кого нет подписки."
   ]
  },
  {
   "cell_type": "markdown",
   "id": "ddcaead7",
   "metadata": {},
   "source": [
    "Проверим гипотезу: **пользователи с подпиской тратят больше времени на поездки, чем пользователи на бесплатном тарифе.**\n",
    "\n",
    "H_0: Время (`duration`) пользователей на подписке `ultra` = время (`duration`) пользователей на подписке `free`\n",
    "\n",
    "H_1: Время (`duration`) пользователей на подписке `ultra` > время (`duration`) пользователей на подписке `free`\n",
    "\n",
    "alpha = 0.05"
   ]
  },
  {
   "cell_type": "code",
   "execution_count": 64,
   "id": "7b4b295a",
   "metadata": {},
   "outputs": [
    {
     "name": "stdout",
     "output_type": "stream",
     "text": [
      "1.2804098316645618e-34\n",
      "Отвергаем нулевую гипотезу\n"
     ]
    }
   ],
   "source": [
    "ultra = ultra_sub['duration'] \n",
    "\n",
    "free = free_sub['duration']\n",
    "\n",
    "results = st.ttest_ind(ultra, \n",
    "                       free,\n",
    "                       alternative = 'greater')\n",
    "\n",
    "alpha = 0.05\n",
    "\n",
    "print(results.pvalue)\n",
    "\n",
    "if results.pvalue < alpha:\n",
    "    print('Отвергаем нулевую гипотезу')\n",
    "else:\n",
    "    print('Не удалось отвергнуть нулевую гипотезу')"
   ]
  },
  {
   "cell_type": "code",
   "execution_count": 65,
   "id": "e36e65c0",
   "metadata": {},
   "outputs": [
    {
     "data": {
      "image/png": "[encoded data removed]",
      "text/plain": [
       "<Figure size 432x288 with 1 Axes>"
      ]
     },
     "metadata": {
      "needs_background": "light"
     },
     "output_type": "display_data"
    }
   ],
   "source": [
    "ax = sns.barplot(x = 'month',\n",
    "            y = 'duration',\n",
    "            hue = \"subscription_type\",\n",
    "            data = full_data,\n",
    "            palette = ['green', 'blue'])\n",
    "ax.set_title('Распределение продолжительности поездок по видам подписок и месяцам')\n",
    "ax.set(xlabel='Номер месяца', ylabel='Продолжительность поездок');"
   ]
  },
  {
   "cell_type": "markdown",
   "id": "9cfc0e5c",
   "metadata": {},
   "source": [
    "**Вывод**\n",
    "\n",
    "Проверили гипотезу, отвергли гипотезу о том, что время поездки пользователей на тарифе `ultra` равно времени поездки пользователей на тарифе `free`."
   ]
  },
  {
   "cell_type": "markdown",
   "id": "de61bf0b",
   "metadata": {},
   "source": [
    "**Можно ли сказать, что расстояние, которое проезжают пользователи с подпиской за одну поездку, не превышает 3130 метров?**\n",
    "\n",
    "Расстояние одной поездки в 3130 метров — оптимальное с точки зрения износа самоката. Проверьим гипотезу и сделаем выводы."
   ]
  },
  {
   "cell_type": "markdown",
   "id": "7fd1cdba",
   "metadata": {},
   "source": [
    "Проверим гипотезу: **пользователи с подпиской проезжают расстояние, не превышающее 3130 метров за одну поездку.**\n",
    "\n",
    "H_0: Расстояние (`distance`) пользователей на подписке `ultra` = 3130 метров\n",
    "\n",
    "H_1: Расстояние (`distance`) пользователей на подписке `ultra` < 3130 метров\n",
    "\n",
    "alpha = 0.05"
   ]
  },
  {
   "cell_type": "code",
   "execution_count": 66,
   "id": "6a3ae036",
   "metadata": {},
   "outputs": [
    {
     "name": "stdout",
     "output_type": "stream",
     "text": [
      "0.08046311521502146\n",
      "Не удалось отвергнуть нулевую гипотезу\n"
     ]
    }
   ],
   "source": [
    "ultra_dist = ultra_sub['distance']\n",
    "\n",
    "interested_value = 3130.0\n",
    "\n",
    "alpha = .05\n",
    "\n",
    "results = st.ttest_1samp(\n",
    "    ultra_dist, \n",
    "    interested_value,\n",
    "    alternative='less')\n",
    "    \n",
    "print(results.pvalue)\n",
    "\n",
    "if (results.pvalue < alpha):\n",
    "    print('Отвергаем нулевую гипотезу')\n",
    "else:\n",
    "    print('Не удалось отвергнуть нулевую гипотезу')"
   ]
  },
  {
   "cell_type": "markdown",
   "id": "689dfd16",
   "metadata": {},
   "source": [
    "**Вывод**\n",
    "\n",
    "Проверили гипотезу, и мы не можем утверждать, что расстояние, которое проехали пользователи на тарифе `ultra` не превышает 3130 метров."
   ]
  },
  {
   "cell_type": "markdown",
   "id": "b275215b",
   "metadata": {},
   "source": [
    "Проверим гипотезу о том, будет ли помесячная выручка от пользователей с подпиской по месяцам выше, чем выручка от пользователей без подписки. Сделайте вывод."
   ]
  },
  {
   "cell_type": "markdown",
   "id": "93e24994",
   "metadata": {},
   "source": [
    "Проверим гипотезу: **помесячная выручка от пользователей с подпиской выше, чем выручка от пользователей без подписки.**\n",
    "\n",
    "H_0: Выручка (`revenue_per_month`) пользователей на подписке `ultra` = выручка (`revenue_per_month`) пользователей на подписке `free`\n",
    "\n",
    "H_1: Выручка (`revenue_per_month`) пользователей на подписке `ultra` > выручка (`revenue_per_month`) пользователей на подписке `free`\n",
    "\n",
    "alpha = 0.05"
   ]
  },
  {
   "cell_type": "code",
   "execution_count": 67,
   "id": "3744eba7",
   "metadata": {},
   "outputs": [
    {
     "name": "stdout",
     "output_type": "stream",
     "text": [
      "1.8850394384715216e-31\n",
      "Отвергаем нулевую гипотезу\n"
     ]
    }
   ],
   "source": [
    "ultra_per_mnth = total_data.loc[total_data.subscription_type == 'ultra', 'revenue_per_month'] \n",
    "\n",
    "free_per_mnth = total_data.loc[total_data.subscription_type == 'free', 'revenue_per_month'] \n",
    "\n",
    "\n",
    "results = st.ttest_ind(ultra_per_mnth, \n",
    "                       free_per_mnth,\n",
    "                       alternative = 'greater')\n",
    "\n",
    "alpha = .05\n",
    "\n",
    "print(results.pvalue)\n",
    "\n",
    "if results.pvalue < alpha:\n",
    "    print('Отвергаем нулевую гипотезу')\n",
    "else:\n",
    "    print('Не удалось отвергнуть нулевую гипотезу')"
   ]
  },
  {
   "cell_type": "markdown",
   "id": "a7e4ccd3",
   "metadata": {},
   "source": [
    "**Вывод**\n",
    "\n",
    "Проверили гипотезу, соответственно, мы можем утверждать, что выручка с пользователей на подписке `ultra` превышает выручку с пользователей на подписке `free`"
   ]
  },
  {
   "cell_type": "markdown",
   "id": "6e6d401f",
   "metadata": {},
   "source": [
    "Представим такую ситуацию: техническая команда сервиса обновила сервера, с которыми взаимодействует мобильное приложение. Она надеется, что из-за этого количество обращений в техподдержку значимо снизилось. Некоторый файл содержит для каждого пользователя данные о количестве обращений до обновления и после него. Какой тест нам понадобился бы для проверки этой гипотезы?"
   ]
  },
  {
   "cell_type": "markdown",
   "id": "a891df2e",
   "metadata": {},
   "source": [
    "Будем использовать гипотезу о равенстве средних для зависимых (парных) выборок.\n",
    "\n",
    "Гипотезы будут сформулированы так:\n",
    "\n",
    "- H0 : μ1 = μ2\n",
    "- H1 : μ1 != μ2\n",
    "\n",
    "где μ1 и μ2 - средние значения количество обращений в техподдержку до и после изменения.\n",
    "\n",
    "Метод, который нужно использовать при сравнении: `scipy.stats.ttest_rel()`"
   ]
  },
  {
   "cell_type": "markdown",
   "id": "61213c5e",
   "metadata": {},
   "source": [
    "### 7. Распределения"
   ]
  },
  {
   "cell_type": "markdown",
   "id": "5b65e80e",
   "metadata": {},
   "source": [
    "Загрузили 3 датафрейма: с пользователями, информацией о поездках, информацией о подписках. \n",
    "\n",
    "Дальше проверили данные на пропуски, их не оказалось ни в одной таблице. Поменяли тип данных у столбца `date` из датафрейма `data_riders` к типу даты. Также добавили столбец `month` с номером месяца. И удалили дубликаты строк из датафрейма с пользователями.\n",
    "\n",
    "Провели исследовательский анализ данных:\n",
    "\n",
    "- Вывели, что количество пользователей по городам распределено примерно одинаково, нет выдающихся значений. Лидером по количеству пользователей является Пятигорск - 219 пользователей. Меньше всего пользователей в Москве - 168. \n",
    "- Пользователей, использующих бесплатную подписку больше - 835 человек, что является ~54% от общего числа пользователей. На платной подписке сидит 699 пользователей, что соответственно является ~46%.\n",
    "- Возраст пользователей укладывается в промежуток от 20 до 30 лет\n",
    "- В основном пользователи проезжают от 2.5 км до 4 км.\n",
    "- Чаще всего длительность поездки состовляет 13 - 22 минут\n",
    "\n",
    "Объединили данные о пользователях, поездках и подписках в один датафрейм. На основе объединенного датафрейма создали еще 2 датафрейма:\n",
    "- Для пользователей с `ultra` подпиской\n",
    "- Для пользователей с `free` подпиской\n",
    "\n",
    "Дальше визуализировали информацию о расстоянии и времени поездки для пользоватей каждого тарифа.\n",
    "\n",
    "- Для бесплатного тарифа время поездки составляет от 10 до 30 минут, и проезжают от 2 до 5 км, есть пользователи, которые проехали даже 6, 6.5 км.\n",
    "- Платный тариф. В основном время укладывается в промежуток от 15 до 25 минут. Пик расстояния приходится на 3км.\n",
    "\n",
    "Нашли суммарное расстояние, количество поездок и суммарное время для каждого пользователя за каждый месяц - вывели все данные в отдельный датафрейм `total_data`.\n",
    "Добавили в датафрейм `total_data` столбец с помесячной выручкой `revenue_per_month`.\n",
    "\n",
    "Проверили гипотезы:\n",
    "\n",
    "- Пользователи с подпиской тратят больше времени на поездки, чем пользователи на бесплатном тарифе\n",
    "    - Отвергли нулевую гипотезу\n",
    "- Пользователи с подпиской проезжают расстояние, не превышающее 3130 метров за одну поездку\n",
    "    - Не удалось отвергнуть нулевую гипотезу\n",
    "- Помесячная выручка от пользователей с подпиской выше, чем выручка от пользователей без подписки\n",
    "    - Отвергли нулевую гипотезу"
   ]
  }
 ],
 "metadata": {
  "ExecuteTimeLog": [
   {
    "duration": 403,
    "start_time": "2023-07-02T23:41:14.816Z"
   },
   {
    "duration": 209,
    "start_time": "2023-07-02T23:41:16.392Z"
   },
   {
    "duration": 8,
    "start_time": "2023-07-02T23:41:48.207Z"
   },
   {
    "duration": 953,
    "start_time": "2023-07-02T23:50:13.145Z"
   },
   {
    "duration": 4,
    "start_time": "2023-07-02T23:56:10.845Z"
   },
   {
    "duration": 85,
    "start_time": "2023-07-02T23:56:11.960Z"
   },
   {
    "duration": 65,
    "start_time": "2023-07-02T23:56:12.540Z"
   },
   {
    "duration": 62,
    "start_time": "2023-07-02T23:56:13.212Z"
   },
   {
    "duration": 11,
    "start_time": "2023-07-02T23:58:12.992Z"
   },
   {
    "duration": 10,
    "start_time": "2023-07-02T23:58:20.397Z"
   },
   {
    "duration": 138,
    "start_time": "2023-07-02T23:58:36.617Z"
   },
   {
    "duration": 6,
    "start_time": "2023-07-02T23:58:57.548Z"
   },
   {
    "duration": 133,
    "start_time": "2023-07-02T23:59:05.073Z"
   },
   {
    "duration": 6,
    "start_time": "2023-07-02T23:59:13.318Z"
   },
   {
    "duration": 76,
    "start_time": "2023-07-02T23:59:20.400Z"
   },
   {
    "duration": 8,
    "start_time": "2023-07-03T00:00:51.125Z"
   },
   {
    "duration": 9,
    "start_time": "2023-07-03T00:00:51.425Z"
   },
   {
    "duration": 10,
    "start_time": "2023-07-03T00:00:59.002Z"
   },
   {
    "duration": 7,
    "start_time": "2023-07-03T00:04:08.926Z"
   },
   {
    "duration": 10,
    "start_time": "2023-07-03T00:04:47.765Z"
   },
   {
    "duration": 8,
    "start_time": "2023-07-03T00:05:45.345Z"
   },
   {
    "duration": 10,
    "start_time": "2023-07-03T00:05:56.847Z"
   },
   {
    "duration": 6,
    "start_time": "2023-07-03T00:25:22.666Z"
   },
   {
    "duration": 7,
    "start_time": "2023-07-03T00:25:30.134Z"
   },
   {
    "duration": 6,
    "start_time": "2023-07-03T00:25:38.526Z"
   },
   {
    "duration": 9,
    "start_time": "2023-07-03T00:27:41.170Z"
   },
   {
    "duration": 6,
    "start_time": "2023-07-03T00:28:30.889Z"
   },
   {
    "duration": 7,
    "start_time": "2023-07-03T00:29:00.441Z"
   },
   {
    "duration": 8,
    "start_time": "2023-07-03T00:31:48.046Z"
   },
   {
    "duration": 8,
    "start_time": "2023-07-03T00:31:56.144Z"
   },
   {
    "duration": 6,
    "start_time": "2023-07-03T00:32:02.421Z"
   },
   {
    "duration": 7,
    "start_time": "2023-07-03T00:33:00.452Z"
   },
   {
    "duration": 4,
    "start_time": "2023-07-03T00:35:01.085Z"
   },
   {
    "duration": 5,
    "start_time": "2023-07-03T00:35:13.695Z"
   },
   {
    "duration": 7,
    "start_time": "2023-07-03T00:35:44.252Z"
   },
   {
    "duration": 162,
    "start_time": "2023-07-03T00:35:57.637Z"
   },
   {
    "duration": 4,
    "start_time": "2023-07-03T00:58:32.606Z"
   },
   {
    "duration": 4,
    "start_time": "2023-07-03T00:58:39.026Z"
   },
   {
    "duration": 83,
    "start_time": "2023-07-03T00:59:57.184Z"
   },
   {
    "duration": 6,
    "start_time": "2023-07-03T01:01:38.670Z"
   },
   {
    "duration": 5,
    "start_time": "2023-07-03T01:02:01.129Z"
   },
   {
    "duration": 137,
    "start_time": "2023-07-03T01:02:18.251Z"
   },
   {
    "duration": 7,
    "start_time": "2023-07-03T01:03:19.534Z"
   },
   {
    "duration": 8,
    "start_time": "2023-07-03T01:03:47.417Z"
   },
   {
    "duration": 161,
    "start_time": "2023-07-03T01:04:01.395Z"
   },
   {
    "duration": 6,
    "start_time": "2023-07-03T01:04:51.457Z"
   },
   {
    "duration": 7,
    "start_time": "2023-07-03T01:05:26.051Z"
   },
   {
    "duration": 12,
    "start_time": "2023-07-03T01:05:44.049Z"
   },
   {
    "duration": 98,
    "start_time": "2023-07-03T01:05:51.274Z"
   },
   {
    "duration": 9,
    "start_time": "2023-07-03T01:09:26.570Z"
   },
   {
    "duration": 9,
    "start_time": "2023-07-03T01:09:36.104Z"
   },
   {
    "duration": 19,
    "start_time": "2023-07-03T01:09:42.469Z"
   },
   {
    "duration": 9,
    "start_time": "2023-07-03T01:10:23.259Z"
   },
   {
    "duration": 17,
    "start_time": "2023-07-03T01:10:30.547Z"
   },
   {
    "duration": 6,
    "start_time": "2023-07-03T01:10:50.483Z"
   },
   {
    "duration": 17,
    "start_time": "2023-07-03T01:10:51.101Z"
   },
   {
    "duration": 202,
    "start_time": "2023-07-03T01:11:51.866Z"
   },
   {
    "duration": 158,
    "start_time": "2023-07-03T01:12:03.554Z"
   },
   {
    "duration": 19,
    "start_time": "2023-07-03T01:12:25.986Z"
   },
   {
    "duration": 19,
    "start_time": "2023-07-03T01:12:46.980Z"
   },
   {
    "duration": 20,
    "start_time": "2023-07-03T01:12:55.844Z"
   },
   {
    "duration": 169,
    "start_time": "2023-07-03T01:13:27.462Z"
   },
   {
    "duration": 151,
    "start_time": "2023-07-03T01:14:01.445Z"
   },
   {
    "duration": 91,
    "start_time": "2023-07-03T01:23:59.988Z"
   },
   {
    "duration": 783,
    "start_time": "2023-07-03T01:24:09.665Z"
   },
   {
    "duration": 4,
    "start_time": "2023-07-03T01:24:15.825Z"
   },
   {
    "duration": 3,
    "start_time": "2023-07-03T01:24:43.404Z"
   },
   {
    "duration": 4,
    "start_time": "2023-07-03T01:24:55.962Z"
   },
   {
    "duration": 11,
    "start_time": "2023-07-03T01:25:04.476Z"
   },
   {
    "duration": 11,
    "start_time": "2023-07-03T01:25:34.278Z"
   },
   {
    "duration": 3,
    "start_time": "2023-07-03T01:25:55.136Z"
   },
   {
    "duration": 125,
    "start_time": "2023-07-03T01:26:03.426Z"
   },
   {
    "duration": 6,
    "start_time": "2023-07-03T01:26:08.956Z"
   },
   {
    "duration": 13,
    "start_time": "2023-07-03T01:26:19.728Z"
   },
   {
    "duration": 5,
    "start_time": "2023-07-03T01:30:18.935Z"
   },
   {
    "duration": 5,
    "start_time": "2023-07-03T01:30:29.549Z"
   },
   {
    "duration": 734,
    "start_time": "2023-07-03T01:30:38.362Z"
   },
   {
    "duration": 5,
    "start_time": "2023-07-03T01:35:24.343Z"
   },
   {
    "duration": 9,
    "start_time": "2023-07-03T01:37:08.581Z"
   },
   {
    "duration": 1124,
    "start_time": "2023-07-03T01:39:33.866Z"
   },
   {
    "duration": 29,
    "start_time": "2023-07-03T01:39:34.992Z"
   },
   {
    "duration": 27,
    "start_time": "2023-07-03T01:39:35.022Z"
   },
   {
    "duration": 15,
    "start_time": "2023-07-03T01:39:35.051Z"
   },
   {
    "duration": 11,
    "start_time": "2023-07-03T01:39:36.041Z"
   },
   {
    "duration": 10,
    "start_time": "2023-07-03T01:39:36.247Z"
   },
   {
    "duration": 137,
    "start_time": "2023-07-03T01:39:36.749Z"
   },
   {
    "duration": 6,
    "start_time": "2023-07-03T01:39:36.888Z"
   },
   {
    "duration": 147,
    "start_time": "2023-07-03T01:39:36.895Z"
   },
   {
    "duration": 5,
    "start_time": "2023-07-03T01:39:37.044Z"
   },
   {
    "duration": 89,
    "start_time": "2023-07-03T01:39:37.050Z"
   },
   {
    "duration": 8,
    "start_time": "2023-07-03T01:39:37.141Z"
   },
   {
    "duration": 13,
    "start_time": "2023-07-03T01:39:37.150Z"
   },
   {
    "duration": 4,
    "start_time": "2023-07-03T01:39:37.165Z"
   },
   {
    "duration": 10,
    "start_time": "2023-07-03T01:39:38.210Z"
   },
   {
    "duration": 7,
    "start_time": "2023-07-03T01:39:38.271Z"
   },
   {
    "duration": 9,
    "start_time": "2023-07-03T01:39:38.300Z"
   },
   {
    "duration": 5,
    "start_time": "2023-07-03T01:39:38.474Z"
   },
   {
    "duration": 6,
    "start_time": "2023-07-03T01:39:38.505Z"
   },
   {
    "duration": 4,
    "start_time": "2023-07-03T01:39:38.537Z"
   },
   {
    "duration": 9,
    "start_time": "2023-07-03T01:39:38.678Z"
   },
   {
    "duration": 7,
    "start_time": "2023-07-03T01:39:38.770Z"
   },
   {
    "duration": 6,
    "start_time": "2023-07-03T01:39:38.837Z"
   },
   {
    "duration": 5,
    "start_time": "2023-07-03T01:39:38.941Z"
   },
   {
    "duration": 4,
    "start_time": "2023-07-03T01:39:39.619Z"
   },
   {
    "duration": 6,
    "start_time": "2023-07-03T01:39:40.115Z"
   },
   {
    "duration": 9,
    "start_time": "2023-07-03T01:39:40.169Z"
   },
   {
    "duration": 5,
    "start_time": "2023-07-03T01:39:40.317Z"
   },
   {
    "duration": 6,
    "start_time": "2023-07-03T01:39:40.342Z"
   },
   {
    "duration": 124,
    "start_time": "2023-07-03T01:39:40.377Z"
   },
   {
    "duration": 3,
    "start_time": "2023-07-03T01:39:40.503Z"
   },
   {
    "duration": 7,
    "start_time": "2023-07-03T01:39:40.508Z"
   },
   {
    "duration": 78,
    "start_time": "2023-07-03T01:39:40.531Z"
   },
   {
    "duration": 22,
    "start_time": "2023-07-03T01:39:40.611Z"
   },
   {
    "duration": 4,
    "start_time": "2023-07-03T01:39:40.672Z"
   },
   {
    "duration": 130,
    "start_time": "2023-07-03T01:39:40.703Z"
   },
   {
    "duration": 7,
    "start_time": "2023-07-03T01:39:40.835Z"
   },
   {
    "duration": 7,
    "start_time": "2023-07-03T01:39:40.873Z"
   },
   {
    "duration": 97,
    "start_time": "2023-07-03T01:39:40.904Z"
   },
   {
    "duration": 7,
    "start_time": "2023-07-03T01:39:42.175Z"
   },
   {
    "duration": 6,
    "start_time": "2023-07-03T01:39:42.238Z"
   },
   {
    "duration": 13,
    "start_time": "2023-07-03T01:39:42.302Z"
   },
   {
    "duration": 167,
    "start_time": "2023-07-03T01:39:42.331Z"
   },
   {
    "duration": 9,
    "start_time": "2023-07-03T01:39:42.499Z"
   },
   {
    "duration": 8,
    "start_time": "2023-07-03T01:39:42.510Z"
   },
   {
    "duration": 16,
    "start_time": "2023-07-03T01:39:42.537Z"
   },
   {
    "duration": 19,
    "start_time": "2023-07-03T01:39:42.598Z"
   },
   {
    "duration": 17,
    "start_time": "2023-07-03T01:39:42.660Z"
   },
   {
    "duration": 159,
    "start_time": "2023-07-03T01:39:42.738Z"
   },
   {
    "duration": 171,
    "start_time": "2023-07-03T01:39:42.899Z"
   },
   {
    "duration": 164,
    "start_time": "2023-07-03T01:39:43.072Z"
   },
   {
    "duration": 159,
    "start_time": "2023-07-03T01:39:43.237Z"
   },
   {
    "duration": 796,
    "start_time": "2023-07-03T01:39:44.018Z"
   },
   {
    "duration": 3,
    "start_time": "2023-07-03T01:39:44.816Z"
   },
   {
    "duration": 49,
    "start_time": "2023-07-03T01:39:44.820Z"
   },
   {
    "duration": 46,
    "start_time": "2023-07-03T01:39:44.871Z"
   },
   {
    "duration": 10,
    "start_time": "2023-07-03T01:39:44.919Z"
   },
   {
    "duration": 3,
    "start_time": "2023-07-03T01:39:44.930Z"
   },
   {
    "duration": 164,
    "start_time": "2023-07-03T01:39:44.934Z"
   },
   {
    "duration": 6,
    "start_time": "2023-07-03T01:39:45.100Z"
   },
   {
    "duration": 34,
    "start_time": "2023-07-03T01:39:45.107Z"
   },
   {
    "duration": 15,
    "start_time": "2023-07-03T01:39:45.142Z"
   },
   {
    "duration": 708,
    "start_time": "2023-07-03T01:39:45.158Z"
   },
   {
    "duration": 5,
    "start_time": "2023-07-03T01:39:45.868Z"
   },
   {
    "duration": 9,
    "start_time": "2023-07-03T01:39:46.716Z"
   },
   {
    "duration": 1457,
    "start_time": "2023-07-03T17:13:13.167Z"
   },
   {
    "duration": 101,
    "start_time": "2023-07-03T17:13:14.627Z"
   },
   {
    "duration": 88,
    "start_time": "2023-07-03T17:13:14.729Z"
   },
   {
    "duration": 53,
    "start_time": "2023-07-03T17:13:14.819Z"
   },
   {
    "duration": 16,
    "start_time": "2023-07-03T17:13:14.874Z"
   },
   {
    "duration": 27,
    "start_time": "2023-07-03T17:13:14.892Z"
   },
   {
    "duration": 178,
    "start_time": "2023-07-03T17:13:14.921Z"
   },
   {
    "duration": 6,
    "start_time": "2023-07-03T17:13:15.101Z"
   },
   {
    "duration": 213,
    "start_time": "2023-07-03T17:13:15.109Z"
   },
   {
    "duration": 6,
    "start_time": "2023-07-03T17:13:15.325Z"
   },
   {
    "duration": 105,
    "start_time": "2023-07-03T17:13:15.333Z"
   },
   {
    "duration": 12,
    "start_time": "2023-07-03T17:13:15.440Z"
   },
   {
    "duration": 31,
    "start_time": "2023-07-03T17:13:15.454Z"
   },
   {
    "duration": 13,
    "start_time": "2023-07-03T17:13:15.495Z"
   },
   {
    "duration": 14,
    "start_time": "2023-07-03T17:13:15.510Z"
   },
   {
    "duration": 6,
    "start_time": "2023-07-03T17:13:15.526Z"
   },
   {
    "duration": 22,
    "start_time": "2023-07-03T17:13:15.533Z"
   },
   {
    "duration": 9,
    "start_time": "2023-07-03T17:13:15.557Z"
   },
   {
    "duration": 19,
    "start_time": "2023-07-03T17:13:15.567Z"
   },
   {
    "duration": 22,
    "start_time": "2023-07-03T17:13:15.587Z"
   },
   {
    "duration": 17,
    "start_time": "2023-07-03T17:13:15.611Z"
   },
   {
    "duration": 6,
    "start_time": "2023-07-03T17:13:15.631Z"
   },
   {
    "duration": 8,
    "start_time": "2023-07-03T17:13:15.638Z"
   },
   {
    "duration": 8,
    "start_time": "2023-07-03T17:13:15.648Z"
   },
   {
    "duration": 6,
    "start_time": "2023-07-03T17:13:15.658Z"
   },
   {
    "duration": 16,
    "start_time": "2023-07-03T17:13:15.680Z"
   },
   {
    "duration": 10,
    "start_time": "2023-07-03T17:13:15.698Z"
   },
   {
    "duration": 6,
    "start_time": "2023-07-03T17:13:15.713Z"
   },
   {
    "duration": 16,
    "start_time": "2023-07-03T17:13:15.721Z"
   },
   {
    "duration": 201,
    "start_time": "2023-07-03T17:13:15.739Z"
   },
   {
    "duration": 4,
    "start_time": "2023-07-03T17:13:15.942Z"
   },
   {
    "duration": 22,
    "start_time": "2023-07-03T17:13:15.948Z"
   },
   {
    "duration": 156,
    "start_time": "2023-07-03T17:13:15.973Z"
   },
   {
    "duration": 7,
    "start_time": "2023-07-03T17:13:16.131Z"
   },
   {
    "duration": 20,
    "start_time": "2023-07-03T17:13:16.140Z"
   },
   {
    "duration": 215,
    "start_time": "2023-07-03T17:13:16.162Z"
   },
   {
    "duration": 16,
    "start_time": "2023-07-03T17:13:16.382Z"
   },
   {
    "duration": 14,
    "start_time": "2023-07-03T17:13:16.402Z"
   },
   {
    "duration": 187,
    "start_time": "2023-07-03T17:13:16.418Z"
   },
   {
    "duration": 9,
    "start_time": "2023-07-03T17:13:16.607Z"
   },
   {
    "duration": 33,
    "start_time": "2023-07-03T17:13:16.618Z"
   },
   {
    "duration": 40,
    "start_time": "2023-07-03T17:13:16.652Z"
   },
   {
    "duration": 243,
    "start_time": "2023-07-03T17:13:16.695Z"
   },
   {
    "duration": 10,
    "start_time": "2023-07-03T17:13:16.940Z"
   },
   {
    "duration": 80,
    "start_time": "2023-07-03T17:13:16.952Z"
   },
   {
    "duration": 21,
    "start_time": "2023-07-03T17:13:17.034Z"
   },
   {
    "duration": 32,
    "start_time": "2023-07-03T17:13:17.057Z"
   },
   {
    "duration": 20,
    "start_time": "2023-07-03T17:13:17.096Z"
   },
   {
    "duration": 202,
    "start_time": "2023-07-03T17:13:17.117Z"
   },
   {
    "duration": 206,
    "start_time": "2023-07-03T17:13:17.321Z"
   },
   {
    "duration": 191,
    "start_time": "2023-07-03T17:13:17.530Z"
   },
   {
    "duration": 183,
    "start_time": "2023-07-03T17:13:17.722Z"
   },
   {
    "duration": 922,
    "start_time": "2023-07-03T17:13:17.907Z"
   },
   {
    "duration": 4,
    "start_time": "2023-07-03T17:13:18.830Z"
   },
   {
    "duration": 11,
    "start_time": "2023-07-03T17:13:18.836Z"
   },
   {
    "duration": 32,
    "start_time": "2023-07-03T17:13:18.849Z"
   },
   {
    "duration": 20,
    "start_time": "2023-07-03T17:13:18.883Z"
   },
   {
    "duration": 5,
    "start_time": "2023-07-03T17:13:18.905Z"
   },
   {
    "duration": 164,
    "start_time": "2023-07-03T17:13:18.912Z"
   },
   {
    "duration": 16,
    "start_time": "2023-07-03T17:13:19.079Z"
   },
   {
    "duration": 63,
    "start_time": "2023-07-03T17:13:19.097Z"
   },
   {
    "duration": 200,
    "start_time": "2023-07-03T17:13:19.162Z"
   },
   {
    "duration": 921,
    "start_time": "2023-07-03T17:13:19.364Z"
   },
   {
    "duration": 8,
    "start_time": "2023-07-03T17:13:20.290Z"
   },
   {
    "duration": 18,
    "start_time": "2023-07-03T17:13:20.301Z"
   },
   {
    "duration": 8,
    "start_time": "2023-07-03T18:11:57.934Z"
   },
   {
    "duration": 1300,
    "start_time": "2023-07-03T18:27:28.793Z"
   },
   {
    "duration": 76,
    "start_time": "2023-07-03T18:27:30.096Z"
   },
   {
    "duration": 67,
    "start_time": "2023-07-03T18:27:30.174Z"
   },
   {
    "duration": 52,
    "start_time": "2023-07-03T18:27:30.243Z"
   },
   {
    "duration": 18,
    "start_time": "2023-07-03T18:27:30.297Z"
   },
   {
    "duration": 49,
    "start_time": "2023-07-03T18:27:30.317Z"
   },
   {
    "duration": 166,
    "start_time": "2023-07-03T18:27:30.368Z"
   },
   {
    "duration": 5,
    "start_time": "2023-07-03T18:27:30.535Z"
   },
   {
    "duration": 175,
    "start_time": "2023-07-03T18:27:30.541Z"
   },
   {
    "duration": 5,
    "start_time": "2023-07-03T18:27:30.718Z"
   },
   {
    "duration": 155,
    "start_time": "2023-07-03T18:27:30.724Z"
   },
   {
    "duration": 8,
    "start_time": "2023-07-03T18:27:30.881Z"
   },
   {
    "duration": 63,
    "start_time": "2023-07-03T18:27:30.890Z"
   },
   {
    "duration": 36,
    "start_time": "2023-07-03T18:27:30.956Z"
   },
   {
    "duration": 38,
    "start_time": "2023-07-03T18:27:30.994Z"
   },
   {
    "duration": 37,
    "start_time": "2023-07-03T18:27:31.034Z"
   },
   {
    "duration": 47,
    "start_time": "2023-07-03T18:27:31.073Z"
   },
   {
    "duration": 52,
    "start_time": "2023-07-03T18:27:31.122Z"
   },
   {
    "duration": 46,
    "start_time": "2023-07-03T18:27:31.175Z"
   },
   {
    "duration": 41,
    "start_time": "2023-07-03T18:27:31.222Z"
   },
   {
    "duration": 56,
    "start_time": "2023-07-03T18:27:31.265Z"
   },
   {
    "duration": 49,
    "start_time": "2023-07-03T18:27:31.323Z"
   },
   {
    "duration": 34,
    "start_time": "2023-07-03T18:27:31.373Z"
   },
   {
    "duration": 45,
    "start_time": "2023-07-03T18:27:31.408Z"
   },
   {
    "duration": 13,
    "start_time": "2023-07-03T18:27:31.454Z"
   },
   {
    "duration": 35,
    "start_time": "2023-07-03T18:27:31.468Z"
   },
   {
    "duration": 16,
    "start_time": "2023-07-03T18:27:31.505Z"
   },
   {
    "duration": 17,
    "start_time": "2023-07-03T18:27:31.523Z"
   },
   {
    "duration": 20,
    "start_time": "2023-07-03T18:27:31.541Z"
   },
   {
    "duration": 251,
    "start_time": "2023-07-03T18:27:31.563Z"
   },
   {
    "duration": 0,
    "start_time": "2023-07-03T18:27:31.816Z"
   },
   {
    "duration": 0,
    "start_time": "2023-07-03T18:27:31.817Z"
   },
   {
    "duration": 0,
    "start_time": "2023-07-03T18:27:31.818Z"
   },
   {
    "duration": 1,
    "start_time": "2023-07-03T18:27:31.831Z"
   },
   {
    "duration": 0,
    "start_time": "2023-07-03T18:27:31.832Z"
   },
   {
    "duration": 0,
    "start_time": "2023-07-03T18:27:31.834Z"
   },
   {
    "duration": 0,
    "start_time": "2023-07-03T18:27:31.835Z"
   },
   {
    "duration": 0,
    "start_time": "2023-07-03T18:27:31.836Z"
   },
   {
    "duration": 0,
    "start_time": "2023-07-03T18:27:31.837Z"
   },
   {
    "duration": 0,
    "start_time": "2023-07-03T18:27:31.838Z"
   },
   {
    "duration": 0,
    "start_time": "2023-07-03T18:27:31.839Z"
   },
   {
    "duration": 0,
    "start_time": "2023-07-03T18:27:31.840Z"
   },
   {
    "duration": 0,
    "start_time": "2023-07-03T18:27:31.841Z"
   },
   {
    "duration": 0,
    "start_time": "2023-07-03T18:27:31.843Z"
   },
   {
    "duration": 0,
    "start_time": "2023-07-03T18:27:31.844Z"
   },
   {
    "duration": 0,
    "start_time": "2023-07-03T18:27:31.845Z"
   },
   {
    "duration": 0,
    "start_time": "2023-07-03T18:27:31.846Z"
   },
   {
    "duration": 0,
    "start_time": "2023-07-03T18:27:31.847Z"
   },
   {
    "duration": 0,
    "start_time": "2023-07-03T18:27:31.848Z"
   },
   {
    "duration": 0,
    "start_time": "2023-07-03T18:27:31.849Z"
   },
   {
    "duration": 0,
    "start_time": "2023-07-03T18:27:31.850Z"
   },
   {
    "duration": 0,
    "start_time": "2023-07-03T18:27:31.850Z"
   },
   {
    "duration": 0,
    "start_time": "2023-07-03T18:27:31.852Z"
   },
   {
    "duration": 0,
    "start_time": "2023-07-03T18:27:31.853Z"
   },
   {
    "duration": 0,
    "start_time": "2023-07-03T18:27:31.853Z"
   },
   {
    "duration": 0,
    "start_time": "2023-07-03T18:27:31.855Z"
   },
   {
    "duration": 0,
    "start_time": "2023-07-03T18:27:31.855Z"
   },
   {
    "duration": 0,
    "start_time": "2023-07-03T18:27:31.856Z"
   },
   {
    "duration": 0,
    "start_time": "2023-07-03T18:27:31.857Z"
   },
   {
    "duration": 0,
    "start_time": "2023-07-03T18:27:31.858Z"
   },
   {
    "duration": 0,
    "start_time": "2023-07-03T18:27:31.859Z"
   },
   {
    "duration": 0,
    "start_time": "2023-07-03T18:27:31.860Z"
   },
   {
    "duration": 0,
    "start_time": "2023-07-03T18:27:31.861Z"
   },
   {
    "duration": 0,
    "start_time": "2023-07-03T18:27:31.862Z"
   },
   {
    "duration": 0,
    "start_time": "2023-07-03T18:27:31.863Z"
   },
   {
    "duration": 0,
    "start_time": "2023-07-03T18:27:31.864Z"
   },
   {
    "duration": 1235,
    "start_time": "2023-07-03T18:27:53.275Z"
   },
   {
    "duration": 29,
    "start_time": "2023-07-03T18:27:54.512Z"
   },
   {
    "duration": 69,
    "start_time": "2023-07-03T18:27:54.542Z"
   },
   {
    "duration": 15,
    "start_time": "2023-07-03T18:27:54.613Z"
   },
   {
    "duration": 44,
    "start_time": "2023-07-03T18:27:54.630Z"
   },
   {
    "duration": 41,
    "start_time": "2023-07-03T18:27:54.676Z"
   },
   {
    "duration": 274,
    "start_time": "2023-07-03T18:27:54.718Z"
   },
   {
    "duration": 7,
    "start_time": "2023-07-03T18:27:54.994Z"
   },
   {
    "duration": 186,
    "start_time": "2023-07-03T18:27:55.003Z"
   },
   {
    "duration": 89,
    "start_time": "2023-07-03T18:27:55.192Z"
   },
   {
    "duration": 116,
    "start_time": "2023-07-03T18:27:55.282Z"
   },
   {
    "duration": 10,
    "start_time": "2023-07-03T18:27:55.400Z"
   },
   {
    "duration": 47,
    "start_time": "2023-07-03T18:27:55.411Z"
   },
   {
    "duration": 52,
    "start_time": "2023-07-03T18:27:55.460Z"
   },
   {
    "duration": 27,
    "start_time": "2023-07-03T18:27:55.513Z"
   },
   {
    "duration": 32,
    "start_time": "2023-07-03T18:27:55.543Z"
   },
   {
    "duration": 29,
    "start_time": "2023-07-03T18:27:55.577Z"
   },
   {
    "duration": 30,
    "start_time": "2023-07-03T18:27:55.607Z"
   },
   {
    "duration": 19,
    "start_time": "2023-07-03T18:27:55.639Z"
   },
   {
    "duration": 30,
    "start_time": "2023-07-03T18:27:55.660Z"
   },
   {
    "duration": 34,
    "start_time": "2023-07-03T18:27:55.692Z"
   },
   {
    "duration": 8,
    "start_time": "2023-07-03T18:27:55.728Z"
   },
   {
    "duration": 27,
    "start_time": "2023-07-03T18:27:55.737Z"
   },
   {
    "duration": 19,
    "start_time": "2023-07-03T18:27:55.766Z"
   },
   {
    "duration": 26,
    "start_time": "2023-07-03T18:27:55.788Z"
   },
   {
    "duration": 18,
    "start_time": "2023-07-03T18:27:55.816Z"
   },
   {
    "duration": 32,
    "start_time": "2023-07-03T18:27:55.837Z"
   },
   {
    "duration": 25,
    "start_time": "2023-07-03T18:27:55.873Z"
   },
   {
    "duration": 18,
    "start_time": "2023-07-03T18:27:55.899Z"
   },
   {
    "duration": 156,
    "start_time": "2023-07-03T18:27:55.919Z"
   },
   {
    "duration": 3,
    "start_time": "2023-07-03T18:27:56.077Z"
   },
   {
    "duration": 9,
    "start_time": "2023-07-03T18:27:56.082Z"
   },
   {
    "duration": 103,
    "start_time": "2023-07-03T18:27:56.093Z"
   },
   {
    "duration": 6,
    "start_time": "2023-07-03T18:27:56.197Z"
   },
   {
    "duration": 43,
    "start_time": "2023-07-03T18:27:56.205Z"
   },
   {
    "duration": 152,
    "start_time": "2023-07-03T18:27:56.251Z"
   },
   {
    "duration": 7,
    "start_time": "2023-07-03T18:27:56.404Z"
   },
   {
    "duration": 26,
    "start_time": "2023-07-03T18:27:56.413Z"
   },
   {
    "duration": 120,
    "start_time": "2023-07-03T18:27:56.441Z"
   },
   {
    "duration": 8,
    "start_time": "2023-07-03T18:27:56.564Z"
   },
   {
    "duration": 362,
    "start_time": "2023-07-03T18:27:56.574Z"
   },
   {
    "duration": 17,
    "start_time": "2023-07-03T18:27:56.938Z"
   },
   {
    "duration": 176,
    "start_time": "2023-07-03T18:27:56.957Z"
   },
   {
    "duration": 11,
    "start_time": "2023-07-03T18:27:57.135Z"
   },
   {
    "duration": 14,
    "start_time": "2023-07-03T18:27:57.147Z"
   },
   {
    "duration": 16,
    "start_time": "2023-07-03T18:27:57.163Z"
   },
   {
    "duration": 27,
    "start_time": "2023-07-03T18:27:57.181Z"
   },
   {
    "duration": 39,
    "start_time": "2023-07-03T18:27:57.210Z"
   },
   {
    "duration": 194,
    "start_time": "2023-07-03T18:27:57.251Z"
   },
   {
    "duration": 196,
    "start_time": "2023-07-03T18:27:57.447Z"
   },
   {
    "duration": 213,
    "start_time": "2023-07-03T18:27:57.645Z"
   },
   {
    "duration": 188,
    "start_time": "2023-07-03T18:27:57.859Z"
   },
   {
    "duration": 884,
    "start_time": "2023-07-03T18:27:58.050Z"
   },
   {
    "duration": 3,
    "start_time": "2023-07-03T18:27:58.936Z"
   },
   {
    "duration": 26,
    "start_time": "2023-07-03T18:27:58.940Z"
   },
   {
    "duration": 18,
    "start_time": "2023-07-03T18:27:58.968Z"
   },
   {
    "duration": 11,
    "start_time": "2023-07-03T18:27:58.987Z"
   },
   {
    "duration": 8,
    "start_time": "2023-07-03T18:27:59.000Z"
   },
   {
    "duration": 145,
    "start_time": "2023-07-03T18:27:59.009Z"
   },
   {
    "duration": 6,
    "start_time": "2023-07-03T18:27:59.156Z"
   },
   {
    "duration": 25,
    "start_time": "2023-07-03T18:27:59.164Z"
   },
   {
    "duration": 6,
    "start_time": "2023-07-03T18:27:59.190Z"
   },
   {
    "duration": 9,
    "start_time": "2023-07-03T18:27:59.197Z"
   },
   {
    "duration": 780,
    "start_time": "2023-07-03T18:27:59.208Z"
   },
   {
    "duration": 6,
    "start_time": "2023-07-03T18:27:59.990Z"
   },
   {
    "duration": 55,
    "start_time": "2023-07-03T18:27:59.997Z"
   },
   {
    "duration": 192,
    "start_time": "2023-07-03T18:28:34.609Z"
   },
   {
    "duration": 19,
    "start_time": "2023-07-03T18:56:38.636Z"
   },
   {
    "duration": 11,
    "start_time": "2023-07-03T19:00:09.135Z"
   },
   {
    "duration": 95,
    "start_time": "2023-07-03T19:01:26.759Z"
   },
   {
    "duration": 7,
    "start_time": "2023-07-03T19:01:41.158Z"
   },
   {
    "duration": 12,
    "start_time": "2023-07-03T19:01:43.903Z"
   },
   {
    "duration": 1251,
    "start_time": "2023-07-03T19:06:21.425Z"
   },
   {
    "duration": 28,
    "start_time": "2023-07-03T19:06:22.678Z"
   },
   {
    "duration": 28,
    "start_time": "2023-07-03T19:06:22.707Z"
   },
   {
    "duration": 16,
    "start_time": "2023-07-03T19:06:22.738Z"
   },
   {
    "duration": 143,
    "start_time": "2023-07-03T19:06:22.755Z"
   },
   {
    "duration": 9,
    "start_time": "2023-07-03T19:06:22.900Z"
   },
   {
    "duration": 155,
    "start_time": "2023-07-03T19:06:22.911Z"
   },
   {
    "duration": 5,
    "start_time": "2023-07-03T19:06:23.067Z"
   },
   {
    "duration": 154,
    "start_time": "2023-07-03T19:06:23.074Z"
   },
   {
    "duration": 11,
    "start_time": "2023-07-03T19:06:23.233Z"
   },
   {
    "duration": 115,
    "start_time": "2023-07-03T19:06:23.246Z"
   },
   {
    "duration": 11,
    "start_time": "2023-07-03T19:06:23.363Z"
   },
   {
    "duration": 24,
    "start_time": "2023-07-03T19:06:23.376Z"
   },
   {
    "duration": 20,
    "start_time": "2023-07-03T19:06:23.402Z"
   },
   {
    "duration": 43,
    "start_time": "2023-07-03T19:06:23.423Z"
   },
   {
    "duration": 8,
    "start_time": "2023-07-03T19:06:23.467Z"
   },
   {
    "duration": 23,
    "start_time": "2023-07-03T19:06:23.476Z"
   },
   {
    "duration": 21,
    "start_time": "2023-07-03T19:06:23.500Z"
   },
   {
    "duration": 7,
    "start_time": "2023-07-03T19:06:23.523Z"
   },
   {
    "duration": 24,
    "start_time": "2023-07-03T19:06:23.532Z"
   },
   {
    "duration": 16,
    "start_time": "2023-07-03T19:06:23.558Z"
   },
   {
    "duration": 12,
    "start_time": "2023-07-03T19:06:23.576Z"
   },
   {
    "duration": 15,
    "start_time": "2023-07-03T19:06:23.589Z"
   },
   {
    "duration": 10,
    "start_time": "2023-07-03T19:06:23.605Z"
   },
   {
    "duration": 35,
    "start_time": "2023-07-03T19:06:23.616Z"
   },
   {
    "duration": 16,
    "start_time": "2023-07-03T19:06:23.652Z"
   },
   {
    "duration": 33,
    "start_time": "2023-07-03T19:06:23.669Z"
   },
   {
    "duration": 14,
    "start_time": "2023-07-03T19:06:23.707Z"
   },
   {
    "duration": 17,
    "start_time": "2023-07-03T19:06:23.722Z"
   },
   {
    "duration": 164,
    "start_time": "2023-07-03T19:06:23.742Z"
   },
   {
    "duration": 4,
    "start_time": "2023-07-03T19:06:23.908Z"
   },
   {
    "duration": 19,
    "start_time": "2023-07-03T19:06:23.915Z"
   },
   {
    "duration": 101,
    "start_time": "2023-07-03T19:06:23.936Z"
   },
   {
    "duration": 10,
    "start_time": "2023-07-03T19:06:24.039Z"
   },
   {
    "duration": 13,
    "start_time": "2023-07-03T19:06:24.054Z"
   },
   {
    "duration": 150,
    "start_time": "2023-07-03T19:06:24.069Z"
   },
   {
    "duration": 18,
    "start_time": "2023-07-03T19:06:24.220Z"
   },
   {
    "duration": 12,
    "start_time": "2023-07-03T19:06:24.240Z"
   },
   {
    "duration": 109,
    "start_time": "2023-07-03T19:06:24.254Z"
   },
   {
    "duration": 7,
    "start_time": "2023-07-03T19:06:24.364Z"
   },
   {
    "duration": 6,
    "start_time": "2023-07-03T19:06:24.372Z"
   },
   {
    "duration": 16,
    "start_time": "2023-07-03T19:06:24.380Z"
   },
   {
    "duration": 206,
    "start_time": "2023-07-03T19:06:24.398Z"
   },
   {
    "duration": 11,
    "start_time": "2023-07-03T19:06:24.606Z"
   },
   {
    "duration": 25,
    "start_time": "2023-07-03T19:06:24.618Z"
   },
   {
    "duration": 52,
    "start_time": "2023-07-03T19:06:24.644Z"
   },
   {
    "duration": 43,
    "start_time": "2023-07-03T19:06:24.699Z"
   },
   {
    "duration": 25,
    "start_time": "2023-07-03T19:06:24.744Z"
   },
   {
    "duration": 211,
    "start_time": "2023-07-03T19:06:24.771Z"
   },
   {
    "duration": 188,
    "start_time": "2023-07-03T19:06:24.984Z"
   },
   {
    "duration": 186,
    "start_time": "2023-07-03T19:06:25.174Z"
   },
   {
    "duration": 177,
    "start_time": "2023-07-03T19:06:25.362Z"
   },
   {
    "duration": 5,
    "start_time": "2023-07-03T19:06:25.541Z"
   },
   {
    "duration": 859,
    "start_time": "2023-07-03T19:06:25.549Z"
   },
   {
    "duration": 3,
    "start_time": "2023-07-03T19:06:26.410Z"
   },
   {
    "duration": 6,
    "start_time": "2023-07-03T19:06:26.414Z"
   },
   {
    "duration": 37,
    "start_time": "2023-07-03T19:06:26.421Z"
   },
   {
    "duration": 11,
    "start_time": "2023-07-03T19:06:26.459Z"
   },
   {
    "duration": 3,
    "start_time": "2023-07-03T19:06:26.471Z"
   },
   {
    "duration": 146,
    "start_time": "2023-07-03T19:06:26.475Z"
   },
   {
    "duration": 9,
    "start_time": "2023-07-03T19:06:26.623Z"
   },
   {
    "duration": 26,
    "start_time": "2023-07-03T19:06:26.633Z"
   },
   {
    "duration": 6,
    "start_time": "2023-07-03T19:06:26.660Z"
   },
   {
    "duration": 6,
    "start_time": "2023-07-03T19:06:26.667Z"
   },
   {
    "duration": 988,
    "start_time": "2023-07-03T19:06:26.674Z"
   },
   {
    "duration": 7,
    "start_time": "2023-07-03T19:06:27.664Z"
   },
   {
    "duration": 27,
    "start_time": "2023-07-03T19:06:27.672Z"
   },
   {
    "duration": 6,
    "start_time": "2023-07-03T19:26:19.694Z"
   },
   {
    "duration": 1294,
    "start_time": "2023-07-03T19:37:29.409Z"
   },
   {
    "duration": 37,
    "start_time": "2023-07-03T19:37:30.705Z"
   },
   {
    "duration": 73,
    "start_time": "2023-07-03T19:37:30.743Z"
   },
   {
    "duration": 91,
    "start_time": "2023-07-03T19:37:30.819Z"
   },
   {
    "duration": 86,
    "start_time": "2023-07-03T19:37:30.912Z"
   },
   {
    "duration": 36,
    "start_time": "2023-07-03T19:37:31.000Z"
   },
   {
    "duration": 213,
    "start_time": "2023-07-03T19:37:31.038Z"
   },
   {
    "duration": 6,
    "start_time": "2023-07-03T19:37:31.253Z"
   },
   {
    "duration": 204,
    "start_time": "2023-07-03T19:37:31.260Z"
   },
   {
    "duration": 6,
    "start_time": "2023-07-03T19:37:31.467Z"
   },
   {
    "duration": 132,
    "start_time": "2023-07-03T19:37:31.474Z"
   },
   {
    "duration": 9,
    "start_time": "2023-07-03T19:37:31.607Z"
   },
   {
    "duration": 49,
    "start_time": "2023-07-03T19:37:31.617Z"
   },
   {
    "duration": 22,
    "start_time": "2023-07-03T19:37:31.668Z"
   },
   {
    "duration": 28,
    "start_time": "2023-07-03T19:37:31.691Z"
   },
   {
    "duration": 28,
    "start_time": "2023-07-03T19:37:31.720Z"
   },
   {
    "duration": 39,
    "start_time": "2023-07-03T19:37:31.750Z"
   },
   {
    "duration": 58,
    "start_time": "2023-07-03T19:37:31.790Z"
   },
   {
    "duration": 29,
    "start_time": "2023-07-03T19:37:31.850Z"
   },
   {
    "duration": 27,
    "start_time": "2023-07-03T19:37:31.880Z"
   },
   {
    "duration": 46,
    "start_time": "2023-07-03T19:37:31.908Z"
   },
   {
    "duration": 28,
    "start_time": "2023-07-03T19:37:31.955Z"
   },
   {
    "duration": 19,
    "start_time": "2023-07-03T19:37:31.984Z"
   },
   {
    "duration": 57,
    "start_time": "2023-07-03T19:37:32.005Z"
   },
   {
    "duration": 38,
    "start_time": "2023-07-03T19:37:32.063Z"
   },
   {
    "duration": 58,
    "start_time": "2023-07-03T19:37:32.102Z"
   },
   {
    "duration": 92,
    "start_time": "2023-07-03T19:37:32.161Z"
   },
   {
    "duration": 16,
    "start_time": "2023-07-03T19:37:32.258Z"
   },
   {
    "duration": 45,
    "start_time": "2023-07-03T19:37:32.276Z"
   },
   {
    "duration": 198,
    "start_time": "2023-07-03T19:37:32.322Z"
   },
   {
    "duration": 12,
    "start_time": "2023-07-03T19:37:32.522Z"
   },
   {
    "duration": 43,
    "start_time": "2023-07-03T19:37:32.536Z"
   },
   {
    "duration": 106,
    "start_time": "2023-07-03T19:37:32.580Z"
   },
   {
    "duration": 9,
    "start_time": "2023-07-03T19:37:32.688Z"
   },
   {
    "duration": 48,
    "start_time": "2023-07-03T19:37:32.699Z"
   },
   {
    "duration": 179,
    "start_time": "2023-07-03T19:37:32.749Z"
   },
   {
    "duration": 11,
    "start_time": "2023-07-03T19:37:32.929Z"
   },
   {
    "duration": 11,
    "start_time": "2023-07-03T19:37:32.947Z"
   },
   {
    "duration": 125,
    "start_time": "2023-07-03T19:37:32.959Z"
   },
   {
    "duration": 6,
    "start_time": "2023-07-03T19:37:33.086Z"
   },
   {
    "duration": 28,
    "start_time": "2023-07-03T19:37:33.094Z"
   },
   {
    "duration": 46,
    "start_time": "2023-07-03T19:37:33.123Z"
   },
   {
    "duration": 186,
    "start_time": "2023-07-03T19:37:33.171Z"
   },
   {
    "duration": 13,
    "start_time": "2023-07-03T19:37:33.359Z"
   },
   {
    "duration": 16,
    "start_time": "2023-07-03T19:37:33.374Z"
   },
   {
    "duration": 26,
    "start_time": "2023-07-03T19:37:33.392Z"
   },
   {
    "duration": 39,
    "start_time": "2023-07-03T19:37:33.420Z"
   },
   {
    "duration": 33,
    "start_time": "2023-07-03T19:37:33.462Z"
   },
   {
    "duration": 188,
    "start_time": "2023-07-03T19:37:33.497Z"
   },
   {
    "duration": 191,
    "start_time": "2023-07-03T19:37:33.687Z"
   },
   {
    "duration": 183,
    "start_time": "2023-07-03T19:37:33.879Z"
   },
   {
    "duration": 180,
    "start_time": "2023-07-03T19:37:34.063Z"
   },
   {
    "duration": 3,
    "start_time": "2023-07-03T19:37:34.248Z"
   },
   {
    "duration": 903,
    "start_time": "2023-07-03T19:37:34.253Z"
   },
   {
    "duration": 3,
    "start_time": "2023-07-03T19:37:35.158Z"
   },
   {
    "duration": 13,
    "start_time": "2023-07-03T19:37:35.162Z"
   },
   {
    "duration": 20,
    "start_time": "2023-07-03T19:37:35.177Z"
   },
   {
    "duration": 14,
    "start_time": "2023-07-03T19:37:35.199Z"
   },
   {
    "duration": 3,
    "start_time": "2023-07-03T19:37:35.214Z"
   },
   {
    "duration": 139,
    "start_time": "2023-07-03T19:37:35.235Z"
   },
   {
    "duration": 6,
    "start_time": "2023-07-03T19:37:35.376Z"
   },
   {
    "duration": 17,
    "start_time": "2023-07-03T19:37:35.383Z"
   },
   {
    "duration": 25,
    "start_time": "2023-07-03T19:37:35.402Z"
   },
   {
    "duration": 58,
    "start_time": "2023-07-03T19:37:35.428Z"
   },
   {
    "duration": 858,
    "start_time": "2023-07-03T19:37:35.488Z"
   },
   {
    "duration": 5,
    "start_time": "2023-07-03T19:37:36.352Z"
   },
   {
    "duration": 11,
    "start_time": "2023-07-03T19:37:36.359Z"
   },
   {
    "duration": 1360,
    "start_time": "2023-07-04T06:50:37.668Z"
   },
   {
    "duration": 119,
    "start_time": "2023-07-04T06:50:39.030Z"
   },
   {
    "duration": 161,
    "start_time": "2023-07-04T06:50:39.150Z"
   },
   {
    "duration": 66,
    "start_time": "2023-07-04T06:50:39.313Z"
   },
   {
    "duration": 13,
    "start_time": "2023-07-04T06:50:39.382Z"
   },
   {
    "duration": 11,
    "start_time": "2023-07-04T06:50:39.396Z"
   },
   {
    "duration": 171,
    "start_time": "2023-07-04T06:50:39.409Z"
   },
   {
    "duration": 6,
    "start_time": "2023-07-04T06:50:39.581Z"
   },
   {
    "duration": 180,
    "start_time": "2023-07-04T06:50:39.589Z"
   },
   {
    "duration": 7,
    "start_time": "2023-07-04T06:50:39.771Z"
   },
   {
    "duration": 110,
    "start_time": "2023-07-04T06:50:39.780Z"
   },
   {
    "duration": 11,
    "start_time": "2023-07-04T06:50:39.892Z"
   },
   {
    "duration": 12,
    "start_time": "2023-07-04T06:50:39.905Z"
   },
   {
    "duration": 34,
    "start_time": "2023-07-04T06:50:39.922Z"
   },
   {
    "duration": 18,
    "start_time": "2023-07-04T06:50:39.958Z"
   },
   {
    "duration": 7,
    "start_time": "2023-07-04T06:50:39.978Z"
   },
   {
    "duration": 12,
    "start_time": "2023-07-04T06:50:39.987Z"
   },
   {
    "duration": 10,
    "start_time": "2023-07-04T06:50:40.000Z"
   },
   {
    "duration": 7,
    "start_time": "2023-07-04T06:50:40.012Z"
   },
   {
    "duration": 41,
    "start_time": "2023-07-04T06:50:40.020Z"
   },
   {
    "duration": 12,
    "start_time": "2023-07-04T06:50:40.067Z"
   },
   {
    "duration": 7,
    "start_time": "2023-07-04T06:50:40.081Z"
   },
   {
    "duration": 7,
    "start_time": "2023-07-04T06:50:40.090Z"
   },
   {
    "duration": 6,
    "start_time": "2023-07-04T06:50:40.098Z"
   },
   {
    "duration": 6,
    "start_time": "2023-07-04T06:50:40.106Z"
   },
   {
    "duration": 9,
    "start_time": "2023-07-04T06:50:40.114Z"
   },
   {
    "duration": 41,
    "start_time": "2023-07-04T06:50:40.125Z"
   },
   {
    "duration": 6,
    "start_time": "2023-07-04T06:50:40.169Z"
   },
   {
    "duration": 17,
    "start_time": "2023-07-04T06:50:40.177Z"
   },
   {
    "duration": 162,
    "start_time": "2023-07-04T06:50:40.195Z"
   },
   {
    "duration": 5,
    "start_time": "2023-07-04T06:50:40.366Z"
   },
   {
    "duration": 7,
    "start_time": "2023-07-04T06:50:40.373Z"
   },
   {
    "duration": 112,
    "start_time": "2023-07-04T06:50:40.382Z"
   },
   {
    "duration": 7,
    "start_time": "2023-07-04T06:50:40.496Z"
   },
   {
    "duration": 6,
    "start_time": "2023-07-04T06:50:40.504Z"
   },
   {
    "duration": 192,
    "start_time": "2023-07-04T06:50:40.512Z"
   },
   {
    "duration": 9,
    "start_time": "2023-07-04T06:50:40.706Z"
   },
   {
    "duration": 9,
    "start_time": "2023-07-04T06:50:40.717Z"
   },
   {
    "duration": 151,
    "start_time": "2023-07-04T06:50:40.727Z"
   },
   {
    "duration": 7,
    "start_time": "2023-07-04T06:50:40.879Z"
   },
   {
    "duration": 7,
    "start_time": "2023-07-04T06:50:40.890Z"
   },
   {
    "duration": 15,
    "start_time": "2023-07-04T06:50:40.899Z"
   },
   {
    "duration": 217,
    "start_time": "2023-07-04T06:50:40.915Z"
   },
   {
    "duration": 32,
    "start_time": "2023-07-04T06:50:41.134Z"
   },
   {
    "duration": 9,
    "start_time": "2023-07-04T06:50:41.168Z"
   },
   {
    "duration": 18,
    "start_time": "2023-07-04T06:50:41.179Z"
   },
   {
    "duration": 34,
    "start_time": "2023-07-04T06:50:41.199Z"
   },
   {
    "duration": 30,
    "start_time": "2023-07-04T06:50:41.235Z"
   },
   {
    "duration": 216,
    "start_time": "2023-07-04T06:50:41.267Z"
   },
   {
    "duration": 203,
    "start_time": "2023-07-04T06:50:41.485Z"
   },
   {
    "duration": 195,
    "start_time": "2023-07-04T06:50:41.689Z"
   },
   {
    "duration": 195,
    "start_time": "2023-07-04T06:50:41.886Z"
   },
   {
    "duration": 4,
    "start_time": "2023-07-04T06:50:42.083Z"
   },
   {
    "duration": 982,
    "start_time": "2023-07-04T06:50:42.088Z"
   },
   {
    "duration": 3,
    "start_time": "2023-07-04T06:50:43.072Z"
   },
   {
    "duration": 15,
    "start_time": "2023-07-04T06:50:43.077Z"
   },
   {
    "duration": 68,
    "start_time": "2023-07-04T06:50:43.094Z"
   },
   {
    "duration": 17,
    "start_time": "2023-07-04T06:50:43.164Z"
   },
   {
    "duration": 11,
    "start_time": "2023-07-04T06:50:43.183Z"
   },
   {
    "duration": 170,
    "start_time": "2023-07-04T06:50:43.195Z"
   },
   {
    "duration": 7,
    "start_time": "2023-07-04T06:50:43.369Z"
   },
   {
    "duration": 28,
    "start_time": "2023-07-04T06:50:43.377Z"
   },
   {
    "duration": 21,
    "start_time": "2023-07-04T06:50:43.406Z"
   },
   {
    "duration": 14,
    "start_time": "2023-07-04T06:50:43.429Z"
   },
   {
    "duration": 893,
    "start_time": "2023-07-04T06:50:43.445Z"
   },
   {
    "duration": 16,
    "start_time": "2023-07-04T06:50:44.340Z"
   },
   {
    "duration": 10,
    "start_time": "2023-07-04T06:50:44.367Z"
   },
   {
    "duration": 107,
    "start_time": "2023-07-04T06:52:26.106Z"
   },
   {
    "duration": 136,
    "start_time": "2023-07-04T07:04:01.852Z"
   },
   {
    "duration": 113,
    "start_time": "2023-07-04T07:04:55.175Z"
   }
  ],
  "kernelspec": {
   "display_name": "Python 3 (ipykernel)",
   "language": "python",
   "name": "python3"
  },
  "language_info": {
   "codemirror_mode": {
    "name": "ipython",
    "version": 3
   },
   "file_extension": ".py",
   "mimetype": "text/x-python",
   "name": "python",
   "nbconvert_exporter": "python",
   "pygments_lexer": "ipython3",
   "version": "3.10.9"
  },
  "toc": {
   "base_numbering": 1,
   "nav_menu": {},
   "number_sections": true,
   "sideBar": true,
   "skip_h1_title": true,
   "title_cell": "Table of Contents",
   "title_sidebar": "Contents",
   "toc_cell": false,
   "toc_position": {
    "height": "calc(100% - 180px)",
    "left": "10px",
    "top": "150px",
    "width": "290.672px"
   },
   "toc_section_display": true,
   "toc_window_display": true
  }
 },
 "nbformat": 4,
 "nbformat_minor": 5
}
